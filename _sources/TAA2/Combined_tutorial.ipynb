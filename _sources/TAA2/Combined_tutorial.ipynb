{
 "cells": [
  {
   "cell_type": "markdown",
   "id": "cbd68ab3-f04b-434f-a956-e730535c9ee5",
   "metadata": {},
   "source": [
    "## Summative Assignment 1: Natural Hazard Risk Assessment of Infrastructure"
   ]
  },
  {
   "cell_type": "markdown",
   "id": "4c8cc742-23a7-4895-8d2a-7e826d8a23b8",
   "metadata": {},
   "source": [
    "The assignment is divided into three sections: \n",
    "\n",
    "Section 1: We will look at damage assement of buildings/landuse classes subjected to windstorms\n",
    "\n",
    "Section 2: The students are expected to perform the following tasks: \n",
    "\n",
    "- a) Extract buildings, power infrastructure and roads from OSM (15%)\n",
    "- b) Download flood and windstorm (specific storm) from Climate store (15%)\n",
    "- c) Flood damage assessment of roads (30%)\n",
    "- d) Windstorm damage assessment of builings / power infrastructure(30%)\n",
    "\n",
    "The students can chose between any of the following two regions\n",
    "\n",
    "Section 3: A brief assessment quiz (20%)\n",
    "\n"
   ]
  },
  {
   "cell_type": "markdown",
   "id": "4355fca9-3e21-4556-a5d0-3e1577c68643",
   "metadata": {},
   "source": [
    "## Learning Objectives\n",
    "<hr>"
   ]
  },
  {
   "cell_type": "markdown",
   "id": "04dd18de-459a-4cb4-891e-cc3c98e76e7a",
   "metadata": {},
   "source": [
    "- To understand the use of **OSMnx** to extract geospatial data from OpenStreetmap.\n",
    "- To know how to rasterize vector data through using **Geocube**.\n",
    "- To know how to visualise vector and raster data.\n",
    "- To understand the basic functioning of **Matplotlib** to create a map.\n",
    "- To know how one can generate routes between two points using **NetworkX**.\n",
    "- To visualize networks on an interactive map \n",
    "- To know how to download data from the Copernicus Climate Data Store using the `cdsapi` and access it through Python.\n",
    "- To be able to open and visualize this hazard data.\n",
    "- To know how to access and open information from the Copernicus Land Monitoring System. Specifically the Corine Land Cover data.\n",
    "- To understand the basic approach of a natural hazard risk assessment.\n",
    "- To be able to use the `DamageScanner` to do a damage assessment.\n",
    "- To interpret and compare the damage estimates."
   ]
  },
  {
   "cell_type": "markdown",
   "id": "d37ee999-92ce-48ca-b1c0-d160935444bb",
   "metadata": {},
   "source": [
    "### Section 1: Windstorm damage assessment"
   ]
  },
  {
   "cell_type": "markdown",
   "id": "88a7cd45-4394-44fb-ba1b-e52464223d42",
   "metadata": {},
   "source": [
    "## 1.Introducing the packages\n",
    "<hr>"
   ]
  },
  {
   "cell_type": "markdown",
   "id": "961d01ad-b5d4-4486-9d00-04fd00142a19",
   "metadata": {},
   "source": [
    "Within this tutorial, we are going to make use of the following packages: \n",
    "\n",
    "[**GeoPandas**](https://geopandas.org/) is a Python packagee that extends the datatypes used by pandas to allow spatial operations on geometric types.\n",
    "\n",
    "[**OSMnx**](https://osmnx.readthedocs.io/) is a Python package that lets you download geospatial data from OpenStreetMap and model, project, visualize, and analyze real-world street networks and any other geospatial geometries. You can download and model walkable, drivable, or bikeable urban networks with a single line of Python code then easily analyze and visualize them. You can just as easily download and work with other infrastructure types, amenities/points of interest, building footprints, elevation data, street bearings/orientations, and speed/travel time.\n",
    "\n",
    "[**xarray**](https://docs.xarray.dev/) is a Python package that allows for easy and efficient use of multi-dimensional arrays.\n",
    "\n",
    "[**Matplotlib**](https://matplotlib.org/) is a comprehensive Python package for creating static, animated, and interactive visualizations in Python. Matplotlib makes easy things easy and hard things possible.\n",
    "\n",
    "*We will first need to install the missing packages in the cell below. Uncomment them to make sure we can pip install them*"
   ]
  },
  {
   "cell_type": "code",
   "execution_count": 1,
   "id": "b1d683ee-d2b5-49a5-9b31-9ab50039f428",
   "metadata": {},
   "outputs": [],
   "source": [
    "import os\n",
    "import cdsapi\n",
    "import shapely \n",
    "import matplotlib\n",
    "import urllib3\n",
    "import pyproj\n",
    "\n",
    "import osmnx as ox\n",
    "import numpy as np\n",
    "import xarray as xr\n",
    "import geopandas as gpd\n",
    "import pandas as pd\n",
    "import matplotlib.pyplot as plt\n",
    "import networkx as nx\n",
    "\n",
    "from matplotlib.colors import ListedColormap\n",
    "from zipfile import ZipFile\n",
    "from io import BytesIO\n",
    "from urllib.request import urlopen\n",
    "from zipfile import ZipFile\n",
    "from tqdm import tqdm\n",
    "\n",
    "urllib3.disable_warnings()"
   ]
  },
  {
   "cell_type": "markdown",
   "id": "981898d2-5f8f-4990-a236-b1cfe2c7008e",
   "metadata": {},
   "source": [
    "## 2. Downloading and accessing natural hazard data\n",
    "<hr>"
   ]
  },
  {
   "cell_type": "markdown",
   "id": "d7693fcc-a0cf-4ed4-a0d0-e3a00b917547",
   "metadata": {},
   "source": [
    "We are going to perform a damage assessment using both windstorm data and flood data for Europe.\n",
    "\n",
    "### Windstorm Data\n",
    "\n",
    "The windstorm data will be downloaded from the [Copernicus Climate Data Store](https://cds.climate.copernicus.eu/). As we have seen during the lecture, and as you can also see by browsing on this website, there is an awful lot of climate data available through this Data Store. As such, it is very valuable to understand how to access and download this information to use within an analysis. To keep things simple, we only download one dataset today: [A winter windstorm](https://cds.climate.copernicus.eu/cdsapp#!/dataset/sis-european-wind-storm-indicators?tab=overview). \n",
    "\n",
    "We will do so using an **API**, which is the acronym for application programming interface. It is a software intermediary that allows two applications to talk to each other. APIs are an accessible way to extract and share data within and across organizations. APIs are all around us. Every time you use a rideshare app, send a mobile payment, or change the thermostat temperature from your phone, you’re using an API.\n",
    "\n",
    "However, before we can access this **API**, we need to take a few steps. Most importantly, we need to register ourselves on the [Copernicus Climate Data Store](https://cds.climate.copernicus.eu/) portal. To do so, we need to register, as explained in the video clip below:\n",
    "\n",
    "<img src=\"https://github.com/ElcoK/BigData_AED/blob/main/_static/images/CDS_registration.gif?raw=1\" class=\"bg-primary mb-1\">\n",
    "<br>\n",
    "\n",
    "Now, the next step is to access the API. You can now login on the website of the [Copernicus Climate Data Store](https://cds.climate.copernicus.eu/). After you login, you can click on your name in the top right corner of the webpage (next to the login button). On the personal page that has just opened, you will find your user ID (**uid**) and your personal **API**. You need to add those in the cell below to be able to download the windstorm.\n",
    "\n",
    "As you can see in the cell below, we download a specific windstorm that has occured on the 28th of October in 2013. This is storm [Carmen (also called St Jude)](https://en.wikipedia.org/wiki/St._Jude_storm). "
   ]
  },
  {
   "cell_type": "code",
   "execution_count": 3,
   "id": "4736833f-c0ec-48f4-8c29-1721ba2ecb7d",
   "metadata": {},
   "outputs": [
    {
     "ename": "NameError",
     "evalue": "name 'XXX' is not defined",
     "output_type": "error",
     "traceback": [
      "\u001b[1;31m---------------------------------------------------------------------------\u001b[0m",
      "\u001b[1;31mNameError\u001b[0m                                 Traceback (most recent call last)",
      "Cell \u001b[1;32mIn[3], line 1\u001b[0m\n\u001b[1;32m----> 1\u001b[0m uid \u001b[38;5;241m=\u001b[39m \u001b[43mXXX\u001b[49m\n\u001b[0;32m      2\u001b[0m apikey \u001b[38;5;241m=\u001b[39m \u001b[38;5;124m'\u001b[39m\u001b[38;5;124mXXX\u001b[39m\u001b[38;5;124m'\u001b[39m\n\u001b[0;32m      4\u001b[0m c \u001b[38;5;241m=\u001b[39m cdsapi\u001b[38;5;241m.\u001b[39mClient(key\u001b[38;5;241m=\u001b[39m\u001b[38;5;124mf\u001b[39m\u001b[38;5;124m\"\u001b[39m\u001b[38;5;132;01m{\u001b[39;00muid\u001b[38;5;132;01m}\u001b[39;00m\u001b[38;5;124m:\u001b[39m\u001b[38;5;132;01m{\u001b[39;00mapikey\u001b[38;5;132;01m}\u001b[39;00m\u001b[38;5;124m\"\u001b[39m, url\u001b[38;5;241m=\u001b[39m\u001b[38;5;124m\"\u001b[39m\u001b[38;5;124mhttps://cds.climate.copernicus.eu/api/v2\u001b[39m\u001b[38;5;124m\"\u001b[39m)\n",
      "\u001b[1;31mNameError\u001b[0m: name 'XXX' is not defined"
     ]
    }
   ],
   "source": [
    "uid = XXX\n",
    "apikey = 'XXX'\n",
    "\n",
    "c = cdsapi.Client(key=f\"{uid}:{apikey}\", url=\"https://cds.climate.copernicus.eu/api/v2\")\n",
    "\n",
    "c.retrieve(\n",
    "    'sis-european-wind-storm-indicators',\n",
    "    {\n",
    "        'variable': 'all',\n",
    "        'format': 'zip',\n",
    "        'product': 'windstorm_footprints',\n",
    "        'year': '2013',\n",
    "        'month': '10',\n",
    "        'day': '28',\n",
    "    },\n",
    "    'Carmen.zip')"
   ]
  },
  {
   "cell_type": "markdown",
   "id": "9bd3821f-16dd-4e7b-8ac6-a46475704afd",
   "metadata": {},
   "source": [
    "## 3. Visualising the hazard data\n",
    "<hr>"
   ]
  },
  {
   "cell_type": "code",
   "execution_count": null,
   "id": "64d33537-8db8-4def-89ee-2387ec993831",
   "metadata": {},
   "outputs": [],
   "source": [
    "with ZipFile('Carmen.zip') as zf:\n",
    "    \n",
    "    # Let's get the filename first\n",
    "    file = zf.namelist()[0]\n",
    "    \n",
    "    # And now we can open and select the file within Python\n",
    "    with zf.open(file) as f:\n",
    "        windstorm_europe = xr.open_dataset(f)"
   ]
  },
  {
   "cell_type": "code",
   "execution_count": null,
   "id": "7d35bb91-0705-4d80-b063-adabc74cc353",
   "metadata": {},
   "outputs": [],
   "source": [
    "windstorm_europe['FX'].plot()"
   ]
  },
  {
   "cell_type": "markdown",
   "id": "13e8caf3-c5c3-4970-b923-b58d1fe007f8",
   "metadata": {},
   "source": [
    "Unfortunately, our data does not have a proper coordinate system defined yet. As such, we will need to use the `rio.write_crs()` function to set the coordinate system to **EPSG:4326** (the standard global coordinate reference system). \n",
    "\n",
    "We also need to make sure that the functions will know what the exact parameters are that we have to use for our spatial dimenions (e.g. longitude and latitude). It prefers to be named `x` and `y`. So we use the `rename()` function before we use the `set_spatial_dims()` function."
   ]
  },
  {
   "cell_type": "code",
   "execution_count": null,
   "id": "5ca7b6ec-a394-4e3c-82dd-8a59ce029563",
   "metadata": {},
   "outputs": [],
   "source": [
    "windstorm_europe.rio.write_crs(4326, inplace=True)\n",
    "windstorm_europe = windstorm_europe.rename({'Latitude': 'y','Longitude': 'x'})\n",
    "windstorm_europe.rio.set_spatial_dims(x_dim=\"x\",y_dim=\"y\", inplace=True)"
   ]
  },
  {
   "cell_type": "code",
   "execution_count": null,
   "id": "8b276083-7825-4576-832b-129566f65222",
   "metadata": {},
   "outputs": [],
   "source": [
    "windstorm_europe = windstorm_europe.rio.reproject(XXXX)"
   ]
  },
  {
   "cell_type": "code",
   "execution_count": null,
   "id": "86dbfe52-1484-48fd-9dee-fc6064fe343b",
   "metadata": {},
   "outputs": [],
   "source": [
    "windstorm_map = windstorm_europe.rio.clip(area.envelope.values, area.crs)"
   ]
  },
  {
   "cell_type": "code",
   "execution_count": null,
   "id": "f2b8e8ca-6a58-44df-8981-b040cc55b3b0",
   "metadata": {},
   "outputs": [],
   "source": [
    "windstorm_map['FX']. XXXX"
   ]
  },
  {
   "cell_type": "markdown",
   "id": "28e483d0-06b1-432f-86e6-d7a68e9811a4",
   "metadata": {},
   "source": [
    "## 4. Extracting buildings from OpenStreetMap\n",
    "<hr>"
   ]
  },
  {
   "cell_type": "code",
   "execution_count": null,
   "id": "92f86ddc-ce27-4753-9e70-af6df03d7850",
   "metadata": {},
   "outputs": [],
   "source": [
    "tags = {\"building\": True}\n",
    "buildings = ox.features_from_place(place_name, tags)"
   ]
  },
  {
   "cell_type": "markdown",
   "id": "68ae51a7-1c32-4d96-bff0-cb67ce796fc8",
   "metadata": {},
   "source": [
    "There is a lot more data to extract from OpenStreetMap besides land-use information. Let's extract some building data. To do so, we use the *\"building\"* tag."
   ]
  },
  {
   "cell_type": "code",
   "execution_count": null,
   "id": "26a60806-c927-4d0c-ab04-dc07c9c7a688",
   "metadata": {},
   "outputs": [],
   "source": [
    "buildings.head()"
   ]
  },
  {
   "cell_type": "markdown",
   "id": "90a6ba47-e148-48e1-a0a2-e7e2c75c4257",
   "metadata": {},
   "source": [
    "## 5. Analyze and visualize building stock\n",
    "<hr>"
   ]
  },
  {
   "cell_type": "code",
   "execution_count": null,
   "id": "75442fe8-0e84-4315-a591-3c705d280357",
   "metadata": {},
   "outputs": [],
   "source": [
    "fig,ax = plt.subplots(1,1,figsize=(5,18))\n",
    "\n",
    "building_year.plot(kind='barh',ax=ax)\n",
    "\n",
    "ax.tick_params(axis='y', which='major', labelsize=7)"
   ]
  },
  {
   "cell_type": "markdown",
   "id": "06b72a1d-12cf-4fef-bfc7-fc95d8618bb7",
   "metadata": {},
   "source": [
    "### 6. Windstorm Damage\n",
    "\n",
    "---\n",
    "To estimate the potential damage of our windstorm, we use the vulnerability curves developed by [Yamin et al. (2014)](https://www.sciencedirect.com/science/article/pii/S2212420914000466). Following [Yamin et al. (2014)](https://www.sciencedirect.com/science/article/pii/S2212420914000466), we will apply a sigmoidal vulnerability function satisfying two constraints: (i) a minimum threshold for the occurrence of damage with an upper bound of 100% direct damage; (ii) a high power-law function for the slope, describing an increase in damage with increasing wind speeds. Due to the limited amount of vulnerability curves available for windstorm damage, we will use the damage curve that represents low-rise *reinforced masonry* buildings for all land-use classes that may contain buildings. Obviously, this is a large oversimplification of the real world, but this should be sufficient for this exercise. When doing a proper stand-alone windstorm risk assessment, one should take more effort in collecting the right vulnerability curves for different building types. "
   ]
  },
  {
   "cell_type": "code",
   "execution_count": null,
   "id": "7691b461-6bda-463c-a194-0439e12a0f98",
   "metadata": {},
   "outputs": [],
   "source": [
    "wind_curves = pd.read_excel(\"https://github.com/ElcoK/BigData_AED/raw/main/week5/damage_curves.xlsx\",sheet_name='wind_curves')\n",
    "maxdam = pd.read_excel(\"https://github.com/ElcoK/BigData_AED/raw/main/week5/damage_curves.xlsx\",sheet_name='maxdam')"
   ]
  },
  {
   "cell_type": "code",
   "execution_count": null,
   "id": "d937ef9a-a0ad-45c5-9bde-56df77527ac5",
   "metadata": {},
   "outputs": [],
   "source": [
    "landuse_map = CLC_region_wind['band_data'].to_numpy()[0,:,:]\n",
    "wind_map = windstorm['FX'].to_numpy()[0,:,:]"
   ]
  },
  {
   "cell_type": "code",
   "execution_count": null,
   "id": "1cfb9e4c-339a-48ad-858a-38a651428884",
   "metadata": {},
   "outputs": [],
   "source": [
    "wind_map.shape"
   ]
  },
  {
   "cell_type": "code",
   "execution_count": null,
   "id": "8cdcb330-72c2-4f78-8ec7-b396da9eb38a",
   "metadata": {},
   "outputs": [],
   "source": [
    "wind_map_kmh = wind_map*XXX"
   ]
  },
  {
   "cell_type": "code",
   "execution_count": null,
   "id": "94f8fff9-f846-4d3a-9e1b-3a28ae7f72f1",
   "metadata": {},
   "outputs": [],
   "source": [
    "wind_damage_CLC = DamageScanner(landuse_map,wind_map_kmh,wind_curves,maxdam)[1]"
   ]
  },
  {
   "cell_type": "code",
   "execution_count": null,
   "id": "05367c3e-d05f-4b6a-a99b-8d9cb4a28fc7",
   "metadata": {},
   "outputs": [],
   "source": [
    "wind_damage_CLC"
   ]
  },
  {
   "cell_type": "code",
   "execution_count": null,
   "id": "cc9cea94-21fe-4015-a4ec-08c9dd9fd722",
   "metadata": {},
   "outputs": [],
   "source": []
  },
  {
   "cell_type": "markdown",
   "id": "59c9e79f-32f3-410a-9ac1-668aedffa153",
   "metadata": {},
   "source": [
    "### Section 2: Tasks"
   ]
  },
  {
   "cell_type": "markdown",
   "id": "a1ba6556-4580-4ace-9d82-db00c3f4c81b",
   "metadata": {},
   "source": [
    "### A. Extraction of buildings, roads and power infrstaructure assets from OSM "
   ]
  },
  {
   "cell_type": "code",
   "execution_count": null,
   "id": "358dd5e1-8f13-414a-8a8a-436dc325c9ee",
   "metadata": {},
   "outputs": [],
   "source": []
  },
  {
   "cell_type": "markdown",
   "id": "6b109892-7fdb-46ae-a9b7-c01d41737e71",
   "metadata": {},
   "source": [
    "### B. Hazard data extraction from CDS"
   ]
  },
  {
   "cell_type": "code",
   "execution_count": null,
   "id": "bd838d05-e9fd-4a52-a2a3-4bedc9db104d",
   "metadata": {},
   "outputs": [],
   "source": []
  },
  {
   "cell_type": "markdown",
   "id": "2d454b33-9b19-43e4-9e4c-a8e683d6f531",
   "metadata": {},
   "source": [
    "### C. Flood damage assesment of roads"
   ]
  },
  {
   "cell_type": "code",
   "execution_count": null,
   "id": "e1d9c584-d6ec-4040-bf63-313e43553c7c",
   "metadata": {},
   "outputs": [],
   "source": []
  },
  {
   "cell_type": "markdown",
   "id": "f55eb19f-da48-458f-8427-16fd2d46e49b",
   "metadata": {},
   "source": [
    "### D. Windstorm damage assessment of buildings"
   ]
  },
  {
   "cell_type": "code",
   "execution_count": null,
   "id": "238ceab5-183a-45a5-af9e-195a921a38f8",
   "metadata": {},
   "outputs": [],
   "source": []
  },
  {
   "cell_type": "markdown",
   "id": "3ac644de-8684-48ad-85d1-a233133f9753",
   "metadata": {},
   "source": [
    "### Section 3: Quiz"
   ]
  },
  {
   "cell_type": "markdown",
   "id": "c9b2d2d3-8123-4a19-b1d4-6f8e921e3da1",
   "metadata": {},
   "source": [
    "#### Example 1:  ThE function damage scanner has been used quite extensively in this assignment. Explain in detail the sequantial flow of this functions (Can be added as comments)? CELL SIZE PARAMETER ??"
   ]
  },
  {
   "cell_type": "code",
   "execution_count": null,
   "id": "dc36c717-97d9-4df4-8992-0860b9e565a4",
   "metadata": {},
   "outputs": [],
   "source": [
    "def DamageScanner(landuse_map,inun_map,curve_path,maxdam_path,cellsize=100):\n",
    "        \n",
    "    \n",
    "    landuse = landuse_map.copy()\n",
    "    \n",
    "   \n",
    "    inundation = inun_map.copy()\n",
    "    \n",
    "    inundation = np.nan_to_num(inundation)        \n",
    "\n",
    "    \n",
    "    if isinstance(curve_path, pd.DataFrame):\n",
    "        curves = curve_path.values   \n",
    "    elif isinstance(curve_path, np.ndarray):\n",
    "        curves = curve_path\n",
    "\n",
    "   \n",
    "    if isinstance(maxdam_path, pd.DataFrame):\n",
    "        maxdam = maxdam_path.values \n",
    "    elif isinstance(maxdam_path, np.ndarray):\n",
    "        maxdam = maxdam_path\n",
    "        \n",
    "    \n",
    "    inun = inundation * (inundation>=0) + 0\n",
    "    inun[inun>=curves[:,0].max()] = curves[:,0].max()\n",
    "    waterdepth = inun[inun>0]\n",
    "    landuse = landuse[inun>0]\n",
    "\n",
    "    \n",
    "    numberofclasses = len(maxdam)\n",
    "    alldamage = np.zeros(landuse.shape[0])\n",
    "    damagebin = np.zeros((numberofclasses, 4,))\n",
    "    for i in range(0,numberofclasses):\n",
    "        n = maxdam[i,0]\n",
    "        damagebin[i,0] = n\n",
    "        wd = waterdepth[landuse==n]\n",
    "        alpha = np.interp(wd,((curves[:,0])),curves[:,i+1])\n",
    "        damage = alpha*(maxdam[i,1]*cellsize)\n",
    "        damagebin[i,1] = sum(damage)\n",
    "        damagebin[i,2] = len(wd)\n",
    "        if len(wd) == 0:\n",
    "            damagebin[i,3] = 0\n",
    "        else:\n",
    "            damagebin[i,3] = np.mean(wd)\n",
    "        alldamage[landuse==n] = damage\n",
    "\n",
    "    \n",
    "    loss_df = pd.DataFrame(damagebin.astype(float),columns=['landuse','losses','area','avg_depth']).groupby('landuse').sum()\n",
    "    \n",
    "    \n",
    "    return loss_df.sum().values[0],loss_df"
   ]
  },
  {
   "cell_type": "code",
   "execution_count": null,
   "id": "d96774ff-3732-42e8-bc33-6c24b2c61479",
   "metadata": {},
   "outputs": [],
   "source": []
  }
 ],
 "metadata": {
  "kernelspec": {
   "display_name": "Python 3 (ipykernel)",
   "language": "python",
   "name": "python3"
  },
  "language_info": {
   "codemirror_mode": {
    "name": "ipython",
    "version": 3
   },
   "file_extension": ".py",
   "mimetype": "text/x-python",
   "name": "python",
   "nbconvert_exporter": "python",
   "pygments_lexer": "ipython3",
   "version": "3.12.3"
  }
 },
 "nbformat": 4,
 "nbformat_minor": 5
}
