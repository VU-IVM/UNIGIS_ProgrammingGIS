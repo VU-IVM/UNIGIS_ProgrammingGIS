{
 "cells": [
  {
   "cell_type": "markdown",
   "id": "0",
   "metadata": {},
   "source": [
    "# Tutorial 6: Introduction to Xarray\n",
    "[Xarray](https://docs.xarray.dev) is a powerful Python library designed for working with multi-dimensional labeled datasets, often used in fields such as climate science, oceanography, and remote sensing. It provides a high-level interface for manipulating and analyzing datasets that can be thought of as extensions of NumPy arrays. Xarray is particularly useful for geospatial data because it supports labeled axes (dimensions), coordinates, and metadata, making it easier to work with datasets that vary across time, space, and other dimensions.\n",
    "\n",
    "Xarray extends the capabilities of NumPy by providing a data structure for labeled, multi-dimensional arrays. The two main data structures in Xarray are:\n",
    "\n",
    "- **DataArray**: A labeled, multi-dimensional array, which includes dimensions, coordinates, and attributes.\n",
    "- **Dataset**: A collection of `DataArray` objects that share the same dimensions.\n",
    "\n",
    "![](https://docs.xarray.dev/en/stable/_images/dataset-diagram.png)\n",
    "\n",
    "Xarray is particularly useful for working with datasets where dimensions have meaningful labels (e.g., time, latitude, longitude) and where metadata is important."
   ]
  },
  {
   "cell_type": "markdown",
   "id": "9655699a-ca65-47d7-997f-c1679071e23e",
   "metadata": {},
   "source": [
    "<div class=\"alert alert-block alert-info\">\n",
    "<b>Note:</b> This tutorial is heavily based upon the work of <a href=\"https://geog-312.gishub.org/index.html\">others</a>\n",
    "</div>"
   ]
  },
  {
   "cell_type": "markdown",
   "id": "cd144e04-e5e4-44e7-9fca-531851e3eada",
   "metadata": {},
   "source": [
    "## Important before we start\n",
    "<hr>\n",
    "Make sure that you save this file before you continue, else you will lose everything. To do so, go to Bestand/File and click on Een kopie opslaan in Drive/Save a Copy on Drive!\n",
    "\n",
    "Now, rename the file into TAA1_Tutorial6.ipynb. You can do so by clicking on the name in the top of this screen."
   ]
  },
  {
   "cell_type": "markdown",
   "id": "b567a590-384e-4870-84b7-354588f151bb",
   "metadata": {},
   "source": [
    "## Learning Objectives\n",
    "<hr>"
   ]
  },
  {
   "cell_type": "markdown",
   "id": "a25792f3-e7e5-4f2b-8806-e8a961aaf0a5",
   "metadata": {},
   "source": [
    "- Understand the basic concepts and data structures in Xarray, including `DataArray` and `Dataset`.\n",
    "- Load and inspect multi-dimensional geospatial datasets using Xarray.\n",
    "- Perform basic operations on Xarray objects, such as selection, indexing, and arithmetic operations.\n",
    "- Use Xarray to efficiently work with large geospatial datasets, including time series and raster data.\n",
    "- Apply Xarray to common geospatial analysis tasks, such as calculating statistics, regridding, and visualization."
   ]
  },
  {
   "cell_type": "markdown",
   "id": "0ee9bfa2-9979-4443-84b2-e1e4857c4512",
   "metadata": {},
   "source": [
    "<h2>Tutorial outline<span class=\"tocSkip\"></span></h2>\n",
    "<hr>\n",
    "<div class=\"toc\"><ul class=\"toc-item\">\n",
    "    <li><span><a href=\"#installing-xarray-and-importing-libraries\" data-toc-modified-id=\"1.-Installing-Xarray-and-Importing-Libraries-1\">1. Installing Xarray and Importing Libraries</a></span></li>\n",
    "    <li><span><a href=\"#working-with-dataarrays\" data-toc-modified-id=\"2.-Working-with-DataArrays-2\">2. Working with DataArrays</a></span></li>\n",
    "    <li><span><a href=\"#dataarray-components\" data-toc-modified-id=\"3.-DataArray-Components-3\">3. DataArray Components</a></span></li>\n",
    "    <li><span><a href=\"#indexing-and-selecting-data\" data-toc-modified-id=\"4.-Indexing-and-Selecting-Data-4\">4. Indexing and Selecting Data</a></span></li>\n",
    "    <li><span><a href=\"#performing-operations-on-dataarrays\" data-toc-modified-id=\"5.-Performing-Operations-on-DataArrays-5\">5. Performing Operations on DataArrays</a></span></li>\n",
    "    <li><span><a href=\"#visualization-with-xarray\" data-toc-modified-id=\"6.-Visualization-with-Xarray-6\">6. Visualization with Xarray</a></span></li>\n",
    "    <li><span><a href=\"#working-with-datasets\" data-toc-modified-id=\"7.-Working-with-Datasets-7\">7. Working with Datasets</a></span></li>\n",
    "    <li><span><a href=\"#why-use-xarray\" data-toc-modified-id=\"8.-Why-Use-Xarray-8\">8. Why Use Xarray?</a></span></li>\n",
    "    <li><span><a href=\"#advanced-indexing-label-vs-position-based-indexing\" data-toc-modified-id=\"9.-Advanced-Indexing-Label-vs-Position-Based-Indexing-9\">9. Advanced Indexing: Label vs. Position-Based Indexing</a></span></li>\n",
    "    <li><span><a href=\"#high-level-computations-with-xarray\" data-toc-modified-id=\"10.-High-Level-Computations-with-Xarray-10\">10. High-Level Computations with Xarray</a></span></li>\n",
    "    <li><span><a href=\"#reading-and-writing-files\" data-toc-modified-id=\"11.-Reading-and-Writing-Files-11\">11. Reading and Writing Files</a></span></li>\n",
    "    <li><span><a href=\"#exercises\" data-toc-modified-id=\"12.-Exercises-12\">12. Exercises</a></span></li>\n",
    "</ul></div>"
   ]
  },
  {
   "cell_type": "markdown",
   "id": "2",
   "metadata": {},
   "source": [
    "## 1. Installing Xarray and importing libraries\n",
    "\n",
    "Before we start, ensure that Xarray is installed. You can install it via pip:"
   ]
  },
  {
   "cell_type": "code",
   "execution_count": null,
   "id": "3",
   "metadata": {},
   "outputs": [],
   "source": [
    "# %pip install xarray pooch"
   ]
  },
  {
   "cell_type": "markdown",
   "id": "4",
   "metadata": {},
   "source": [
    "### Importing Libraries"
   ]
  },
  {
   "cell_type": "code",
   "execution_count": null,
   "id": "5",
   "metadata": {},
   "outputs": [],
   "source": [
    "import matplotlib.pyplot as plt\n",
    "import numpy as np\n",
    "import xarray as xr\n",
    "\n",
    "xr.set_options(keep_attrs=True, display_expand_data=False)\n",
    "np.set_printoptions(threshold=10, edgeitems=2)"
   ]
  },
  {
   "cell_type": "markdown",
   "id": "6",
   "metadata": {},
   "source": [
    "## Xarray Data Structures\n",
    "\n",
    "Xarray provides two core data structures:\n",
    "\n",
    "1. **DataArray**: A single multi-dimensional array with labeled dimensions, coordinates, and metadata.\n",
    "2. **Dataset**: A collection of `DataArray` objects, each corresponding to a variable, sharing the same dimensions and coordinates.\n",
    "\n",
    "## Loading a Dataset\n",
    "\n",
    "Xarray offers built-in access to several [tutorial datasets](https://docs.xarray.dev/en/latest/generated/xarray.tutorial.open_dataset.html), which we can load with `xr.tutorial.open_dataset`. Here, we load an air temperature dataset:"
   ]
  },
  {
   "cell_type": "code",
   "execution_count": null,
   "id": "7",
   "metadata": {},
   "outputs": [],
   "source": [
    "ds = xr.tutorial.open_dataset(\"air_temperature\")\n",
    "ds"
   ]
  },
  {
   "cell_type": "markdown",
   "id": "8",
   "metadata": {},
   "source": [
    "This dataset is stored in the [netCDF](https://www.unidata.ucar.edu/software/netcdf) format, a common format for scientific data. Xarray automatically parses metadata like dimensions and coordinates.\n",
    "\n",
    "The dataset is downloaded from the internet and stored in a temporary cache directory. You can find the location of the cache directory depending on your operating system:\n",
    "- Linux: `~/.cache/xarray_tutorial_data`\n",
    "- macOS: `~/Library/Caches/xarray_tutorial_data`\n",
    "- Windows: `~/AppData/Local/xarray_tutorial_data`"
   ]
  },
  {
   "cell_type": "markdown",
   "id": "a8247e0d-8c4b-4bcf-bd82-e636ebfda5ce",
   "metadata": {},
   "source": [
    "## 2. Working with DataArrays\n",
    "\n",
    "The `DataArray` is the core data structure in Xarray. It includes data values, dimensions (e.g., time, latitude, longitude), and the coordinates for each dimension."
   ]
  },
  {
   "cell_type": "code",
   "execution_count": null,
   "id": "9",
   "metadata": {},
   "outputs": [],
   "source": [
    "# Access a specific DataArray\n",
    "temperature = ds[\"air\"]\n",
    "temperature"
   ]
  },
  {
   "cell_type": "markdown",
   "id": "10",
   "metadata": {},
   "source": [
    "You can also access DataArray using dot notation:"
   ]
  },
  {
   "cell_type": "code",
   "execution_count": null,
   "id": "11",
   "metadata": {},
   "outputs": [],
   "source": [
    "ds.air"
   ]
  },
  {
   "cell_type": "markdown",
   "id": "12",
   "metadata": {},
   "source": [
    "## 3. DataArray Components\n",
    "\n",
    "- **Values**: The actual data stored in a NumPy array or similar structure.\n",
    "- **Dimensions**: Named axes of the data (e.g., time, latitude, longitude).\n",
    "- **Coordinates**: Labels for the values in each dimension (e.g., specific times or geographic locations).\n",
    "- **Attributes**: Metadata associated with the data (e.g., units, descriptions).\n",
    "\n",
    "You can extract and print the values, dimensions, and coordinates of a `DataArray`:"
   ]
  },
  {
   "cell_type": "code",
   "execution_count": null,
   "id": "13",
   "metadata": {},
   "outputs": [],
   "source": [
    "temperature.values"
   ]
  },
  {
   "cell_type": "code",
   "execution_count": null,
   "id": "14",
   "metadata": {},
   "outputs": [],
   "source": [
    "temperature.dims"
   ]
  },
  {
   "cell_type": "code",
   "execution_count": null,
   "id": "15",
   "metadata": {},
   "outputs": [],
   "source": [
    "temperature.coords"
   ]
  },
  {
   "cell_type": "code",
   "execution_count": null,
   "id": "16",
   "metadata": {},
   "outputs": [],
   "source": [
    "temperature.attrs"
   ]
  },
  {
   "cell_type": "markdown",
   "id": "17",
   "metadata": {},
   "source": [
    "## 4. Indexing and Selecting Data\n",
    "\n",
    "Xarray allows you to easily select data based on dimension labels, which is very intuitive when working with geospatial data."
   ]
  },
  {
   "cell_type": "code",
   "execution_count": null,
   "id": "18",
   "metadata": {},
   "outputs": [],
   "source": [
    "# Select data for a specific time and location\n",
    "selected_data = temperature.sel(time=\"2013-01-01\", lat=40.0, lon=260.0)\n",
    "selected_data"
   ]
  },
  {
   "cell_type": "code",
   "execution_count": null,
   "id": "19",
   "metadata": {},
   "outputs": [],
   "source": [
    "# Slice data across a range of times\n",
    "time_slice = temperature.sel(time=slice(\"2013-01-01\", \"2013-01-31\"))\n",
    "time_slice"
   ]
  },
  {
   "cell_type": "markdown",
   "id": "20",
   "metadata": {},
   "source": [
    "## 5. Performing Operations on DataArrays\n",
    "\n",
    "You can perform arithmetic operations directly on `DataArray` objects, similar to how you would with NumPy arrays. Xarray also handles broadcasting automatically."
   ]
  },
  {
   "cell_type": "code",
   "execution_count": null,
   "id": "21",
   "metadata": {},
   "outputs": [],
   "source": [
    "# Calculate the mean temperature over time\n",
    "mean_temperature = temperature.mean(dim=\"time\")\n",
    "mean_temperature"
   ]
  },
  {
   "cell_type": "code",
   "execution_count": null,
   "id": "22",
   "metadata": {},
   "outputs": [],
   "source": [
    "# Subtract the mean temperature from the original data\n",
    "anomalies = temperature - mean_temperature\n",
    "anomalies"
   ]
  },
  {
   "cell_type": "markdown",
   "id": "23",
   "metadata": {},
   "source": [
    "## 6. Visualization with Xarray\n",
    "\n",
    "Xarray integrates well with Matplotlib and other visualization libraries, making it easy to create plots directly from `DataArray` and `Dataset` objects."
   ]
  },
  {
   "cell_type": "code",
   "execution_count": null,
   "id": "24",
   "metadata": {},
   "outputs": [],
   "source": [
    "# Plot the mean temperature\n",
    "mean_temperature.plot()\n",
    "plt.show()"
   ]
  },
  {
   "cell_type": "markdown",
   "id": "25",
   "metadata": {},
   "source": [
    "You can customize the appearance of plots by passing arguments to the `plot` method. For example, you can specify the color map, add labels, and set the figure size."
   ]
  },
  {
   "cell_type": "code",
   "execution_count": null,
   "id": "26",
   "metadata": {},
   "outputs": [],
   "source": [
    "mean_temperature.plot(cmap=\"jet\", figsize=(10, 6))\n",
    "plt.xlabel(\"Longitude\")\n",
    "plt.ylabel(\"Latitude\")\n",
    "plt.title(\"Mean Temperature\")"
   ]
  },
  {
   "cell_type": "markdown",
   "id": "27",
   "metadata": {},
   "source": [
    "You can also select a specific location using the `sel` method and plot a time series of temperature at that location."
   ]
  },
  {
   "cell_type": "code",
   "execution_count": null,
   "id": "28",
   "metadata": {},
   "outputs": [],
   "source": [
    "# Plot a time series for a specific location\n",
    "temperature.sel(lat=40.0, lon=260.0).plot()\n",
    "plt.show()"
   ]
  },
  {
   "cell_type": "markdown",
   "id": "29",
   "metadata": {},
   "source": [
    "## 7. Working with Datasets\n",
    "\n",
    "A `Dataset` is a collection of `DataArray` objects. It is useful when you need to work with multiple related variables."
   ]
  },
  {
   "cell_type": "code",
   "execution_count": null,
   "id": "30",
   "metadata": {},
   "outputs": [],
   "source": [
    "# List all variables in the dataset\n",
    "print(ds.data_vars)"
   ]
  },
  {
   "cell_type": "code",
   "execution_count": null,
   "id": "31",
   "metadata": {},
   "outputs": [],
   "source": [
    "# Access a DataArray from the Dataset\n",
    "temperature = ds[\"air\"]"
   ]
  },
  {
   "cell_type": "code",
   "execution_count": null,
   "id": "32",
   "metadata": {},
   "outputs": [],
   "source": [
    "# Perform operations on the Dataset\n",
    "mean_temp_ds = ds.mean(dim=\"time\")\n",
    "mean_temp_ds"
   ]
  },
  {
   "cell_type": "markdown",
   "id": "33",
   "metadata": {},
   "source": [
    "## 8. Why Use Xarray?\n",
    "\n",
    "Xarray is valuable for handling multi-dimensional data, especially in scientific applications. It provides metadata, dimension names, and coordinate labels, making it much easier to understand and manipulate data compared to raw NumPy arrays.\n",
    "\n",
    "### Without Xarray (Using NumPy)\n",
    "\n",
    "Here's how a task might look without Xarray, using NumPy arrays:"
   ]
  },
  {
   "cell_type": "code",
   "execution_count": null,
   "id": "34",
   "metadata": {},
   "outputs": [],
   "source": [
    "lat = ds.air.lat.data\n",
    "lon = ds.air.lon.data\n",
    "temp = ds.air.data"
   ]
  },
  {
   "cell_type": "code",
   "execution_count": null,
   "id": "35",
   "metadata": {},
   "outputs": [],
   "source": [
    "temp.shape"
   ]
  },
  {
   "cell_type": "code",
   "execution_count": null,
   "id": "36",
   "metadata": {},
   "outputs": [],
   "source": [
    "plt.figure()\n",
    "plt.pcolormesh(lon, lat, temp[0, :, :])"
   ]
  },
  {
   "cell_type": "markdown",
   "id": "37",
   "metadata": {},
   "source": [
    "While this approach works, it's not clear what `0` refers to (in this case, it's the first time step).\n",
    "\n",
    "### With Xarray\n",
    "\n",
    "With Xarray, you can use more intuitive and readable indexing with `sel` and `isel`:"
   ]
  },
  {
   "cell_type": "code",
   "execution_count": null,
   "id": "38",
   "metadata": {},
   "outputs": [],
   "source": [
    "ds.air.isel(time=0).plot(x=\"lon\")"
   ]
  },
  {
   "cell_type": "code",
   "execution_count": null,
   "id": "39",
   "metadata": {},
   "outputs": [],
   "source": [
    "ds.air.sel(time=\"2013-01-01T00:00:00\").plot(x=\"lon\")"
   ]
  },
  {
   "cell_type": "markdown",
   "id": "2c373ddb-4f65-4016-a6da-bb03bcd76648",
   "metadata": {},
   "source": [
    "This example selects the first time step and plots it using labeled axes (`lat` and `lon`), which is much clearer."
   ]
  },
  {
   "cell_type": "markdown",
   "id": "40",
   "metadata": {},
   "source": [
    "## 9. Advanced Indexing: Label vs. Position-Based Indexing\n",
    "\n",
    "Xarray supports both label-based and position-based indexing, making it flexible for data selection.\n",
    "\n",
    "### Label-based Indexing\n",
    "\n",
    "You can use `.sel()` to select data based on the labels of coordinates, such as specific times or locations:"
   ]
  },
  {
   "cell_type": "code",
   "execution_count": null,
   "id": "41",
   "metadata": {},
   "outputs": [],
   "source": [
    "# Select all data from May 2013\n",
    "ds.sel(time=\"2013-05\")"
   ]
  },
  {
   "cell_type": "code",
   "execution_count": null,
   "id": "42",
   "metadata": {},
   "outputs": [],
   "source": [
    "# Slice over time, selecting data between May and July 2013\n",
    "ds.sel(time=slice(\"2013-05\", \"2013-07\"))"
   ]
  },
  {
   "cell_type": "markdown",
   "id": "43",
   "metadata": {},
   "source": [
    "### Position-based Indexing\n",
    "\n",
    "Alternatively, you can use `.isel()` to select data based on the positions of coordinates:"
   ]
  },
  {
   "cell_type": "code",
   "execution_count": null,
   "id": "44",
   "metadata": {},
   "outputs": [],
   "source": [
    "# Select the first time step, second latitude, and third longitude\n",
    "ds.air.isel(time=0, lat=2, lon=3)"
   ]
  },
  {
   "cell_type": "markdown",
   "id": "45",
   "metadata": {},
   "source": [
    "## 10. High-Level Computations with Xarray\n",
    "\n",
    "Xarray offers several high-level operations that make common computations straightforward, such as `groupby`, `resample`, `rolling`, and `weighted`.\n",
    "\n",
    "### GroupBy Operation\n",
    "\n",
    "You can calculate statistics such as the seasonal mean of the dataset:"
   ]
  },
  {
   "cell_type": "code",
   "execution_count": null,
   "id": "46",
   "metadata": {},
   "outputs": [],
   "source": [
    "seasonal_mean = ds.groupby(\"time.season\").mean()\n",
    "seasonal_mean.air.plot(col=\"season\")"
   ]
  },
  {
   "cell_type": "markdown",
   "id": "47",
   "metadata": {},
   "source": [
    "### Computation with Weights\n",
    "\n",
    "Xarray allows for weighted computations, useful in geospatial contexts where grid cells vary in size. For example, you can weight the mean of the dataset by cell area."
   ]
  },
  {
   "cell_type": "code",
   "execution_count": null,
   "id": "48",
   "metadata": {},
   "outputs": [],
   "source": [
    "cell_area = xr.ones_like(ds.air.lon)  # Placeholder for actual area calculation\n",
    "weighted_mean = ds.weighted(cell_area).mean(dim=[\"lon\", \"lat\"])\n",
    "weighted_mean.air.plot()"
   ]
  },
  {
   "cell_type": "markdown",
   "id": "49",
   "metadata": {},
   "source": [
    "### Rolling Window Operation\n",
    "\n",
    "Xarray supports rolling window operations, which are useful for smoothing time series data spatially or temporally. For example, you can smooth the temperature data spatially using a 5x5 window."
   ]
  },
  {
   "cell_type": "code",
   "execution_count": null,
   "id": "50",
   "metadata": {},
   "outputs": [],
   "source": [
    "ds.air.isel(time=0).rolling(lat=5, lon=5).mean().plot()"
   ]
  },
  {
   "cell_type": "markdown",
   "id": "51",
   "metadata": {},
   "source": [
    "Similarly, you can smooth the temperature data temporally using a 5-day window."
   ]
  },
  {
   "cell_type": "code",
   "execution_count": null,
   "id": "52",
   "metadata": {},
   "outputs": [],
   "source": [
    "plt.figure(figsize=(10, 6))\n",
    "# Select the time series at a specific latitude and longitude\n",
    "temperature = ds[\"air\"].sel(lat=40.0, lon=260.0)\n",
    "\n",
    "# Plot the original time series\n",
    "temperature.plot(label=\"Original\")\n",
    "\n",
    "# Apply rolling mean smoothing with a window size of 20\n",
    "smoothed_temperature = temperature.rolling(time=20, center=True).mean()\n",
    "\n",
    "# Plot the smoothed data\n",
    "smoothed_temperature.plot(label=\"Smoothed\")\n",
    "\n",
    "# Add a title and labels\n",
    "plt.title(\"Temperature Time Series (lat=40.0, lon=260.0)\")\n",
    "plt.xlabel(\"Time\")\n",
    "plt.ylabel(\"Temperature (K)\")\n",
    "\n",
    "# Add a legend\n",
    "plt.legend()\n",
    "\n",
    "# Show the plot\n",
    "plt.show()"
   ]
  },
  {
   "cell_type": "markdown",
   "id": "53",
   "metadata": {},
   "source": [
    "## 11. Reading and Writing Files\n",
    "\n",
    "Xarray supports many common scientific data formats, including [netCDF](https://www.unidata.ucar.edu/software/netcdf/) and [Zarr](https://zarr.readthedocs.io/). You can read and write datasets to disk with a few simple commands.\n",
    "\n",
    "### Writing to netCDF\n",
    "\n",
    "To save a dataset as a netCDF file:"
   ]
  },
  {
   "cell_type": "code",
   "execution_count": null,
   "id": "54",
   "metadata": {},
   "outputs": [],
   "source": [
    "# Ensure air is in a floating-point format (float32 or float64)\n",
    "ds[\"air\"] = ds[\"air\"].astype(\"float32\")\n",
    "\n",
    "# Save the dataset to a NetCDF file\n",
    "ds.to_netcdf(\"air_temperature.nc\")"
   ]
  },
  {
   "cell_type": "markdown",
   "id": "55",
   "metadata": {},
   "source": [
    "### Reading from netCDF\n",
    "\n",
    "To load a dataset from a netCDF file:"
   ]
  },
  {
   "cell_type": "code",
   "execution_count": null,
   "id": "56",
   "metadata": {},
   "outputs": [],
   "source": [
    "loaded_data = xr.open_dataset(\"air_temperature.nc\")\n",
    "loaded_data"
   ]
  },
  {
   "cell_type": "markdown",
   "id": "57",
   "metadata": {},
   "source": [
    "## 12. Exercises\n",
    "\n",
    "### Exercise 1: Exploring a New Dataset\n",
    "\n",
    "1. Load the Xarray tutorial dataset `rasm`.\n",
    "2. Inspect the `Dataset` object and list all the variables and dimensions.\n",
    "3. Select the `Tair` variable (air temperature).\n",
    "4. Print the attributes, dimensions, and coordinates of `Tair`."
   ]
  },
  {
   "cell_type": "code",
   "execution_count": null,
   "id": "58",
   "metadata": {},
   "outputs": [],
   "source": []
  },
  {
   "cell_type": "markdown",
   "id": "59",
   "metadata": {},
   "source": [
    "### Exercise 2: Data Selection and Indexing\n",
    "\n",
    "1. Select a subset of the `Tair` data for the date `1980-07-01` and latitude `70.0`.\n",
    "2. Create a time slice for the entire latitude range between January and March of 1980.\n",
    "3. Plot the selected time slice as a line plot."
   ]
  },
  {
   "cell_type": "code",
   "execution_count": null,
   "id": "60",
   "metadata": {},
   "outputs": [],
   "source": []
  },
  {
   "cell_type": "markdown",
   "id": "61",
   "metadata": {},
   "source": [
    "### Exercise 3: Performing Arithmetic Operations\n",
    "\n",
    "1. Compute the mean of the `Tair` data over the `time` dimension.\n",
    "2. Subtract the computed mean from the original `Tair` dataset to get the temperature anomalies.\n",
    "3. Plot the mean temperature and the anomalies on separate plots."
   ]
  },
  {
   "cell_type": "code",
   "execution_count": null,
   "id": "62",
   "metadata": {},
   "outputs": [],
   "source": []
  },
  {
   "cell_type": "code",
   "execution_count": null,
   "id": "64",
   "metadata": {},
   "outputs": [],
   "source": []
  },
  {
   "cell_type": "code",
   "execution_count": null,
   "id": "66",
   "metadata": {},
   "outputs": [],
   "source": []
  }
 ],
 "metadata": {
  "kernelspec": {
   "display_name": "Python 3 (ipykernel)",
   "language": "python",
   "name": "python3"
  },
  "language_info": {
   "codemirror_mode": {
    "name": "ipython",
    "version": 3
   },
   "file_extension": ".py",
   "mimetype": "text/x-python",
   "name": "python",
   "nbconvert_exporter": "python",
   "pygments_lexer": "ipython3",
   "version": "3.12.3"
  }
 },
 "nbformat": 4,
 "nbformat_minor": 5
}
