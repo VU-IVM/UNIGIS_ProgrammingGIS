{
 "cells": [
  {
   "cell_type": "markdown",
   "id": "0",
   "metadata": {},
   "source": [
    "# Tutorial 7: Introduction to Rioxarray\n",
    "[`rioxarray`](https://corteva.github.io/rioxarray/) is an extension of the powerful Python library Xarray that focuses on geospatial raster data. It provides easy access to georeferencing information and geospatial transforms using Xarray’s labeled, multi-dimensional data structures, which makes it an ideal tool for working with geospatial data like satellite imagery or climate data.\n",
    "\n",
    "The key feature of `rioxarray` is its seamless integration of rasterio’s geospatial data handling capabilities (such as CRS and affine transforms) with Xarray’s efficient multi-dimensional array handling. This allows you to manipulate, analyze, and visualize raster data with ease."
   ]
  },
  {
   "cell_type": "markdown",
   "id": "57a3f02e-b57e-4868-851d-c0d6aadbfb20",
   "metadata": {},
   "source": [
    "<div class=\"alert alert-block alert-info\">\n",
    "<b>Note:</b> This tutorial is heavily based upon the work of <a href=\"https://geog-312.gishub.org/index.html\">others</a>\n",
    "</div>"
   ]
  },
  {
   "cell_type": "markdown",
   "id": "dbd86871-bd25-4dd4-b797-4355f9fd07bd",
   "metadata": {},
   "source": [
    "## Important before we start\n",
    "<hr>\n",
    "Make sure that you save this file before you continue, else you will lose everything. To do so, go to Bestand/File and click on Een kopie opslaan in Drive/Save a Copy on Drive!\n",
    "\n",
    "Now, rename the file into TAA1_Tutorial7.ipynb. You can do so by clicking on the name in the top of this screen."
   ]
  },
  {
   "cell_type": "markdown",
   "id": "2405f31c-5d6d-4a62-b8fb-0a8733fb4af1",
   "metadata": {},
   "source": [
    "## Learning Objectives\n",
    "<hr>"
   ]
  },
  {
   "cell_type": "markdown",
   "id": "16e9028e-a93a-4e69-b214-50d559bba31f",
   "metadata": {},
   "source": [
    "- Understand how `rioxarray` extends Xarray for geospatial data handling.\n",
    "- Load and inspect georeferenced raster datasets using `rioxarray`.\n",
    "- Perform basic geospatial operations, such as clipping, reprojection, and masking, using `rioxarray`.\n",
    "- Use `rioxarray` to manage CRS and spatial dimensions in raster datasets.\n",
    "- Export and visualize geospatial raster datasets."
   ]
  },
  {
   "cell_type": "markdown",
   "id": "ea57c6ff-b142-490b-84f8-65376aa9afe9",
   "metadata": {},
   "source": [
    "<h2>Tutorial outline<span class=\"tocSkip\"></span></h2>\n",
    "<hr>\n",
    "<div class=\"toc\"><ul class=\"toc-item\">\n",
    "    <li><span><a href=\"#installing-and-importing-rioxarray\" data-toc-modified-id=\"1.-Installing-and-Importing-Rioxarray-1\">1. Installing and Importing Rioxarray</a></span></li>\n",
    "    <li><span><a href=\"#loading-georeferenced-raster-data\" data-toc-modified-id=\"2.-Loading-Georeferenced-Raster-Data-2\">2. Loading Georeferenced Raster Data</a></span></li>\n",
    "    <li><span><a href=\"#basic-geospatial-operations\" data-toc-modified-id=\"3.-Basic-Geospatial-Operations-3\">3. Basic Geospatial Operations</a></span></li>\n",
    "    <li><span><a href=\"#visualization-of-georeferenced-data\" data-toc-modified-id=\"4.-Visualization-of-Georeferenced-Data-4\">4. Visualization of Georeferenced Data</a></span></li>\n",
    "    <li><span><a href=\"#saving-data\" data-toc-modified-id=\"5.-Saving-Data-5\">5. Saving Data</a></span></li>\n",
    "    <li><span><a href=\"#handling-nodata-values\" data-toc-modified-id=\"6.-Handling-NoData-Values-6\">6. Handling NoData Values</a></span></li>\n",
    "    <li><span><a href=\"#reproject-to-multiple-crs\" data-toc-modified-id=\"7.-Reproject-to-Multiple-CRS-7\">7. Reproject to Multiple CRS</a></span></li>\n",
    "    <li><span><a href=\"#basic-band-math-ndvi-calculation\" data-toc-modified-id=\"8.-Basic-Band-Math-NDVI-Calculation-8\">8. Basic Band Math (NDVI Calculation)</a></span></li>\n",
    "    <li><span><a href=\"#exercises\" data-toc-modified-id=\"9.-Exercises-9\">9. Exercises</a></span></li>\n",
    "</ul></div>"
   ]
  },
  {
   "cell_type": "markdown",
   "id": "337a6c01-577f-411c-ab2e-34187ab61d0d",
   "metadata": {},
   "source": [
    "## 1. Installing and importing rioxarray\n",
    "<hr>\n",
    "To use `rioxarray`, you'll need to install it along with `rasterio` and its dependencies. You can install it via pip by uncommenting the following line:"
   ]
  },
  {
   "cell_type": "code",
   "execution_count": null,
   "id": "1",
   "metadata": {},
   "outputs": [],
   "source": [
    "# %pip install rioxarray rasterio"
   ]
  },
  {
   "cell_type": "markdown",
   "id": "2",
   "metadata": {},
   "source": [
    "### Importing rioxarray\n",
    "\n",
    "You can start by importing `rioxarray` and other necessary libraries:"
   ]
  },
  {
   "cell_type": "code",
   "execution_count": null,
   "id": "3",
   "metadata": {},
   "outputs": [],
   "source": [
    "import rioxarray\n",
    "import numpy as np\n",
    "import xarray as xr\n",
    "import matplotlib.pyplot as plt\n",
    "\n",
    "xr.set_options(keep_attrs=True, display_expand_data=False)"
   ]
  },
  {
   "cell_type": "markdown",
   "id": "4",
   "metadata": {},
   "source": [
    "## 2. Loading Georeferenced Raster Data\n",
    "\n",
    "One of the core functionalities of `rioxarray` is the ability to load georeferenced raster data, including its CRS and geospatial transformations. You can load a raster file (e.g., a GeoTIFF file) directly using `rioxarray`:"
   ]
  },
  {
   "cell_type": "code",
   "execution_count": null,
   "id": "5",
   "metadata": {},
   "outputs": [],
   "source": [
    "# Load a raster dataset using rioxarray\n",
    "url = \"https://github.com/opengeos/datasets/releases/download/raster/LC09_039035_20240708_90m.tif\"\n",
    "data = rioxarray.open_rasterio(url)\n",
    "data"
   ]
  },
  {
   "cell_type": "markdown",
   "id": "6",
   "metadata": {},
   "source": [
    "Here, `rioxarray.open_rasterio` loads the raster data into an Xarray `DataArray` and automatically attaches the geospatial metadata, including CRS, affine transformations, and spatial coordinates.\n",
    "\n",
    "### Inspecting the Dataset\n",
    "\n",
    "You can easily inspect the loaded dataset, including its dimensions, coordinates, and attributes:"
   ]
  },
  {
   "cell_type": "code",
   "execution_count": null,
   "id": "7",
   "metadata": {},
   "outputs": [],
   "source": [
    "# View the structure of the DataArray\n",
    "data.dims  # Dimensions (e.g., band, y, x)"
   ]
  },
  {
   "cell_type": "code",
   "execution_count": null,
   "id": "8",
   "metadata": {},
   "outputs": [],
   "source": [
    "data.coords  # Coordinates (e.g., y, x in geographic or projected CRS)"
   ]
  },
  {
   "cell_type": "code",
   "execution_count": null,
   "id": "9",
   "metadata": {},
   "outputs": [],
   "source": [
    "print(data.attrs)  # Metadata (including CRS)"
   ]
  },
  {
   "cell_type": "markdown",
   "id": "10",
   "metadata": {},
   "source": [
    "### Checking CRS and Transform Information\n",
    "\n",
    "`rioxarray` integrates CRS and affine transform metadata into the Xarray object:"
   ]
  },
  {
   "cell_type": "code",
   "execution_count": null,
   "id": "11",
   "metadata": {},
   "outputs": [],
   "source": [
    "# Check the CRS of the dataset\n",
    "data.rio.crs"
   ]
  },
  {
   "cell_type": "code",
   "execution_count": null,
   "id": "12",
   "metadata": {},
   "outputs": [],
   "source": [
    "# Check the affine transformation (mapping pixel coordinates to geographic coordinates)\n",
    "data.rio.transform()"
   ]
  },
  {
   "cell_type": "markdown",
   "id": "13",
   "metadata": {},
   "source": [
    "Sometimes, raster data may not have a CRS, or the CRS could be incorrect. You can assign a CRS manually if necessary:"
   ]
  },
  {
   "cell_type": "code",
   "execution_count": null,
   "id": "14",
   "metadata": {},
   "outputs": [],
   "source": [
    "# If the CRS is missing or incorrect, assign a CRS\n",
    "data = data.rio.write_crs(\"EPSG:32611\", inplace=True)"
   ]
  },
  {
   "cell_type": "markdown",
   "id": "15",
   "metadata": {},
   "source": [
    "## 3. Basic Geospatial Operations\n",
    "\n",
    "### Reprojecting a Dataset\n",
    "\n",
    "Reprojecting raster data to another CRS is common in geospatial analysis. For example, you may want to reproject the dataset from its native projection to the WGS84 geographic coordinate system (EPSG:4326):"
   ]
  },
  {
   "cell_type": "code",
   "execution_count": null,
   "id": "16",
   "metadata": {},
   "outputs": [],
   "source": [
    "# Reproject the dataset to WGS84 (EPSG:4326)\n",
    "data_reprojected = data.rio.reproject(\"EPSG:4326\")\n",
    "print(data_reprojected.rio.crs)"
   ]
  },
  {
   "cell_type": "markdown",
   "id": "17",
   "metadata": {},
   "source": [
    "### Clipping a Raster\n",
    "\n",
    "Clipping a raster dataset is useful when you only want to focus on a specific geographic area. You can clip a dataset using a bounding box in the same CRS as the data:"
   ]
  },
  {
   "cell_type": "code",
   "execution_count": null,
   "id": "18",
   "metadata": {},
   "outputs": [],
   "source": [
    "# Define a bounding box (in the same CRS as the dataset)\n",
    "bbox = [-115.391, 35.982, -114.988, 36.425]\n",
    "\n",
    "# Clip the raster to the bounding box\n",
    "clipped_data = data_reprojected.rio.clip_box(*bbox)"
   ]
  },
  {
   "cell_type": "code",
   "execution_count": null,
   "id": "19",
   "metadata": {},
   "outputs": [],
   "source": [
    "clipped_data.shape"
   ]
  },
  {
   "cell_type": "markdown",
   "id": "20",
   "metadata": {},
   "source": [
    "Alternatively, you can clip the raster using a vector dataset containing polygon geometries:"
   ]
  },
  {
   "cell_type": "code",
   "execution_count": null,
   "id": "21",
   "metadata": {},
   "outputs": [],
   "source": [
    "import geopandas as gpd\n",
    "\n",
    "# Load a geojson with regions of interest\n",
    "geojson_path = \"https://github.com/opengeos/datasets/releases/download/places/las_vegas_bounds_utm.geojson\"\n",
    "bounds = gpd.read_file(geojson_path)\n",
    "\n",
    "# Clip the raster to the shape\n",
    "clipped_data2 = data.rio.clip(bounds.geometry, bounds.crs)"
   ]
  },
  {
   "cell_type": "code",
   "execution_count": null,
   "id": "22",
   "metadata": {},
   "outputs": [],
   "source": [
    "clipped_data2.shape"
   ]
  },
  {
   "cell_type": "markdown",
   "id": "23",
   "metadata": {},
   "source": [
    "## Working with Spatial Dimensions\n",
    "\n",
    "`rioxarray` supports operations on spatial dimensions (latitude/longitude or x/y coordinates) like resampling, reducing, or slicing.\n",
    "\n",
    "### Resampling\n",
    "\n",
    "To resample the raster dataset to a different resolution (e.g., 1 km), use the `rio.resample` method:"
   ]
  },
  {
   "cell_type": "code",
   "execution_count": null,
   "id": "24",
   "metadata": {},
   "outputs": [],
   "source": [
    "# Resample to 1km resolution (using an average resampling method)\n",
    "resampled_data = data.rio.reproject(data.rio.crs, resolution=(1000, 1000))"
   ]
  },
  {
   "cell_type": "code",
   "execution_count": null,
   "id": "25",
   "metadata": {},
   "outputs": [],
   "source": [
    "resampled_data.shape"
   ]
  },
  {
   "cell_type": "markdown",
   "id": "26",
   "metadata": {},
   "source": [
    "### Extracting Spatial Subsets\n",
    "\n",
    "You can extract spatial subsets of the dataset by selecting specific coordinate ranges:"
   ]
  },
  {
   "cell_type": "code",
   "execution_count": null,
   "id": "27",
   "metadata": {},
   "outputs": [],
   "source": [
    "# Select a subset of the data within a lat/lon range\n",
    "min_x, max_x = -115.391, -114.988\n",
    "min_y, max_y = 35.982, 36.425\n",
    "subset = data_reprojected.sel(\n",
    "    x=slice(min_x, max_x), y=slice(max_y, min_y)\n",
    ")  # Slice y in reverse order\n",
    "subset.shape"
   ]
  },
  {
   "cell_type": "markdown",
   "id": "28",
   "metadata": {},
   "source": [
    "## 4. Visualization of Georeferenced Data\n",
    "\n",
    "Once you have performed operations on the data, you can visualize it using matplotlib. For example, to plot a multi-band image using bands 4, 3, and 2:"
   ]
  },
  {
   "cell_type": "code",
   "execution_count": null,
   "id": "29",
   "metadata": {},
   "outputs": [],
   "source": [
    "# Plot the raster data\n",
    "plt.figure(figsize=(8, 8))\n",
    "data_reprojected.sel(band=[4, 3, 2]).plot.imshow(vmin=0, vmax=0.3)\n",
    "plt.title(\"Landsat Image covering Las Vegas\")\n",
    "plt.xlabel(\"Longitude\")\n",
    "plt.ylabel(\"Latitude\")\n",
    "plt.show()"
   ]
  },
  {
   "cell_type": "markdown",
   "id": "30",
   "metadata": {},
   "source": [
    "You can also visualize clipped or masked data in the same way:"
   ]
  },
  {
   "cell_type": "code",
   "execution_count": null,
   "id": "31",
   "metadata": {},
   "outputs": [],
   "source": [
    "# Plot the raster data\n",
    "plt.figure(figsize=(8, 8))\n",
    "clipped_data.sel(band=[4, 3, 2]).plot.imshow(vmin=0, vmax=0.3)\n",
    "plt.title(\"Landsat Image covering Las Vegas\")\n",
    "plt.xlabel(\"Longitude\")\n",
    "plt.ylabel(\"Latitude\")\n",
    "plt.show()"
   ]
  },
  {
   "cell_type": "markdown",
   "id": "32",
   "metadata": {},
   "source": [
    "For more advanced plots, such as overlaying a vector dataset on the raster data, you can combine `rioxarray` with `geopandas` and `matplotlib`:"
   ]
  },
  {
   "cell_type": "code",
   "execution_count": null,
   "id": "33",
   "metadata": {},
   "outputs": [],
   "source": [
    "# Plot raster with GeoJSON overlay\n",
    "fig, ax = plt.subplots(figsize=(8, 8))\n",
    "data.attrs[\"long_name\"] = \"Surface Reflectance\"  # Update the long_name attribute\n",
    "data.sel(band=4).plot.imshow(ax=ax, vmin=0, vmax=0.4, cmap=\"gray\")\n",
    "bounds.boundary.plot(ax=ax, color=\"red\")\n",
    "plt.title(\"Raster with Vector Overlay\")\n",
    "plt.show()"
   ]
  },
  {
   "cell_type": "markdown",
   "id": "34",
   "metadata": {},
   "source": [
    "## 5. Saving Data\n",
    "\n",
    "Just like loading data, you can export `rioxarray` datasets to disk. For example, you can save the modified or processed raster data as a GeoTIFF file:"
   ]
  },
  {
   "cell_type": "code",
   "execution_count": null,
   "id": "35",
   "metadata": {},
   "outputs": [],
   "source": [
    "# Save the DataArray as a GeoTIFF file\n",
    "data.rio.to_raster(\"output_raster.tif\")"
   ]
  },
  {
   "cell_type": "markdown",
   "id": "36",
   "metadata": {},
   "source": [
    "## 6. Handling NoData Values\n",
    "\n",
    "If your dataset contains NoData values, you can manage them using the following functions:"
   ]
  },
  {
   "cell_type": "code",
   "execution_count": null,
   "id": "37",
   "metadata": {},
   "outputs": [],
   "source": [
    "# Assign NoData value\n",
    "data2 = data.rio.set_nodata(-9999)\n",
    "\n",
    "# Remove NoData values (mask them)\n",
    "data_clean = data2.rio.write_nodata(-9999, inplace=True)"
   ]
  },
  {
   "cell_type": "markdown",
   "id": "38",
   "metadata": {},
   "source": [
    "## 7. Reproject to Multiple CRS\n",
    "\n",
    "You can reproject the dataset to multiple CRS and compare them. For instance:"
   ]
  },
  {
   "cell_type": "code",
   "execution_count": null,
   "id": "39",
   "metadata": {},
   "outputs": [],
   "source": [
    "# Reproject to WGS 84 (EPSG:4326)\n",
    "data = data.rio.reproject(\"EPSG:4326\")\n",
    "print(data.rio.crs)"
   ]
  },
  {
   "cell_type": "code",
   "execution_count": null,
   "id": "40",
   "metadata": {},
   "outputs": [],
   "source": [
    "# Reproject to EPSG:3857 (Web Mercator)\n",
    "mercator_data = data.rio.reproject(\"EPSG:3857\")\n",
    "print(mercator_data.rio.crs)"
   ]
  },
  {
   "cell_type": "code",
   "execution_count": null,
   "id": "41",
   "metadata": {},
   "outputs": [],
   "source": [
    "# Plot the raster data in WGS84\n",
    "plt.figure(figsize=(6, 6))\n",
    "data.sel(band=[4, 3, 2]).plot.imshow(vmin=0, vmax=0.3)\n",
    "plt.title(\"EPSG:4326\")\n",
    "plt.xlabel(\"Longitude\")\n",
    "plt.ylabel(\"Latitude\")\n",
    "plt.show()"
   ]
  },
  {
   "cell_type": "code",
   "execution_count": null,
   "id": "42",
   "metadata": {},
   "outputs": [],
   "source": [
    "# Plot the raster data in Web Mercator\n",
    "plt.figure(figsize=(6, 6))\n",
    "mercator_data.sel(band=[4, 3, 2]).plot.imshow(vmin=0, vmax=0.3)\n",
    "plt.title(\"EPSG:3857\")\n",
    "plt.xlabel(\"X\")\n",
    "plt.ylabel(\"Y\")\n",
    "plt.show()"
   ]
  },
  {
   "cell_type": "markdown",
   "id": "43",
   "metadata": {},
   "source": [
    "## 8. Basic Band Math (NDVI Calculation)\n",
    "\n",
    "Band math enables us to perform computations across different bands. A common application is calculating the Normalized Difference Vegetation Index (NDVI), which is an indicator of vegetation health.\n",
    "\n",
    "NDVI is calculated as:\n",
    "\n",
    "NDVI = (NIR - Red) / (NIR + Red)\n",
    "\n",
    "We can compute and plot the NDVI as follows:"
   ]
  },
  {
   "cell_type": "code",
   "execution_count": null,
   "id": "44",
   "metadata": {},
   "outputs": [],
   "source": [
    "# Select the red (band 4) and NIR (band 5) bands\n",
    "red_band = data.sel(band=4)\n",
    "nir_band = data.sel(band=5)\n",
    "\n",
    "# Calculate NDVI\n",
    "ndvi = (nir_band - red_band) / (nir_band + red_band)\n",
    "ndvi = ndvi.clip(min=-1, max=1)  # Clip values to the range [-1, 1]\n",
    "ndvi.attrs[\"long_name\"] = \"NDVI\""
   ]
  },
  {
   "cell_type": "markdown",
   "id": "45",
   "metadata": {},
   "source": [
    "To visualize the NDVI, we can plot it using matplotlib:"
   ]
  },
  {
   "cell_type": "code",
   "execution_count": null,
   "id": "46",
   "metadata": {},
   "outputs": [],
   "source": [
    "# Plot the NDVI values\n",
    "ndvi.plot(cmap=\"RdYlGn\", vmin=-1, vmax=1)\n",
    "plt.title(\"NDVI of the Landsat Image\")\n",
    "plt.xlabel(\"Longitude\")\n",
    "plt.ylabel(\"Latitude\")\n",
    "plt.show()"
   ]
  },
  {
   "cell_type": "markdown",
   "id": "47",
   "metadata": {},
   "source": [
    "You can also mask out non-vegetated areas or areas with invalid NDVI values (such as water or urban regions) by applying a threshold:"
   ]
  },
  {
   "cell_type": "code",
   "execution_count": null,
   "id": "48",
   "metadata": {},
   "outputs": [],
   "source": [
    "# Mask out non-vegetated areas (NDVI < 0.2)\n",
    "ndvi_clean = ndvi.where(ndvi > 0.2)\n",
    "ndvi_clean.plot(cmap=\"Greens\", vmin=0.2, vmax=0.5)\n",
    "plt.title(\"Cleaned NDVI (non-vegetated areas masked)\")\n",
    "plt.xlabel(\"Longitude\")\n",
    "plt.ylabel(\"Latitude\")\n",
    "plt.show()"
   ]
  },
  {
   "cell_type": "markdown",
   "id": "49",
   "metadata": {},
   "source": [
    "## 9. Exercises\n",
    "\n",
    "### Sample Dataset\n",
    "\n",
    "For the exercises, we will use a sample GeoTIFF raster dataset of a flood map for the region of Kampen, which is available at the following URL:\n",
    "https://github.com/VU-IVM/DamageScanner/raw/refs/heads/main/data/inundation/inundation_map.tif\n",
    "\n",
    "### Question 8: Load and Inspect a Raster Dataset\n",
    "\n",
    "1. Use `rioxarray` to load the GeoTIFF raster file.\n",
    "3. Check and print the CRS and affine transformation of the dataset. \n",
    "\n",
    "**Return the EPSG of the coordinate system, and the Affine**"
   ]
  },
  {
   "cell_type": "code",
   "execution_count": null,
   "id": "50",
   "metadata": {},
   "outputs": [],
   "source": [
    "url = \"\"\n",
    "raster = xr.open_dataset(url,engine='rasterio')"
   ]
  },
  {
   "cell_type": "code",
   "execution_count": null,
   "id": "f2191633-77f8-45fd-9e65-ea408b96a438",
   "metadata": {},
   "outputs": [],
   "source": [
    "raster.rio.XXX"
   ]
  },
  {
   "cell_type": "code",
   "execution_count": null,
   "id": "ef2a4792-ad9a-4826-bb7f-2c62a61c0b76",
   "metadata": {},
   "outputs": [],
   "source": [
    "raster.rio.XXX"
   ]
  },
  {
   "cell_type": "markdown",
   "id": "51",
   "metadata": {},
   "source": [
    "### Question 9: Reproject the Raster to a New CRS\n",
    "\n",
    "Reproject the loaded raster dataset from its original CRS to EPSG:4326 (WGS84).\n",
    "\n",
    "**What are the new dimensions? Can you reflect how this approach is different from the rasterio approach?**\n"
   ]
  },
  {
   "cell_type": "code",
   "execution_count": null,
   "id": "52",
   "metadata": {},
   "outputs": [],
   "source": [
    "reprojected_raster = raster.rio.reproject(XXXX)"
   ]
  },
  {
   "cell_type": "code",
   "execution_count": null,
   "id": "5353205b-2698-4f2f-bb06-562440ccdee7",
   "metadata": {},
   "outputs": [],
   "source": [
    "reprojected_raster.rio.XXX"
   ]
  },
  {
   "cell_type": "markdown",
   "id": "53",
   "metadata": {},
   "source": [
    "### Question 10: Clip the reprojected raster Using a Bounding Box\n",
    "\n",
    "1. Define a bounding box (e.g., `xmin`, `ymin`, `xmax`, `ymax`) that covers only the city centre of Kampen.\n",
    "2. Clip the raster dataset using this bounding box.\n",
    "3. Plot the clipped data to visualize the result."
   ]
  },
  {
   "cell_type": "code",
   "execution_count": null,
   "id": "c2e4bf3a-1200-42b9-b8d9-83a22714b834",
   "metadata": {},
   "outputs": [],
   "source": [
    "# 1. Define a bounding box for the Kampen city centre\n",
    "xmin, ymin, xmax, ymax = 5.895, 52.545, 5.920, 52.565"
   ]
  },
  {
   "cell_type": "code",
   "execution_count": null,
   "id": "54",
   "metadata": {},
   "outputs": [],
   "source": [
    "# 2. Clip the raster using the bounding box\n",
    "clipped = reprojected_raster.rio.clip_box(minx=, miny=, maxx=, maxy=)"
   ]
  },
  {
   "cell_type": "code",
   "execution_count": null,
   "id": "94210913-c28f-4ced-b1ed-205ef3e526af",
   "metadata": {},
   "outputs": [],
   "source": [
    "# 3. Plot the clipped data\n",
    "plt.figure(figsize=(10, 8))\n",
    "clipped.plot(cmap='Blues')\n",
    "plt.title('')\n",
    "plt.xlabel('Longitude')\n",
    "plt.ylabel('Latitude')\n",
    "plt.show()"
   ]
  },
  {
   "cell_type": "markdown",
   "id": "57",
   "metadata": {},
   "source": [
    "### Question 11 Resample the Raster to a Different Resolution\n",
    "\n",
    "1. Resample the original raster dataset to a 100m resolution, using an average resampling method.\n",
    "\n",
    "**What are the new x and y dimensions after resampling?**"
   ]
  },
  {
   "cell_type": "code",
   "execution_count": null,
   "id": "58",
   "metadata": {},
   "outputs": [],
   "source": [
    "from rasterio.enums import Resampling\n",
    "\n",
    "raster.rio.reproject(\n",
    "    raster.rio.crs,  # Keep the same CRS\n",
    "    resolution=XXXX,    # 100m resolution\n",
    "    resampling=Resampling.XXXX    # average resampling\n",
    ")"
   ]
  }
 ],
 "metadata": {
  "kernelspec": {
   "display_name": "Python 3 (ipykernel)",
   "language": "python",
   "name": "python3"
  },
  "language_info": {
   "codemirror_mode": {
    "name": "ipython",
    "version": 3
   },
   "file_extension": ".py",
   "mimetype": "text/x-python",
   "name": "python",
   "nbconvert_exporter": "python",
   "pygments_lexer": "ipython3",
   "version": "3.12.3"
  }
 },
 "nbformat": 4,
 "nbformat_minor": 5
}
