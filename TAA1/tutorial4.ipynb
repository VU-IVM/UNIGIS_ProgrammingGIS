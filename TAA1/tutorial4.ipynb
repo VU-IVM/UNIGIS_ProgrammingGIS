{
 "cells": [
  {
   "cell_type": "markdown",
   "id": "591635cf-1726-4376-9210-5960f92d4c04",
   "metadata": {},
   "source": [
    "# Tutorial 4: Introduction to GeoPandas\n",
    "\n",
    "[GeoPandas](https://geopandas.org) is an open-source Python library that simplifies working with geospatial data by extending Pandas data structures. It seamlessly integrates geospatial operations with a pandas-like interface, allowing for the manipulation of geometric types such as points, lines, and polygons. GeoPandas combines the functionalities of Pandas and Shapely, enabling geospatial operations like spatial joins, buffering, intersections, and projections with ease.\n",
    "\n",
    "The core data structures in GeoPandas are `GeoDataFrame` and `GeoSeries`. A `GeoDataFrame` extends the functionality of a Pandas DataFrame by adding a geometry column, allowing spatial data operations on geometric shapes. The `GeoSeries` handles geometric data (points, polygons, etc.).\n",
    "\n",
    "A `GeoDataFrame` can have multiple geometry columns, but only one is considered the active geometry at any time. All spatial operations are applied to this active geometry, accessible via the `.geometry` attribute."
   ]
  },
  {
   "cell_type": "markdown",
   "id": "19e8130d-fa5c-4420-a85f-144b7d36ef88",
   "metadata": {},
   "source": [
    "<div class=\"alert alert-block alert-info\">\n",
    "<b>Note:</b> This tutorial is heavily based upon the work of <a href=\"https://geog-312.gishub.org/index.html\">others</a>\n",
    "</div>"
   ]
  },
  {
   "cell_type": "markdown",
   "id": "b0e5117b-5872-408f-8591-f6a726251145",
   "metadata": {},
   "source": [
    "## Important before we start\n",
    "<hr>\n",
    "Make sure that you save this file before you continue, else you will lose everything. To do so, go to Bestand/File and click on Een kopie opslaan in Drive/Save a Copy on Drive!\n",
    "\n",
    "Now, rename the file into TAA1_Tutorial4.ipynb. You can do so by clicking on the name in the top of this screen."
   ]
  },
  {
   "cell_type": "markdown",
   "id": "22a92172-47ee-4049-b669-dd21f7210638",
   "metadata": {},
   "source": [
    "## Learning Objectives\n",
    "<hr>"
   ]
  },
  {
   "cell_type": "markdown",
   "id": "d6c80450-ed66-45e7-9440-01d84aa09af9",
   "metadata": {},
   "source": [
    "- Understand the basic data structures in GeoPandas: `GeoDataFrame` and `GeoSeries`.\n",
    "- Create `GeoDataFrames` from tabular data and geometric shapes.\n",
    "- Read and write geospatial data formats like Shapefile and GeoJSON.\n",
    "- Perform common geospatial operations such as measuring areas, distances, and spatial relationships.\n",
    "- Visualize geospatial data using Matplotlib and GeoPandas' built-in plotting functions.\n",
    "- Work with different Coordinate Reference Systems (CRS) and project geospatial data."
   ]
  },
  {
   "cell_type": "markdown",
   "id": "44c76e04-f2d1-40d8-9a75-5e191425e431",
   "metadata": {},
   "source": [
    "<h2>Tutorial outline<span class=\"tocSkip\"></span></h2>\n",
    "<hr>\n",
    "<div class=\"toc\"><ul class=\"toc-item\">\n",
    "    <li><span><a href=\"#installing-and-importing-geopandas\" data-toc-modified-id=\"1.-Installing-and-Importing-Geopandas-1\">1. Installing and Importing Geopandas</a></span></li>\n",
    "    <li><span><a href=\"#creating-geodataframes\" data-toc-modified-id=\"2.-Creating-GeoDataFrames-2\">2. Creating GeoDataFrames</a></span></li>\n",
    "    <li><span><a href=\"#reading-and-writing-geospatial-data\" data-toc-modified-id=\"3.-Reading-and-Writing-Geospatial-Data-3\">3. Reading and Writing Geospatial Data</a></span></li>\n",
    "    <li><span><a href=\"#simple-accessors-and-methods\" data-toc-modified-id=\"4.-Simple-Accessors-and-Methods-4\">4. Simple Accessors and Methods</a></span></li>\n",
    "    <li><span><a href=\"#plotting-geospatial-data\" data-toc-modified-id=\"5.-Plotting-Geospatial-Data-5\">5. Plotting Geospatial Data</a></span></li>\n",
    "    <li><span><a href=\"#geometry-manipulations\" data-toc-modified-id=\"6.-Geometry-Manipulations-6\">6. Geometry Manipulations</a></span></li>\n",
    "    <li><span><a href=\"#spatial-queries-and-relations\" data-toc-modified-id=\"7.-Spatial-Queries-and-Relations-7\">7. Spatial Queries and Relations</a></span></li>\n",
    "    <li><span><a href=\"#projections-and-coordinate-reference-systems\" data-toc-modified-id=\"8.-Projections-and-Coordinate-Reference-Systems-8\">8. Projections and Coordinate Reference Systems</a></span></li>\n",
    "    <li><span><a href=\"#exercises\" data-toc-modified-id=\"9.-Exercises-9\">9. Exercises</a></span></li>\n",
    "</ul></div>"
   ]
  },
  {
   "cell_type": "markdown",
   "id": "1",
   "metadata": {},
   "source": [
    "## 1. Installing and Importing GeoPandas\n",
    "\n",
    "Before we begin, make sure you have geopandas installed. You can install it using:"
   ]
  },
  {
   "cell_type": "code",
   "execution_count": null,
   "id": "2",
   "metadata": {},
   "outputs": [],
   "source": [
    "# %pip install geopandas"
   ]
  },
  {
   "cell_type": "markdown",
   "id": "3",
   "metadata": {},
   "source": [
    "Once installed, import GeoPandas and other necessary libraries:"
   ]
  },
  {
   "cell_type": "code",
   "execution_count": null,
   "id": "4",
   "metadata": {},
   "outputs": [],
   "source": [
    "import pandas as pd\n",
    "import geopandas as gpd\n",
    "import matplotlib.pyplot as plt"
   ]
  },
  {
   "cell_type": "markdown",
   "id": "5",
   "metadata": {},
   "source": [
    "## 2. Creating GeoDataFrames\n",
    "\n",
    "A GeoDataFrame is a tabular data structure that contains a `geometry` column, which holds the geometric shapes. You can create a GeoDataFrame from a list of geometries or from a pandas DataFrame."
   ]
  },
  {
   "cell_type": "code",
   "execution_count": null,
   "id": "6",
   "metadata": {
    "scrolled": true
   },
   "outputs": [],
   "source": [
    "# Creating a GeoDataFrame from scratch\n",
    "data = {\n",
    "    \"City\": [\"Tokyo\", \"New York\", \"London\", \"Paris\"],\n",
    "    \"Latitude\": [35.6895, 40.7128, 51.5074, 48.8566],\n",
    "    \"Longitude\": [139.6917, -74.0060, -0.1278, 2.3522],\n",
    "}\n",
    "\n",
    "df = pd.DataFrame(data)\n",
    "gdf = gpd.GeoDataFrame(df, geometry=gpd.points_from_xy(df.Longitude, df.Latitude))\n",
    "gdf"
   ]
  },
  {
   "cell_type": "markdown",
   "id": "7",
   "metadata": {},
   "source": [
    "## 3. Reading and Writing Geospatial Data\n",
    "\n",
    "GeoPandas allows reading and writing a variety of geospatial formats, such as Shapefiles, GeoJSON, and more. We'll use a GeoJSON dataset of New York City borough boundaries.\n",
    "\n",
    "### Reading a GeoJSON File\n",
    "\n",
    "We'll load the New York boroughs dataset from a GeoJSON file hosted online."
   ]
  },
  {
   "cell_type": "code",
   "execution_count": null,
   "id": "8",
   "metadata": {},
   "outputs": [],
   "source": [
    "url = \"https://github.com/opengeos/datasets/releases/download/vector/nybb.geojson\"\n",
    "gdf = gpd.read_file(url)\n",
    "gdf.head()"
   ]
  },
  {
   "cell_type": "markdown",
   "id": "9",
   "metadata": {},
   "source": [
    "This `GeoDataFrame` contains several columns, including `BoroName`, which represents the names of the boroughs, and `geometry`, which stores the polygons for each borough.\n",
    "\n",
    "### Writing to a GeoJSON File\n",
    "\n",
    "GeoPandas also supports saving geospatial data back to disk. For example, we can save the GeoDataFrame as a new GeoJSON file:"
   ]
  },
  {
   "cell_type": "code",
   "execution_count": null,
   "id": "10",
   "metadata": {},
   "outputs": [],
   "source": [
    "output_file = \"nyc_boroughs.geojson\"\n",
    "gdf.to_file(output_file, driver=\"GeoJSON\")\n",
    "print(f\"GeoDataFrame has been written to {output_file}\")"
   ]
  },
  {
   "cell_type": "markdown",
   "id": "11",
   "metadata": {},
   "source": [
    "Similarly, you can write GeoDataFrames to other formats, such as Shapefiles, GeoPackage, and more. "
   ]
  },
  {
   "cell_type": "code",
   "execution_count": null,
   "id": "12",
   "metadata": {},
   "outputs": [],
   "source": [
    "output_file = \"nyc_boroughs.shp\"\n",
    "gdf.to_parquet(output_file)"
   ]
  },
  {
   "cell_type": "code",
   "execution_count": null,
   "id": "13",
   "metadata": {},
   "outputs": [],
   "source": [
    "output_file = \"nyc_boroughs.gpkg\"\n",
    "gdf.to_file(output_file, driver=\"GPKG\")"
   ]
  },
  {
   "cell_type": "markdown",
   "id": "14",
   "metadata": {},
   "source": [
    "## 4. Simple Accessors and Methods\n",
    "\n",
    "Now that we have the data, let's explore some simple GeoPandas methods to manipulate and analyze the geometric data.\n",
    "\n",
    "### Measuring Area\n",
    "\n",
    "We can calculate the area of each borough. GeoPandas automatically calculates the area of each polygon:"
   ]
  },
  {
   "cell_type": "code",
   "execution_count": null,
   "id": "15",
   "metadata": {},
   "outputs": [],
   "source": [
    "# Set BoroName as the index for easier reference\n",
    "gdf = gdf.set_index(\"BoroName\")\n",
    "\n",
    "# Calculate the area\n",
    "gdf[\"area\"] = gdf.area\n",
    "gdf"
   ]
  },
  {
   "cell_type": "markdown",
   "id": "16",
   "metadata": {},
   "source": [
    "### Getting Polygon Boundaries and Centroids\n",
    "\n",
    "To get the boundary (lines) and centroid (center point) of each polygon:"
   ]
  },
  {
   "cell_type": "code",
   "execution_count": null,
   "id": "17",
   "metadata": {},
   "outputs": [],
   "source": [
    "# Get the boundary of each polygon\n",
    "gdf[\"boundary\"] = gdf.boundary\n",
    "\n",
    "# Get the centroid of each polygon\n",
    "gdf[\"centroid\"] = gdf.centroid\n",
    "\n",
    "gdf[[\"boundary\", \"centroid\"]]"
   ]
  },
  {
   "cell_type": "markdown",
   "id": "18",
   "metadata": {},
   "source": [
    "### Measuring Distance\n",
    "\n",
    "We can also measure the distance from each borough's centroid to a reference point, such as the centroid of Manhattan."
   ]
  },
  {
   "cell_type": "code",
   "execution_count": null,
   "id": "19",
   "metadata": {},
   "outputs": [],
   "source": [
    "# Use Manhattan's centroid as the reference point\n",
    "manhattan_centroid = gdf.loc[\"Manhattan\", \"centroid\"]\n",
    "\n",
    "# Calculate the distance from each centroid to Manhattan's centroid\n",
    "gdf[\"distance_to_manhattan\"] = gdf[\"centroid\"].distance(manhattan_centroid)\n",
    "gdf[[\"centroid\", \"distance_to_manhattan\"]]"
   ]
  },
  {
   "cell_type": "markdown",
   "id": "20",
   "metadata": {},
   "source": [
    "### Calculating Mean Distance\n",
    "\n",
    "We can calculate the mean distance between the borough centroids and Manhattan:"
   ]
  },
  {
   "cell_type": "code",
   "execution_count": null,
   "id": "21",
   "metadata": {},
   "outputs": [],
   "source": [
    "mean_distance = gdf[\"distance_to_manhattan\"].mean()\n",
    "print(f\"Mean distance to Manhattan: {mean_distance} units\")"
   ]
  },
  {
   "cell_type": "markdown",
   "id": "22",
   "metadata": {},
   "source": [
    "## 5. Plotting Geospatial Data\n",
    "\n",
    "GeoPandas integrates with Matplotlib for easy plotting of geospatial data. Let's create some maps to visualize the data.\n",
    "\n",
    "### Plotting the Area of Each Borough\n",
    "\n",
    "We can color the boroughs based on their area and display a legend:"
   ]
  },
  {
   "cell_type": "code",
   "execution_count": null,
   "id": "23",
   "metadata": {},
   "outputs": [],
   "source": [
    "gdf.plot(\"area\", legend=True, figsize=(10, 6))\n",
    "plt.title(\"NYC Boroughs by Area\")\n",
    "plt.show()"
   ]
  },
  {
   "cell_type": "markdown",
   "id": "24",
   "metadata": {},
   "source": [
    "### Plotting Centroids and Boundaries\n",
    "\n",
    "We can also plot the centroids and boundaries:"
   ]
  },
  {
   "cell_type": "code",
   "execution_count": null,
   "id": "25",
   "metadata": {},
   "outputs": [],
   "source": [
    "# Plot the boundaries and centroids\n",
    "ax = gdf[\"geometry\"].plot(figsize=(10, 6), edgecolor=\"black\")\n",
    "gdf[\"centroid\"].plot(ax=ax, color=\"red\", markersize=50)\n",
    "plt.title(\"NYC Borough Boundaries and Centroids\")\n",
    "plt.show()"
   ]
  },
  {
   "cell_type": "markdown",
   "id": "26",
   "metadata": {},
   "source": [
    "You can also explore your data interactively using `GeoDataFrame.explore()`, which behaves in the same way `plot()` does but returns an interactive map instead."
   ]
  },
  {
   "cell_type": "code",
   "execution_count": null,
   "id": "27",
   "metadata": {},
   "outputs": [],
   "source": [
    "gdf.explore(\"area\", legend=False)"
   ]
  },
  {
   "cell_type": "markdown",
   "id": "28",
   "metadata": {},
   "source": [
    "## 6. Geometry Manipulations\n",
    "\n",
    "GeoPandas provides several methods for manipulating geometries, such as buffering (creating a buffer zone around geometries) and computing convex hulls (the smallest convex shape enclosing the geometries).\n",
    "\n",
    "### Buffering Geometries\n",
    "\n",
    "We can create a buffer zone around each borough:"
   ]
  },
  {
   "cell_type": "code",
   "execution_count": null,
   "id": "29",
   "metadata": {},
   "outputs": [],
   "source": [
    "# Buffer the boroughs by 10000 feet\n",
    "gdf[\"buffered\"] = gdf.buffer(10000)\n",
    "\n",
    "# Plot the buffered geometries\n",
    "gdf[\"buffered\"].plot(alpha=0.5, edgecolor=\"black\")\n",
    "plt.title(\"Buffered NYC Boroughs (10,000 feet)\")\n",
    "plt.show()"
   ]
  },
  {
   "cell_type": "markdown",
   "id": "30",
   "metadata": {},
   "source": [
    "### Convex Hulls\n",
    "\n",
    "The convex hull is the smallest convex shape that can enclose a geometry. Let's calculate the convex hull for each borough:"
   ]
  },
  {
   "cell_type": "code",
   "execution_count": null,
   "id": "31",
   "metadata": {},
   "outputs": [],
   "source": [
    "# Calculate convex hull\n",
    "gdf[\"convex_hull\"] = gdf.convex_hull\n",
    "\n",
    "# Plot the convex hulls\n",
    "gdf[\"convex_hull\"].plot(alpha=0.5, color=\"lightblue\", edgecolor=\"black\")\n",
    "plt.title(\"Convex Hull of NYC Boroughs\")\n",
    "plt.show()"
   ]
  },
  {
   "cell_type": "markdown",
   "id": "32",
   "metadata": {},
   "source": [
    "## 7. Spatial Queries and Relations\n",
    "\n",
    "We can also perform spatial queries to examine relationships between geometries. For instance, we can check which boroughs are within a certain distance of Manhattan.\n",
    "\n",
    "### Checking for Intersections\n",
    "\n",
    "We can find which boroughs' buffered areas intersect with the original geometry of Manhattan:"
   ]
  },
  {
   "cell_type": "code",
   "execution_count": null,
   "id": "33",
   "metadata": {},
   "outputs": [],
   "source": [
    "# Get the geometry of Manhattan\n",
    "manhattan_geom = gdf.loc[\"Manhattan\", \"geometry\"]\n",
    "\n",
    "# Check which buffered boroughs intersect with Manhattan's geometry\n",
    "gdf[\"intersects_manhattan\"] = gdf[\"buffered\"].intersects(manhattan_geom)\n",
    "gdf[[\"intersects_manhattan\"]]"
   ]
  },
  {
   "cell_type": "markdown",
   "id": "34",
   "metadata": {},
   "source": [
    "### Checking for Containment\n",
    "\n",
    "Similarly, we can check if the centroids are contained within the borough boundaries:"
   ]
  },
  {
   "cell_type": "code",
   "execution_count": null,
   "id": "35",
   "metadata": {},
   "outputs": [],
   "source": [
    "# Check if centroids are within the original borough geometries\n",
    "gdf[\"centroid_within_borough\"] = gdf[\"centroid\"].within(gdf[\"geometry\"])\n",
    "gdf[[\"centroid_within_borough\"]]"
   ]
  },
  {
   "cell_type": "markdown",
   "id": "36",
   "metadata": {},
   "source": [
    "## 8. Projections and Coordinate Reference Systems\n",
    "\n",
    "GeoPandas makes it easy to manage projections. Each GeoSeries and GeoDataFrame has a crs attribute that defines its CRS.\n",
    "\n",
    "### Checking the CRS\n",
    "\n",
    "Let's check the CRS of the boroughs dataset:"
   ]
  },
  {
   "cell_type": "code",
   "execution_count": null,
   "id": "37",
   "metadata": {},
   "outputs": [],
   "source": [
    "print(gdf.crs)"
   ]
  },
  {
   "cell_type": "markdown",
   "id": "38",
   "metadata": {},
   "source": [
    "The CRS for this dataset is [`EPSG:2263`](https://epsg.io/2263) (NAD83 / New York State Plane). We can reproject the geometries to WGS84 ([`EPSG:4326`](https://epsg.io/4326)), which uses latitude and longitude coordinates.\n",
    "\n",
    "[EPSG](https://epsg.io) stands for European Petroleum Survey Group, which was a scientific organization that standardized geodetic and coordinate reference systems. EPSG codes are unique identifiers that represent coordinate systems and other geodetic properties. \n",
    "\n",
    "### Reprojecting to WGS84"
   ]
  },
  {
   "cell_type": "code",
   "execution_count": null,
   "id": "39",
   "metadata": {},
   "outputs": [],
   "source": [
    "# Reproject the GeoDataFrame to WGS84 (EPSG:4326)\n",
    "gdf_4326 = gdf.to_crs(epsg=4326)\n",
    "\n",
    "# Plot the reprojected geometries\n",
    "gdf_4326.plot(figsize=(10, 6), edgecolor=\"black\")\n",
    "plt.title(\"NYC Boroughs in WGS84 (EPSG:4326)\")\n",
    "plt.show()"
   ]
  },
  {
   "cell_type": "markdown",
   "id": "40",
   "metadata": {},
   "source": [
    "Notice how the coordinates have changed from feet to degrees."
   ]
  },
  {
   "cell_type": "markdown",
   "id": "41",
   "metadata": {},
   "source": [
    "## 9. Exercises"
   ]
  },
  {
   "cell_type": "markdown",
   "id": "dfcd87a1-a694-44c7-bad7-80269739aacd",
   "metadata": {},
   "source": [
    "#### Question 1\n",
    "\n",
    "Load the natural earth file of the world, and plot the population per country.\n",
    "\n",
    "* The url to the natural earth file: [https://github.com/nvkelso/natural-earth-vector/raw/master/10m_cultural/ne_10m_admin_0_countries.shp](https://github.com/nvkelso/natural-earth-vector/raw/master/10m_cultural/ne_10m_admin_0_countries.shp)\n",
    "* The column we want to show is called `POP_EST`\n",
    "* Think about the colormap we want to use: [https://matplotlib.org/stable/users/explain/colors/colormaps.html](https://matplotlib.org/stable/users/explain/colors/colormaps.html)\n",
    "* Think about the distribution of the data in the `schemes` option. You can choose, for example, \"natural_breaks\", \"quantiles\" or \"equal_interval\".\n",
    "\n",
    "**Create a choropleth map showing world population with appropriate colormap and classification scheme.**"
   ]
  },
  {
   "cell_type": "code",
   "execution_count": null,
   "id": "42",
   "metadata": {},
   "outputs": [],
   "source": [
    "world = gpd.read_file(\"\")"
   ]
  },
  {
   "cell_type": "code",
   "execution_count": null,
   "id": "5c0927b1-0af8-426b-b8db-3577bc194b55",
   "metadata": {},
   "outputs": [],
   "source": [
    "# Create figure with specific size\n",
    "fig, ax = plt.subplots(figsize=(15, 10))\n",
    "\n",
    "world.plot(column='', legend=True, scheme='', k=5, cmap = '',\n",
    "           ax=ax, legend_kwds={'loc': 'lower left'})\n",
    "\n",
    "ax.set_title(\"Population per country\")\n",
    "\n",
    "plt.show()"
   ]
  },
  {
   "cell_type": "markdown",
   "id": "6145810e-5e4f-484c-8516-715d22c05401",
   "metadata": {},
   "source": [
    "#### Question 2\n",
    "\n",
    "Perform a spatial join between the geodataframe we created at the start of this tutorial (`gdf`) and the global data we just loaded from the internet (`world`).\n",
    "\n",
    "* Set the CRS for the `gdf` dataframe, which was not set yet. The CRS is 4326.\n",
    "* Check the documentation for the function we are going to use: [https://geopandas.org/en/stable/docs/reference/api/geopandas.GeoDataFrame.sjoin.html](https://geopandas.org/en/stable/docs/reference/api/geopandas.GeoDataFrame.sjoin.html)\n",
    "* Think about the order of your spatial join. Do you merge the cities with the world data, or vice versa. If you try both, you can see there is a difference.\n",
    "\n",
    "**What is the difference between the order of your spatial join?**"
   ]
  },
  {
   "cell_type": "code",
   "execution_count": null,
   "id": "af8cfac6-d23d-4d81-9c7e-99ba0363d578",
   "metadata": {},
   "outputs": [],
   "source": [
    "gdf = gdf.set_crs()"
   ]
  },
  {
   "cell_type": "code",
   "execution_count": null,
   "id": "4211c5e2-8ea6-4b26-be05-7b802cb68f6a",
   "metadata": {},
   "outputs": [],
   "source": [
    "gdf.sjoin()"
   ]
  },
  {
   "cell_type": "code",
   "execution_count": null,
   "id": "c80af308-72c7-4b3a-91ad-137558b00244",
   "metadata": {},
   "outputs": [],
   "source": [
    "world.sjoin()"
   ]
  }
 ],
 "metadata": {
  "kernelspec": {
   "display_name": "Python 3 (ipykernel)",
   "language": "python",
   "name": "python3"
  },
  "language_info": {
   "codemirror_mode": {
    "name": "ipython",
    "version": 3
   },
   "file_extension": ".py",
   "mimetype": "text/x-python",
   "name": "python",
   "nbconvert_exporter": "python",
   "pygments_lexer": "ipython3",
   "version": "3.12.3"
  }
 },
 "nbformat": 4,
 "nbformat_minor": 5
}
