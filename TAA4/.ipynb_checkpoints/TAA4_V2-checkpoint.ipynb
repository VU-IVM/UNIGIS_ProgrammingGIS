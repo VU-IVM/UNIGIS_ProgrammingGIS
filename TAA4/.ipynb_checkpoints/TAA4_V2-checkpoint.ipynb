{
 "cells": [
  {
   "cell_type": "markdown",
   "id": "ee037ada-1068-4f35-91ae-30c2ea52ca01",
   "metadata": {
    "id": "ee037ada-1068-4f35-91ae-30c2ea52ca01"
   },
   "source": [
    "# TAA4: Accessibility to healthcare facilities"
   ]
  },
  {
   "cell_type": "markdown",
   "id": "c6036316-479d-4438-b9e7-e31cf7e9051c",
   "metadata": {
    "id": "c6036316-479d-4438-b9e7-e31cf7e9051c"
   },
   "source": [
    "[explain assignment]\n",
    "\n",
    "### Important before we start\n",
    "---\n",
    "Make sure that you save this file before you continue, else you will lose everything. To do so, go to **Bestand/File** and click on **Een kopie opslaan in Drive/Save a Copy on Drive**!"
   ]
  },
  {
   "cell_type": "markdown",
   "id": "75f3efb3-f86a-443e-b87a-22653c771143",
   "metadata": {
    "id": "75f3efb3-f86a-443e-b87a-22653c771143"
   },
   "source": [
    "## Learning Objectives\n",
    "<hr>\n"
   ]
  },
  {
   "cell_type": "markdown",
   "id": "59d989b6-9cc8-4a39-a17b-c96c463711dd",
   "metadata": {
    "id": "59d989b6-9cc8-4a39-a17b-c96c463711dd"
   },
   "source": [
    "## Prepare the packages\n",
    "<hr>"
   ]
  },
  {
   "cell_type": "code",
   "execution_count": null,
   "id": "b06c7b0f-2f83-4f86-ab73-0e8d889bd164",
   "metadata": {
    "id": "b06c7b0f-2f83-4f86-ab73-0e8d889bd164"
   },
   "outputs": [],
   "source": [
    "!pip install rasterio\n",
    "!pip install rioxarray\n",
    "!pip install contextily\n",
    "!pip install osm_flex"
   ]
  },
  {
   "cell_type": "markdown",
   "id": "bee1cfab-03df-433e-913e-62de5c0076f4",
   "metadata": {
    "id": "bee1cfab-03df-433e-913e-62de5c0076f4"
   },
   "source": [
    "Now we will import these packages in the cell below:"
   ]
  },
  {
   "cell_type": "code",
   "execution_count": 2,
   "id": "ffc10f5f-a43d-4f8f-91b1-ac7afc347ab4",
   "metadata": {
    "id": "ffc10f5f-a43d-4f8f-91b1-ac7afc347ab4"
   },
   "outputs": [],
   "source": [
    "import os,sys\n",
    "import requests\n",
    "import shapely\n",
    "import random\n",
    "import sklearn\n",
    "\n",
    "import xarray as xr\n",
    "import rioxarray as rxr\n",
    "import pandas as pd\n",
    "import geopandas as gpd\n",
    "import numpy as np\n",
    "import matplotlib.pyplot as plt\n",
    "import contextily as cx\n",
    "import rasterio as rio\n",
    "\n",
    "from pathlib import Path\n",
    "from rasterio.enums import Resampling\n",
    "from sklearn.cluster import KMeans\n",
    "from shapely.geometry import Point\n",
    "from scipy.spatial.distance import cdist\n",
    "from osm_flex import download\n",
    "from zipfile import ZipFile\n",
    "from io import BytesIO\n",
    "from urllib.request import urlopen\n",
    "from datetime import datetime\n",
    "from tqdm import tqdm # fancy progress bar package\n",
    "from IPython.display import clear_output\n",
    "\n",
    "\n",
    "from sklearn.ensemble import RandomForestClassifier\n",
    "\n",
    "import ee\n",
    "import geemap\n",
    "import matplotlib.pyplot as plt"
   ]
  },
  {
   "cell_type": "markdown",
   "id": "bb50fef4-f456-46ca-aff7-a838766fb127",
   "metadata": {
    "id": "bb50fef4-f456-46ca-aff7-a838766fb127"
   },
   "source": [
    "## 2. Data download and preparation\n",
    "\n",
    "Define a country of your interest and a size for gridding and a randomSeed"
   ]
  },
  {
   "cell_type": "code",
   "execution_count": 3,
   "id": "da8b4246-1b98-455c-89ce-999e21e5dd27",
   "metadata": {
    "id": "da8b4246-1b98-455c-89ce-999e21e5dd27"
   },
   "outputs": [
    {
     "data": {
      "text/html": [
       "\n",
       "            <style>\n",
       "                .geemap-dark {\n",
       "                    --jp-widgets-color: white;\n",
       "                    --jp-widgets-label-color: white;\n",
       "                    --jp-ui-font-color1: white;\n",
       "                    --jp-layout-color2: #454545;\n",
       "                    background-color: #383838;\n",
       "                }\n",
       "\n",
       "                .geemap-dark .jupyter-button {\n",
       "                    --jp-layout-color3: #383838;\n",
       "                }\n",
       "\n",
       "                .geemap-colab {\n",
       "                    background-color: var(--colab-primary-surface-color, white);\n",
       "                }\n",
       "\n",
       "                .geemap-colab .jupyter-button {\n",
       "                    --jp-layout-color3: var(--colab-primary-surface-color, white);\n",
       "                }\n",
       "            </style>\n",
       "            "
      ],
      "text/plain": [
       "<IPython.core.display.HTML object>"
      ]
     },
     "metadata": {},
     "output_type": "display_data"
    }
   ],
   "source": [
    "country_full_name = 'Luxembourg'\n",
    "country_iso3 = 'LUX'\n",
    "upscale_factor = 10 #Km\n",
    "random_seed= 1"
   ]
  },
  {
   "cell_type": "markdown",
   "id": "6d8c4878-9662-4de4-9c69-b9ec0af9cda3",
   "metadata": {
    "id": "6d8c4878-9662-4de4-9c69-b9ec0af9cda3"
   },
   "source": [
    "Download the population data"
   ]
  },
  {
   "cell_type": "code",
   "execution_count": 4,
   "id": "6eb55f91-caba-443b-a72b-688bce077b6b",
   "metadata": {
    "id": "6eb55f91-caba-443b-a72b-688bce077b6b"
   },
   "outputs": [
    {
     "data": {
      "text/html": [
       "\n",
       "            <style>\n",
       "                .geemap-dark {\n",
       "                    --jp-widgets-color: white;\n",
       "                    --jp-widgets-label-color: white;\n",
       "                    --jp-ui-font-color1: white;\n",
       "                    --jp-layout-color2: #454545;\n",
       "                    background-color: #383838;\n",
       "                }\n",
       "\n",
       "                .geemap-dark .jupyter-button {\n",
       "                    --jp-layout-color3: #383838;\n",
       "                }\n",
       "\n",
       "                .geemap-colab {\n",
       "                    background-color: var(--colab-primary-surface-color, white);\n",
       "                }\n",
       "\n",
       "                .geemap-colab .jupyter-button {\n",
       "                    --jp-layout-color3: var(--colab-primary-surface-color, white);\n",
       "                }\n",
       "            </style>\n",
       "            "
      ],
      "text/plain": [
       "<IPython.core.display.HTML object>"
      ]
     },
     "metadata": {},
     "output_type": "display_data"
    }
   ],
   "source": [
    "url = \"https://data.worldpop.org/GIS/Population/Global_2000_2020/2018/0_Mosaicked/ppp_2018_1km_Aggregated.tif\"\n",
    "\n",
    "file_name = 'ppp_2018_1km_Aggregated.tif'\n",
    "#open(file_name, 'wb').write(requests.get(url).content)\n",
    "\n",
    "file_name = \"C:\\\\Data\\\\Global_Geospatial\\\\worldpop\\\\ppp_2018_1km_Aggregated.tif\"\n",
    "\n",
    "\n",
    "world_pop_glob =xr.open_dataset(file_name,engine='rasterio')"
   ]
  },
  {
   "cell_type": "markdown",
   "id": "84d4cc8e-d8fc-495a-9337-bfb06958a553",
   "metadata": {
    "id": "84d4cc8e-d8fc-495a-9337-bfb06958a553"
   },
   "source": [
    "Download a file with country borders. We use Natural Earth."
   ]
  },
  {
   "cell_type": "code",
   "execution_count": 5,
   "id": "36d356c0-167b-4d4c-bfa1-67e6f3dfee46",
   "metadata": {
    "id": "36d356c0-167b-4d4c-bfa1-67e6f3dfee46"
   },
   "outputs": [
    {
     "data": {
      "text/html": [
       "\n",
       "            <style>\n",
       "                .geemap-dark {\n",
       "                    --jp-widgets-color: white;\n",
       "                    --jp-widgets-label-color: white;\n",
       "                    --jp-ui-font-color1: white;\n",
       "                    --jp-layout-color2: #454545;\n",
       "                    background-color: #383838;\n",
       "                }\n",
       "\n",
       "                .geemap-dark .jupyter-button {\n",
       "                    --jp-layout-color3: #383838;\n",
       "                }\n",
       "\n",
       "                .geemap-colab {\n",
       "                    background-color: var(--colab-primary-surface-color, white);\n",
       "                }\n",
       "\n",
       "                .geemap-colab .jupyter-button {\n",
       "                    --jp-layout-color3: var(--colab-primary-surface-color, white);\n",
       "                }\n",
       "            </style>\n",
       "            "
      ],
      "text/plain": [
       "<IPython.core.display.HTML object>"
      ]
     },
     "metadata": {},
     "output_type": "display_data"
    }
   ],
   "source": [
    "world = gpd.read_file(\"https://github.com/nvkelso/natural-earth-vector/raw/master/10m_cultural/ne_10m_admin_0_countries.shp\")"
   ]
  },
  {
   "cell_type": "markdown",
   "id": "f1b63ad2-1a42-4549-b979-66eeb78618e2",
   "metadata": {
    "id": "f1b63ad2-1a42-4549-b979-66eeb78618e2"
   },
   "source": [
    "And we want to take the country boundaries and geometry"
   ]
  },
  {
   "cell_type": "code",
   "execution_count": 6,
   "id": "5bdadd64-1091-4659-b4a8-ab1c2a43cf4c",
   "metadata": {
    "id": "5bdadd64-1091-4659-b4a8-ab1c2a43cf4c"
   },
   "outputs": [
    {
     "data": {
      "text/html": [
       "\n",
       "            <style>\n",
       "                .geemap-dark {\n",
       "                    --jp-widgets-color: white;\n",
       "                    --jp-widgets-label-color: white;\n",
       "                    --jp-ui-font-color1: white;\n",
       "                    --jp-layout-color2: #454545;\n",
       "                    background-color: #383838;\n",
       "                }\n",
       "\n",
       "                .geemap-dark .jupyter-button {\n",
       "                    --jp-layout-color3: #383838;\n",
       "                }\n",
       "\n",
       "                .geemap-colab {\n",
       "                    background-color: var(--colab-primary-surface-color, white);\n",
       "                }\n",
       "\n",
       "                .geemap-colab .jupyter-button {\n",
       "                    --jp-layout-color3: var(--colab-primary-surface-color, white);\n",
       "                }\n",
       "            </style>\n",
       "            "
      ],
      "text/plain": [
       "<IPython.core.display.HTML object>"
      ]
     },
     "metadata": {},
     "output_type": "display_data"
    }
   ],
   "source": [
    "country_bounds = world.loc[world.ADM0_ISO == country_iso3].bounds\n",
    "country_geom = world.loc[world.ADM0_ISO == country_iso3].geometry"
   ]
  },
  {
   "cell_type": "markdown",
   "id": "2d131107-2f4f-4f39-9850-df988197ee62",
   "metadata": {
    "id": "2d131107-2f4f-4f39-9850-df988197ee62"
   },
   "source": [
    "Now we use this to clip the population data from worldpop, just for your country"
   ]
  },
  {
   "cell_type": "code",
   "execution_count": 7,
   "id": "3cee77c1-0fcc-4151-b5f1-5c67870b5ab4",
   "metadata": {
    "id": "3cee77c1-0fcc-4151-b5f1-5c67870b5ab4"
   },
   "outputs": [
    {
     "data": {
      "text/html": [
       "\n",
       "            <style>\n",
       "                .geemap-dark {\n",
       "                    --jp-widgets-color: white;\n",
       "                    --jp-widgets-label-color: white;\n",
       "                    --jp-ui-font-color1: white;\n",
       "                    --jp-layout-color2: #454545;\n",
       "                    background-color: #383838;\n",
       "                }\n",
       "\n",
       "                .geemap-dark .jupyter-button {\n",
       "                    --jp-layout-color3: #383838;\n",
       "                }\n",
       "\n",
       "                .geemap-colab {\n",
       "                    background-color: var(--colab-primary-surface-color, white);\n",
       "                }\n",
       "\n",
       "                .geemap-colab .jupyter-button {\n",
       "                    --jp-layout-color3: var(--colab-primary-surface-color, white);\n",
       "                }\n",
       "            </style>\n",
       "            "
      ],
      "text/plain": [
       "<IPython.core.display.HTML object>"
      ]
     },
     "metadata": {},
     "output_type": "display_data"
    }
   ],
   "source": [
    "# clip to country\n",
    "world_pop_national = world_pop_glob.rio.clip_box(minx=country_bounds.minx.values[0],\n",
    "                     miny=country_bounds.miny.values[0],\n",
    "                     maxx=country_bounds.maxx.values[0],\n",
    "                     maxy=country_bounds.maxy.values[0]\n",
    "                    )\n",
    "world_pop_national = world_pop_national.rio.clip(country_geom.values, world_pop_glob.rio.crs, drop=False)"
   ]
  },
  {
   "cell_type": "markdown",
   "id": "ab6155b2-3e5b-4f0d-85b1-0f45d5b5f31f",
   "metadata": {
    "id": "ab6155b2-3e5b-4f0d-85b1-0f45d5b5f31f"
   },
   "source": [
    "The worldpop data, however, is stored as 1km by 1km grid. This will be too computationally intensive if we would use that resolution. As such, we reproject the to a lower resolution. This will help us to perform the analyis more smoothly. We use the *upscale_factor* as defined at the start of this subsection."
   ]
  },
  {
   "cell_type": "code",
   "execution_count": 8,
   "id": "0834501f-2e00-4dce-b91c-8101fcdffb74",
   "metadata": {
    "id": "0834501f-2e00-4dce-b91c-8101fcdffb74"
   },
   "outputs": [
    {
     "data": {
      "text/html": [
       "\n",
       "            <style>\n",
       "                .geemap-dark {\n",
       "                    --jp-widgets-color: white;\n",
       "                    --jp-widgets-label-color: white;\n",
       "                    --jp-ui-font-color1: white;\n",
       "                    --jp-layout-color2: #454545;\n",
       "                    background-color: #383838;\n",
       "                }\n",
       "\n",
       "                .geemap-dark .jupyter-button {\n",
       "                    --jp-layout-color3: #383838;\n",
       "                }\n",
       "\n",
       "                .geemap-colab {\n",
       "                    background-color: var(--colab-primary-surface-color, white);\n",
       "                }\n",
       "\n",
       "                .geemap-colab .jupyter-button {\n",
       "                    --jp-layout-color3: var(--colab-primary-surface-color, white);\n",
       "                }\n",
       "            </style>\n",
       "            "
      ],
      "text/plain": [
       "<IPython.core.display.HTML object>"
      ]
     },
     "metadata": {},
     "output_type": "display_data"
    }
   ],
   "source": [
    "new_width = int(world_pop_national.rio.width / upscale_factor)\n",
    "new_height = int(world_pop_national.rio.height / upscale_factor)\n",
    "\n",
    "worldpop_Grided = world_pop_national.rio.reproject(\n",
    "    world_pop_national.rio.crs,\n",
    "    shape=(new_height, new_width),\n",
    "    resampling=Resampling.sum,\n",
    ")"
   ]
  },
  {
   "cell_type": "code",
   "execution_count": 9,
   "id": "256c59b1-c8cb-40ef-9d4d-6c30e05e2861",
   "metadata": {
    "id": "256c59b1-c8cb-40ef-9d4d-6c30e05e2861"
   },
   "outputs": [
    {
     "data": {
      "text/html": [
       "\n",
       "            <style>\n",
       "                .geemap-dark {\n",
       "                    --jp-widgets-color: white;\n",
       "                    --jp-widgets-label-color: white;\n",
       "                    --jp-ui-font-color1: white;\n",
       "                    --jp-layout-color2: #454545;\n",
       "                    background-color: #383838;\n",
       "                }\n",
       "\n",
       "                .geemap-dark .jupyter-button {\n",
       "                    --jp-layout-color3: #383838;\n",
       "                }\n",
       "\n",
       "                .geemap-colab {\n",
       "                    background-color: var(--colab-primary-surface-color, white);\n",
       "                }\n",
       "\n",
       "                .geemap-colab .jupyter-button {\n",
       "                    --jp-layout-color3: var(--colab-primary-surface-color, white);\n",
       "                }\n",
       "            </style>\n",
       "            "
      ],
      "text/plain": [
       "<IPython.core.display.HTML object>"
      ]
     },
     "metadata": {},
     "output_type": "display_data"
    },
    {
     "name": "stdout",
     "output_type": "stream",
     "text": [
      "The output is df_pop_LUX as a dataframe of the population data\n"
     ]
    }
   ],
   "source": [
    "df_worldpop_ = worldpop_Grided.band_data.to_dataframe()\n",
    "df_worldpop_ = df_worldpop_.loc[~df_worldpop_.band_data.isna()].reset_index(drop=False)\n",
    "\n",
    "# create geometry values and drop lat lon columns\n",
    "df_worldpop_['geometry'] = shapely.points(np.array(list(zip(df_worldpop_['x'],df_worldpop_['y']))))\n",
    "\n",
    "df_worldpop_ = gpd.GeoDataFrame(df_worldpop_.drop(['y','x','spatial_ref','band'],axis=1))\n",
    "\n",
    "# dynamically create a variable name for the DataFrame\n",
    "globals()[f'df_pop_{country_iso3}'] = gpd.GeoDataFrame(df_worldpop_)\n",
    "\n",
    "# dynamically create a print statement that reflects the current country code\n",
    "print(f\"The output is df_pop_{country_iso3} as a dataframe of the population data\")"
   ]
  },
  {
   "cell_type": "code",
   "execution_count": 10,
   "id": "f0ce8240-0a9f-446a-a2fd-c38d2c7416b9",
   "metadata": {
    "id": "f0ce8240-0a9f-446a-a2fd-c38d2c7416b9",
    "scrolled": true
   },
   "outputs": [
    {
     "data": {
      "text/html": [
       "\n",
       "            <style>\n",
       "                .geemap-dark {\n",
       "                    --jp-widgets-color: white;\n",
       "                    --jp-widgets-label-color: white;\n",
       "                    --jp-ui-font-color1: white;\n",
       "                    --jp-layout-color2: #454545;\n",
       "                    background-color: #383838;\n",
       "                }\n",
       "\n",
       "                .geemap-dark .jupyter-button {\n",
       "                    --jp-layout-color3: #383838;\n",
       "                }\n",
       "\n",
       "                .geemap-colab {\n",
       "                    background-color: var(--colab-primary-surface-color, white);\n",
       "                }\n",
       "\n",
       "                .geemap-colab .jupyter-button {\n",
       "                    --jp-layout-color3: var(--colab-primary-surface-color, white);\n",
       "                }\n",
       "            </style>\n",
       "            "
      ],
      "text/plain": [
       "<IPython.core.display.HTML object>"
      ]
     },
     "metadata": {},
     "output_type": "display_data"
    },
    {
     "data": {
      "text/plain": [
       "<Axes: >"
      ]
     },
     "execution_count": 10,
     "metadata": {},
     "output_type": "execute_result"
    },
    {
     "data": {
      "image/png": "[encoded data removed]",
      "text/plain": [
       "<Figure size 640x480 with 1 Axes>"
      ]
     },
     "metadata": {},
     "output_type": "display_data"
    }
   ],
   "source": [
    "df_worldpop_.plot()"
   ]
  },
  {
   "cell_type": "code",
   "execution_count": 11,
   "id": "02dbdbed-5e0a-425d-88c8-548d57c92d7d",
   "metadata": {
    "id": "02dbdbed-5e0a-425d-88c8-548d57c92d7d"
   },
   "outputs": [
    {
     "data": {
      "text/html": [
       "\n",
       "            <style>\n",
       "                .geemap-dark {\n",
       "                    --jp-widgets-color: white;\n",
       "                    --jp-widgets-label-color: white;\n",
       "                    --jp-ui-font-color1: white;\n",
       "                    --jp-layout-color2: #454545;\n",
       "                    background-color: #383838;\n",
       "                }\n",
       "\n",
       "                .geemap-dark .jupyter-button {\n",
       "                    --jp-layout-color3: #383838;\n",
       "                }\n",
       "\n",
       "                .geemap-colab {\n",
       "                    background-color: var(--colab-primary-surface-color, white);\n",
       "                }\n",
       "\n",
       "                .geemap-colab .jupyter-button {\n",
       "                    --jp-layout-color3: var(--colab-primary-surface-color, white);\n",
       "                }\n",
       "            </style>\n",
       "            "
      ],
      "text/plain": [
       "<IPython.core.display.HTML object>"
      ]
     },
     "metadata": {},
     "output_type": "display_data"
    },
    {
     "data": {
      "text/plain": [
       "55"
      ]
     },
     "execution_count": 11,
     "metadata": {},
     "output_type": "execute_result"
    }
   ],
   "source": [
    "len(df_worldpop_)"
   ]
  },
  {
   "cell_type": "markdown",
   "id": "32dab221-7a28-4719-a180-dc8a91c17b48",
   "metadata": {
    "id": "32dab221-7a28-4719-a180-dc8a91c17b48"
   },
   "source": [
    "Our next step is to extract information of healthcare facilities for the country of interest. We do so using OpenStreetMap. With the latest version of geopandas, it is now possible to directly read **osm.pbf** files from OpenStreetMap.\n",
    "\n",
    "Healthcare facilities are stored as *multipolygons* within OpenStreetMap, and we want to download all clinics and hospitals."
   ]
  },
  {
   "cell_type": "code",
   "execution_count": 12,
   "id": "dbf8e926-52cc-4411-bc68-263f7cafaf1f",
   "metadata": {
    "id": "dbf8e926-52cc-4411-bc68-263f7cafaf1f"
   },
   "outputs": [
    {
     "data": {
      "text/html": [
       "\n",
       "            <style>\n",
       "                .geemap-dark {\n",
       "                    --jp-widgets-color: white;\n",
       "                    --jp-widgets-label-color: white;\n",
       "                    --jp-ui-font-color1: white;\n",
       "                    --jp-layout-color2: #454545;\n",
       "                    background-color: #383838;\n",
       "                }\n",
       "\n",
       "                .geemap-dark .jupyter-button {\n",
       "                    --jp-layout-color3: #383838;\n",
       "                }\n",
       "\n",
       "                .geemap-colab {\n",
       "                    background-color: var(--colab-primary-surface-color, white);\n",
       "                }\n",
       "\n",
       "                .geemap-colab .jupyter-button {\n",
       "                    --jp-layout-color3: var(--colab-primary-surface-color, white);\n",
       "                }\n",
       "            </style>\n",
       "            "
      ],
      "text/plain": [
       "<IPython.core.display.HTML object>"
      ]
     },
     "metadata": {},
     "output_type": "display_data"
    },
    {
     "name": "stderr",
     "output_type": "stream",
     "text": [
      "C:\\Users\\eks510\\.conda\\envs\\pygis\\Lib\\site-packages\\pyogrio\\raw.py:196: RuntimeWarning: Non closed ring detected. To avoid accepting it, set the OGR_GEOMETRY_ACCEPT_UNCLOSED_RING configuration option to NO\n",
      "  return ogr_read(\n"
     ]
    },
    {
     "name": "stdout",
     "output_type": "stream",
     "text": [
      "CPU times: total: 12 s\n",
      "Wall time: 12.2 s\n"
     ]
    }
   ],
   "source": [
    "%%time\n",
    "Country_GeofabrikData_path = download.get_country_geofabrik(country_iso3)\n",
    "#Country_GeofabrikData_path = \"C:\\\\Data\\\\country_osm\\\\albania-latest.osm.pbf\"\n",
    "\n",
    "HealthCenters = gpd.read_file(Country_GeofabrikData_path, layer=\"multipolygons\")\n",
    "sub_types =['clinic', 'hospital']\n",
    "HealthCenters = HealthCenters[HealthCenters['amenity'].isin(sub_types)].reset_index(drop=True)\n",
    "HealthCenters = HealthCenters.to_crs(3857)\n",
    "\n",
    "# to convert polygons to their centroids\n",
    "HealthCenters_centroids = HealthCenters.copy()\n",
    "HealthCenters_centroids['geometry'] = HealthCenters.centroid\n",
    "\n",
    "HealthCenters_centroids=HealthCenters_centroids.to_crs(4326)"
   ]
  },
  {
   "cell_type": "code",
   "execution_count": 13,
   "id": "cfbc0e8e-bf63-42c9-b9d0-3a095c0f8ca6",
   "metadata": {
    "id": "cfbc0e8e-bf63-42c9-b9d0-3a095c0f8ca6"
   },
   "outputs": [
    {
     "data": {
      "text/html": [
       "\n",
       "            <style>\n",
       "                .geemap-dark {\n",
       "                    --jp-widgets-color: white;\n",
       "                    --jp-widgets-label-color: white;\n",
       "                    --jp-ui-font-color1: white;\n",
       "                    --jp-layout-color2: #454545;\n",
       "                    background-color: #383838;\n",
       "                }\n",
       "\n",
       "                .geemap-dark .jupyter-button {\n",
       "                    --jp-layout-color3: #383838;\n",
       "                }\n",
       "\n",
       "                .geemap-colab {\n",
       "                    background-color: var(--colab-primary-surface-color, white);\n",
       "                }\n",
       "\n",
       "                .geemap-colab .jupyter-button {\n",
       "                    --jp-layout-color3: var(--colab-primary-surface-color, white);\n",
       "                }\n",
       "            </style>\n",
       "            "
      ],
      "text/plain": [
       "<IPython.core.display.HTML object>"
      ]
     },
     "metadata": {},
     "output_type": "display_data"
    },
    {
     "data": {
      "text/html": [
       "<div>\n",
       "<style scoped>\n",
       "    .dataframe tbody tr th:only-of-type {\n",
       "        vertical-align: middle;\n",
       "    }\n",
       "\n",
       "    .dataframe tbody tr th {\n",
       "        vertical-align: top;\n",
       "    }\n",
       "\n",
       "    .dataframe thead th {\n",
       "        text-align: right;\n",
       "    }\n",
       "</style>\n",
       "<table border=\"1\" class=\"dataframe\">\n",
       "  <thead>\n",
       "    <tr style=\"text-align: right;\">\n",
       "      <th></th>\n",
       "      <th>osm_id</th>\n",
       "      <th>osm_way_id</th>\n",
       "      <th>name</th>\n",
       "      <th>type</th>\n",
       "      <th>aeroway</th>\n",
       "      <th>amenity</th>\n",
       "      <th>admin_level</th>\n",
       "      <th>barrier</th>\n",
       "      <th>boundary</th>\n",
       "      <th>building</th>\n",
       "      <th>...</th>\n",
       "      <th>man_made</th>\n",
       "      <th>military</th>\n",
       "      <th>natural</th>\n",
       "      <th>office</th>\n",
       "      <th>place</th>\n",
       "      <th>shop</th>\n",
       "      <th>sport</th>\n",
       "      <th>tourism</th>\n",
       "      <th>other_tags</th>\n",
       "      <th>geometry</th>\n",
       "    </tr>\n",
       "  </thead>\n",
       "  <tbody>\n",
       "    <tr>\n",
       "      <th>0</th>\n",
       "      <td>7591385</td>\n",
       "      <td>None</td>\n",
       "      <td>ZithaKlinik</td>\n",
       "      <td>multipolygon</td>\n",
       "      <td>None</td>\n",
       "      <td>hospital</td>\n",
       "      <td>None</td>\n",
       "      <td>None</td>\n",
       "      <td>None</td>\n",
       "      <td>None</td>\n",
       "      <td>...</td>\n",
       "      <td>None</td>\n",
       "      <td>None</td>\n",
       "      <td>None</td>\n",
       "      <td>None</td>\n",
       "      <td>None</td>\n",
       "      <td>None</td>\n",
       "      <td>None</td>\n",
       "      <td>None</td>\n",
       "      <td>\"healthcare\"=&gt;\"hospital\",\"operator\"=&gt;\"Hôpitaux...</td>\n",
       "      <td>MULTIPOLYGON (((682338.374 6377939.045, 682324...</td>\n",
       "    </tr>\n",
       "    <tr>\n",
       "      <th>1</th>\n",
       "      <td>17514812</td>\n",
       "      <td>None</td>\n",
       "      <td>Hôpital Kirchberg</td>\n",
       "      <td>multipolygon</td>\n",
       "      <td>None</td>\n",
       "      <td>hospital</td>\n",
       "      <td>None</td>\n",
       "      <td>None</td>\n",
       "      <td>None</td>\n",
       "      <td>None</td>\n",
       "      <td>...</td>\n",
       "      <td>None</td>\n",
       "      <td>None</td>\n",
       "      <td>None</td>\n",
       "      <td>None</td>\n",
       "      <td>None</td>\n",
       "      <td>None</td>\n",
       "      <td>None</td>\n",
       "      <td>None</td>\n",
       "      <td>\"healthcare\"=&gt;\"hospital\",\"operator\"=&gt;\"Hôpitaux...</td>\n",
       "      <td>MULTIPOLYGON (((687383.596 6382856.727, 687394...</td>\n",
       "    </tr>\n",
       "    <tr>\n",
       "      <th>2</th>\n",
       "      <td>None</td>\n",
       "      <td>41407070</td>\n",
       "      <td>Centre Hospitalier de Luxembourg</td>\n",
       "      <td>None</td>\n",
       "      <td>None</td>\n",
       "      <td>hospital</td>\n",
       "      <td>None</td>\n",
       "      <td>None</td>\n",
       "      <td>None</td>\n",
       "      <td>None</td>\n",
       "      <td>...</td>\n",
       "      <td>None</td>\n",
       "      <td>None</td>\n",
       "      <td>None</td>\n",
       "      <td>None</td>\n",
       "      <td>None</td>\n",
       "      <td>None</td>\n",
       "      <td>None</td>\n",
       "      <td>None</td>\n",
       "      <td>\"healthcare\"=&gt;\"hospital\",\"operator\"=&gt;\"Centre H...</td>\n",
       "      <td>MULTIPOLYGON (((679155.827 6380157.554, 679142...</td>\n",
       "    </tr>\n",
       "    <tr>\n",
       "      <th>3</th>\n",
       "      <td>None</td>\n",
       "      <td>56104142</td>\n",
       "      <td>Sénologie</td>\n",
       "      <td>None</td>\n",
       "      <td>None</td>\n",
       "      <td>hospital</td>\n",
       "      <td>None</td>\n",
       "      <td>None</td>\n",
       "      <td>None</td>\n",
       "      <td>hospital</td>\n",
       "      <td>...</td>\n",
       "      <td>None</td>\n",
       "      <td>None</td>\n",
       "      <td>None</td>\n",
       "      <td>None</td>\n",
       "      <td>None</td>\n",
       "      <td>None</td>\n",
       "      <td>None</td>\n",
       "      <td>None</td>\n",
       "      <td>None</td>\n",
       "      <td>MULTIPOLYGON (((682993.032 6382614.167, 682977...</td>\n",
       "    </tr>\n",
       "    <tr>\n",
       "      <th>4</th>\n",
       "      <td>None</td>\n",
       "      <td>72872456</td>\n",
       "      <td>Centre Hospitalier Émile Mayrisch</td>\n",
       "      <td>None</td>\n",
       "      <td>None</td>\n",
       "      <td>hospital</td>\n",
       "      <td>None</td>\n",
       "      <td>None</td>\n",
       "      <td>None</td>\n",
       "      <td>None</td>\n",
       "      <td>...</td>\n",
       "      <td>None</td>\n",
       "      <td>None</td>\n",
       "      <td>None</td>\n",
       "      <td>None</td>\n",
       "      <td>None</td>\n",
       "      <td>None</td>\n",
       "      <td>None</td>\n",
       "      <td>None</td>\n",
       "      <td>\"healthcare\"=&gt;\"hospital\",\"short_name\"=&gt;\"CHEM\",...</td>\n",
       "      <td>MULTIPOLYGON (((665744.712 6360608.875, 665747...</td>\n",
       "    </tr>\n",
       "    <tr>\n",
       "      <th>5</th>\n",
       "      <td>None</td>\n",
       "      <td>112389436</td>\n",
       "      <td>Hôpital de la ville de Dudelange</td>\n",
       "      <td>None</td>\n",
       "      <td>None</td>\n",
       "      <td>hospital</td>\n",
       "      <td>None</td>\n",
       "      <td>None</td>\n",
       "      <td>None</td>\n",
       "      <td>yes</td>\n",
       "      <td>...</td>\n",
       "      <td>None</td>\n",
       "      <td>None</td>\n",
       "      <td>None</td>\n",
       "      <td>None</td>\n",
       "      <td>None</td>\n",
       "      <td>None</td>\n",
       "      <td>None</td>\n",
       "      <td>None</td>\n",
       "      <td>\"addr:city\"=&gt;\"Dudelange\",\"addr:housenumber\"=&gt;\"...</td>\n",
       "      <td>MULTIPOLYGON (((677744.73 6355108.857, 677802....</td>\n",
       "    </tr>\n",
       "    <tr>\n",
       "      <th>6</th>\n",
       "      <td>None</td>\n",
       "      <td>189452987</td>\n",
       "      <td>CHL Eich</td>\n",
       "      <td>None</td>\n",
       "      <td>None</td>\n",
       "      <td>hospital</td>\n",
       "      <td>None</td>\n",
       "      <td>None</td>\n",
       "      <td>None</td>\n",
       "      <td>None</td>\n",
       "      <td>...</td>\n",
       "      <td>None</td>\n",
       "      <td>None</td>\n",
       "      <td>None</td>\n",
       "      <td>None</td>\n",
       "      <td>None</td>\n",
       "      <td>None</td>\n",
       "      <td>None</td>\n",
       "      <td>None</td>\n",
       "      <td>\"addr:city\"=&gt;\"Luxembourg\",\"addr:country\"=&gt;\"LU\"...</td>\n",
       "      <td>MULTIPOLYGON (((682944.085 6382574.363, 682938...</td>\n",
       "    </tr>\n",
       "    <tr>\n",
       "      <th>7</th>\n",
       "      <td>None</td>\n",
       "      <td>298655535</td>\n",
       "      <td>Centre Médical de Steinsel</td>\n",
       "      <td>None</td>\n",
       "      <td>None</td>\n",
       "      <td>clinic</td>\n",
       "      <td>None</td>\n",
       "      <td>None</td>\n",
       "      <td>None</td>\n",
       "      <td>yes</td>\n",
       "      <td>...</td>\n",
       "      <td>None</td>\n",
       "      <td>None</td>\n",
       "      <td>None</td>\n",
       "      <td>None</td>\n",
       "      <td>None</td>\n",
       "      <td>None</td>\n",
       "      <td>None</td>\n",
       "      <td>None</td>\n",
       "      <td>\"addr:city\"=&gt;\"Steinsel\",\"addr:country\"=&gt;\"LU\",\"...</td>\n",
       "      <td>MULTIPOLYGON (((681904.484 6390283.25, 681900....</td>\n",
       "    </tr>\n",
       "    <tr>\n",
       "      <th>8</th>\n",
       "      <td>None</td>\n",
       "      <td>381951079</td>\n",
       "      <td>Clinique Sainte Marie</td>\n",
       "      <td>None</td>\n",
       "      <td>None</td>\n",
       "      <td>hospital</td>\n",
       "      <td>None</td>\n",
       "      <td>None</td>\n",
       "      <td>None</td>\n",
       "      <td>None</td>\n",
       "      <td>...</td>\n",
       "      <td>None</td>\n",
       "      <td>None</td>\n",
       "      <td>None</td>\n",
       "      <td>None</td>\n",
       "      <td>None</td>\n",
       "      <td>None</td>\n",
       "      <td>None</td>\n",
       "      <td>None</td>\n",
       "      <td>\"emergency\"=&gt;\"yes\",\"healthcare\"=&gt;\"hospital\",\"o...</td>\n",
       "      <td>MULTIPOLYGON (((666416.525 6360368.193, 666413...</td>\n",
       "    </tr>\n",
       "    <tr>\n",
       "      <th>9</th>\n",
       "      <td>None</td>\n",
       "      <td>426571994</td>\n",
       "      <td>Centre de réhabilitation</td>\n",
       "      <td>None</td>\n",
       "      <td>None</td>\n",
       "      <td>hospital</td>\n",
       "      <td>None</td>\n",
       "      <td>None</td>\n",
       "      <td>None</td>\n",
       "      <td>yes</td>\n",
       "      <td>...</td>\n",
       "      <td>None</td>\n",
       "      <td>None</td>\n",
       "      <td>None</td>\n",
       "      <td>None</td>\n",
       "      <td>None</td>\n",
       "      <td>None</td>\n",
       "      <td>None</td>\n",
       "      <td>None</td>\n",
       "      <td>\"addr:city\"=&gt;\"Colpach-Bas\",\"addr:housenumber\"=...</td>\n",
       "      <td>MULTIPOLYGON (((648445.596 6404692.12, 648459....</td>\n",
       "    </tr>\n",
       "    <tr>\n",
       "      <th>10</th>\n",
       "      <td>None</td>\n",
       "      <td>469054630</td>\n",
       "      <td>Hôpital intercommunal de Steinfort</td>\n",
       "      <td>None</td>\n",
       "      <td>None</td>\n",
       "      <td>hospital</td>\n",
       "      <td>None</td>\n",
       "      <td>None</td>\n",
       "      <td>None</td>\n",
       "      <td>None</td>\n",
       "      <td>...</td>\n",
       "      <td>None</td>\n",
       "      <td>None</td>\n",
       "      <td>None</td>\n",
       "      <td>None</td>\n",
       "      <td>None</td>\n",
       "      <td>None</td>\n",
       "      <td>None</td>\n",
       "      <td>None</td>\n",
       "      <td>\"healthcare\"=&gt;\"hospital\"</td>\n",
       "      <td>MULTIPOLYGON (((658123.935 6387823.318, 658132...</td>\n",
       "    </tr>\n",
       "    <tr>\n",
       "      <th>11</th>\n",
       "      <td>None</td>\n",
       "      <td>570707211</td>\n",
       "      <td>Hôpital Intercommunal Princesse Marie-Astrid</td>\n",
       "      <td>None</td>\n",
       "      <td>None</td>\n",
       "      <td>hospital</td>\n",
       "      <td>None</td>\n",
       "      <td>None</td>\n",
       "      <td>None</td>\n",
       "      <td>None</td>\n",
       "      <td>...</td>\n",
       "      <td>None</td>\n",
       "      <td>None</td>\n",
       "      <td>None</td>\n",
       "      <td>None</td>\n",
       "      <td>None</td>\n",
       "      <td>None</td>\n",
       "      <td>None</td>\n",
       "      <td>None</td>\n",
       "      <td>\"healthcare\"=&gt;\"hospital\"</td>\n",
       "      <td>MULTIPOLYGON (((655334.714 6365873.121, 655368...</td>\n",
       "    </tr>\n",
       "    <tr>\n",
       "      <th>12</th>\n",
       "      <td>None</td>\n",
       "      <td>784862436</td>\n",
       "      <td>Centre hospitalier Neuro-Psychiatrique (CHNP)</td>\n",
       "      <td>None</td>\n",
       "      <td>None</td>\n",
       "      <td>hospital</td>\n",
       "      <td>None</td>\n",
       "      <td>None</td>\n",
       "      <td>None</td>\n",
       "      <td>None</td>\n",
       "      <td>...</td>\n",
       "      <td>None</td>\n",
       "      <td>None</td>\n",
       "      <td>None</td>\n",
       "      <td>None</td>\n",
       "      <td>None</td>\n",
       "      <td>None</td>\n",
       "      <td>None</td>\n",
       "      <td>None</td>\n",
       "      <td>\"healthcare\"=&gt;\"hospital\"</td>\n",
       "      <td>MULTIPOLYGON (((678665.866 6419086.54, 678705....</td>\n",
       "    </tr>\n",
       "    <tr>\n",
       "      <th>13</th>\n",
       "      <td>None</td>\n",
       "      <td>784866880</td>\n",
       "      <td>Rehazenter</td>\n",
       "      <td>None</td>\n",
       "      <td>None</td>\n",
       "      <td>hospital</td>\n",
       "      <td>None</td>\n",
       "      <td>None</td>\n",
       "      <td>None</td>\n",
       "      <td>None</td>\n",
       "      <td>...</td>\n",
       "      <td>None</td>\n",
       "      <td>None</td>\n",
       "      <td>None</td>\n",
       "      <td>None</td>\n",
       "      <td>None</td>\n",
       "      <td>None</td>\n",
       "      <td>None</td>\n",
       "      <td>None</td>\n",
       "      <td>\"healthcare\"=&gt;\"hospital\"</td>\n",
       "      <td>MULTIPOLYGON (((687456.721 6382232.099, 687457...</td>\n",
       "    </tr>\n",
       "    <tr>\n",
       "      <th>14</th>\n",
       "      <td>None</td>\n",
       "      <td>884212046</td>\n",
       "      <td>Centre Hospitalier du Nord</td>\n",
       "      <td>None</td>\n",
       "      <td>None</td>\n",
       "      <td>hospital</td>\n",
       "      <td>None</td>\n",
       "      <td>None</td>\n",
       "      <td>None</td>\n",
       "      <td>None</td>\n",
       "      <td>...</td>\n",
       "      <td>None</td>\n",
       "      <td>None</td>\n",
       "      <td>None</td>\n",
       "      <td>None</td>\n",
       "      <td>None</td>\n",
       "      <td>None</td>\n",
       "      <td>None</td>\n",
       "      <td>None</td>\n",
       "      <td>\"contact:email\"=&gt;\"chdn@chdn.lu\",\"contact:fax\"=...</td>\n",
       "      <td>MULTIPOLYGON (((678507.013 6421193.856, 678560...</td>\n",
       "    </tr>\n",
       "    <tr>\n",
       "      <th>15</th>\n",
       "      <td>None</td>\n",
       "      <td>887577792</td>\n",
       "      <td>Centre Hospitalier du Nord</td>\n",
       "      <td>None</td>\n",
       "      <td>None</td>\n",
       "      <td>hospital</td>\n",
       "      <td>None</td>\n",
       "      <td>None</td>\n",
       "      <td>None</td>\n",
       "      <td>None</td>\n",
       "      <td>...</td>\n",
       "      <td>None</td>\n",
       "      <td>None</td>\n",
       "      <td>None</td>\n",
       "      <td>None</td>\n",
       "      <td>None</td>\n",
       "      <td>None</td>\n",
       "      <td>None</td>\n",
       "      <td>None</td>\n",
       "      <td>\"addr:city\"=&gt;\"Wiltz\",\"addr:country\"=&gt;\"LU\",\"add...</td>\n",
       "      <td>MULTIPOLYGON (((660490.343 6440253.818, 660477...</td>\n",
       "    </tr>\n",
       "  </tbody>\n",
       "</table>\n",
       "<p>16 rows × 26 columns</p>\n",
       "</div>"
      ],
      "text/plain": [
       "      osm_id osm_way_id                                           name  \\\n",
       "0    7591385       None                                    ZithaKlinik   \n",
       "1   17514812       None                              Hôpital Kirchberg   \n",
       "2       None   41407070               Centre Hospitalier de Luxembourg   \n",
       "3       None   56104142                                      Sénologie   \n",
       "4       None   72872456              Centre Hospitalier Émile Mayrisch   \n",
       "5       None  112389436               Hôpital de la ville de Dudelange   \n",
       "6       None  189452987                                       CHL Eich   \n",
       "7       None  298655535                     Centre Médical de Steinsel   \n",
       "8       None  381951079                          Clinique Sainte Marie   \n",
       "9       None  426571994                       Centre de réhabilitation   \n",
       "10      None  469054630             Hôpital intercommunal de Steinfort   \n",
       "11      None  570707211   Hôpital Intercommunal Princesse Marie-Astrid   \n",
       "12      None  784862436  Centre hospitalier Neuro-Psychiatrique (CHNP)   \n",
       "13      None  784866880                                     Rehazenter   \n",
       "14      None  884212046                     Centre Hospitalier du Nord   \n",
       "15      None  887577792                     Centre Hospitalier du Nord   \n",
       "\n",
       "            type aeroway   amenity admin_level barrier boundary  building  \\\n",
       "0   multipolygon    None  hospital        None    None     None      None   \n",
       "1   multipolygon    None  hospital        None    None     None      None   \n",
       "2           None    None  hospital        None    None     None      None   \n",
       "3           None    None  hospital        None    None     None  hospital   \n",
       "4           None    None  hospital        None    None     None      None   \n",
       "5           None    None  hospital        None    None     None       yes   \n",
       "6           None    None  hospital        None    None     None      None   \n",
       "7           None    None    clinic        None    None     None       yes   \n",
       "8           None    None  hospital        None    None     None      None   \n",
       "9           None    None  hospital        None    None     None       yes   \n",
       "10          None    None  hospital        None    None     None      None   \n",
       "11          None    None  hospital        None    None     None      None   \n",
       "12          None    None  hospital        None    None     None      None   \n",
       "13          None    None  hospital        None    None     None      None   \n",
       "14          None    None  hospital        None    None     None      None   \n",
       "15          None    None  hospital        None    None     None      None   \n",
       "\n",
       "    ... man_made military natural office place  shop sport tourism  \\\n",
       "0   ...     None     None    None   None  None  None  None    None   \n",
       "1   ...     None     None    None   None  None  None  None    None   \n",
       "2   ...     None     None    None   None  None  None  None    None   \n",
       "3   ...     None     None    None   None  None  None  None    None   \n",
       "4   ...     None     None    None   None  None  None  None    None   \n",
       "5   ...     None     None    None   None  None  None  None    None   \n",
       "6   ...     None     None    None   None  None  None  None    None   \n",
       "7   ...     None     None    None   None  None  None  None    None   \n",
       "8   ...     None     None    None   None  None  None  None    None   \n",
       "9   ...     None     None    None   None  None  None  None    None   \n",
       "10  ...     None     None    None   None  None  None  None    None   \n",
       "11  ...     None     None    None   None  None  None  None    None   \n",
       "12  ...     None     None    None   None  None  None  None    None   \n",
       "13  ...     None     None    None   None  None  None  None    None   \n",
       "14  ...     None     None    None   None  None  None  None    None   \n",
       "15  ...     None     None    None   None  None  None  None    None   \n",
       "\n",
       "                                           other_tags  \\\n",
       "0   \"healthcare\"=>\"hospital\",\"operator\"=>\"Hôpitaux...   \n",
       "1   \"healthcare\"=>\"hospital\",\"operator\"=>\"Hôpitaux...   \n",
       "2   \"healthcare\"=>\"hospital\",\"operator\"=>\"Centre H...   \n",
       "3                                                None   \n",
       "4   \"healthcare\"=>\"hospital\",\"short_name\"=>\"CHEM\",...   \n",
       "5   \"addr:city\"=>\"Dudelange\",\"addr:housenumber\"=>\"...   \n",
       "6   \"addr:city\"=>\"Luxembourg\",\"addr:country\"=>\"LU\"...   \n",
       "7   \"addr:city\"=>\"Steinsel\",\"addr:country\"=>\"LU\",\"...   \n",
       "8   \"emergency\"=>\"yes\",\"healthcare\"=>\"hospital\",\"o...   \n",
       "9   \"addr:city\"=>\"Colpach-Bas\",\"addr:housenumber\"=...   \n",
       "10                           \"healthcare\"=>\"hospital\"   \n",
       "11                           \"healthcare\"=>\"hospital\"   \n",
       "12                           \"healthcare\"=>\"hospital\"   \n",
       "13                           \"healthcare\"=>\"hospital\"   \n",
       "14  \"contact:email\"=>\"chdn@chdn.lu\",\"contact:fax\"=...   \n",
       "15  \"addr:city\"=>\"Wiltz\",\"addr:country\"=>\"LU\",\"add...   \n",
       "\n",
       "                                             geometry  \n",
       "0   MULTIPOLYGON (((682338.374 6377939.045, 682324...  \n",
       "1   MULTIPOLYGON (((687383.596 6382856.727, 687394...  \n",
       "2   MULTIPOLYGON (((679155.827 6380157.554, 679142...  \n",
       "3   MULTIPOLYGON (((682993.032 6382614.167, 682977...  \n",
       "4   MULTIPOLYGON (((665744.712 6360608.875, 665747...  \n",
       "5   MULTIPOLYGON (((677744.73 6355108.857, 677802....  \n",
       "6   MULTIPOLYGON (((682944.085 6382574.363, 682938...  \n",
       "7   MULTIPOLYGON (((681904.484 6390283.25, 681900....  \n",
       "8   MULTIPOLYGON (((666416.525 6360368.193, 666413...  \n",
       "9   MULTIPOLYGON (((648445.596 6404692.12, 648459....  \n",
       "10  MULTIPOLYGON (((658123.935 6387823.318, 658132...  \n",
       "11  MULTIPOLYGON (((655334.714 6365873.121, 655368...  \n",
       "12  MULTIPOLYGON (((678665.866 6419086.54, 678705....  \n",
       "13  MULTIPOLYGON (((687456.721 6382232.099, 687457...  \n",
       "14  MULTIPOLYGON (((678507.013 6421193.856, 678560...  \n",
       "15  MULTIPOLYGON (((660490.343 6440253.818, 660477...  \n",
       "\n",
       "[16 rows x 26 columns]"
      ]
     },
     "execution_count": 13,
     "metadata": {},
     "output_type": "execute_result"
    }
   ],
   "source": [
    "HealthCenters"
   ]
  },
  {
   "cell_type": "code",
   "execution_count": 14,
   "id": "14c6ab08-56b0-49a2-8955-74a0bd8b6b7c",
   "metadata": {
    "id": "14c6ab08-56b0-49a2-8955-74a0bd8b6b7c"
   },
   "outputs": [
    {
     "data": {
      "text/html": [
       "\n",
       "            <style>\n",
       "                .geemap-dark {\n",
       "                    --jp-widgets-color: white;\n",
       "                    --jp-widgets-label-color: white;\n",
       "                    --jp-ui-font-color1: white;\n",
       "                    --jp-layout-color2: #454545;\n",
       "                    background-color: #383838;\n",
       "                }\n",
       "\n",
       "                .geemap-dark .jupyter-button {\n",
       "                    --jp-layout-color3: #383838;\n",
       "                }\n",
       "\n",
       "                .geemap-colab {\n",
       "                    background-color: var(--colab-primary-surface-color, white);\n",
       "                }\n",
       "\n",
       "                .geemap-colab .jupyter-button {\n",
       "                    --jp-layout-color3: var(--colab-primary-surface-color, white);\n",
       "                }\n",
       "            </style>\n",
       "            "
      ],
      "text/plain": [
       "<IPython.core.display.HTML object>"
      ]
     },
     "metadata": {},
     "output_type": "display_data"
    },
    {
     "name": "stdout",
     "output_type": "stream",
     "text": [
      "The output is HealthCenters_centroids as a dataframe of the Health Centers\n"
     ]
    },
    {
     "data": {
      "image/png": "[encoded data removed]",
      "text/plain": [
       "<Figure size 1000x1000 with 1 Axes>"
      ]
     },
     "metadata": {},
     "output_type": "display_data"
    }
   ],
   "source": [
    "print(\"The output is HealthCenters_centroids as a dataframe of the Health Centers\")\n",
    "\n",
    "#plotting\n",
    "fig, ax = plt.subplots(figsize=(10, 10))\n",
    "HealthCenters_centroids.plot(ax=ax, color='red', markersize=10, alpha=0.7)\n",
    "\n",
    "# temporarily reprojects to EPSG:3857 to add the basemap (contextily requires it)\n",
    "#cx.add_basemap(ax, crs='EPSG:4326', source=cx.providers.OpenStreetMap.Mapnik, zoom=8)\n",
    "\n",
    "ax.set_title(f'Locations of Hospitals and Clinics in {country_iso3}', fontsize=15)\n",
    "\n",
    "plt.show()"
   ]
  },
  {
   "cell_type": "markdown",
   "id": "dc39cef6-eac9-40a0-a737-bac3cd5bc2a1",
   "metadata": {
    "id": "dc39cef6-eac9-40a0-a737-bac3cd5bc2a1"
   },
   "source": [
    "## 3. Classification of rural and urban areas"
   ]
  },
  {
   "cell_type": "markdown",
   "id": "zotYyVnD4Jt2",
   "metadata": {
    "id": "zotYyVnD4Jt2"
   },
   "source": [
    "## Set-up"
   ]
  },
  {
   "cell_type": "markdown",
   "id": "kzGnaMdm4Gpu",
   "metadata": {
    "id": "kzGnaMdm4Gpu"
   },
   "source": [
    "Fix seed"
   ]
  },
  {
   "cell_type": "code",
   "execution_count": 15,
   "id": "JS9on1714Ega",
   "metadata": {
    "id": "JS9on1714Ega"
   },
   "outputs": [
    {
     "data": {
      "text/html": [
       "\n",
       "            <style>\n",
       "                .geemap-dark {\n",
       "                    --jp-widgets-color: white;\n",
       "                    --jp-widgets-label-color: white;\n",
       "                    --jp-ui-font-color1: white;\n",
       "                    --jp-layout-color2: #454545;\n",
       "                    background-color: #383838;\n",
       "                }\n",
       "\n",
       "                .geemap-dark .jupyter-button {\n",
       "                    --jp-layout-color3: #383838;\n",
       "                }\n",
       "\n",
       "                .geemap-colab {\n",
       "                    background-color: var(--colab-primary-surface-color, white);\n",
       "                }\n",
       "\n",
       "                .geemap-colab .jupyter-button {\n",
       "                    --jp-layout-color3: var(--colab-primary-surface-color, white);\n",
       "                }\n",
       "            </style>\n",
       "            "
      ],
      "text/plain": [
       "<IPython.core.display.HTML object>"
      ]
     },
     "metadata": {},
     "output_type": "display_data"
    }
   ],
   "source": [
    "### Set global seeds ###\n",
    "seed = random_seed\n",
    "np.random.seed(seed)\n",
    "random.seed(seed)\n",
    "os.environ['PYTHONHASHSEED'] = str(seed)"
   ]
  },
  {
   "cell_type": "markdown",
   "id": "-l1Sg8b54mQl",
   "metadata": {
    "id": "-l1Sg8b54mQl"
   },
   "source": [
    "Set-up EE environment"
   ]
  },
  {
   "cell_type": "code",
   "execution_count": 17,
   "id": "lm4NPROn4loe",
   "metadata": {
    "id": "lm4NPROn4loe"
   },
   "outputs": [
    {
     "data": {
      "text/html": [
       "\n",
       "            <style>\n",
       "                .geemap-dark {\n",
       "                    --jp-widgets-color: white;\n",
       "                    --jp-widgets-label-color: white;\n",
       "                    --jp-ui-font-color1: white;\n",
       "                    --jp-layout-color2: #454545;\n",
       "                    background-color: #383838;\n",
       "                }\n",
       "\n",
       "                .geemap-dark .jupyter-button {\n",
       "                    --jp-layout-color3: #383838;\n",
       "                }\n",
       "\n",
       "                .geemap-colab {\n",
       "                    background-color: var(--colab-primary-surface-color, white);\n",
       "                }\n",
       "\n",
       "                .geemap-colab .jupyter-button {\n",
       "                    --jp-layout-color3: var(--colab-primary-surface-color, white);\n",
       "                }\n",
       "            </style>\n",
       "            "
      ],
      "text/plain": [
       "<IPython.core.display.HTML object>"
      ]
     },
     "metadata": {},
     "output_type": "display_data"
    }
   ],
   "source": [
    "ee.Authenticate()\n",
    "# ee.Initialize(project=\"YOUR_PROJECT_NAME\")\n",
    "ee.Initialize(project=\"proj-gis-1234\")"
   ]
  },
  {
   "cell_type": "markdown",
   "id": "_tY_sxXy4SPA",
   "metadata": {
    "id": "_tY_sxXy4SPA"
   },
   "source": [
    "## Set-up train/val data"
   ]
  },
  {
   "cell_type": "markdown",
   "id": "GRJQm_UT5uhV",
   "metadata": {
    "id": "GRJQm_UT5uhV"
   },
   "source": [
    "Load training data - 2018, CLC"
   ]
  },
  {
   "cell_type": "code",
   "execution_count": 21,
   "id": "_I9OT5iF4iPe",
   "metadata": {
    "id": "_I9OT5iF4iPe"
   },
   "outputs": [
    {
     "data": {
      "text/html": [
       "\n",
       "            <style>\n",
       "                .geemap-dark {\n",
       "                    --jp-widgets-color: white;\n",
       "                    --jp-widgets-label-color: white;\n",
       "                    --jp-ui-font-color1: white;\n",
       "                    --jp-layout-color2: #454545;\n",
       "                    background-color: #383838;\n",
       "                }\n",
       "\n",
       "                .geemap-dark .jupyter-button {\n",
       "                    --jp-layout-color3: #383838;\n",
       "                }\n",
       "\n",
       "                .geemap-colab {\n",
       "                    background-color: var(--colab-primary-surface-color, white);\n",
       "                }\n",
       "\n",
       "                .geemap-colab .jupyter-button {\n",
       "                    --jp-layout-color3: var(--colab-primary-surface-color, white);\n",
       "                }\n",
       "            </style>\n",
       "            "
      ],
      "text/plain": [
       "<IPython.core.display.HTML object>"
      ]
     },
     "metadata": {},
     "output_type": "display_data"
    }
   ],
   "source": [
    "# Define the region of interest (ROI)\n",
    "netherlands = ee.FeatureCollection(\"FAO/GAUL/2015/level0\") \\\n",
    "                .filter(ee.Filter.eq('ADM0_NAME', 'Luxembourg'))\n",
    "\n",
    "# Load Sentinel-2 Image Collection\n",
    "sentinel2 = ee.ImageCollection(\"COPERNICUS/S2_HARMONIZED\") \\\n",
    "             .filterBounds(netherlands.geometry()) \\\n",
    "             .filterDate('2018-06-01', '2018-08-31') \\\n",
    "             .filter(ee.Filter.lt('CLOUDY_PIXEL_PERCENTAGE', 10))\n",
    "\n",
    "# Create a median composite to reduce cloud cover\n",
    "mosaic_image = sentinel2.median().clip(netherlands.geometry())"
   ]
  },
  {
   "cell_type": "markdown",
   "id": "FPiX1Imk6Oom",
   "metadata": {
    "id": "FPiX1Imk6Oom"
   },
   "source": [
    "Show on map to verify that it's loaded"
   ]
  },
  {
   "cell_type": "code",
   "execution_count": 22,
   "id": "gUE7-YsH5oim",
   "metadata": {
    "id": "gUE7-YsH5oim"
   },
   "outputs": [
    {
     "data": {
      "text/html": [
       "\n",
       "            <style>\n",
       "                .geemap-dark {\n",
       "                    --jp-widgets-color: white;\n",
       "                    --jp-widgets-label-color: white;\n",
       "                    --jp-ui-font-color1: white;\n",
       "                    --jp-layout-color2: #454545;\n",
       "                    background-color: #383838;\n",
       "                }\n",
       "\n",
       "                .geemap-dark .jupyter-button {\n",
       "                    --jp-layout-color3: #383838;\n",
       "                }\n",
       "\n",
       "                .geemap-colab {\n",
       "                    background-color: var(--colab-primary-surface-color, white);\n",
       "                }\n",
       "\n",
       "                .geemap-colab .jupyter-button {\n",
       "                    --jp-layout-color3: var(--colab-primary-surface-color, white);\n",
       "                }\n",
       "            </style>\n",
       "            "
      ],
      "text/plain": [
       "<IPython.core.display.HTML object>"
      ]
     },
     "metadata": {},
     "output_type": "display_data"
    },
    {
     "data": {
      "application/vnd.jupyter.widget-view+json": {
       "model_id": "44826237f81e4246a0ce32e290adaf62",
       "version_major": 2,
       "version_minor": 0
      },
      "text/plain": [
       "Map(center=[51.37, 4.999999999999999], controls=(WidgetControl(options=['position', 'transparent_bg'], widget=…"
      ]
     },
     "execution_count": 22,
     "metadata": {},
     "output_type": "execute_result"
    }
   ],
   "source": [
    "point = ee.Geometry.Point([5.0, 51.37])\n",
    "bands = ['B4', 'B3', 'B2'] # Fill in this list yourself\n",
    "vis_params = {'max': 3000, 'bands':bands} # Limit upper range so you can see detail\n",
    "\n",
    "map = geemap.Map(height=800,width=700,center=[52.37,4.5],zoom=7)\n",
    "map.centerObject(point, 8)\n",
    "map.addLayer(mosaic_image, vis_params, \"Sentinel-2_2018\")\n",
    "map"
   ]
  },
  {
   "cell_type": "markdown",
   "id": "8NEzm7xf7weH",
   "metadata": {
    "id": "8NEzm7xf7weH"
   },
   "source": [
    "Calculate variables to include"
   ]
  },
  {
   "cell_type": "code",
   "execution_count": 23,
   "id": "cjMQF_E57zIw",
   "metadata": {
    "id": "cjMQF_E57zIw"
   },
   "outputs": [
    {
     "data": {
      "text/html": [
       "\n",
       "            <style>\n",
       "                .geemap-dark {\n",
       "                    --jp-widgets-color: white;\n",
       "                    --jp-widgets-label-color: white;\n",
       "                    --jp-ui-font-color1: white;\n",
       "                    --jp-layout-color2: #454545;\n",
       "                    background-color: #383838;\n",
       "                }\n",
       "\n",
       "                .geemap-dark .jupyter-button {\n",
       "                    --jp-layout-color3: #383838;\n",
       "                }\n",
       "\n",
       "                .geemap-colab {\n",
       "                    background-color: var(--colab-primary-surface-color, white);\n",
       "                }\n",
       "\n",
       "                .geemap-colab .jupyter-button {\n",
       "                    --jp-layout-color3: var(--colab-primary-surface-color, white);\n",
       "                }\n",
       "            </style>\n",
       "            "
      ],
      "text/plain": [
       "<IPython.core.display.HTML object>"
      ]
     },
     "metadata": {},
     "output_type": "display_data"
    }
   ],
   "source": [
    "def make_s2_variables(s2_image):\n",
    "    # Calculate additional spectral indices\n",
    "    dvi = s2_image.select('B5').subtract(s2_image.select('B4')).rename('DVI')\n",
    "    ndvi = s2_image.normalizedDifference(['B5', 'B4']).rename('NDVI')\n",
    "    ndwi = s2_image.normalizedDifference(['B3', 'B5']).rename('NDWI')\n",
    "\n",
    "    # Add indices to the image\n",
    "    s2_image = s2_image.addBands([dvi, ndvi, ndwi])\n",
    "\n",
    "    # Define neighborhood size (e.g., 3x3)\n",
    "    kernel = ee.Kernel.square(radius=1)\n",
    "\n",
    "    # Calculate neighborhood statistics\n",
    "    neighborhood_vars = []\n",
    "    for band in ['DVI', 'NDVI', 'NDWI']:\n",
    "        mean = s2_image.select(band).reduceNeighborhood(\n",
    "            reducer=ee.Reducer.mean(),\n",
    "            kernel=kernel\n",
    "        ).rename(f'{band}_mean')\n",
    "\n",
    "        std_dev = s2_image.select(band).reduceNeighborhood(\n",
    "            reducer=ee.Reducer.stdDev(),\n",
    "            kernel=kernel\n",
    "        ).rename(f'{band}_stdDev')\n",
    "\n",
    "        # Add additional statistics here, such as min, max, etc., if desired.\n",
    "\n",
    "        # Append neighborhood bands to the list\n",
    "        neighborhood_vars.extend([mean, std_dev])\n",
    "\n",
    "    # Add neighborhood statistics to the image\n",
    "    s2_image = s2_image.addBands(neighborhood_vars)\n",
    "\n",
    "    return s2_image"
   ]
  },
  {
   "cell_type": "code",
   "execution_count": 24,
   "id": "oCmPdaR_74Ml",
   "metadata": {
    "id": "oCmPdaR_74Ml"
   },
   "outputs": [
    {
     "data": {
      "text/html": [
       "\n",
       "            <style>\n",
       "                .geemap-dark {\n",
       "                    --jp-widgets-color: white;\n",
       "                    --jp-widgets-label-color: white;\n",
       "                    --jp-ui-font-color1: white;\n",
       "                    --jp-layout-color2: #454545;\n",
       "                    background-color: #383838;\n",
       "                }\n",
       "\n",
       "                .geemap-dark .jupyter-button {\n",
       "                    --jp-layout-color3: #383838;\n",
       "                }\n",
       "\n",
       "                .geemap-colab {\n",
       "                    background-color: var(--colab-primary-surface-color, white);\n",
       "                }\n",
       "\n",
       "                .geemap-colab .jupyter-button {\n",
       "                    --jp-layout-color3: var(--colab-primary-surface-color, white);\n",
       "                }\n",
       "            </style>\n",
       "            "
      ],
      "text/plain": [
       "<IPython.core.display.HTML object>"
      ]
     },
     "metadata": {},
     "output_type": "display_data"
    }
   ],
   "source": [
    "mosaic_image = make_s2_variables(mosaic_image)"
   ]
  },
  {
   "cell_type": "code",
   "execution_count": 25,
   "id": "sTScJDPp8dew",
   "metadata": {
    "id": "sTScJDPp8dew"
   },
   "outputs": [
    {
     "data": {
      "text/html": [
       "\n",
       "            <style>\n",
       "                .geemap-dark {\n",
       "                    --jp-widgets-color: white;\n",
       "                    --jp-widgets-label-color: white;\n",
       "                    --jp-ui-font-color1: white;\n",
       "                    --jp-layout-color2: #454545;\n",
       "                    background-color: #383838;\n",
       "                }\n",
       "\n",
       "                .geemap-dark .jupyter-button {\n",
       "                    --jp-layout-color3: #383838;\n",
       "                }\n",
       "\n",
       "                .geemap-colab {\n",
       "                    background-color: var(--colab-primary-surface-color, white);\n",
       "                }\n",
       "\n",
       "                .geemap-colab .jupyter-button {\n",
       "                    --jp-layout-color3: var(--colab-primary-surface-color, white);\n",
       "                }\n",
       "            </style>\n",
       "            "
      ],
      "text/plain": [
       "<IPython.core.display.HTML object>"
      ]
     },
     "metadata": {},
     "output_type": "display_data"
    }
   ],
   "source": [
    "# Use these bands for prediction\n",
    "bands = ['B2', 'B3', 'B4', 'B5', 'B6', 'B7']\n",
    "indices = ['NDVI', 'DVI', 'NDWI'] # Add your index(es) band here\n",
    "img_bands = [*bands, *indices]"
   ]
  },
  {
   "cell_type": "markdown",
   "id": "44mziLGt8j4C",
   "metadata": {
    "id": "44mziLGt8j4C"
   },
   "source": [
    "Sample CORINE"
   ]
  },
  {
   "cell_type": "code",
   "execution_count": 26,
   "id": "Pacg8UcH8lHe",
   "metadata": {
    "id": "Pacg8UcH8lHe"
   },
   "outputs": [
    {
     "data": {
      "text/html": [
       "\n",
       "            <style>\n",
       "                .geemap-dark {\n",
       "                    --jp-widgets-color: white;\n",
       "                    --jp-widgets-label-color: white;\n",
       "                    --jp-ui-font-color1: white;\n",
       "                    --jp-layout-color2: #454545;\n",
       "                    background-color: #383838;\n",
       "                }\n",
       "\n",
       "                .geemap-dark .jupyter-button {\n",
       "                    --jp-layout-color3: #383838;\n",
       "                }\n",
       "\n",
       "                .geemap-colab {\n",
       "                    background-color: var(--colab-primary-surface-color, white);\n",
       "                }\n",
       "\n",
       "                .geemap-colab .jupyter-button {\n",
       "                    --jp-layout-color3: var(--colab-primary-surface-color, white);\n",
       "                }\n",
       "            </style>\n",
       "            "
      ],
      "text/plain": [
       "<IPython.core.display.HTML object>"
      ]
     },
     "metadata": {},
     "output_type": "display_data"
    }
   ],
   "source": [
    "CLC = ee.Image('COPERNICUS/CORINE/V20/100m/2012').select('landcover').clip(mosaic_image.geometry())\n",
    "lc_points = CLC.sample(\n",
    "    **{\n",
    "        'region': mosaic_image.geometry(),\n",
    "        'scale': 30,\n",
    "        'numPixels': 10000,\n",
    "        'seed': 0,\n",
    "        'geometries': True,\n",
    "    }\n",
    ")"
   ]
  },
  {
   "cell_type": "markdown",
   "id": "n7hzNmOt8tY5",
   "metadata": {
    "id": "n7hzNmOt8tY5"
   },
   "source": [
    "Reclassify to binary urban/rural"
   ]
  },
  {
   "cell_type": "code",
   "execution_count": 27,
   "id": "Hm4xWGNS8ugv",
   "metadata": {
    "id": "Hm4xWGNS8ugv"
   },
   "outputs": [
    {
     "data": {
      "text/html": [
       "\n",
       "            <style>\n",
       "                .geemap-dark {\n",
       "                    --jp-widgets-color: white;\n",
       "                    --jp-widgets-label-color: white;\n",
       "                    --jp-ui-font-color1: white;\n",
       "                    --jp-layout-color2: #454545;\n",
       "                    background-color: #383838;\n",
       "                }\n",
       "\n",
       "                .geemap-dark .jupyter-button {\n",
       "                    --jp-layout-color3: #383838;\n",
       "                }\n",
       "\n",
       "                .geemap-colab {\n",
       "                    background-color: var(--colab-primary-surface-color, white);\n",
       "                }\n",
       "\n",
       "                .geemap-colab .jupyter-button {\n",
       "                    --jp-layout-color3: var(--colab-primary-surface-color, white);\n",
       "                }\n",
       "            </style>\n",
       "            "
      ],
      "text/plain": [
       "<IPython.core.display.HTML object>"
      ]
     },
     "metadata": {},
     "output_type": "display_data"
    }
   ],
   "source": [
    "def generalize_clc_class(feature):\n",
    "    lc_value = ee.String(feature.get('landcover'))\n",
    "\n",
    "    # Check if the first character is '1'\n",
    "    set_value = ee.Algorithms.If(lc_value.slice(0, 1).equals('1'), 1, 0)\n",
    "\n",
    "    # Set the new binary value for the 'landcover' property\n",
    "    return feature.set('landcover', set_value)\n",
    "lc_reference_pts = lc_points.map(generalize_clc_class)"
   ]
  },
  {
   "cell_type": "markdown",
   "id": "th9Dl6mW9FII",
   "metadata": {
    "id": "th9Dl6mW9FII"
   },
   "source": [
    "Make train/validation splits"
   ]
  },
  {
   "cell_type": "code",
   "execution_count": 28,
   "id": "X1tMXV4w9LFb",
   "metadata": {
    "id": "X1tMXV4w9LFb"
   },
   "outputs": [
    {
     "data": {
      "text/html": [
       "\n",
       "            <style>\n",
       "                .geemap-dark {\n",
       "                    --jp-widgets-color: white;\n",
       "                    --jp-widgets-label-color: white;\n",
       "                    --jp-ui-font-color1: white;\n",
       "                    --jp-layout-color2: #454545;\n",
       "                    background-color: #383838;\n",
       "                }\n",
       "\n",
       "                .geemap-dark .jupyter-button {\n",
       "                    --jp-layout-color3: #383838;\n",
       "                }\n",
       "\n",
       "                .geemap-colab {\n",
       "                    background-color: var(--colab-primary-surface-color, white);\n",
       "                }\n",
       "\n",
       "                .geemap-colab .jupyter-button {\n",
       "                    --jp-layout-color3: var(--colab-primary-surface-color, white);\n",
       "                }\n",
       "            </style>\n",
       "            "
      ],
      "text/plain": [
       "<IPython.core.display.HTML object>"
      ]
     },
     "metadata": {},
     "output_type": "display_data"
    }
   ],
   "source": [
    "# Define the land cover labels column\n",
    "label_col = 'landcover'\n",
    "\n",
    "# Filter points by label\n",
    "positive_points = lc_reference_pts.filter(ee.Filter.eq(label_col, 1))\n",
    "negative_points = lc_reference_pts.filter(ee.Filter.eq(label_col, 0))\n",
    "\n",
    "# Allow a maximum of 2-to-1 difference in negative vs positive class sampling\n",
    "positive_sample = positive_points.randomColumn('random').limit(positive_points.size())\n",
    "negative_sample = negative_points.randomColumn('random').limit(positive_points.size().multiply(ee.Number(2)))\n",
    "\n",
    "# Merge the samples\n",
    "balanced_sample = positive_sample.merge(negative_sample)\n",
    "\n",
    "# Split into training and validation sets\n",
    "training_sample = balanced_sample.filter('random <= 0.8')\n",
    "validation_sample = balanced_sample.filter('random > 0.8')\n",
    "\n",
    "# Sample regions for training and validation datasets\n",
    "train_data = mosaic_image.select(img_bands).sampleRegions(\n",
    "    collection=training_sample, properties=[label_col], scale=100\n",
    ")\n",
    "\n",
    "val_data = mosaic_image.select(img_bands).sampleRegions(\n",
    "    collection=validation_sample, properties=[label_col], scale=100\n",
    ")"
   ]
  },
  {
   "cell_type": "markdown",
   "id": "uS-6YzaM9P5-",
   "metadata": {
    "id": "uS-6YzaM9P5-"
   },
   "source": [
    "## Optimize on train/val"
   ]
  },
  {
   "cell_type": "code",
   "execution_count": 29,
   "id": "Hv5M5UkT9X39",
   "metadata": {
    "id": "Hv5M5UkT9X39"
   },
   "outputs": [
    {
     "data": {
      "text/html": [
       "\n",
       "            <style>\n",
       "                .geemap-dark {\n",
       "                    --jp-widgets-color: white;\n",
       "                    --jp-widgets-label-color: white;\n",
       "                    --jp-ui-font-color1: white;\n",
       "                    --jp-layout-color2: #454545;\n",
       "                    background-color: #383838;\n",
       "                }\n",
       "\n",
       "                .geemap-dark .jupyter-button {\n",
       "                    --jp-layout-color3: #383838;\n",
       "                }\n",
       "\n",
       "                .geemap-colab {\n",
       "                    background-color: var(--colab-primary-surface-color, white);\n",
       "                }\n",
       "\n",
       "                .geemap-colab .jupyter-button {\n",
       "                    --jp-layout-color3: var(--colab-primary-surface-color, white);\n",
       "                }\n",
       "            </style>\n",
       "            "
      ],
      "text/plain": [
       "<IPython.core.display.HTML object>"
      ]
     },
     "metadata": {},
     "output_type": "display_data"
    }
   ],
   "source": [
    "# Train the model\n",
    "classifier = ee.Classifier.smileRandomForest(numberOfTrees=100, minLeafPopulation=2, maxNodes=50)\n",
    "trained_classifier = classifier.train(features=train_data, classProperty=label_col, inputProperties=img_bands)\n",
    "\n",
    "# Apply the classifier to the validation data\n",
    "classified_val = val_data.classify(trained_classifier)"
   ]
  },
  {
   "cell_type": "markdown",
   "id": "_r0pZTPq97XH",
   "metadata": {
    "id": "_r0pZTPq97XH"
   },
   "source": [
    "Calculate metrics"
   ]
  },
  {
   "cell_type": "code",
   "execution_count": 30,
   "id": "q7SJuNRd9Zmm",
   "metadata": {
    "id": "q7SJuNRd9Zmm"
   },
   "outputs": [
    {
     "data": {
      "text/html": [
       "\n",
       "            <style>\n",
       "                .geemap-dark {\n",
       "                    --jp-widgets-color: white;\n",
       "                    --jp-widgets-label-color: white;\n",
       "                    --jp-ui-font-color1: white;\n",
       "                    --jp-layout-color2: #454545;\n",
       "                    background-color: #383838;\n",
       "                }\n",
       "\n",
       "                .geemap-dark .jupyter-button {\n",
       "                    --jp-layout-color3: #383838;\n",
       "                }\n",
       "\n",
       "                .geemap-colab {\n",
       "                    background-color: var(--colab-primary-surface-color, white);\n",
       "                }\n",
       "\n",
       "                .geemap-colab .jupyter-button {\n",
       "                    --jp-layout-color3: var(--colab-primary-surface-color, white);\n",
       "                }\n",
       "            </style>\n",
       "            "
      ],
      "text/plain": [
       "<IPython.core.display.HTML object>"
      ]
     },
     "metadata": {},
     "output_type": "display_data"
    },
    {
     "name": "stdout",
     "output_type": "stream",
     "text": [
      "Validation Metrics:\n",
      "Accuracy: 0.8302828618968386\n",
      "Precision: 0.9427860696517413\n",
      "Recall: 0.8275109170305677\n",
      "Kappa: 0.587547433861722\n"
     ]
    }
   ],
   "source": [
    "# Calculate metrics\n",
    "confusion_matrix = classified_val.errorMatrix(label_col, 'classification')\n",
    "val_accuracy = confusion_matrix.accuracy()\n",
    "precision = confusion_matrix.producersAccuracy().get([0, 0])  # Replace [0, 0] with the indices for the desired class if needed\n",
    "recall = confusion_matrix.consumersAccuracy().get([0, 0])     # Replace [0, 0] with the indices for the desired class if needed\n",
    "kappa = confusion_matrix.kappa()\n",
    "\n",
    "# Package all metrics into a single dictionary\n",
    "metrics = ee.Dictionary({\n",
    "    'Accuracy': val_accuracy,\n",
    "    'Precision': precision,\n",
    "    'Recall': recall,\n",
    "    'Kappa': kappa\n",
    "})\n",
    "\n",
    "# Retrieve all metrics in one call\n",
    "metrics_info = metrics.getInfo()\n",
    "\n",
    "# Print all metrics\n",
    "print('Validation Metrics:')\n",
    "print(f\"Accuracy: {metrics_info['Accuracy']}\")\n",
    "print(f\"Precision: {metrics_info['Precision']}\")\n",
    "print(f\"Recall: {metrics_info['Recall']}\")\n",
    "print(f\"Kappa: {metrics_info['Kappa']}\")"
   ]
  },
  {
   "cell_type": "markdown",
   "id": "BnOR_Ouk-CFv",
   "metadata": {
    "id": "BnOR_Ouk-CFv"
   },
   "source": [
    "## Run on test set"
   ]
  },
  {
   "cell_type": "markdown",
   "id": "YjIzJ6rR-mje",
   "metadata": {
    "id": "YjIzJ6rR-mje"
   },
   "source": [
    "Load August 2024 test image"
   ]
  },
  {
   "cell_type": "code",
   "execution_count": 37,
   "id": "cL9G2aPS-ba2",
   "metadata": {
    "id": "cL9G2aPS-ba2"
   },
   "outputs": [
    {
     "data": {
      "text/html": [
       "\n",
       "            <style>\n",
       "                .geemap-dark {\n",
       "                    --jp-widgets-color: white;\n",
       "                    --jp-widgets-label-color: white;\n",
       "                    --jp-ui-font-color1: white;\n",
       "                    --jp-layout-color2: #454545;\n",
       "                    background-color: #383838;\n",
       "                }\n",
       "\n",
       "                .geemap-dark .jupyter-button {\n",
       "                    --jp-layout-color3: #383838;\n",
       "                }\n",
       "\n",
       "                .geemap-colab {\n",
       "                    background-color: var(--colab-primary-surface-color, white);\n",
       "                }\n",
       "\n",
       "                .geemap-colab .jupyter-button {\n",
       "                    --jp-layout-color3: var(--colab-primary-surface-color, white);\n",
       "                }\n",
       "            </style>\n",
       "            "
      ],
      "text/plain": [
       "<IPython.core.display.HTML object>"
      ]
     },
     "metadata": {},
     "output_type": "display_data"
    }
   ],
   "source": [
    "# Define the region of interest (ROI)\n",
    "netherlands = ee.FeatureCollection(\"FAO/GAUL/2015/level0\") \\\n",
    "                .filter(ee.Filter.eq('ADM0_NAME', 'Luxembourg'))\n",
    "\n",
    "# Load Sentinel-2 Image Collection\n",
    "test_sentinel2 = ee.ImageCollection(\"COPERNICUS/S2_HARMONIZED\") \\\n",
    "             .filterBounds(netherlands.geometry()) \\\n",
    "             .filterDate('2024-08-01', '2024-08-31') \\\n",
    "             .filter(ee.Filter.lt('CLOUDY_PIXEL_PERCENTAGE', 10))\n",
    "\n",
    "# Create a median composite to reduce cloud cover\n",
    "test_mosaic_image = sentinel2.median().clip(netherlands.geometry())\n",
    "\n",
    "# Add variables\n",
    "test_mosaic_image = make_s2_variables(test_mosaic_image)"
   ]
  },
  {
   "cell_type": "markdown",
   "id": "sx8nFANn-o_2",
   "metadata": {
    "id": "sx8nFANn-o_2"
   },
   "source": [
    "Sample small amount of pixels for testing"
   ]
  },
  {
   "cell_type": "code",
   "execution_count": 38,
   "id": "xjwC0pny-rJu",
   "metadata": {
    "id": "xjwC0pny-rJu"
   },
   "outputs": [
    {
     "data": {
      "text/html": [
       "\n",
       "            <style>\n",
       "                .geemap-dark {\n",
       "                    --jp-widgets-color: white;\n",
       "                    --jp-widgets-label-color: white;\n",
       "                    --jp-ui-font-color1: white;\n",
       "                    --jp-layout-color2: #454545;\n",
       "                    background-color: #383838;\n",
       "                }\n",
       "\n",
       "                .geemap-dark .jupyter-button {\n",
       "                    --jp-layout-color3: #383838;\n",
       "                }\n",
       "\n",
       "                .geemap-colab {\n",
       "                    background-color: var(--colab-primary-surface-color, white);\n",
       "                }\n",
       "\n",
       "                .geemap-colab .jupyter-button {\n",
       "                    --jp-layout-color3: var(--colab-primary-surface-color, white);\n",
       "                }\n",
       "            </style>\n",
       "            "
      ],
      "text/plain": [
       "<IPython.core.display.HTML object>"
      ]
     },
     "metadata": {},
     "output_type": "display_data"
    }
   ],
   "source": [
    "CLC = ee.Image('COPERNICUS/CORINE/V20/100m/2018').select('landcover').clip(test_mosaic_image.geometry())\n",
    "test_lc_points = CLC.sample(\n",
    "    **{\n",
    "        'region': test_mosaic_image.geometry(),\n",
    "        'scale': 30, #check what the resolution of corine land cover is\n",
    "        'numPixels': 10000,\n",
    "        'seed': 0,\n",
    "        'geometries': True,  # Set this to False to ignore geometries\n",
    "    }\n",
    ")\n",
    "test_lc_reference_pts = test_lc_points.map(generalize_clc_class) # Make sure to reclassify\n",
    "\n",
    "test_data = test_mosaic_image.select(img_bands).sampleRegions(\n",
    "    **{'collection': test_lc_reference_pts, 'properties': [label_col], 'scale': 100}\n",
    ")"
   ]
  },
  {
   "cell_type": "markdown",
   "id": "LxwRLRfN-zD9",
   "metadata": {
    "id": "LxwRLRfN-zD9"
   },
   "source": [
    "Test set metrics"
   ]
  },
  {
   "cell_type": "code",
   "execution_count": 39,
   "id": "T9eLm7JA-0HB",
   "metadata": {
    "id": "T9eLm7JA-0HB"
   },
   "outputs": [
    {
     "data": {
      "text/html": [
       "\n",
       "            <style>\n",
       "                .geemap-dark {\n",
       "                    --jp-widgets-color: white;\n",
       "                    --jp-widgets-label-color: white;\n",
       "                    --jp-ui-font-color1: white;\n",
       "                    --jp-layout-color2: #454545;\n",
       "                    background-color: #383838;\n",
       "                }\n",
       "\n",
       "                .geemap-dark .jupyter-button {\n",
       "                    --jp-layout-color3: #383838;\n",
       "                }\n",
       "\n",
       "                .geemap-colab {\n",
       "                    background-color: var(--colab-primary-surface-color, white);\n",
       "                }\n",
       "\n",
       "                .geemap-colab .jupyter-button {\n",
       "                    --jp-layout-color3: var(--colab-primary-surface-color, white);\n",
       "                }\n",
       "            </style>\n",
       "            "
      ],
      "text/plain": [
       "<IPython.core.display.HTML object>"
      ]
     },
     "metadata": {},
     "output_type": "display_data"
    },
    {
     "name": "stdout",
     "output_type": "stream",
     "text": [
      "Validation Metrics:\n",
      "Accuracy: 0.9283\n",
      "Precision: 0.9593205185516317\n",
      "Recall: 0.9605012867852747\n",
      "Kappa: 0.6209046600069962\n"
     ]
    }
   ],
   "source": [
    "classified_test = test_data.classify(trained_classifier)\n",
    "\n",
    "# Calculate the confusion matrix and server-side metrics\n",
    "confusion_matrix = classified_test.errorMatrix(label_col, 'classification')\n",
    "test_accuracy = confusion_matrix.accuracy()\n",
    "precision = confusion_matrix.producersAccuracy().get([0, 0])  # Replace [0, 0] with the indices for the desired class if needed\n",
    "recall = confusion_matrix.consumersAccuracy().get([0, 0])     # Replace [0, 0] with the indices for the desired class if needed\n",
    "kappa = confusion_matrix.kappa()\n",
    "\n",
    "# Package all metrics into a single dictionary\n",
    "metrics = ee.Dictionary({\n",
    "    'Accuracy': test_accuracy,\n",
    "    'Precision': precision,\n",
    "    'Recall': recall,\n",
    "    'Kappa': kappa\n",
    "})\n",
    "\n",
    "# Retrieve all metrics in one call\n",
    "metrics_info = metrics.getInfo()\n",
    "\n",
    "# Print all metrics\n",
    "print('Validation Metrics:')\n",
    "print(f\"Accuracy: {metrics_info['Accuracy']}\")\n",
    "print(f\"Precision: {metrics_info['Precision']}\")\n",
    "print(f\"Recall: {metrics_info['Recall']}\")\n",
    "print(f\"Kappa: {metrics_info['Kappa']}\")"
   ]
  },
  {
   "cell_type": "markdown",
   "id": "ZMXJCmTj-9YV",
   "metadata": {
    "id": "ZMXJCmTj-9YV"
   },
   "source": [
    "Run classifier on entire test image"
   ]
  },
  {
   "cell_type": "code",
   "execution_count": 40,
   "id": "waPHnNLv-76V",
   "metadata": {
    "id": "waPHnNLv-76V"
   },
   "outputs": [
    {
     "data": {
      "text/html": [
       "\n",
       "            <style>\n",
       "                .geemap-dark {\n",
       "                    --jp-widgets-color: white;\n",
       "                    --jp-widgets-label-color: white;\n",
       "                    --jp-ui-font-color1: white;\n",
       "                    --jp-layout-color2: #454545;\n",
       "                    background-color: #383838;\n",
       "                }\n",
       "\n",
       "                .geemap-dark .jupyter-button {\n",
       "                    --jp-layout-color3: #383838;\n",
       "                }\n",
       "\n",
       "                .geemap-colab {\n",
       "                    background-color: var(--colab-primary-surface-color, white);\n",
       "                }\n",
       "\n",
       "                .geemap-colab .jupyter-button {\n",
       "                    --jp-layout-color3: var(--colab-primary-surface-color, white);\n",
       "                }\n",
       "            </style>\n",
       "            "
      ],
      "text/plain": [
       "<IPython.core.display.HTML object>"
      ]
     },
     "metadata": {},
     "output_type": "display_data"
    },
    {
     "data": {
      "application/vnd.jupyter.widget-view+json": {
       "model_id": "2ad623644ac342c2a5c5b7c1eab7e8ee",
       "version_major": 2,
       "version_minor": 0
      },
      "text/plain": [
       "Map(center=[51.37, 4.999999999999999], controls=(WidgetControl(options=['position', 'transparent_bg'], widget=…"
      ]
     },
     "execution_count": 40,
     "metadata": {},
     "output_type": "execute_result"
    }
   ],
   "source": [
    "# Classify the test image\n",
    "classified_image = test_mosaic_image.classify(trained_classifier)\n",
    "\n",
    "# Define the color mapping dictionary\n",
    "clc_colors = {\n",
    "    0: '#FFFFFF', # Rural\n",
    "    1: '#000000', # Urban\n",
    "}\n",
    "\n",
    "# Convert string labels to numeric codes\n",
    "def classify_to_numeric(image):\n",
    "    # Create a dictionary that maps string labels to numeric values\n",
    "    label_to_numeric = {label: index for index, label in enumerate(clc_colors.keys())}\n",
    "\n",
    "    # Convert string label to numeric value\n",
    "    return image.remap(\n",
    "        list(label_to_numeric.keys()),\n",
    "        list(label_to_numeric.values())\n",
    "    )\n",
    "\n",
    "# Convert the classified image\n",
    "numeric_classified_image = classify_to_numeric(classified_image)\n",
    "\n",
    "# Generate a palette for visualization\n",
    "palette = [clc_colors[label] for label in clc_colors.keys()]\n",
    "\n",
    "# Add the numeric classified image to the map\n",
    "map.addLayer(numeric_classified_image, {'palette': palette, 'min': 0, 'max': len(clc_colors) - 1}, 'Classified Image')\n",
    "map"
   ]
  },
  {
   "cell_type": "code",
   "execution_count": 41,
   "id": "p-rnLVS8-bdZ",
   "metadata": {
    "id": "p-rnLVS8-bdZ"
   },
   "outputs": [
    {
     "data": {
      "text/html": [
       "\n",
       "            <style>\n",
       "                .geemap-dark {\n",
       "                    --jp-widgets-color: white;\n",
       "                    --jp-widgets-label-color: white;\n",
       "                    --jp-ui-font-color1: white;\n",
       "                    --jp-layout-color2: #454545;\n",
       "                    background-color: #383838;\n",
       "                }\n",
       "\n",
       "                .geemap-dark .jupyter-button {\n",
       "                    --jp-layout-color3: #383838;\n",
       "                }\n",
       "\n",
       "                .geemap-colab {\n",
       "                    background-color: var(--colab-primary-surface-color, white);\n",
       "                }\n",
       "\n",
       "                .geemap-colab .jupyter-button {\n",
       "                    --jp-layout-color3: var(--colab-primary-surface-color, white);\n",
       "                }\n",
       "            </style>\n",
       "            "
      ],
      "text/plain": [
       "<IPython.core.display.HTML object>"
      ]
     },
     "metadata": {},
     "output_type": "display_data"
    },
    {
     "data": {
      "application/vnd.jupyter.widget-view+json": {
       "model_id": "22c88ff1bebd46198ed0d15e024120e6",
       "version_major": 2,
       "version_minor": 0
      },
      "text/plain": [
       "Map(center=[51.37, 4.999999999999999], controls=(WidgetControl(options=['position', 'transparent_bg'], widget=…"
      ]
     },
     "execution_count": 41,
     "metadata": {},
     "output_type": "execute_result"
    }
   ],
   "source": [
    "point = ee.Geometry.Point([5.0, 51.37])\n",
    "bands = ['B4', 'B3', 'B2'] # Fill in this list yourself\n",
    "vis_params = {'max': 3000, 'bands':bands} # Limit upper range so you can see detail\n",
    "\n",
    "map = geemap.Map(height=800,width=700,center=[52.37,4.5],zoom=7)\n",
    "map.centerObject(point, 8)\n",
    "map.addLayer(test_mosaic_image, vis_params, \"test-Sentinel-2_2024\")\n",
    "map"
   ]
  },
  {
   "cell_type": "markdown",
   "id": "LPkrvHduHyDh",
   "metadata": {
    "id": "LPkrvHduHyDh"
   },
   "source": [
    "Load computed layer to local environment"
   ]
  },
  {
   "cell_type": "code",
   "execution_count": 42,
   "id": "m1FjLJVzH2Zt",
   "metadata": {
    "id": "m1FjLJVzH2Zt"
   },
   "outputs": [
    {
     "data": {
      "text/html": [
       "\n",
       "            <style>\n",
       "                .geemap-dark {\n",
       "                    --jp-widgets-color: white;\n",
       "                    --jp-widgets-label-color: white;\n",
       "                    --jp-ui-font-color1: white;\n",
       "                    --jp-layout-color2: #454545;\n",
       "                    background-color: #383838;\n",
       "                }\n",
       "\n",
       "                .geemap-dark .jupyter-button {\n",
       "                    --jp-layout-color3: #383838;\n",
       "                }\n",
       "\n",
       "                .geemap-colab {\n",
       "                    background-color: var(--colab-primary-surface-color, white);\n",
       "                }\n",
       "\n",
       "                .geemap-colab .jupyter-button {\n",
       "                    --jp-layout-color3: var(--colab-primary-surface-color, white);\n",
       "                }\n",
       "            </style>\n",
       "            "
      ],
      "text/plain": [
       "<IPython.core.display.HTML object>"
      ]
     },
     "metadata": {},
     "output_type": "display_data"
    },
    {
     "name": "stdout",
     "output_type": "stream",
     "text": [
      "Generating URL ...\n",
      "Downloading data from https://earthengine.googleapis.com/v1/projects/proj-gis-1234/thumbnails/b7555458ba76e1713bf16d9bb30011ed-50ef1678dd59a39ff576ec1ccb0c387e:getPixels\n",
      "Please wait ...\n",
      "Data downloaded to C:\\projects\\UNIGIS_ProgrammingGIS\\TAA4\\urban_rural_raster.tif\n"
     ]
    }
   ],
   "source": [
    "geemap.ee_export_image(classified_image, filename='urban_rural_raster.tif', scale=1000, file_per_band=False)\n",
    "urban_raster = rio.open('urban_rural_raster.tif')"
   ]
  },
  {
   "cell_type": "markdown",
   "id": "309a00a2-8aa1-4091-b575-31d56622fd16",
   "metadata": {},
   "source": [
    "## 3. Overlay urban and rural classification with population and Healthcare information"
   ]
  },
  {
   "cell_type": "markdown",
   "id": "7055a7db-636f-4a56-a954-62ed2546328e",
   "metadata": {},
   "source": [
    "1 is urban, 0 is rural"
   ]
  },
  {
   "cell_type": "code",
   "execution_count": 53,
   "id": "f456e034-5e81-4d99-9093-0380af66e8f9",
   "metadata": {},
   "outputs": [
    {
     "data": {
      "text/html": [
       "\n",
       "            <style>\n",
       "                .geemap-dark {\n",
       "                    --jp-widgets-color: white;\n",
       "                    --jp-widgets-label-color: white;\n",
       "                    --jp-ui-font-color1: white;\n",
       "                    --jp-layout-color2: #454545;\n",
       "                    background-color: #383838;\n",
       "                }\n",
       "\n",
       "                .geemap-dark .jupyter-button {\n",
       "                    --jp-layout-color3: #383838;\n",
       "                }\n",
       "\n",
       "                .geemap-colab {\n",
       "                    background-color: var(--colab-primary-surface-color, white);\n",
       "                }\n",
       "\n",
       "                .geemap-colab .jupyter-button {\n",
       "                    --jp-layout-color3: var(--colab-primary-surface-color, white);\n",
       "                }\n",
       "            </style>\n",
       "            "
      ],
      "text/plain": [
       "<IPython.core.display.HTML object>"
      ]
     },
     "metadata": {},
     "output_type": "display_data"
    }
   ],
   "source": [
    "urban_rural = xr.open_dataarray('urban_rural_raster.tif')\n",
    "\n",
    "values = urban_rural.sel(\n",
    "                {\n",
    "                    urban_rural.rio.x_dim: xr.DataArray(df_worldpop_.geometry.x),\n",
    "                    urban_rural.rio.y_dim: xr.DataArray(df_worldpop_.geometry.y),\n",
    "                },\n",
    "                method=\"nearest\",\n",
    "            ).values[0]\n",
    "df_worldpop_[\"urban_rural\"] = values\n",
    "df_worldpop_[\"urban_rural\"] = df_worldpop_[\"urban_rural\"].fillna(0)"
   ]
  },
  {
   "cell_type": "markdown",
   "id": "573f10a4-d0bb-4675-903f-71ffbe45358f",
   "metadata": {
    "id": "573f10a4-d0bb-4675-903f-71ffbe45358f"
   },
   "source": [
    "## 4. Clustering of Healthcare centres and population"
   ]
  },
  {
   "cell_type": "code",
   "execution_count": null,
   "id": "09511e34-85cc-43f8-b994-a5d3f53431c2",
   "metadata": {
    "id": "09511e34-85cc-43f8-b994-a5d3f53431c2"
   },
   "outputs": [],
   "source": [
    "### 1st step: Add Local_ID to the HealthCenters_centroids GeoDataFrame\n",
    "HealthCenters_centroids['Local_ID'] = range(1, len(HealthCenters_centroids) + 1)\n",
    "\n",
    "# 2nd step Ensure both GeoDataFrames are in the same CRS (EPSG:4326)\n",
    "HealthCenters_centroids = HealthCenters_centroids.to_crs(epsg=4326)\n",
    "\n",
    "# Convert geometries to a list of coordinates (for KMeans)\n",
    "pop_coords = np.array([(geom.x, geom.y) for geom in df_worldpop_['geometry']])\n",
    "pop_band_data = df_worldpop_['band_data'].values\n",
    "\n",
    "# Extract the hospital coordinates\n",
    "hospital_coords = np.array([(geom.x, geom.y) for geom in HealthCenters_centroids['geometry']])\n",
    "hospital_local_ids = HealthCenters_centroids['Local_ID'].values\n",
    "hospital_geometries = HealthCenters_centroids['geometry'].values\n",
    "\n",
    "### 3rd step 3: K-Means\n",
    "kmeans = KMeans(n_clusters=len(hospital_coords), random_state=random_seed, init=hospital_coords, n_init=1)  # is using hospital locations as initial centers\n",
    "df_worldpop_['cluster'] = kmeans.fit_predict(pop_coords)\n",
    "\n",
    "# get cluster centers (latitude and longitude)\n",
    "cluster_centers = kmeans.cluster_centers_\n",
    "\n",
    "### 4th step: calculate the sum of population in each cluster\n",
    "df_worldpop_['cluster_population'] = df_worldpop_.groupby('cluster')['band_data'].transform('sum')\n",
    "\n",
    "# Create a new DataFrame for clusters and their population sums\n",
    "clusters_df = pd.DataFrame({\n",
    "    'cluster': range(len(cluster_centers)),\n",
    "    'geometry': [Point(x, y) for x, y in cluster_centers],\n",
    "    'population': df_worldpop_.groupby('cluster')['band_data'].sum().values\n",
    "})\n",
    "\n",
    "### 5th step: assign the nearest hospital to the related cluster\n",
    "# distances between each cluster center and each health facility center\n",
    "distances = cdist(cluster_centers, hospital_coords, metric='euclidean')\n",
    "\n",
    "# the index of the nearest hospital for each cluster\n",
    "nearest_hospital_idx = distances.argmin(axis=1)\n",
    "\n",
    "# assign the nearest hospital Local_ID and geometry to each cluster center\n",
    "clusters_df['nearest_hospital_local_id'] = [hospital_local_ids[idx] for idx in nearest_hospital_idx]\n",
    "clusters_df['nearest_hospital_geometry'] = [hospital_geometries[idx] for idx in nearest_hospital_idx]\n",
    "\n",
    "### 6th step: convert to GeoDataFrame and set CRS\n",
    "clusters_gdf = gpd.GeoDataFrame(clusters_df, geometry='geometry')\n",
    "clusters_gdf.set_crs(epsg=4326, inplace=True)\n",
    "\n",
    "# check the content of the resutled clusters dataframe\n",
    "clusters_gdf"
   ]
  },
  {
   "cell_type": "markdown",
   "id": "5299738d-567d-4473-aaa2-095dede18b92",
   "metadata": {
    "id": "5299738d-567d-4473-aaa2-095dede18b92"
   },
   "source": [
    "## 5. Explore and evaluate baseline results\n",
    "\n",
    "### Plot clusters"
   ]
  },
  {
   "cell_type": "code",
   "execution_count": null,
   "id": "4735e1af-5573-4baf-83d7-6644ac7a3ad5",
   "metadata": {
    "id": "4735e1af-5573-4baf-83d7-6644ac7a3ad5"
   },
   "outputs": [],
   "source": [
    "clusters_gdf['x'] = clusters_gdf.geometry.x\n",
    "clusters_gdf['y'] = clusters_gdf.geometry.y\n",
    "\n",
    "\n",
    "HealthCenters_centroids['x'] = HealthCenters_centroids.geometry.x\n",
    "HealthCenters_centroids['y'] = HealthCenters_centroids.geometry.y\n",
    "\n",
    "\n",
    "fig, ax = plt.subplots(figsize=(10, 8))\n",
    "\n",
    "\n",
    "ax.scatter(clusters_gdf['x'], clusters_gdf['y'], color='black', marker='o', s=20, label='Cluster Centers')\n",
    "\n",
    "\n",
    "for x, y, label in zip(clusters_gdf['x'], clusters_gdf['y'], clusters_gdf['cluster']):\n",
    "    ax.text(x, y, str(label), fontsize=12, color='k')\n",
    "\n",
    "ax.scatter(HealthCenters_centroids['x'], HealthCenters_centroids['y'], color='red', marker='+', s=100, label='Hospitals')\n",
    "\n",
    "\n",
    "plt.title(\"Cluster Centers with their IDs and Hospital Locations\")\n",
    "plt.xlabel(\"Longitude\")\n",
    "plt.ylabel(\"Latitude\")\n",
    "plt.legend()\n",
    "plt.show()\n"
   ]
  },
  {
   "cell_type": "markdown",
   "id": "e3d8e5a3-ffa1-4b1a-a3e6-0e569346a78c",
   "metadata": {
    "id": "e3d8e5a3-ffa1-4b1a-a3e6-0e569346a78c"
   },
   "source": [
    "### Identify and plot population per healthcare facility"
   ]
  },
  {
   "cell_type": "code",
   "execution_count": null,
   "id": "dc10ce38-c177-4925-a677-82c5770e9034",
   "metadata": {
    "id": "dc10ce38-c177-4925-a677-82c5770e9034"
   },
   "outputs": [],
   "source": [
    "# to calculate the total population in demand of services from each hospital\n",
    "hospital_population = clusters_gdf.groupby('nearest_hospital_local_id')['population'].sum().reset_index()\n",
    "\n",
    "hospital_population_merged = HealthCenters_centroids.merge(hospital_population, left_on='Local_ID', right_on='nearest_hospital_local_id', how='left')\n",
    "\n",
    "hospital_population_merged[['Local_ID', 'population']].sort_values('population',ascending=False).dropna()"
   ]
  },
  {
   "cell_type": "markdown",
   "id": "12b83859-6dfc-4b28-8fd6-297b66ed737a",
   "metadata": {
    "id": "12b83859-6dfc-4b28-8fd6-297b66ed737a",
    "scrolled": true
   },
   "source": [
    "hospital_population_merged.plot('population')"
   ]
  },
  {
   "cell_type": "code",
   "execution_count": null,
   "id": "bb07e73c-84a2-466f-a644-4fa313b82dec",
   "metadata": {
    "id": "bb07e73c-84a2-466f-a644-4fa313b82dec"
   },
   "outputs": [],
   "source": [
    "assigned_hospitals = clusters_gdf['nearest_hospital_local_id'].unique()\n",
    "\n",
    "unassigned_hospitals = HealthCenters_centroids[~HealthCenters_centroids['Local_ID'].isin(assigned_hospitals)]\n",
    "\n",
    "if unassigned_hospitals.empty:\n",
    "    print(\"All hospitals are assigned to at least one cluster.\")\n",
    "else:\n",
    "    print(\"following hospitals are not assigned to any cluster:\")\n",
    "    print(unassigned_hospitals[['Local_ID', 'geometry']])"
   ]
  },
  {
   "cell_type": "markdown",
   "id": "033c1875-c35a-4a76-8e80-1a364b5d1d1d",
   "metadata": {
    "id": "033c1875-c35a-4a76-8e80-1a364b5d1d1d"
   },
   "source": [
    "### Assess distance to hospital from each population grid"
   ]
  },
  {
   "cell_type": "code",
   "execution_count": null,
   "id": "281204e5-8a50-4225-9521-3313a1bbf3ba",
   "metadata": {
    "id": "281204e5-8a50-4225-9521-3313a1bbf3ba"
   },
   "outputs": [],
   "source": []
  },
  {
   "cell_type": "markdown",
   "id": "3740a61b-f60c-427c-aab5-6e6e552dc57d",
   "metadata": {
    "id": "3740a61b-f60c-427c-aab5-6e6e552dc57d"
   },
   "source": [
    "## 6. Natural hazard disruption"
   ]
  },
  {
   "cell_type": "markdown",
   "id": "52d30a9c-2515-4aff-ae5f-9a15cd343061",
   "metadata": {
    "id": "52d30a9c-2515-4aff-ae5f-9a15cd343061"
   },
   "source": [
    "### Download flood data\n",
    "The flood data we will extract from a repository maintained by the European Commission Joint Research Centre. We will download river flood hazard maps from their [Flood Data Collection](https://data.jrc.ec.europa.eu/dataset/1d128b6c-a4ee-4858-9e34-6210707f3c81).\n",
    "\n",
    "Here we do not need to use an API and we also do not need to register ourselves, so we can download any of the files directly. To do so, we use the `urllib` package."
   ]
  },
  {
   "cell_type": "code",
   "execution_count": null,
   "id": "47875fb5-c347-4ef7-bd27-ee0ef75f29af",
   "metadata": {
    "id": "47875fb5-c347-4ef7-bd27-ee0ef75f29af"
   },
   "outputs": [],
   "source": [
    "## this is the link to the 1/100 flood map for Europe\n",
    "zipurl = 'https://jeodpp.jrc.ec.europa.eu/ftp/jrc-opendata/FLOODS/EuropeanMaps/floodMap_RP100.zip'\n",
    "\n",
    "# The path where the downloaded flood map will be extracted, this is the folder of this Google Collaboratory instance. NOTE: a new instance will have this directory be cleared.\n",
    "data_path = \"\"\n",
    "\n",
    "# and now we open and extract the data\n",
    "with urlopen(zipurl) as zipresp:\n",
    "    with ZipFile(BytesIO(zipresp.read())) as zfile:\n",
    "        zfile.extractall(data_path)"
   ]
  },
  {
   "cell_type": "markdown",
   "id": "b0ff5f7a-fc94-4429-82bb-2a94da72a887",
   "metadata": {
    "id": "b0ff5f7a-fc94-4429-82bb-2a94da72a887"
   },
   "source": [
    "### Overlay flood data with population centroids"
   ]
  },
  {
   "cell_type": "code",
   "execution_count": null,
   "id": "e73f0bce-ad12-4be5-acbb-33dd7e2fa18d",
   "metadata": {
    "id": "e73f0bce-ad12-4be5-acbb-33dd7e2fa18d"
   },
   "outputs": [],
   "source": [
    "flood_map_path = \"floodmap_EFAS_RP100_C.tif\""
   ]
  },
  {
   "cell_type": "code",
   "execution_count": null,
   "id": "28d110b6-0ef4-41c6-acb2-8673597decd2",
   "metadata": {
    "id": "28d110b6-0ef4-41c6-acb2-8673597decd2"
   },
   "outputs": [],
   "source": [
    "flood_map = xr.open_dataset(flood_map_path, engine=\"rasterio\")\n",
    "flood_map"
   ]
  },
  {
   "cell_type": "markdown",
   "id": "399149ac-8ee4-4459-971e-9a2003ab4b4e",
   "metadata": {
    "id": "399149ac-8ee4-4459-971e-9a2003ab4b4e"
   },
   "source": [
    "### Overlay flood data with healthcare facilities"
   ]
  },
  {
   "cell_type": "code",
   "execution_count": null,
   "id": "024a09f7-6f1c-4e15-a810-cf407daa2a48",
   "metadata": {
    "id": "024a09f7-6f1c-4e15-a810-cf407daa2a48"
   },
   "outputs": [],
   "source": [
    "def _get_damage_per_object(asset, curves, cell_area_m2):\n",
    "    \"\"\"\n",
    "    Calculate damage for a given asset based on hazard information.\n",
    "    Arguments:\n",
    "        *asset*: Tuple containing information about the asset. It includes:\n",
    "            - Index or identifier of the asset (asset[0]).\n",
    "            - Asset-specific information, including hazard points (asset[1]['hazard_point']).\n",
    "        *maxdam_dict*: Maximum damage value.\n",
    "    Returns:\n",
    "        *tuple*: A tuple containing the asset index or identifier and the calculated damage.\n",
    "    \"\"\"\n",
    "\n",
    "    if asset.geometry.geom_type in (\"Polygon\", \"MultiPolygon\"):\n",
    "        coverage = asset[\"coverage\"] * cell_area_m2\n",
    "    elif asset.geometry.geom_type in (\"LineString\", \"MultiLineString\"):\n",
    "        coverage = asset[\"coverage\"]\n",
    "    elif asset.geometry.geom_type in (\"Point\"):\n",
    "        coverage = 1\n",
    "    else:\n",
    "        raise ValueError(f\"Geometry type {asset.geometry.geom_type} not supported\")\n",
    "\n",
    "    return (\n",
    "        np.sum(\n",
    "            np.interp(\n",
    "                asset[\"values\"], curves.index, curves[asset[\"amenity\"]].values\n",
    "            )\n",
    "            * coverage\n",
    "        )\n",
    "        * asset[\"maximum_damage\"]\n",
    "    )"
   ]
  },
  {
   "cell_type": "code",
   "execution_count": null,
   "id": "48ec7696-a117-4302-9276-ac37fa369cd2",
   "metadata": {
    "id": "48ec7696-a117-4302-9276-ac37fa369cd2"
   },
   "outputs": [],
   "source": [
    "maxdam = {\"hospital\":2000,\n",
    "        \"clinic\":1500,\n",
    "}\n",
    "\n",
    "curves = np.array(\n",
    "            [[0,0],\n",
    "            [50,0.2],\n",
    "            [100,0.4],\n",
    "            [150,0.6],\n",
    "            [200,0.8],\n",
    "            [250,1]])\n",
    "\n",
    "curves = np.concatenate((curves,\n",
    "                            np.transpose(np.array([curves[:,1]]*(len(maxdam)-1)))),\n",
    "                           axis=1)\n",
    "\n",
    "curves = pd.DataFrame(curves)\n",
    "curves.columns = ['depth']+list(maxdam.keys())\n",
    "curves.set_index('depth',inplace=True)"
   ]
  },
  {
   "cell_type": "code",
   "execution_count": null,
   "id": "26e1e323-d30b-4e40-8a89-a25d1e475234",
   "metadata": {
    "id": "26e1e323-d30b-4e40-8a89-a25d1e475234",
    "scrolled": true
   },
   "outputs": [],
   "source": [
    "values_and_coverage_per_object = exact_extract(\n",
    "            flood_map,\n",
    "            HealthCenters,\n",
    "            [\"coverage\", \"values\"],\n",
    "            output=\"pandas\",\n",
    "        )"
   ]
  },
  {
   "cell_type": "code",
   "execution_count": null,
   "id": "811245a1-d794-4b0d-b604-1d31c2507d97",
   "metadata": {
    "id": "811245a1-d794-4b0d-b604-1d31c2507d97"
   },
   "outputs": [],
   "source": [
    "HealthCenters = HealthCenters.merge(values_and_coverage_per_object,left_index=True,right_index=True)\n"
   ]
  },
  {
   "cell_type": "code",
   "execution_count": null,
   "id": "115d6cc9-aeb9-4497-9c0e-78f7c8ef19b8",
   "metadata": {
    "id": "115d6cc9-aeb9-4497-9c0e-78f7c8ef19b8"
   },
   "outputs": [],
   "source": [
    "HealthCenters['maximum_damage'] = HealthCenters.amenity.apply(lambda x: maxdam[x])"
   ]
  },
  {
   "cell_type": "code",
   "execution_count": null,
   "id": "291a4fba-40c1-4397-a7f2-8b1665ca7ef5",
   "metadata": {
    "id": "291a4fba-40c1-4397-a7f2-8b1665ca7ef5"
   },
   "outputs": [],
   "source": [
    "HealthCenters['damage'] = HealthCenters.apply(\n",
    "        lambda _object: _get_damage_per_object(_object, curves, cell_area_m2=100*100),\n",
    "        axis=1,\n",
    "    )"
   ]
  },
  {
   "cell_type": "code",
   "execution_count": null,
   "id": "913f9757-3151-46f9-9427-f54fa58d8beb",
   "metadata": {
    "id": "913f9757-3151-46f9-9427-f54fa58d8beb"
   },
   "outputs": [],
   "source": [
    "damage"
   ]
  },
  {
   "cell_type": "markdown",
   "id": "af40b670-4810-473b-81d8-7466852d85a1",
   "metadata": {
    "id": "af40b670-4810-473b-81d8-7466852d85a1"
   },
   "source": [
    "### Recompute clustering without affected healthcare facilities"
   ]
  },
  {
   "cell_type": "code",
   "execution_count": null,
   "id": "151a2c6a-9f28-41ad-a78c-38517e5545fd",
   "metadata": {
    "id": "151a2c6a-9f28-41ad-a78c-38517e5545fd"
   },
   "outputs": [],
   "source": []
  },
  {
   "cell_type": "markdown",
   "id": "160dafed-34d4-44c8-8d9d-aa44c8dfb621",
   "metadata": {
    "id": "160dafed-34d4-44c8-8d9d-aa44c8dfb621"
   },
   "source": [
    "## 7. Visualize and summarize final results"
   ]
  },
  {
   "cell_type": "markdown",
   "id": "c412b628-014e-41ba-8c41-0722098ad006",
   "metadata": {
    "id": "c412b628-014e-41ba-8c41-0722098ad006"
   },
   "source": [
    "- population affected (and changed distance / hospital allocation)\n",
    "- hospitals affected\n",
    "- differences in urban and rural accessibility"
   ]
  },
  {
   "cell_type": "code",
   "execution_count": null,
   "id": "9463fcad-2b88-44c7-9389-8c7c9a94cbf4",
   "metadata": {
    "id": "9463fcad-2b88-44c7-9389-8c7c9a94cbf4"
   },
   "outputs": [],
   "source": []
  }
 ],
 "metadata": {
  "colab": {
   "collapsed_sections": [
    "573f10a4-d0bb-4675-903f-71ffbe45358f",
    "5299738d-567d-4473-aaa2-095dede18b92"
   ],
   "provenance": []
  },
  "kernelspec": {
   "display_name": "Python 3 (ipykernel)",
   "language": "python",
   "name": "python3"
  },
  "language_info": {
   "codemirror_mode": {
    "name": "ipython",
    "version": 3
   },
   "file_extension": ".py",
   "mimetype": "text/x-python",
   "name": "python",
   "nbconvert_exporter": "python",
   "pygments_lexer": "ipython3",
   "version": "3.12.3"
  }
 },
 "nbformat": 4,
 "nbformat_minor": 5
}
