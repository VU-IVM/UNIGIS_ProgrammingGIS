{
 "cells": [
  {
   "cell_type": "markdown",
   "id": "ee037ada-1068-4f35-91ae-30c2ea52ca01",
   "metadata": {
    "id": "ee037ada-1068-4f35-91ae-30c2ea52ca01"
   },
   "source": [
    "# TAA4: Accessibility to healthcare facilities"
   ]
  },
  {
   "cell_type": "markdown",
   "id": "c6036316-479d-4438-b9e7-e31cf7e9051c",
   "metadata": {
    "id": "c6036316-479d-4438-b9e7-e31cf7e9051c"
   },
   "source": [
    "[explain assignment]\n",
    "\n",
    "### Important before we start\n",
    "---\n",
    "Make sure that you save this file before you continue, else you will lose everything. To do so, go to **Bestand/File** and click on **Een kopie opslaan in Drive/Save a Copy on Drive**!"
   ]
  },
  {
   "cell_type": "markdown",
   "id": "75f3efb3-f86a-443e-b87a-22653c771143",
   "metadata": {
    "id": "75f3efb3-f86a-443e-b87a-22653c771143"
   },
   "source": [
    "## Learning Objectives\n",
    "<hr>\n"
   ]
  },
  {
   "cell_type": "markdown",
   "id": "59d989b6-9cc8-4a39-a17b-c96c463711dd",
   "metadata": {
    "id": "59d989b6-9cc8-4a39-a17b-c96c463711dd"
   },
   "source": [
    "## Prepare the packages\n",
    "<hr>"
   ]
  },
  {
   "cell_type": "code",
   "execution_count": null,
   "id": "b06c7b0f-2f83-4f86-ab73-0e8d889bd164",
   "metadata": {
    "id": "b06c7b0f-2f83-4f86-ab73-0e8d889bd164"
   },
   "outputs": [],
   "source": [
    "!pip install rasterio\n",
    "!pip install rioxarray\n",
    "!pip install contextily\n",
    "!pip install osm_flex"
   ]
  },
  {
   "cell_type": "markdown",
   "id": "bee1cfab-03df-433e-913e-62de5c0076f4",
   "metadata": {
    "id": "bee1cfab-03df-433e-913e-62de5c0076f4"
   },
   "source": [
    "Now we will import these packages in the cell below:"
   ]
  },
  {
   "cell_type": "code",
   "execution_count": 2,
   "id": "ffc10f5f-a43d-4f8f-91b1-ac7afc347ab4",
   "metadata": {
    "id": "ffc10f5f-a43d-4f8f-91b1-ac7afc347ab4"
   },
   "outputs": [],
   "source": [
    "import os,sys\n",
    "import requests\n",
    "import shapely\n",
    "import random\n",
    "import sklearn\n",
    "\n",
    "import xarray as xr\n",
    "import rioxarray as rxr\n",
    "import pandas as pd\n",
    "import geopandas as gpd\n",
    "import numpy as np\n",
    "import matplotlib.pyplot as plt\n",
    "import contextily as cx\n",
    "import rasterio as rio\n",
    "\n",
    "from pathlib import Path\n",
    "from rasterio.enums import Resampling\n",
    "from sklearn.cluster import KMeans\n",
    "from shapely.geometry import Point\n",
    "from scipy.spatial.distance import cdist\n",
    "from osm_flex import download\n",
    "from zipfile import ZipFile\n",
    "from io import BytesIO\n",
    "from urllib.request import urlopen\n",
    "from datetime import datetime\n",
    "from tqdm import tqdm # fancy progress bar package\n",
    "from IPython.display import clear_output\n",
    "\n",
    "\n",
    "from sklearn.ensemble import RandomForestClassifier\n",
    "\n",
    "import ee\n",
    "import geemap\n",
    "import matplotlib.pyplot as plt"
   ]
  },
  {
   "cell_type": "markdown",
   "id": "bb50fef4-f456-46ca-aff7-a838766fb127",
   "metadata": {
    "id": "bb50fef4-f456-46ca-aff7-a838766fb127"
   },
   "source": [
    "## 2. Data download and preparation\n",
    "\n",
    "Define a country of your interest and a size for gridding and a randomSeed"
   ]
  },
  {
   "cell_type": "code",
   "execution_count": 3,
   "id": "da8b4246-1b98-455c-89ce-999e21e5dd27",
   "metadata": {
    "id": "da8b4246-1b98-455c-89ce-999e21e5dd27"
   },
   "outputs": [
    {
     "data": {
      "text/html": [
       "\n",
       "            <style>\n",
       "                .geemap-dark {\n",
       "                    --jp-widgets-color: white;\n",
       "                    --jp-widgets-label-color: white;\n",
       "                    --jp-ui-font-color1: white;\n",
       "                    --jp-layout-color2: #454545;\n",
       "                    background-color: #383838;\n",
       "                }\n",
       "\n",
       "                .geemap-dark .jupyter-button {\n",
       "                    --jp-layout-color3: #383838;\n",
       "                }\n",
       "\n",
       "                .geemap-colab {\n",
       "                    background-color: var(--colab-primary-surface-color, white);\n",
       "                }\n",
       "\n",
       "                .geemap-colab .jupyter-button {\n",
       "                    --jp-layout-color3: var(--colab-primary-surface-color, white);\n",
       "                }\n",
       "            </style>\n",
       "            "
      ],
      "text/plain": [
       "<IPython.core.display.HTML object>"
      ]
     },
     "metadata": {},
     "output_type": "display_data"
    }
   ],
   "source": [
    "country_full_name = 'Luxembourg'\n",
    "country_iso3 = 'LUX'\n",
    "upscale_factor = 10 #Km\n",
    "random_seed= 1"
   ]
  },
  {
   "cell_type": "markdown",
   "id": "6d8c4878-9662-4de4-9c69-b9ec0af9cda3",
   "metadata": {
    "id": "6d8c4878-9662-4de4-9c69-b9ec0af9cda3"
   },
   "source": [
    "Download the population data"
   ]
  },
  {
   "cell_type": "code",
   "execution_count": 4,
   "id": "6eb55f91-caba-443b-a72b-688bce077b6b",
   "metadata": {
    "id": "6eb55f91-caba-443b-a72b-688bce077b6b"
   },
   "outputs": [
    {
     "data": {
      "text/html": [
       "\n",
       "            <style>\n",
       "                .geemap-dark {\n",
       "                    --jp-widgets-color: white;\n",
       "                    --jp-widgets-label-color: white;\n",
       "                    --jp-ui-font-color1: white;\n",
       "                    --jp-layout-color2: #454545;\n",
       "                    background-color: #383838;\n",
       "                }\n",
       "\n",
       "                .geemap-dark .jupyter-button {\n",
       "                    --jp-layout-color3: #383838;\n",
       "                }\n",
       "\n",
       "                .geemap-colab {\n",
       "                    background-color: var(--colab-primary-surface-color, white);\n",
       "                }\n",
       "\n",
       "                .geemap-colab .jupyter-button {\n",
       "                    --jp-layout-color3: var(--colab-primary-surface-color, white);\n",
       "                }\n",
       "            </style>\n",
       "            "
      ],
      "text/plain": [
       "<IPython.core.display.HTML object>"
      ]
     },
     "metadata": {},
     "output_type": "display_data"
    }
   ],
   "source": [
    "url = \"https://data.worldpop.org/GIS/Population/Global_2000_2020/2018/0_Mosaicked/ppp_2018_1km_Aggregated.tif\"\n",
    "\n",
    "file_name = 'ppp_2018_1km_Aggregated.tif'\n",
    "\n",
    "open(file_name, 'wb').write(requests.get(url).content)\n",
    "\n",
    "# file_name = \"C:\\\\Data\\\\Global_Geospatial\\\\worldpop\\\\ppp_2018_1km_Aggregated.tif\"\n",
    "\n",
    "\n",
    "world_pop_glob =xr.open_dataset(file_name,engine='rasterio')"
   ]
  },
  {
   "cell_type": "markdown",
   "id": "84d4cc8e-d8fc-495a-9337-bfb06958a553",
   "metadata": {
    "id": "84d4cc8e-d8fc-495a-9337-bfb06958a553"
   },
   "source": [
    "Download a file with country borders. We use Natural Earth."
   ]
  },
  {
   "cell_type": "code",
   "execution_count": 5,
   "id": "36d356c0-167b-4d4c-bfa1-67e6f3dfee46",
   "metadata": {
    "id": "36d356c0-167b-4d4c-bfa1-67e6f3dfee46"
   },
   "outputs": [
    {
     "data": {
      "text/html": [
       "\n",
       "            <style>\n",
       "                .geemap-dark {\n",
       "                    --jp-widgets-color: white;\n",
       "                    --jp-widgets-label-color: white;\n",
       "                    --jp-ui-font-color1: white;\n",
       "                    --jp-layout-color2: #454545;\n",
       "                    background-color: #383838;\n",
       "                }\n",
       "\n",
       "                .geemap-dark .jupyter-button {\n",
       "                    --jp-layout-color3: #383838;\n",
       "                }\n",
       "\n",
       "                .geemap-colab {\n",
       "                    background-color: var(--colab-primary-surface-color, white);\n",
       "                }\n",
       "\n",
       "                .geemap-colab .jupyter-button {\n",
       "                    --jp-layout-color3: var(--colab-primary-surface-color, white);\n",
       "                }\n",
       "            </style>\n",
       "            "
      ],
      "text/plain": [
       "<IPython.core.display.HTML object>"
      ]
     },
     "metadata": {},
     "output_type": "display_data"
    }
   ],
   "source": [
    "world = gpd.read_file(\"https://github.com/nvkelso/natural-earth-vector/raw/master/10m_cultural/ne_10m_admin_0_countries.shp\")"
   ]
  },
  {
   "cell_type": "markdown",
   "id": "f1b63ad2-1a42-4549-b979-66eeb78618e2",
   "metadata": {
    "id": "f1b63ad2-1a42-4549-b979-66eeb78618e2"
   },
   "source": [
    "And we want to take the country boundaries and geometry"
   ]
  },
  {
   "cell_type": "code",
   "execution_count": 6,
   "id": "5bdadd64-1091-4659-b4a8-ab1c2a43cf4c",
   "metadata": {
    "id": "5bdadd64-1091-4659-b4a8-ab1c2a43cf4c"
   },
   "outputs": [
    {
     "data": {
      "text/html": [
       "\n",
       "            <style>\n",
       "                .geemap-dark {\n",
       "                    --jp-widgets-color: white;\n",
       "                    --jp-widgets-label-color: white;\n",
       "                    --jp-ui-font-color1: white;\n",
       "                    --jp-layout-color2: #454545;\n",
       "                    background-color: #383838;\n",
       "                }\n",
       "\n",
       "                .geemap-dark .jupyter-button {\n",
       "                    --jp-layout-color3: #383838;\n",
       "                }\n",
       "\n",
       "                .geemap-colab {\n",
       "                    background-color: var(--colab-primary-surface-color, white);\n",
       "                }\n",
       "\n",
       "                .geemap-colab .jupyter-button {\n",
       "                    --jp-layout-color3: var(--colab-primary-surface-color, white);\n",
       "                }\n",
       "            </style>\n",
       "            "
      ],
      "text/plain": [
       "<IPython.core.display.HTML object>"
      ]
     },
     "metadata": {},
     "output_type": "display_data"
    }
   ],
   "source": [
    "country_bounds = world.loc[world.ADM0_ISO == country_iso3].bounds\n",
    "country_geom = world.loc[world.ADM0_ISO == country_iso3].geometry"
   ]
  },
  {
   "cell_type": "markdown",
   "id": "2d131107-2f4f-4f39-9850-df988197ee62",
   "metadata": {
    "id": "2d131107-2f4f-4f39-9850-df988197ee62"
   },
   "source": [
    "Now we use this to clip the population data from worldpop, just for your country"
   ]
  },
  {
   "cell_type": "code",
   "execution_count": 7,
   "id": "3cee77c1-0fcc-4151-b5f1-5c67870b5ab4",
   "metadata": {
    "id": "3cee77c1-0fcc-4151-b5f1-5c67870b5ab4"
   },
   "outputs": [
    {
     "data": {
      "text/html": [
       "\n",
       "            <style>\n",
       "                .geemap-dark {\n",
       "                    --jp-widgets-color: white;\n",
       "                    --jp-widgets-label-color: white;\n",
       "                    --jp-ui-font-color1: white;\n",
       "                    --jp-layout-color2: #454545;\n",
       "                    background-color: #383838;\n",
       "                }\n",
       "\n",
       "                .geemap-dark .jupyter-button {\n",
       "                    --jp-layout-color3: #383838;\n",
       "                }\n",
       "\n",
       "                .geemap-colab {\n",
       "                    background-color: var(--colab-primary-surface-color, white);\n",
       "                }\n",
       "\n",
       "                .geemap-colab .jupyter-button {\n",
       "                    --jp-layout-color3: var(--colab-primary-surface-color, white);\n",
       "                }\n",
       "            </style>\n",
       "            "
      ],
      "text/plain": [
       "<IPython.core.display.HTML object>"
      ]
     },
     "metadata": {},
     "output_type": "display_data"
    }
   ],
   "source": [
    "# clip to country\n",
    "world_pop_national = world_pop_glob.rio.clip_box(minx=country_bounds.minx.values[0],\n",
    "                     miny=country_bounds.miny.values[0],\n",
    "                     maxx=country_bounds.maxx.values[0],\n",
    "                     maxy=country_bounds.maxy.values[0]\n",
    "                    )\n",
    "world_pop_national = world_pop_national.rio.clip(country_geom.values, world_pop_glob.rio.crs, drop=False)"
   ]
  },
  {
   "cell_type": "markdown",
   "id": "ab6155b2-3e5b-4f0d-85b1-0f45d5b5f31f",
   "metadata": {
    "id": "ab6155b2-3e5b-4f0d-85b1-0f45d5b5f31f"
   },
   "source": [
    "The worldpop data, however, is stored as 1km by 1km grid. This will be too computationally intensive if we would use that resolution. As such, we reproject the to a lower resolution. This will help us to perform the analyis more smoothly. We use the *upscale_factor* as defined at the start of this subsection."
   ]
  },
  {
   "cell_type": "code",
   "execution_count": 8,
   "id": "0834501f-2e00-4dce-b91c-8101fcdffb74",
   "metadata": {
    "id": "0834501f-2e00-4dce-b91c-8101fcdffb74"
   },
   "outputs": [
    {
     "data": {
      "text/html": [
       "\n",
       "            <style>\n",
       "                .geemap-dark {\n",
       "                    --jp-widgets-color: white;\n",
       "                    --jp-widgets-label-color: white;\n",
       "                    --jp-ui-font-color1: white;\n",
       "                    --jp-layout-color2: #454545;\n",
       "                    background-color: #383838;\n",
       "                }\n",
       "\n",
       "                .geemap-dark .jupyter-button {\n",
       "                    --jp-layout-color3: #383838;\n",
       "                }\n",
       "\n",
       "                .geemap-colab {\n",
       "                    background-color: var(--colab-primary-surface-color, white);\n",
       "                }\n",
       "\n",
       "                .geemap-colab .jupyter-button {\n",
       "                    --jp-layout-color3: var(--colab-primary-surface-color, white);\n",
       "                }\n",
       "            </style>\n",
       "            "
      ],
      "text/plain": [
       "<IPython.core.display.HTML object>"
      ]
     },
     "metadata": {},
     "output_type": "display_data"
    }
   ],
   "source": [
    "new_width = int(world_pop_national.rio.width / upscale_factor)\n",
    "new_height = int(world_pop_national.rio.height / upscale_factor)\n",
    "\n",
    "worldpop_Grided = world_pop_national.rio.reproject(\n",
    "    world_pop_national.rio.crs,\n",
    "    shape=(new_height, new_width),\n",
    "    resampling=Resampling.sum,\n",
    ")"
   ]
  },
  {
   "cell_type": "code",
   "execution_count": null,
   "id": "9ab78ba1-1d06-4a76-8092-b989a5842f00",
   "metadata": {},
   "outputs": [],
   "source": []
  },
  {
   "cell_type": "code",
   "execution_count": 14,
   "id": "256c59b1-c8cb-40ef-9d4d-6c30e05e2861",
   "metadata": {
    "id": "256c59b1-c8cb-40ef-9d4d-6c30e05e2861"
   },
   "outputs": [
    {
     "data": {
      "text/html": [
       "\n",
       "            <style>\n",
       "                .geemap-dark {\n",
       "                    --jp-widgets-color: white;\n",
       "                    --jp-widgets-label-color: white;\n",
       "                    --jp-ui-font-color1: white;\n",
       "                    --jp-layout-color2: #454545;\n",
       "                    background-color: #383838;\n",
       "                }\n",
       "\n",
       "                .geemap-dark .jupyter-button {\n",
       "                    --jp-layout-color3: #383838;\n",
       "                }\n",
       "\n",
       "                .geemap-colab {\n",
       "                    background-color: var(--colab-primary-surface-color, white);\n",
       "                }\n",
       "\n",
       "                .geemap-colab .jupyter-button {\n",
       "                    --jp-layout-color3: var(--colab-primary-surface-color, white);\n",
       "                }\n",
       "            </style>\n",
       "            "
      ],
      "text/plain": [
       "<IPython.core.display.HTML object>"
      ]
     },
     "metadata": {},
     "output_type": "display_data"
    },
    {
     "name": "stdout",
     "output_type": "stream",
     "text": [
      "The output is df_pop_LUX as a dataframe of the population data of Luxembourg\n"
     ]
    }
   ],
   "source": [
    "df_worldpop_ = worldpop_Grided.band_data.to_dataframe()\n",
    "df_worldpop_ = df_worldpop_.loc[~df_worldpop_.band_data.isna()].reset_index(drop=False)\n",
    "\n",
    "# create geometry values and drop lat lon columns\n",
    "df_worldpop_['geometry'] = shapely.points(np.array(list(zip(df_worldpop_['x'],df_worldpop_['y']))))\n",
    "\n",
    "df_worldpop_ = gpd.GeoDataFrame(df_worldpop_.drop(['y','x','spatial_ref','band'],axis=1))\n",
    "\n",
    "# dynamically create a variable name for the DataFrame\n",
    "globals()[f'df_pop_{country_iso3}'] = gpd.GeoDataFrame(df_worldpop_)\n",
    "\n",
    "# dynamically create a print statement that reflects the current country code\n",
    "print(f\"The output is df_pop_{country_iso3} as a dataframe of the population data of {country_full_name}\")"
   ]
  },
  {
   "cell_type": "code",
   "execution_count": 18,
   "id": "971cf678-5a60-4b22-af71-5bb7d9ab2302",
   "metadata": {},
   "outputs": [
    {
     "data": {
      "text/html": [
       "\n",
       "            <style>\n",
       "                .geemap-dark {\n",
       "                    --jp-widgets-color: white;\n",
       "                    --jp-widgets-label-color: white;\n",
       "                    --jp-ui-font-color1: white;\n",
       "                    --jp-layout-color2: #454545;\n",
       "                    background-color: #383838;\n",
       "                }\n",
       "\n",
       "                .geemap-dark .jupyter-button {\n",
       "                    --jp-layout-color3: #383838;\n",
       "                }\n",
       "\n",
       "                .geemap-colab {\n",
       "                    background-color: var(--colab-primary-surface-color, white);\n",
       "                }\n",
       "\n",
       "                .geemap-colab .jupyter-button {\n",
       "                    --jp-layout-color3: var(--colab-primary-surface-color, white);\n",
       "                }\n",
       "            </style>\n",
       "            "
      ],
      "text/plain": [
       "<IPython.core.display.HTML object>"
      ]
     },
     "metadata": {},
     "output_type": "display_data"
    },
    {
     "data": {
      "image/png": "[encoded data removed]",
      "text/plain": [
       "<Figure size 640x480 with 1 Axes>"
      ]
     },
     "metadata": {},
     "output_type": "display_data"
    }
   ],
   "source": [
    "ax = globals()[f'df_pop_{country_iso3}'].plot()\n",
    "ax.set_title(f'Population Points of {country_full_name}')\n",
    "ax.set_xlabel('Longitude')\n",
    "ax.set_ylabel('Latitude')\n",
    "plt.show()"
   ]
  },
  {
   "cell_type": "code",
   "execution_count": 19,
   "id": "02dbdbed-5e0a-425d-88c8-548d57c92d7d",
   "metadata": {
    "id": "02dbdbed-5e0a-425d-88c8-548d57c92d7d"
   },
   "outputs": [
    {
     "data": {
      "text/html": [
       "\n",
       "            <style>\n",
       "                .geemap-dark {\n",
       "                    --jp-widgets-color: white;\n",
       "                    --jp-widgets-label-color: white;\n",
       "                    --jp-ui-font-color1: white;\n",
       "                    --jp-layout-color2: #454545;\n",
       "                    background-color: #383838;\n",
       "                }\n",
       "\n",
       "                .geemap-dark .jupyter-button {\n",
       "                    --jp-layout-color3: #383838;\n",
       "                }\n",
       "\n",
       "                .geemap-colab {\n",
       "                    background-color: var(--colab-primary-surface-color, white);\n",
       "                }\n",
       "\n",
       "                .geemap-colab .jupyter-button {\n",
       "                    --jp-layout-color3: var(--colab-primary-surface-color, white);\n",
       "                }\n",
       "            </style>\n",
       "            "
      ],
      "text/plain": [
       "<IPython.core.display.HTML object>"
      ]
     },
     "metadata": {},
     "output_type": "display_data"
    },
    {
     "data": {
      "text/plain": [
       "55"
      ]
     },
     "execution_count": 19,
     "metadata": {},
     "output_type": "execute_result"
    }
   ],
   "source": [
    "len(globals()[f'df_pop_{country_iso3}'])"
   ]
  },
  {
   "cell_type": "markdown",
   "id": "32dab221-7a28-4719-a180-dc8a91c17b48",
   "metadata": {
    "id": "32dab221-7a28-4719-a180-dc8a91c17b48"
   },
   "source": [
    "Our next step is to extract information of healthcare facilities for the country of interest. We do so using OpenStreetMap. With the latest version of geopandas, it is now possible to directly read **osm.pbf** files from OpenStreetMap.\n",
    "\n",
    "Healthcare facilities are stored as *multipolygons* within OpenStreetMap, and we want to download all clinics and hospitals."
   ]
  },
  {
   "cell_type": "code",
   "execution_count": 20,
   "id": "dbf8e926-52cc-4411-bc68-263f7cafaf1f",
   "metadata": {
    "id": "dbf8e926-52cc-4411-bc68-263f7cafaf1f"
   },
   "outputs": [
    {
     "data": {
      "text/html": [
       "\n",
       "            <style>\n",
       "                .geemap-dark {\n",
       "                    --jp-widgets-color: white;\n",
       "                    --jp-widgets-label-color: white;\n",
       "                    --jp-ui-font-color1: white;\n",
       "                    --jp-layout-color2: #454545;\n",
       "                    background-color: #383838;\n",
       "                }\n",
       "\n",
       "                .geemap-dark .jupyter-button {\n",
       "                    --jp-layout-color3: #383838;\n",
       "                }\n",
       "\n",
       "                .geemap-colab {\n",
       "                    background-color: var(--colab-primary-surface-color, white);\n",
       "                }\n",
       "\n",
       "                .geemap-colab .jupyter-button {\n",
       "                    --jp-layout-color3: var(--colab-primary-surface-color, white);\n",
       "                }\n",
       "            </style>\n",
       "            "
      ],
      "text/plain": [
       "<IPython.core.display.HTML object>"
      ]
     },
     "metadata": {},
     "output_type": "display_data"
    },
    {
     "name": "stderr",
     "output_type": "stream",
     "text": [
      "C:\\Users\\lif475\\AppData\\Local\\miniforge3\\envs\\pygis\\Lib\\site-packages\\pyogrio\\raw.py:196: RuntimeWarning: Non closed ring detected. To avoid accepting it, set the OGR_GEOMETRY_ACCEPT_UNCLOSED_RING configuration option to NO\n",
      "  return ogr_read(\n"
     ]
    },
    {
     "name": "stdout",
     "output_type": "stream",
     "text": [
      "CPU times: total: 45.5 s\n",
      "Wall time: 1min 14s\n"
     ]
    }
   ],
   "source": [
    "%%time\n",
    "Country_GeofabrikData_path = download.get_country_geofabrik(country_iso3)\n",
    "#Country_GeofabrikData_path = \"C:\\\\Data\\\\country_osm\\\\albania-latest.osm.pbf\"\n",
    "\n",
    "HealthCenters = gpd.read_file(Country_GeofabrikData_path, layer=\"multipolygons\")\n",
    "sub_types =['clinic', 'hospital']\n",
    "HealthCenters = HealthCenters[HealthCenters['amenity'].isin(sub_types)].reset_index(drop=True)\n",
    "HealthCenters = HealthCenters.to_crs(3857)\n",
    "\n",
    "# to convert polygons to their centroids\n",
    "HealthCenters_centroids = HealthCenters.copy()\n",
    "HealthCenters_centroids['geometry'] = HealthCenters.centroid\n",
    "\n",
    "HealthCenters_centroids=HealthCenters_centroids.to_crs(4326)"
   ]
  },
  {
   "cell_type": "code",
   "execution_count": 21,
   "id": "cfbc0e8e-bf63-42c9-b9d0-3a095c0f8ca6",
   "metadata": {
    "id": "cfbc0e8e-bf63-42c9-b9d0-3a095c0f8ca6"
   },
   "outputs": [
    {
     "data": {
      "text/html": [
       "\n",
       "            <style>\n",
       "                .geemap-dark {\n",
       "                    --jp-widgets-color: white;\n",
       "                    --jp-widgets-label-color: white;\n",
       "                    --jp-ui-font-color1: white;\n",
       "                    --jp-layout-color2: #454545;\n",
       "                    background-color: #383838;\n",
       "                }\n",
       "\n",
       "                .geemap-dark .jupyter-button {\n",
       "                    --jp-layout-color3: #383838;\n",
       "                }\n",
       "\n",
       "                .geemap-colab {\n",
       "                    background-color: var(--colab-primary-surface-color, white);\n",
       "                }\n",
       "\n",
       "                .geemap-colab .jupyter-button {\n",
       "                    --jp-layout-color3: var(--colab-primary-surface-color, white);\n",
       "                }\n",
       "            </style>\n",
       "            "
      ],
      "text/plain": [
       "<IPython.core.display.HTML object>"
      ]
     },
     "metadata": {},
     "output_type": "display_data"
    },
    {
     "data": {
      "text/html": [
       "<div>\n",
       "<style scoped>\n",
       "    .dataframe tbody tr th:only-of-type {\n",
       "        vertical-align: middle;\n",
       "    }\n",
       "\n",
       "    .dataframe tbody tr th {\n",
       "        vertical-align: top;\n",
       "    }\n",
       "\n",
       "    .dataframe thead th {\n",
       "        text-align: right;\n",
       "    }\n",
       "</style>\n",
       "<table border=\"1\" class=\"dataframe\">\n",
       "  <thead>\n",
       "    <tr style=\"text-align: right;\">\n",
       "      <th></th>\n",
       "      <th>osm_id</th>\n",
       "      <th>osm_way_id</th>\n",
       "      <th>name</th>\n",
       "      <th>type</th>\n",
       "      <th>aeroway</th>\n",
       "      <th>amenity</th>\n",
       "      <th>admin_level</th>\n",
       "      <th>barrier</th>\n",
       "      <th>boundary</th>\n",
       "      <th>building</th>\n",
       "      <th>...</th>\n",
       "      <th>man_made</th>\n",
       "      <th>military</th>\n",
       "      <th>natural</th>\n",
       "      <th>office</th>\n",
       "      <th>place</th>\n",
       "      <th>shop</th>\n",
       "      <th>sport</th>\n",
       "      <th>tourism</th>\n",
       "      <th>other_tags</th>\n",
       "      <th>geometry</th>\n",
       "    </tr>\n",
       "  </thead>\n",
       "  <tbody>\n",
       "    <tr>\n",
       "      <th>0</th>\n",
       "      <td>7591385</td>\n",
       "      <td>None</td>\n",
       "      <td>ZithaKlinik</td>\n",
       "      <td>multipolygon</td>\n",
       "      <td>None</td>\n",
       "      <td>hospital</td>\n",
       "      <td>None</td>\n",
       "      <td>None</td>\n",
       "      <td>None</td>\n",
       "      <td>None</td>\n",
       "      <td>...</td>\n",
       "      <td>None</td>\n",
       "      <td>None</td>\n",
       "      <td>None</td>\n",
       "      <td>None</td>\n",
       "      <td>None</td>\n",
       "      <td>None</td>\n",
       "      <td>None</td>\n",
       "      <td>None</td>\n",
       "      <td>\"healthcare\"=&gt;\"hospital\",\"operator\"=&gt;\"Hôpitaux...</td>\n",
       "      <td>MULTIPOLYGON (((682338.374 6377939.045, 682324...</td>\n",
       "    </tr>\n",
       "    <tr>\n",
       "      <th>1</th>\n",
       "      <td>17514812</td>\n",
       "      <td>None</td>\n",
       "      <td>Hôpital Kirchberg</td>\n",
       "      <td>multipolygon</td>\n",
       "      <td>None</td>\n",
       "      <td>hospital</td>\n",
       "      <td>None</td>\n",
       "      <td>None</td>\n",
       "      <td>None</td>\n",
       "      <td>None</td>\n",
       "      <td>...</td>\n",
       "      <td>None</td>\n",
       "      <td>None</td>\n",
       "      <td>None</td>\n",
       "      <td>None</td>\n",
       "      <td>None</td>\n",
       "      <td>None</td>\n",
       "      <td>None</td>\n",
       "      <td>None</td>\n",
       "      <td>\"healthcare\"=&gt;\"hospital\",\"operator\"=&gt;\"Hôpitaux...</td>\n",
       "      <td>MULTIPOLYGON (((687383.596 6382856.727, 687394...</td>\n",
       "    </tr>\n",
       "    <tr>\n",
       "      <th>2</th>\n",
       "      <td>None</td>\n",
       "      <td>41407070</td>\n",
       "      <td>Centre Hospitalier de Luxembourg</td>\n",
       "      <td>None</td>\n",
       "      <td>None</td>\n",
       "      <td>hospital</td>\n",
       "      <td>None</td>\n",
       "      <td>None</td>\n",
       "      <td>None</td>\n",
       "      <td>None</td>\n",
       "      <td>...</td>\n",
       "      <td>None</td>\n",
       "      <td>None</td>\n",
       "      <td>None</td>\n",
       "      <td>None</td>\n",
       "      <td>None</td>\n",
       "      <td>None</td>\n",
       "      <td>None</td>\n",
       "      <td>None</td>\n",
       "      <td>\"healthcare\"=&gt;\"hospital\",\"operator\"=&gt;\"Centre H...</td>\n",
       "      <td>MULTIPOLYGON (((679155.827 6380157.554, 679142...</td>\n",
       "    </tr>\n",
       "    <tr>\n",
       "      <th>3</th>\n",
       "      <td>None</td>\n",
       "      <td>56104142</td>\n",
       "      <td>Sénologie</td>\n",
       "      <td>None</td>\n",
       "      <td>None</td>\n",
       "      <td>hospital</td>\n",
       "      <td>None</td>\n",
       "      <td>None</td>\n",
       "      <td>None</td>\n",
       "      <td>hospital</td>\n",
       "      <td>...</td>\n",
       "      <td>None</td>\n",
       "      <td>None</td>\n",
       "      <td>None</td>\n",
       "      <td>None</td>\n",
       "      <td>None</td>\n",
       "      <td>None</td>\n",
       "      <td>None</td>\n",
       "      <td>None</td>\n",
       "      <td>None</td>\n",
       "      <td>MULTIPOLYGON (((682993.032 6382614.167, 682977...</td>\n",
       "    </tr>\n",
       "    <tr>\n",
       "      <th>4</th>\n",
       "      <td>None</td>\n",
       "      <td>72872456</td>\n",
       "      <td>Centre Hospitalier Émile Mayrisch</td>\n",
       "      <td>None</td>\n",
       "      <td>None</td>\n",
       "      <td>hospital</td>\n",
       "      <td>None</td>\n",
       "      <td>None</td>\n",
       "      <td>None</td>\n",
       "      <td>None</td>\n",
       "      <td>...</td>\n",
       "      <td>None</td>\n",
       "      <td>None</td>\n",
       "      <td>None</td>\n",
       "      <td>None</td>\n",
       "      <td>None</td>\n",
       "      <td>None</td>\n",
       "      <td>None</td>\n",
       "      <td>None</td>\n",
       "      <td>\"healthcare\"=&gt;\"hospital\",\"short_name\"=&gt;\"CHEM\",...</td>\n",
       "      <td>MULTIPOLYGON (((665744.712 6360608.875, 665747...</td>\n",
       "    </tr>\n",
       "    <tr>\n",
       "      <th>5</th>\n",
       "      <td>None</td>\n",
       "      <td>112389436</td>\n",
       "      <td>Hôpital de la ville de Dudelange</td>\n",
       "      <td>None</td>\n",
       "      <td>None</td>\n",
       "      <td>hospital</td>\n",
       "      <td>None</td>\n",
       "      <td>None</td>\n",
       "      <td>None</td>\n",
       "      <td>yes</td>\n",
       "      <td>...</td>\n",
       "      <td>None</td>\n",
       "      <td>None</td>\n",
       "      <td>None</td>\n",
       "      <td>None</td>\n",
       "      <td>None</td>\n",
       "      <td>None</td>\n",
       "      <td>None</td>\n",
       "      <td>None</td>\n",
       "      <td>\"addr:city\"=&gt;\"Dudelange\",\"addr:housenumber\"=&gt;\"...</td>\n",
       "      <td>MULTIPOLYGON (((677744.73 6355108.857, 677802....</td>\n",
       "    </tr>\n",
       "    <tr>\n",
       "      <th>6</th>\n",
       "      <td>None</td>\n",
       "      <td>189452987</td>\n",
       "      <td>CHL Eich</td>\n",
       "      <td>None</td>\n",
       "      <td>None</td>\n",
       "      <td>hospital</td>\n",
       "      <td>None</td>\n",
       "      <td>None</td>\n",
       "      <td>None</td>\n",
       "      <td>None</td>\n",
       "      <td>...</td>\n",
       "      <td>None</td>\n",
       "      <td>None</td>\n",
       "      <td>None</td>\n",
       "      <td>None</td>\n",
       "      <td>None</td>\n",
       "      <td>None</td>\n",
       "      <td>None</td>\n",
       "      <td>None</td>\n",
       "      <td>\"addr:city\"=&gt;\"Luxembourg\",\"addr:country\"=&gt;\"LU\"...</td>\n",
       "      <td>MULTIPOLYGON (((682944.085 6382574.363, 682938...</td>\n",
       "    </tr>\n",
       "    <tr>\n",
       "      <th>7</th>\n",
       "      <td>None</td>\n",
       "      <td>298655535</td>\n",
       "      <td>Centre Médical de Steinsel</td>\n",
       "      <td>None</td>\n",
       "      <td>None</td>\n",
       "      <td>clinic</td>\n",
       "      <td>None</td>\n",
       "      <td>None</td>\n",
       "      <td>None</td>\n",
       "      <td>yes</td>\n",
       "      <td>...</td>\n",
       "      <td>None</td>\n",
       "      <td>None</td>\n",
       "      <td>None</td>\n",
       "      <td>None</td>\n",
       "      <td>None</td>\n",
       "      <td>None</td>\n",
       "      <td>None</td>\n",
       "      <td>None</td>\n",
       "      <td>\"addr:city\"=&gt;\"Steinsel\",\"addr:country\"=&gt;\"LU\",\"...</td>\n",
       "      <td>MULTIPOLYGON (((681904.484 6390283.25, 681900....</td>\n",
       "    </tr>\n",
       "    <tr>\n",
       "      <th>8</th>\n",
       "      <td>None</td>\n",
       "      <td>381951079</td>\n",
       "      <td>Clinique Sainte Marie</td>\n",
       "      <td>None</td>\n",
       "      <td>None</td>\n",
       "      <td>hospital</td>\n",
       "      <td>None</td>\n",
       "      <td>None</td>\n",
       "      <td>None</td>\n",
       "      <td>None</td>\n",
       "      <td>...</td>\n",
       "      <td>None</td>\n",
       "      <td>None</td>\n",
       "      <td>None</td>\n",
       "      <td>None</td>\n",
       "      <td>None</td>\n",
       "      <td>None</td>\n",
       "      <td>None</td>\n",
       "      <td>None</td>\n",
       "      <td>\"emergency\"=&gt;\"yes\",\"healthcare\"=&gt;\"hospital\",\"o...</td>\n",
       "      <td>MULTIPOLYGON (((666416.525 6360368.193, 666413...</td>\n",
       "    </tr>\n",
       "    <tr>\n",
       "      <th>9</th>\n",
       "      <td>None</td>\n",
       "      <td>426571994</td>\n",
       "      <td>Centre de réhabilitation</td>\n",
       "      <td>None</td>\n",
       "      <td>None</td>\n",
       "      <td>hospital</td>\n",
       "      <td>None</td>\n",
       "      <td>None</td>\n",
       "      <td>None</td>\n",
       "      <td>yes</td>\n",
       "      <td>...</td>\n",
       "      <td>None</td>\n",
       "      <td>None</td>\n",
       "      <td>None</td>\n",
       "      <td>None</td>\n",
       "      <td>None</td>\n",
       "      <td>None</td>\n",
       "      <td>None</td>\n",
       "      <td>None</td>\n",
       "      <td>\"addr:city\"=&gt;\"Colpach-Bas\",\"addr:housenumber\"=...</td>\n",
       "      <td>MULTIPOLYGON (((648445.596 6404692.12, 648459....</td>\n",
       "    </tr>\n",
       "    <tr>\n",
       "      <th>10</th>\n",
       "      <td>None</td>\n",
       "      <td>469054630</td>\n",
       "      <td>Hôpital intercommunal de Steinfort</td>\n",
       "      <td>None</td>\n",
       "      <td>None</td>\n",
       "      <td>hospital</td>\n",
       "      <td>None</td>\n",
       "      <td>None</td>\n",
       "      <td>None</td>\n",
       "      <td>None</td>\n",
       "      <td>...</td>\n",
       "      <td>None</td>\n",
       "      <td>None</td>\n",
       "      <td>None</td>\n",
       "      <td>None</td>\n",
       "      <td>None</td>\n",
       "      <td>None</td>\n",
       "      <td>None</td>\n",
       "      <td>None</td>\n",
       "      <td>\"healthcare\"=&gt;\"hospital\"</td>\n",
       "      <td>MULTIPOLYGON (((658123.935 6387823.318, 658132...</td>\n",
       "    </tr>\n",
       "    <tr>\n",
       "      <th>11</th>\n",
       "      <td>None</td>\n",
       "      <td>570707211</td>\n",
       "      <td>Hôpital Intercommunal Princesse Marie-Astrid</td>\n",
       "      <td>None</td>\n",
       "      <td>None</td>\n",
       "      <td>hospital</td>\n",
       "      <td>None</td>\n",
       "      <td>None</td>\n",
       "      <td>None</td>\n",
       "      <td>None</td>\n",
       "      <td>...</td>\n",
       "      <td>None</td>\n",
       "      <td>None</td>\n",
       "      <td>None</td>\n",
       "      <td>None</td>\n",
       "      <td>None</td>\n",
       "      <td>None</td>\n",
       "      <td>None</td>\n",
       "      <td>None</td>\n",
       "      <td>\"healthcare\"=&gt;\"hospital\"</td>\n",
       "      <td>MULTIPOLYGON (((655334.714 6365873.121, 655368...</td>\n",
       "    </tr>\n",
       "    <tr>\n",
       "      <th>12</th>\n",
       "      <td>None</td>\n",
       "      <td>784862436</td>\n",
       "      <td>Centre hospitalier Neuro-Psychiatrique (CHNP)</td>\n",
       "      <td>None</td>\n",
       "      <td>None</td>\n",
       "      <td>hospital</td>\n",
       "      <td>None</td>\n",
       "      <td>None</td>\n",
       "      <td>None</td>\n",
       "      <td>None</td>\n",
       "      <td>...</td>\n",
       "      <td>None</td>\n",
       "      <td>None</td>\n",
       "      <td>None</td>\n",
       "      <td>None</td>\n",
       "      <td>None</td>\n",
       "      <td>None</td>\n",
       "      <td>None</td>\n",
       "      <td>None</td>\n",
       "      <td>\"healthcare\"=&gt;\"hospital\"</td>\n",
       "      <td>MULTIPOLYGON (((678665.866 6419086.54, 678705....</td>\n",
       "    </tr>\n",
       "    <tr>\n",
       "      <th>13</th>\n",
       "      <td>None</td>\n",
       "      <td>784866880</td>\n",
       "      <td>Rehazenter</td>\n",
       "      <td>None</td>\n",
       "      <td>None</td>\n",
       "      <td>hospital</td>\n",
       "      <td>None</td>\n",
       "      <td>None</td>\n",
       "      <td>None</td>\n",
       "      <td>None</td>\n",
       "      <td>...</td>\n",
       "      <td>None</td>\n",
       "      <td>None</td>\n",
       "      <td>None</td>\n",
       "      <td>None</td>\n",
       "      <td>None</td>\n",
       "      <td>None</td>\n",
       "      <td>None</td>\n",
       "      <td>None</td>\n",
       "      <td>\"healthcare\"=&gt;\"hospital\"</td>\n",
       "      <td>MULTIPOLYGON (((687456.721 6382232.099, 687457...</td>\n",
       "    </tr>\n",
       "    <tr>\n",
       "      <th>14</th>\n",
       "      <td>None</td>\n",
       "      <td>884212046</td>\n",
       "      <td>Centre Hospitalier du Nord</td>\n",
       "      <td>None</td>\n",
       "      <td>None</td>\n",
       "      <td>hospital</td>\n",
       "      <td>None</td>\n",
       "      <td>None</td>\n",
       "      <td>None</td>\n",
       "      <td>None</td>\n",
       "      <td>...</td>\n",
       "      <td>None</td>\n",
       "      <td>None</td>\n",
       "      <td>None</td>\n",
       "      <td>None</td>\n",
       "      <td>None</td>\n",
       "      <td>None</td>\n",
       "      <td>None</td>\n",
       "      <td>None</td>\n",
       "      <td>\"contact:email\"=&gt;\"chdn@chdn.lu\",\"contact:fax\"=...</td>\n",
       "      <td>MULTIPOLYGON (((678507.013 6421193.856, 678560...</td>\n",
       "    </tr>\n",
       "    <tr>\n",
       "      <th>15</th>\n",
       "      <td>None</td>\n",
       "      <td>887577792</td>\n",
       "      <td>Centre Hospitalier du Nord</td>\n",
       "      <td>None</td>\n",
       "      <td>None</td>\n",
       "      <td>hospital</td>\n",
       "      <td>None</td>\n",
       "      <td>None</td>\n",
       "      <td>None</td>\n",
       "      <td>None</td>\n",
       "      <td>...</td>\n",
       "      <td>None</td>\n",
       "      <td>None</td>\n",
       "      <td>None</td>\n",
       "      <td>None</td>\n",
       "      <td>None</td>\n",
       "      <td>None</td>\n",
       "      <td>None</td>\n",
       "      <td>None</td>\n",
       "      <td>\"addr:city\"=&gt;\"Wiltz\",\"addr:country\"=&gt;\"LU\",\"add...</td>\n",
       "      <td>MULTIPOLYGON (((660490.343 6440253.818, 660477...</td>\n",
       "    </tr>\n",
       "  </tbody>\n",
       "</table>\n",
       "<p>16 rows × 26 columns</p>\n",
       "</div>"
      ],
      "text/plain": [
       "      osm_id osm_way_id                                           name  \\\n",
       "0    7591385       None                                    ZithaKlinik   \n",
       "1   17514812       None                              Hôpital Kirchberg   \n",
       "2       None   41407070               Centre Hospitalier de Luxembourg   \n",
       "3       None   56104142                                      Sénologie   \n",
       "4       None   72872456              Centre Hospitalier Émile Mayrisch   \n",
       "5       None  112389436               Hôpital de la ville de Dudelange   \n",
       "6       None  189452987                                       CHL Eich   \n",
       "7       None  298655535                     Centre Médical de Steinsel   \n",
       "8       None  381951079                          Clinique Sainte Marie   \n",
       "9       None  426571994                       Centre de réhabilitation   \n",
       "10      None  469054630             Hôpital intercommunal de Steinfort   \n",
       "11      None  570707211   Hôpital Intercommunal Princesse Marie-Astrid   \n",
       "12      None  784862436  Centre hospitalier Neuro-Psychiatrique (CHNP)   \n",
       "13      None  784866880                                     Rehazenter   \n",
       "14      None  884212046                     Centre Hospitalier du Nord   \n",
       "15      None  887577792                     Centre Hospitalier du Nord   \n",
       "\n",
       "            type aeroway   amenity admin_level barrier boundary  building  \\\n",
       "0   multipolygon    None  hospital        None    None     None      None   \n",
       "1   multipolygon    None  hospital        None    None     None      None   \n",
       "2           None    None  hospital        None    None     None      None   \n",
       "3           None    None  hospital        None    None     None  hospital   \n",
       "4           None    None  hospital        None    None     None      None   \n",
       "5           None    None  hospital        None    None     None       yes   \n",
       "6           None    None  hospital        None    None     None      None   \n",
       "7           None    None    clinic        None    None     None       yes   \n",
       "8           None    None  hospital        None    None     None      None   \n",
       "9           None    None  hospital        None    None     None       yes   \n",
       "10          None    None  hospital        None    None     None      None   \n",
       "11          None    None  hospital        None    None     None      None   \n",
       "12          None    None  hospital        None    None     None      None   \n",
       "13          None    None  hospital        None    None     None      None   \n",
       "14          None    None  hospital        None    None     None      None   \n",
       "15          None    None  hospital        None    None     None      None   \n",
       "\n",
       "    ... man_made military natural office place  shop sport tourism  \\\n",
       "0   ...     None     None    None   None  None  None  None    None   \n",
       "1   ...     None     None    None   None  None  None  None    None   \n",
       "2   ...     None     None    None   None  None  None  None    None   \n",
       "3   ...     None     None    None   None  None  None  None    None   \n",
       "4   ...     None     None    None   None  None  None  None    None   \n",
       "5   ...     None     None    None   None  None  None  None    None   \n",
       "6   ...     None     None    None   None  None  None  None    None   \n",
       "7   ...     None     None    None   None  None  None  None    None   \n",
       "8   ...     None     None    None   None  None  None  None    None   \n",
       "9   ...     None     None    None   None  None  None  None    None   \n",
       "10  ...     None     None    None   None  None  None  None    None   \n",
       "11  ...     None     None    None   None  None  None  None    None   \n",
       "12  ...     None     None    None   None  None  None  None    None   \n",
       "13  ...     None     None    None   None  None  None  None    None   \n",
       "14  ...     None     None    None   None  None  None  None    None   \n",
       "15  ...     None     None    None   None  None  None  None    None   \n",
       "\n",
       "                                           other_tags  \\\n",
       "0   \"healthcare\"=>\"hospital\",\"operator\"=>\"Hôpitaux...   \n",
       "1   \"healthcare\"=>\"hospital\",\"operator\"=>\"Hôpitaux...   \n",
       "2   \"healthcare\"=>\"hospital\",\"operator\"=>\"Centre H...   \n",
       "3                                                None   \n",
       "4   \"healthcare\"=>\"hospital\",\"short_name\"=>\"CHEM\",...   \n",
       "5   \"addr:city\"=>\"Dudelange\",\"addr:housenumber\"=>\"...   \n",
       "6   \"addr:city\"=>\"Luxembourg\",\"addr:country\"=>\"LU\"...   \n",
       "7   \"addr:city\"=>\"Steinsel\",\"addr:country\"=>\"LU\",\"...   \n",
       "8   \"emergency\"=>\"yes\",\"healthcare\"=>\"hospital\",\"o...   \n",
       "9   \"addr:city\"=>\"Colpach-Bas\",\"addr:housenumber\"=...   \n",
       "10                           \"healthcare\"=>\"hospital\"   \n",
       "11                           \"healthcare\"=>\"hospital\"   \n",
       "12                           \"healthcare\"=>\"hospital\"   \n",
       "13                           \"healthcare\"=>\"hospital\"   \n",
       "14  \"contact:email\"=>\"chdn@chdn.lu\",\"contact:fax\"=...   \n",
       "15  \"addr:city\"=>\"Wiltz\",\"addr:country\"=>\"LU\",\"add...   \n",
       "\n",
       "                                             geometry  \n",
       "0   MULTIPOLYGON (((682338.374 6377939.045, 682324...  \n",
       "1   MULTIPOLYGON (((687383.596 6382856.727, 687394...  \n",
       "2   MULTIPOLYGON (((679155.827 6380157.554, 679142...  \n",
       "3   MULTIPOLYGON (((682993.032 6382614.167, 682977...  \n",
       "4   MULTIPOLYGON (((665744.712 6360608.875, 665747...  \n",
       "5   MULTIPOLYGON (((677744.73 6355108.857, 677802....  \n",
       "6   MULTIPOLYGON (((682944.085 6382574.363, 682938...  \n",
       "7   MULTIPOLYGON (((681904.484 6390283.25, 681900....  \n",
       "8   MULTIPOLYGON (((666416.525 6360368.193, 666413...  \n",
       "9   MULTIPOLYGON (((648445.596 6404692.12, 648459....  \n",
       "10  MULTIPOLYGON (((658123.935 6387823.318, 658132...  \n",
       "11  MULTIPOLYGON (((655334.714 6365873.121, 655368...  \n",
       "12  MULTIPOLYGON (((678665.866 6419086.54, 678705....  \n",
       "13  MULTIPOLYGON (((687456.721 6382232.099, 687457...  \n",
       "14  MULTIPOLYGON (((678507.013 6421193.856, 678560...  \n",
       "15  MULTIPOLYGON (((660490.343 6440253.818, 660477...  \n",
       "\n",
       "[16 rows x 26 columns]"
      ]
     },
     "execution_count": 21,
     "metadata": {},
     "output_type": "execute_result"
    }
   ],
   "source": [
    "HealthCenters"
   ]
  },
  {
   "cell_type": "code",
   "execution_count": 23,
   "id": "14c6ab08-56b0-49a2-8955-74a0bd8b6b7c",
   "metadata": {
    "id": "14c6ab08-56b0-49a2-8955-74a0bd8b6b7c"
   },
   "outputs": [
    {
     "data": {
      "text/html": [
       "\n",
       "            <style>\n",
       "                .geemap-dark {\n",
       "                    --jp-widgets-color: white;\n",
       "                    --jp-widgets-label-color: white;\n",
       "                    --jp-ui-font-color1: white;\n",
       "                    --jp-layout-color2: #454545;\n",
       "                    background-color: #383838;\n",
       "                }\n",
       "\n",
       "                .geemap-dark .jupyter-button {\n",
       "                    --jp-layout-color3: #383838;\n",
       "                }\n",
       "\n",
       "                .geemap-colab {\n",
       "                    background-color: var(--colab-primary-surface-color, white);\n",
       "                }\n",
       "\n",
       "                .geemap-colab .jupyter-button {\n",
       "                    --jp-layout-color3: var(--colab-primary-surface-color, white);\n",
       "                }\n",
       "            </style>\n",
       "            "
      ],
      "text/plain": [
       "<IPython.core.display.HTML object>"
      ]
     },
     "metadata": {},
     "output_type": "display_data"
    },
    {
     "name": "stdout",
     "output_type": "stream",
     "text": [
      "The output is HealthCenters_centroids as a dataframe of the Health Centers\n"
     ]
    },
    {
     "data": {
      "image/png": "[encoded data removed]",
      "text/plain": [
       "<Figure size 1000x1000 with 1 Axes>"
      ]
     },
     "metadata": {},
     "output_type": "display_data"
    }
   ],
   "source": [
    "print(\"The output is HealthCenters_centroids as a dataframe of the Health Centers\")\n",
    "\n",
    "#plotting\n",
    "fig, ax = plt.subplots(figsize=(10, 10))\n",
    "HealthCenters_centroids.plot(ax=ax, color='red', markersize=10, alpha=0.7)\n",
    "\n",
    "# temporarily reprojects to EPSG:3857 to add the basemap (contextily requires it)\n",
    "#cx.add_basemap(ax, crs='EPSG:4326', source=cx.providers.OpenStreetMap.Mapnik, zoom=8)\n",
    "\n",
    "ax.set_title(f'Locations of Hospitals and Clinics in {country_full_name}', fontsize=15)\n",
    "\n",
    "ax.set_xlabel('Longitude')\n",
    "ax.set_ylabel('Latitude')\n",
    "plt.show()\n",
    "\n",
    "plt.show()"
   ]
  },
  {
   "cell_type": "markdown",
   "id": "dc39cef6-eac9-40a0-a737-bac3cd5bc2a1",
   "metadata": {
    "id": "dc39cef6-eac9-40a0-a737-bac3cd5bc2a1"
   },
   "source": [
    "## 3. Classification of rural and urban areas"
   ]
  },
  {
   "cell_type": "markdown",
   "id": "zotYyVnD4Jt2",
   "metadata": {
    "id": "zotYyVnD4Jt2"
   },
   "source": [
    "## Set-up"
   ]
  },
  {
   "cell_type": "markdown",
   "id": "kzGnaMdm4Gpu",
   "metadata": {
    "id": "kzGnaMdm4Gpu"
   },
   "source": [
    "Fix seed"
   ]
  },
  {
   "cell_type": "code",
   "execution_count": 24,
   "id": "JS9on1714Ega",
   "metadata": {
    "id": "JS9on1714Ega"
   },
   "outputs": [
    {
     "data": {
      "text/html": [
       "\n",
       "            <style>\n",
       "                .geemap-dark {\n",
       "                    --jp-widgets-color: white;\n",
       "                    --jp-widgets-label-color: white;\n",
       "                    --jp-ui-font-color1: white;\n",
       "                    --jp-layout-color2: #454545;\n",
       "                    background-color: #383838;\n",
       "                }\n",
       "\n",
       "                .geemap-dark .jupyter-button {\n",
       "                    --jp-layout-color3: #383838;\n",
       "                }\n",
       "\n",
       "                .geemap-colab {\n",
       "                    background-color: var(--colab-primary-surface-color, white);\n",
       "                }\n",
       "\n",
       "                .geemap-colab .jupyter-button {\n",
       "                    --jp-layout-color3: var(--colab-primary-surface-color, white);\n",
       "                }\n",
       "            </style>\n",
       "            "
      ],
      "text/plain": [
       "<IPython.core.display.HTML object>"
      ]
     },
     "metadata": {},
     "output_type": "display_data"
    }
   ],
   "source": [
    "### Set global seeds ###\n",
    "seed = random_seed\n",
    "np.random.seed(seed)\n",
    "random.seed(seed)\n",
    "os.environ['PYTHONHASHSEED'] = str(seed)"
   ]
  },
  {
   "cell_type": "markdown",
   "id": "-l1Sg8b54mQl",
   "metadata": {
    "id": "-l1Sg8b54mQl"
   },
   "source": [
    "Set-up EE environment"
   ]
  },
  {
   "cell_type": "code",
   "execution_count": 26,
   "id": "11e5d73b-1a5b-4b7e-bcfd-7f0d8c75e67a",
   "metadata": {},
   "outputs": [
    {
     "data": {
      "text/html": [
       "\n",
       "            <style>\n",
       "                .geemap-dark {\n",
       "                    --jp-widgets-color: white;\n",
       "                    --jp-widgets-label-color: white;\n",
       "                    --jp-ui-font-color1: white;\n",
       "                    --jp-layout-color2: #454545;\n",
       "                    background-color: #383838;\n",
       "                }\n",
       "\n",
       "                .geemap-dark .jupyter-button {\n",
       "                    --jp-layout-color3: #383838;\n",
       "                }\n",
       "\n",
       "                .geemap-colab {\n",
       "                    background-color: var(--colab-primary-surface-color, white);\n",
       "                }\n",
       "\n",
       "                .geemap-colab .jupyter-button {\n",
       "                    --jp-layout-color3: var(--colab-primary-surface-color, white);\n",
       "                }\n",
       "            </style>\n",
       "            "
      ],
      "text/plain": [
       "<IPython.core.display.HTML object>"
      ]
     },
     "metadata": {},
     "output_type": "display_data"
    },
    {
     "data": {
      "text/plain": [
       "True"
      ]
     },
     "execution_count": 26,
     "metadata": {},
     "output_type": "execute_result"
    }
   ],
   "source": [
    "ee.Authenticate()"
   ]
  },
  {
   "cell_type": "code",
   "execution_count": 27,
   "id": "3b64489e-3685-483e-b3ca-862c059b8b53",
   "metadata": {},
   "outputs": [
    {
     "data": {
      "text/html": [
       "\n",
       "            <style>\n",
       "                .geemap-dark {\n",
       "                    --jp-widgets-color: white;\n",
       "                    --jp-widgets-label-color: white;\n",
       "                    --jp-ui-font-color1: white;\n",
       "                    --jp-layout-color2: #454545;\n",
       "                    background-color: #383838;\n",
       "                }\n",
       "\n",
       "                .geemap-dark .jupyter-button {\n",
       "                    --jp-layout-color3: #383838;\n",
       "                }\n",
       "\n",
       "                .geemap-colab {\n",
       "                    background-color: var(--colab-primary-surface-color, white);\n",
       "                }\n",
       "\n",
       "                .geemap-colab .jupyter-button {\n",
       "                    --jp-layout-color3: var(--colab-primary-surface-color, white);\n",
       "                }\n",
       "            </style>\n",
       "            "
      ],
      "text/plain": [
       "<IPython.core.display.HTML object>"
      ]
     },
     "metadata": {},
     "output_type": "display_data"
    }
   ],
   "source": [
    "ee.Initialize()"
   ]
  },
  {
   "cell_type": "code",
   "execution_count": 25,
   "id": "lm4NPROn4loe",
   "metadata": {
    "id": "lm4NPROn4loe"
   },
   "outputs": [
    {
     "data": {
      "text/html": [
       "\n",
       "            <style>\n",
       "                .geemap-dark {\n",
       "                    --jp-widgets-color: white;\n",
       "                    --jp-widgets-label-color: white;\n",
       "                    --jp-ui-font-color1: white;\n",
       "                    --jp-layout-color2: #454545;\n",
       "                    background-color: #383838;\n",
       "                }\n",
       "\n",
       "                .geemap-dark .jupyter-button {\n",
       "                    --jp-layout-color3: #383838;\n",
       "                }\n",
       "\n",
       "                .geemap-colab {\n",
       "                    background-color: var(--colab-primary-surface-color, white);\n",
       "                }\n",
       "\n",
       "                .geemap-colab .jupyter-button {\n",
       "                    --jp-layout-color3: var(--colab-primary-surface-color, white);\n",
       "                }\n",
       "            </style>\n",
       "            "
      ],
      "text/plain": [
       "<IPython.core.display.HTML object>"
      ]
     },
     "metadata": {},
     "output_type": "display_data"
    }
   ],
   "source": [
    "ee.Authenticate()\n",
    "# ee.Initialize(project=\"YOUR_PROJECT_NAME\")\n",
    "ee.Initialize()\n",
    "# ee.Initialize(project=\"proj-gis-1234\")"
   ]
  },
  {
   "cell_type": "markdown",
   "id": "_tY_sxXy4SPA",
   "metadata": {
    "id": "_tY_sxXy4SPA"
   },
   "source": [
    "## Set-up train/val data"
   ]
  },
  {
   "cell_type": "markdown",
   "id": "GRJQm_UT5uhV",
   "metadata": {
    "id": "GRJQm_UT5uhV"
   },
   "source": [
    "Load training data - 2018, CLC"
   ]
  },
  {
   "cell_type": "code",
   "execution_count": 30,
   "id": "_I9OT5iF4iPe",
   "metadata": {
    "id": "_I9OT5iF4iPe"
   },
   "outputs": [
    {
     "data": {
      "text/html": [
       "\n",
       "            <style>\n",
       "                .geemap-dark {\n",
       "                    --jp-widgets-color: white;\n",
       "                    --jp-widgets-label-color: white;\n",
       "                    --jp-ui-font-color1: white;\n",
       "                    --jp-layout-color2: #454545;\n",
       "                    background-color: #383838;\n",
       "                }\n",
       "\n",
       "                .geemap-dark .jupyter-button {\n",
       "                    --jp-layout-color3: #383838;\n",
       "                }\n",
       "\n",
       "                .geemap-colab {\n",
       "                    background-color: var(--colab-primary-surface-color, white);\n",
       "                }\n",
       "\n",
       "                .geemap-colab .jupyter-button {\n",
       "                    --jp-layout-color3: var(--colab-primary-surface-color, white);\n",
       "                }\n",
       "            </style>\n",
       "            "
      ],
      "text/plain": [
       "<IPython.core.display.HTML object>"
      ]
     },
     "metadata": {},
     "output_type": "display_data"
    }
   ],
   "source": [
    "# Define the region of interest (ROI)\n",
    "\n",
    "# netherlands = ee.FeatureCollection(\"FAO/GAUL/2015/level0\") \\\n",
    "#                 .filter(ee.Filter.eq('ADM0_NAME', 'Luxembourg'))\n",
    "\n",
    "country_ROI = ee.FeatureCollection(\"FAO/GAUL/2015/level0\") \\\n",
    "                .filter(ee.Filter.eq('ADM0_NAME', country_full_name))\n",
    "\n",
    "# Load Sentinel-2 Image Collection\n",
    "\n",
    "# sentinel2 = ee.ImageCollection(\"COPERNICUS/S2_HARMONIZED\") \\\n",
    "#              .filterBounds(netherlands.geometry()) \\\n",
    "#              .filterDate('2018-06-01', '2018-08-31') \\\n",
    "#              .filter(ee.Filter.lt('CLOUDY_PIXEL_PERCENTAGE', 10))\n",
    "\n",
    "sentinel2 = ee.ImageCollection(\"COPERNICUS/S2_HARMONIZED\") \\\n",
    "             .filterBounds(country_ROI.geometry()) \\\n",
    "             .filterDate('2018-06-01', '2018-08-31') \\\n",
    "             .filter(ee.Filter.lt('CLOUDY_PIXEL_PERCENTAGE', 10))\n",
    "\n",
    "# Create a median composite to reduce cloud cover\n",
    "\n",
    "# mosaic_image = sentinel2.median().clip(netherlands.geometry())\n",
    "\n",
    "mosaic_image = sentinel2.median().clip(country_ROI.geometry())\n",
    "# print(mosaic_image.getInfo())"
   ]
  },
  {
   "cell_type": "markdown",
   "id": "FPiX1Imk6Oom",
   "metadata": {
    "id": "FPiX1Imk6Oom"
   },
   "source": [
    "Show on map to verify that it's loaded"
   ]
  },
  {
   "cell_type": "code",
   "execution_count": 31,
   "id": "gUE7-YsH5oim",
   "metadata": {
    "id": "gUE7-YsH5oim"
   },
   "outputs": [
    {
     "data": {
      "text/html": [
       "\n",
       "            <style>\n",
       "                .geemap-dark {\n",
       "                    --jp-widgets-color: white;\n",
       "                    --jp-widgets-label-color: white;\n",
       "                    --jp-ui-font-color1: white;\n",
       "                    --jp-layout-color2: #454545;\n",
       "                    background-color: #383838;\n",
       "                }\n",
       "\n",
       "                .geemap-dark .jupyter-button {\n",
       "                    --jp-layout-color3: #383838;\n",
       "                }\n",
       "\n",
       "                .geemap-colab {\n",
       "                    background-color: var(--colab-primary-surface-color, white);\n",
       "                }\n",
       "\n",
       "                .geemap-colab .jupyter-button {\n",
       "                    --jp-layout-color3: var(--colab-primary-surface-color, white);\n",
       "                }\n",
       "            </style>\n",
       "            "
      ],
      "text/plain": [
       "<IPython.core.display.HTML object>"
      ]
     },
     "metadata": {},
     "output_type": "display_data"
    },
    {
     "data": {
      "application/vnd.jupyter.widget-view+json": {
       "model_id": "28477c2e658b47e8ac4978d5a4c0a786",
       "version_major": 2,
       "version_minor": 0
      },
      "text/plain": [
       "Map(center=[51.37, 4.999999999999999], controls=(WidgetControl(options=['position', 'transparent_bg'], widget=…"
      ]
     },
     "execution_count": 31,
     "metadata": {},
     "output_type": "execute_result"
    }
   ],
   "source": [
    "# point = ee.Geometry.Point([5.0, 51.37])\n",
    "# bands = ['B4', 'B3', 'B2'] # Fill in this list yourself\n",
    "# vis_params = {'max': 3000, 'bands':bands} # Limit upper range so you can see detail\n",
    "\n",
    "# map = geemap.Map(height=800,width=700,center=[52.37,4.5],zoom=7)\n",
    "# map.centerObject(point, 8)\n",
    "# map.addLayer(mosaic_image, vis_params, \"Sentinel-2_2018\")\n",
    "# map"
   ]
  },
  {
   "cell_type": "code",
   "execution_count": 44,
   "id": "8695048c-7977-441e-b5ba-478ff30fb05d",
   "metadata": {},
   "outputs": [
    {
     "data": {
      "text/html": [
       "\n",
       "            <style>\n",
       "                .geemap-dark {\n",
       "                    --jp-widgets-color: white;\n",
       "                    --jp-widgets-label-color: white;\n",
       "                    --jp-ui-font-color1: white;\n",
       "                    --jp-layout-color2: #454545;\n",
       "                    background-color: #383838;\n",
       "                }\n",
       "\n",
       "                .geemap-dark .jupyter-button {\n",
       "                    --jp-layout-color3: #383838;\n",
       "                }\n",
       "\n",
       "                .geemap-colab {\n",
       "                    background-color: var(--colab-primary-surface-color, white);\n",
       "                }\n",
       "\n",
       "                .geemap-colab .jupyter-button {\n",
       "                    --jp-layout-color3: var(--colab-primary-surface-color, white);\n",
       "                }\n",
       "            </style>\n",
       "            "
      ],
      "text/plain": [
       "<IPython.core.display.HTML object>"
      ]
     },
     "metadata": {},
     "output_type": "display_data"
    }
   ],
   "source": [
    "# from ipywidgets import Widget\n",
    "# Widget.widget_types\n"
   ]
  },
  {
   "cell_type": "code",
   "execution_count": 42,
   "id": "f260da2e-5799-4dbb-ab09-e3e01a637e56",
   "metadata": {},
   "outputs": [
    {
     "data": {
      "text/html": [
       "\n",
       "            <style>\n",
       "                .geemap-dark {\n",
       "                    --jp-widgets-color: white;\n",
       "                    --jp-widgets-label-color: white;\n",
       "                    --jp-ui-font-color1: white;\n",
       "                    --jp-layout-color2: #454545;\n",
       "                    background-color: #383838;\n",
       "                }\n",
       "\n",
       "                .geemap-dark .jupyter-button {\n",
       "                    --jp-layout-color3: #383838;\n",
       "                }\n",
       "\n",
       "                .geemap-colab {\n",
       "                    background-color: var(--colab-primary-surface-color, white);\n",
       "                }\n",
       "\n",
       "                .geemap-colab .jupyter-button {\n",
       "                    --jp-layout-color3: var(--colab-primary-surface-color, white);\n",
       "                }\n",
       "            </style>\n",
       "            "
      ],
      "text/plain": [
       "<IPython.core.display.HTML object>"
      ]
     },
     "metadata": {},
     "output_type": "display_data"
    }
   ],
   "source": [
    "# !jupyter nbextension enable --py --sys-prefix ipyleaflet\n",
    "# !jupyter nbextension enable --py --sys-prefix widgetsnbextension\n"
   ]
  },
  {
   "cell_type": "code",
   "execution_count": 43,
   "id": "c9346505-212e-496f-a45b-2cae417f196b",
   "metadata": {},
   "outputs": [
    {
     "data": {
      "text/html": [
       "\n",
       "            <style>\n",
       "                .geemap-dark {\n",
       "                    --jp-widgets-color: white;\n",
       "                    --jp-widgets-label-color: white;\n",
       "                    --jp-ui-font-color1: white;\n",
       "                    --jp-layout-color2: #454545;\n",
       "                    background-color: #383838;\n",
       "                }\n",
       "\n",
       "                .geemap-dark .jupyter-button {\n",
       "                    --jp-layout-color3: #383838;\n",
       "                }\n",
       "\n",
       "                .geemap-colab {\n",
       "                    background-color: var(--colab-primary-surface-color, white);\n",
       "                }\n",
       "\n",
       "                .geemap-colab .jupyter-button {\n",
       "                    --jp-layout-color3: var(--colab-primary-surface-color, white);\n",
       "                }\n",
       "            </style>\n",
       "            "
      ],
      "text/plain": [
       "<IPython.core.display.HTML object>"
      ]
     },
     "metadata": {},
     "output_type": "display_data"
    }
   ],
   "source": [
    "# jupyter nbextension enable --py --sys-prefix ipyleaflet\n",
    "# jupyter nbextension enable --py --sys-prefix widgetsnbextension\n"
   ]
  },
  {
   "cell_type": "code",
   "execution_count": 46,
   "id": "b6a80c9d-fe85-493c-a337-ae669250e54f",
   "metadata": {},
   "outputs": [
    {
     "data": {
      "text/html": [
       "\n",
       "            <style>\n",
       "                .geemap-dark {\n",
       "                    --jp-widgets-color: white;\n",
       "                    --jp-widgets-label-color: white;\n",
       "                    --jp-ui-font-color1: white;\n",
       "                    --jp-layout-color2: #454545;\n",
       "                    background-color: #383838;\n",
       "                }\n",
       "\n",
       "                .geemap-dark .jupyter-button {\n",
       "                    --jp-layout-color3: #383838;\n",
       "                }\n",
       "\n",
       "                .geemap-colab {\n",
       "                    background-color: var(--colab-primary-surface-color, white);\n",
       "                }\n",
       "\n",
       "                .geemap-colab .jupyter-button {\n",
       "                    --jp-layout-color3: var(--colab-primary-surface-color, white);\n",
       "                }\n",
       "            </style>\n",
       "            "
      ],
      "text/plain": [
       "<IPython.core.display.HTML object>"
      ]
     },
     "metadata": {},
     "output_type": "display_data"
    },
    {
     "data": {
      "application/vnd.jupyter.widget-view+json": {
       "model_id": "eb2c61d83e6a426c97721f9cf16be8fc",
       "version_major": 2,
       "version_minor": 0
      },
      "text/plain": [
       "Map(center=[49.77709292899147, 6.095157795443893], controls=(WidgetControl(options=['position', 'transparent_b…"
      ]
     },
     "execution_count": 46,
     "metadata": {},
     "output_type": "execute_result"
    }
   ],
   "source": [
    "bands = ['B4', 'B3', 'B2'] \n",
    "vis_params = {'max': 3000, 'bands': bands}  \n",
    "\n",
    "map = geemap.Map(height=800, width=700)\n",
    "\n",
    "# dynamically center the map on the selected country (ROI)\n",
    "map.centerObject(country_ROI.geometry(), 8)\n",
    "\n",
    "# Add the mosaic image layer for the selected country\n",
    "map.addLayer(mosaic_image, vis_params, \"Sentinel-2_2018\")\n",
    "\n",
    "map"
   ]
  },
  {
   "cell_type": "markdown",
   "id": "8NEzm7xf7weH",
   "metadata": {
    "id": "8NEzm7xf7weH"
   },
   "source": [
    "Calculate variables to include"
   ]
  },
  {
   "cell_type": "code",
   "execution_count": 47,
   "id": "cjMQF_E57zIw",
   "metadata": {
    "id": "cjMQF_E57zIw"
   },
   "outputs": [
    {
     "data": {
      "text/html": [
       "\n",
       "            <style>\n",
       "                .geemap-dark {\n",
       "                    --jp-widgets-color: white;\n",
       "                    --jp-widgets-label-color: white;\n",
       "                    --jp-ui-font-color1: white;\n",
       "                    --jp-layout-color2: #454545;\n",
       "                    background-color: #383838;\n",
       "                }\n",
       "\n",
       "                .geemap-dark .jupyter-button {\n",
       "                    --jp-layout-color3: #383838;\n",
       "                }\n",
       "\n",
       "                .geemap-colab {\n",
       "                    background-color: var(--colab-primary-surface-color, white);\n",
       "                }\n",
       "\n",
       "                .geemap-colab .jupyter-button {\n",
       "                    --jp-layout-color3: var(--colab-primary-surface-color, white);\n",
       "                }\n",
       "            </style>\n",
       "            "
      ],
      "text/plain": [
       "<IPython.core.display.HTML object>"
      ]
     },
     "metadata": {},
     "output_type": "display_data"
    }
   ],
   "source": [
    "def make_s2_variables(s2_image):\n",
    "    # Calculate additional spectral indices\n",
    "    dvi = s2_image.select('B5').subtract(s2_image.select('B4')).rename('DVI')\n",
    "    ndvi = s2_image.normalizedDifference(['B5', 'B4']).rename('NDVI')\n",
    "    ndwi = s2_image.normalizedDifference(['B3', 'B5']).rename('NDWI')\n",
    "\n",
    "    # Add indices to the image\n",
    "    s2_image = s2_image.addBands([dvi, ndvi, ndwi])\n",
    "\n",
    "    # Define neighborhood size (e.g., 3x3)\n",
    "    kernel = ee.Kernel.square(radius=1)\n",
    "\n",
    "    # Calculate neighborhood statistics\n",
    "    neighborhood_vars = []\n",
    "    for band in ['DVI', 'NDVI', 'NDWI']:\n",
    "        mean = s2_image.select(band).reduceNeighborhood(\n",
    "            reducer=ee.Reducer.mean(),\n",
    "            kernel=kernel\n",
    "        ).rename(f'{band}_mean')\n",
    "\n",
    "        std_dev = s2_image.select(band).reduceNeighborhood(\n",
    "            reducer=ee.Reducer.stdDev(),\n",
    "            kernel=kernel\n",
    "        ).rename(f'{band}_stdDev')\n",
    "\n",
    "        # Add additional statistics here, such as min, max, etc., if desired.\n",
    "\n",
    "        # Append neighborhood bands to the list\n",
    "        neighborhood_vars.extend([mean, std_dev])\n",
    "\n",
    "    # Add neighborhood statistics to the image\n",
    "    s2_image = s2_image.addBands(neighborhood_vars)\n",
    "\n",
    "    return s2_image"
   ]
  },
  {
   "cell_type": "code",
   "execution_count": 48,
   "id": "oCmPdaR_74Ml",
   "metadata": {
    "id": "oCmPdaR_74Ml"
   },
   "outputs": [
    {
     "data": {
      "text/html": [
       "\n",
       "            <style>\n",
       "                .geemap-dark {\n",
       "                    --jp-widgets-color: white;\n",
       "                    --jp-widgets-label-color: white;\n",
       "                    --jp-ui-font-color1: white;\n",
       "                    --jp-layout-color2: #454545;\n",
       "                    background-color: #383838;\n",
       "                }\n",
       "\n",
       "                .geemap-dark .jupyter-button {\n",
       "                    --jp-layout-color3: #383838;\n",
       "                }\n",
       "\n",
       "                .geemap-colab {\n",
       "                    background-color: var(--colab-primary-surface-color, white);\n",
       "                }\n",
       "\n",
       "                .geemap-colab .jupyter-button {\n",
       "                    --jp-layout-color3: var(--colab-primary-surface-color, white);\n",
       "                }\n",
       "            </style>\n",
       "            "
      ],
      "text/plain": [
       "<IPython.core.display.HTML object>"
      ]
     },
     "metadata": {},
     "output_type": "display_data"
    }
   ],
   "source": [
    "mosaic_image = make_s2_variables(mosaic_image)"
   ]
  },
  {
   "cell_type": "code",
   "execution_count": 49,
   "id": "sTScJDPp8dew",
   "metadata": {
    "id": "sTScJDPp8dew"
   },
   "outputs": [
    {
     "data": {
      "text/html": [
       "\n",
       "            <style>\n",
       "                .geemap-dark {\n",
       "                    --jp-widgets-color: white;\n",
       "                    --jp-widgets-label-color: white;\n",
       "                    --jp-ui-font-color1: white;\n",
       "                    --jp-layout-color2: #454545;\n",
       "                    background-color: #383838;\n",
       "                }\n",
       "\n",
       "                .geemap-dark .jupyter-button {\n",
       "                    --jp-layout-color3: #383838;\n",
       "                }\n",
       "\n",
       "                .geemap-colab {\n",
       "                    background-color: var(--colab-primary-surface-color, white);\n",
       "                }\n",
       "\n",
       "                .geemap-colab .jupyter-button {\n",
       "                    --jp-layout-color3: var(--colab-primary-surface-color, white);\n",
       "                }\n",
       "            </style>\n",
       "            "
      ],
      "text/plain": [
       "<IPython.core.display.HTML object>"
      ]
     },
     "metadata": {},
     "output_type": "display_data"
    }
   ],
   "source": [
    "# Use these bands for prediction\n",
    "bands = ['B2', 'B3', 'B4', 'B5', 'B6', 'B7']\n",
    "indices = ['NDVI', 'DVI', 'NDWI'] # Add your index(es) band here\n",
    "img_bands = [*bands, *indices]"
   ]
  },
  {
   "cell_type": "markdown",
   "id": "44mziLGt8j4C",
   "metadata": {
    "id": "44mziLGt8j4C"
   },
   "source": [
    "Sample CORINE"
   ]
  },
  {
   "cell_type": "code",
   "execution_count": 50,
   "id": "Pacg8UcH8lHe",
   "metadata": {
    "id": "Pacg8UcH8lHe"
   },
   "outputs": [
    {
     "data": {
      "text/html": [
       "\n",
       "            <style>\n",
       "                .geemap-dark {\n",
       "                    --jp-widgets-color: white;\n",
       "                    --jp-widgets-label-color: white;\n",
       "                    --jp-ui-font-color1: white;\n",
       "                    --jp-layout-color2: #454545;\n",
       "                    background-color: #383838;\n",
       "                }\n",
       "\n",
       "                .geemap-dark .jupyter-button {\n",
       "                    --jp-layout-color3: #383838;\n",
       "                }\n",
       "\n",
       "                .geemap-colab {\n",
       "                    background-color: var(--colab-primary-surface-color, white);\n",
       "                }\n",
       "\n",
       "                .geemap-colab .jupyter-button {\n",
       "                    --jp-layout-color3: var(--colab-primary-surface-color, white);\n",
       "                }\n",
       "            </style>\n",
       "            "
      ],
      "text/plain": [
       "<IPython.core.display.HTML object>"
      ]
     },
     "metadata": {},
     "output_type": "display_data"
    }
   ],
   "source": [
    "CLC = ee.Image('COPERNICUS/CORINE/V20/100m/2012').select('landcover').clip(mosaic_image.geometry())\n",
    "lc_points = CLC.sample(\n",
    "    **{\n",
    "        'region': mosaic_image.geometry(),\n",
    "        'scale': 30,\n",
    "        'numPixels': 10000,\n",
    "        'seed': 0,\n",
    "        'geometries': True,\n",
    "    }\n",
    ")"
   ]
  },
  {
   "cell_type": "markdown",
   "id": "n7hzNmOt8tY5",
   "metadata": {
    "id": "n7hzNmOt8tY5"
   },
   "source": [
    "Reclassify to binary urban/rural"
   ]
  },
  {
   "cell_type": "code",
   "execution_count": 51,
   "id": "Hm4xWGNS8ugv",
   "metadata": {
    "id": "Hm4xWGNS8ugv"
   },
   "outputs": [
    {
     "data": {
      "text/html": [
       "\n",
       "            <style>\n",
       "                .geemap-dark {\n",
       "                    --jp-widgets-color: white;\n",
       "                    --jp-widgets-label-color: white;\n",
       "                    --jp-ui-font-color1: white;\n",
       "                    --jp-layout-color2: #454545;\n",
       "                    background-color: #383838;\n",
       "                }\n",
       "\n",
       "                .geemap-dark .jupyter-button {\n",
       "                    --jp-layout-color3: #383838;\n",
       "                }\n",
       "\n",
       "                .geemap-colab {\n",
       "                    background-color: var(--colab-primary-surface-color, white);\n",
       "                }\n",
       "\n",
       "                .geemap-colab .jupyter-button {\n",
       "                    --jp-layout-color3: var(--colab-primary-surface-color, white);\n",
       "                }\n",
       "            </style>\n",
       "            "
      ],
      "text/plain": [
       "<IPython.core.display.HTML object>"
      ]
     },
     "metadata": {},
     "output_type": "display_data"
    }
   ],
   "source": [
    "def generalize_clc_class(feature):\n",
    "    lc_value = ee.String(feature.get('landcover'))\n",
    "\n",
    "    # Check if the first character is '1'\n",
    "    set_value = ee.Algorithms.If(lc_value.slice(0, 1).equals('1'), 1, 0)\n",
    "\n",
    "    # Set the new binary value for the 'landcover' property\n",
    "    return feature.set('landcover', set_value)\n",
    "lc_reference_pts = lc_points.map(generalize_clc_class)"
   ]
  },
  {
   "cell_type": "markdown",
   "id": "th9Dl6mW9FII",
   "metadata": {
    "id": "th9Dl6mW9FII"
   },
   "source": [
    "Make train/validation splits"
   ]
  },
  {
   "cell_type": "code",
   "execution_count": 52,
   "id": "X1tMXV4w9LFb",
   "metadata": {
    "id": "X1tMXV4w9LFb"
   },
   "outputs": [
    {
     "data": {
      "text/html": [
       "\n",
       "            <style>\n",
       "                .geemap-dark {\n",
       "                    --jp-widgets-color: white;\n",
       "                    --jp-widgets-label-color: white;\n",
       "                    --jp-ui-font-color1: white;\n",
       "                    --jp-layout-color2: #454545;\n",
       "                    background-color: #383838;\n",
       "                }\n",
       "\n",
       "                .geemap-dark .jupyter-button {\n",
       "                    --jp-layout-color3: #383838;\n",
       "                }\n",
       "\n",
       "                .geemap-colab {\n",
       "                    background-color: var(--colab-primary-surface-color, white);\n",
       "                }\n",
       "\n",
       "                .geemap-colab .jupyter-button {\n",
       "                    --jp-layout-color3: var(--colab-primary-surface-color, white);\n",
       "                }\n",
       "            </style>\n",
       "            "
      ],
      "text/plain": [
       "<IPython.core.display.HTML object>"
      ]
     },
     "metadata": {},
     "output_type": "display_data"
    }
   ],
   "source": [
    "# Define the land cover labels column\n",
    "label_col = 'landcover'\n",
    "\n",
    "# Filter points by label\n",
    "positive_points = lc_reference_pts.filter(ee.Filter.eq(label_col, 1))\n",
    "negative_points = lc_reference_pts.filter(ee.Filter.eq(label_col, 0))\n",
    "\n",
    "# Allow a maximum of 2-to-1 difference in negative vs positive class sampling\n",
    "positive_sample = positive_points.randomColumn('random').limit(positive_points.size())\n",
    "negative_sample = negative_points.randomColumn('random').limit(positive_points.size().multiply(ee.Number(2)))\n",
    "\n",
    "# Merge the samples\n",
    "balanced_sample = positive_sample.merge(negative_sample)\n",
    "\n",
    "# Split into training and validation sets\n",
    "training_sample = balanced_sample.filter('random <= 0.8')\n",
    "validation_sample = balanced_sample.filter('random > 0.8')\n",
    "\n",
    "# Sample regions for training and validation datasets\n",
    "train_data = mosaic_image.select(img_bands).sampleRegions(\n",
    "    collection=training_sample, properties=[label_col], scale=100\n",
    ")\n",
    "\n",
    "val_data = mosaic_image.select(img_bands).sampleRegions(\n",
    "    collection=validation_sample, properties=[label_col], scale=100\n",
    ")"
   ]
  },
  {
   "cell_type": "markdown",
   "id": "uS-6YzaM9P5-",
   "metadata": {
    "id": "uS-6YzaM9P5-"
   },
   "source": [
    "## Optimize on train/val"
   ]
  },
  {
   "cell_type": "code",
   "execution_count": 53,
   "id": "Hv5M5UkT9X39",
   "metadata": {
    "id": "Hv5M5UkT9X39"
   },
   "outputs": [
    {
     "data": {
      "text/html": [
       "\n",
       "            <style>\n",
       "                .geemap-dark {\n",
       "                    --jp-widgets-color: white;\n",
       "                    --jp-widgets-label-color: white;\n",
       "                    --jp-ui-font-color1: white;\n",
       "                    --jp-layout-color2: #454545;\n",
       "                    background-color: #383838;\n",
       "                }\n",
       "\n",
       "                .geemap-dark .jupyter-button {\n",
       "                    --jp-layout-color3: #383838;\n",
       "                }\n",
       "\n",
       "                .geemap-colab {\n",
       "                    background-color: var(--colab-primary-surface-color, white);\n",
       "                }\n",
       "\n",
       "                .geemap-colab .jupyter-button {\n",
       "                    --jp-layout-color3: var(--colab-primary-surface-color, white);\n",
       "                }\n",
       "            </style>\n",
       "            "
      ],
      "text/plain": [
       "<IPython.core.display.HTML object>"
      ]
     },
     "metadata": {},
     "output_type": "display_data"
    }
   ],
   "source": [
    "# Train the model\n",
    "classifier = ee.Classifier.smileRandomForest(numberOfTrees=100, minLeafPopulation=2, maxNodes=50)\n",
    "trained_classifier = classifier.train(features=train_data, classProperty=label_col, inputProperties=img_bands)\n",
    "\n",
    "# Apply the classifier to the validation data\n",
    "classified_val = val_data.classify(trained_classifier)"
   ]
  },
  {
   "cell_type": "markdown",
   "id": "_r0pZTPq97XH",
   "metadata": {
    "id": "_r0pZTPq97XH"
   },
   "source": [
    "Calculate metrics"
   ]
  },
  {
   "cell_type": "code",
   "execution_count": 54,
   "id": "q7SJuNRd9Zmm",
   "metadata": {
    "id": "q7SJuNRd9Zmm"
   },
   "outputs": [
    {
     "data": {
      "text/html": [
       "\n",
       "            <style>\n",
       "                .geemap-dark {\n",
       "                    --jp-widgets-color: white;\n",
       "                    --jp-widgets-label-color: white;\n",
       "                    --jp-ui-font-color1: white;\n",
       "                    --jp-layout-color2: #454545;\n",
       "                    background-color: #383838;\n",
       "                }\n",
       "\n",
       "                .geemap-dark .jupyter-button {\n",
       "                    --jp-layout-color3: #383838;\n",
       "                }\n",
       "\n",
       "                .geemap-colab {\n",
       "                    background-color: var(--colab-primary-surface-color, white);\n",
       "                }\n",
       "\n",
       "                .geemap-colab .jupyter-button {\n",
       "                    --jp-layout-color3: var(--colab-primary-surface-color, white);\n",
       "                }\n",
       "            </style>\n",
       "            "
      ],
      "text/plain": [
       "<IPython.core.display.HTML object>"
      ]
     },
     "metadata": {},
     "output_type": "display_data"
    },
    {
     "name": "stdout",
     "output_type": "stream",
     "text": [
      "Validation Metrics:\n",
      "Accuracy: 0.8302828618968386\n",
      "Precision: 0.9427860696517413\n",
      "Recall: 0.8275109170305677\n",
      "Kappa: 0.587547433861722\n"
     ]
    }
   ],
   "source": [
    "# Calculate metrics\n",
    "confusion_matrix = classified_val.errorMatrix(label_col, 'classification')\n",
    "val_accuracy = confusion_matrix.accuracy()\n",
    "precision = confusion_matrix.producersAccuracy().get([0, 0])  # Replace [0, 0] with the indices for the desired class if needed\n",
    "recall = confusion_matrix.consumersAccuracy().get([0, 0])     # Replace [0, 0] with the indices for the desired class if needed\n",
    "kappa = confusion_matrix.kappa()\n",
    "\n",
    "# Package all metrics into a single dictionary\n",
    "metrics = ee.Dictionary({\n",
    "    'Accuracy': val_accuracy,\n",
    "    'Precision': precision,\n",
    "    'Recall': recall,\n",
    "    'Kappa': kappa\n",
    "})\n",
    "\n",
    "# Retrieve all metrics in one call\n",
    "metrics_info = metrics.getInfo()\n",
    "\n",
    "# Print all metrics\n",
    "print('Validation Metrics:')\n",
    "print(f\"Accuracy: {metrics_info['Accuracy']}\")\n",
    "print(f\"Precision: {metrics_info['Precision']}\")\n",
    "print(f\"Recall: {metrics_info['Recall']}\")\n",
    "print(f\"Kappa: {metrics_info['Kappa']}\")"
   ]
  },
  {
   "cell_type": "markdown",
   "id": "BnOR_Ouk-CFv",
   "metadata": {
    "id": "BnOR_Ouk-CFv"
   },
   "source": [
    "## Run on test set"
   ]
  },
  {
   "cell_type": "markdown",
   "id": "YjIzJ6rR-mje",
   "metadata": {
    "id": "YjIzJ6rR-mje"
   },
   "source": [
    "Load August 2024 test image"
   ]
  },
  {
   "cell_type": "code",
   "execution_count": 55,
   "id": "cL9G2aPS-ba2",
   "metadata": {
    "id": "cL9G2aPS-ba2"
   },
   "outputs": [
    {
     "data": {
      "text/html": [
       "\n",
       "            <style>\n",
       "                .geemap-dark {\n",
       "                    --jp-widgets-color: white;\n",
       "                    --jp-widgets-label-color: white;\n",
       "                    --jp-ui-font-color1: white;\n",
       "                    --jp-layout-color2: #454545;\n",
       "                    background-color: #383838;\n",
       "                }\n",
       "\n",
       "                .geemap-dark .jupyter-button {\n",
       "                    --jp-layout-color3: #383838;\n",
       "                }\n",
       "\n",
       "                .geemap-colab {\n",
       "                    background-color: var(--colab-primary-surface-color, white);\n",
       "                }\n",
       "\n",
       "                .geemap-colab .jupyter-button {\n",
       "                    --jp-layout-color3: var(--colab-primary-surface-color, white);\n",
       "                }\n",
       "            </style>\n",
       "            "
      ],
      "text/plain": [
       "<IPython.core.display.HTML object>"
      ]
     },
     "metadata": {},
     "output_type": "display_data"
    }
   ],
   "source": [
    "# Define the region of interest (ROI)\n",
    "netherlands = ee.FeatureCollection(\"FAO/GAUL/2015/level0\") \\\n",
    "                .filter(ee.Filter.eq('ADM0_NAME', 'Luxembourg'))\n",
    "\n",
    "# Load Sentinel-2 Image Collection\n",
    "test_sentinel2 = ee.ImageCollection(\"COPERNICUS/S2_HARMONIZED\") \\\n",
    "             .filterBounds(netherlands.geometry()) \\\n",
    "             .filterDate('2024-08-01', '2024-08-31') \\\n",
    "             .filter(ee.Filter.lt('CLOUDY_PIXEL_PERCENTAGE', 10))\n",
    "\n",
    "# Create a median composite to reduce cloud cover\n",
    "test_mosaic_image = sentinel2.median().clip(netherlands.geometry())\n",
    "\n",
    "# Add variables\n",
    "test_mosaic_image = make_s2_variables(test_mosaic_image)"
   ]
  },
  {
   "cell_type": "markdown",
   "id": "sx8nFANn-o_2",
   "metadata": {
    "id": "sx8nFANn-o_2"
   },
   "source": [
    "Sample small amount of pixels for testing"
   ]
  },
  {
   "cell_type": "code",
   "execution_count": 56,
   "id": "xjwC0pny-rJu",
   "metadata": {
    "id": "xjwC0pny-rJu"
   },
   "outputs": [
    {
     "data": {
      "text/html": [
       "\n",
       "            <style>\n",
       "                .geemap-dark {\n",
       "                    --jp-widgets-color: white;\n",
       "                    --jp-widgets-label-color: white;\n",
       "                    --jp-ui-font-color1: white;\n",
       "                    --jp-layout-color2: #454545;\n",
       "                    background-color: #383838;\n",
       "                }\n",
       "\n",
       "                .geemap-dark .jupyter-button {\n",
       "                    --jp-layout-color3: #383838;\n",
       "                }\n",
       "\n",
       "                .geemap-colab {\n",
       "                    background-color: var(--colab-primary-surface-color, white);\n",
       "                }\n",
       "\n",
       "                .geemap-colab .jupyter-button {\n",
       "                    --jp-layout-color3: var(--colab-primary-surface-color, white);\n",
       "                }\n",
       "            </style>\n",
       "            "
      ],
      "text/plain": [
       "<IPython.core.display.HTML object>"
      ]
     },
     "metadata": {},
     "output_type": "display_data"
    }
   ],
   "source": [
    "CLC = ee.Image('COPERNICUS/CORINE/V20/100m/2018').select('landcover').clip(test_mosaic_image.geometry())\n",
    "test_lc_points = CLC.sample(\n",
    "    **{\n",
    "        'region': test_mosaic_image.geometry(),\n",
    "        'scale': 30, #check what the resolution of corine land cover is\n",
    "        'numPixels': 10000,\n",
    "        'seed': 0,\n",
    "        'geometries': True,  # Set this to False to ignore geometries\n",
    "    }\n",
    ")\n",
    "test_lc_reference_pts = test_lc_points.map(generalize_clc_class) # Make sure to reclassify\n",
    "\n",
    "test_data = test_mosaic_image.select(img_bands).sampleRegions(\n",
    "    **{'collection': test_lc_reference_pts, 'properties': [label_col], 'scale': 100}\n",
    ")"
   ]
  },
  {
   "cell_type": "markdown",
   "id": "LxwRLRfN-zD9",
   "metadata": {
    "id": "LxwRLRfN-zD9"
   },
   "source": [
    "Test set metrics"
   ]
  },
  {
   "cell_type": "code",
   "execution_count": 57,
   "id": "T9eLm7JA-0HB",
   "metadata": {
    "id": "T9eLm7JA-0HB"
   },
   "outputs": [
    {
     "data": {
      "text/html": [
       "\n",
       "            <style>\n",
       "                .geemap-dark {\n",
       "                    --jp-widgets-color: white;\n",
       "                    --jp-widgets-label-color: white;\n",
       "                    --jp-ui-font-color1: white;\n",
       "                    --jp-layout-color2: #454545;\n",
       "                    background-color: #383838;\n",
       "                }\n",
       "\n",
       "                .geemap-dark .jupyter-button {\n",
       "                    --jp-layout-color3: #383838;\n",
       "                }\n",
       "\n",
       "                .geemap-colab {\n",
       "                    background-color: var(--colab-primary-surface-color, white);\n",
       "                }\n",
       "\n",
       "                .geemap-colab .jupyter-button {\n",
       "                    --jp-layout-color3: var(--colab-primary-surface-color, white);\n",
       "                }\n",
       "            </style>\n",
       "            "
      ],
      "text/plain": [
       "<IPython.core.display.HTML object>"
      ]
     },
     "metadata": {},
     "output_type": "display_data"
    },
    {
     "name": "stdout",
     "output_type": "stream",
     "text": [
      "Validation Metrics:\n",
      "Accuracy: 0.9283\n",
      "Precision: 0.9593205185516317\n",
      "Recall: 0.9605012867852747\n",
      "Kappa: 0.6209046600069962\n"
     ]
    }
   ],
   "source": [
    "classified_test = test_data.classify(trained_classifier)\n",
    "\n",
    "# Calculate the confusion matrix and server-side metrics\n",
    "confusion_matrix = classified_test.errorMatrix(label_col, 'classification')\n",
    "test_accuracy = confusion_matrix.accuracy()\n",
    "precision = confusion_matrix.producersAccuracy().get([0, 0])  # Replace [0, 0] with the indices for the desired class if needed\n",
    "recall = confusion_matrix.consumersAccuracy().get([0, 0])     # Replace [0, 0] with the indices for the desired class if needed\n",
    "kappa = confusion_matrix.kappa()\n",
    "\n",
    "# Package all metrics into a single dictionary\n",
    "metrics = ee.Dictionary({\n",
    "    'Accuracy': test_accuracy,\n",
    "    'Precision': precision,\n",
    "    'Recall': recall,\n",
    "    'Kappa': kappa\n",
    "})\n",
    "\n",
    "# Retrieve all metrics in one call\n",
    "metrics_info = metrics.getInfo()\n",
    "\n",
    "# Print all metrics\n",
    "print('Validation Metrics:')\n",
    "print(f\"Accuracy: {metrics_info['Accuracy']}\")\n",
    "print(f\"Precision: {metrics_info['Precision']}\")\n",
    "print(f\"Recall: {metrics_info['Recall']}\")\n",
    "print(f\"Kappa: {metrics_info['Kappa']}\")"
   ]
  },
  {
   "cell_type": "markdown",
   "id": "ZMXJCmTj-9YV",
   "metadata": {
    "id": "ZMXJCmTj-9YV"
   },
   "source": [
    "Run classifier on entire test image"
   ]
  },
  {
   "cell_type": "code",
   "execution_count": 58,
   "id": "waPHnNLv-76V",
   "metadata": {
    "id": "waPHnNLv-76V"
   },
   "outputs": [
    {
     "data": {
      "text/html": [
       "\n",
       "            <style>\n",
       "                .geemap-dark {\n",
       "                    --jp-widgets-color: white;\n",
       "                    --jp-widgets-label-color: white;\n",
       "                    --jp-ui-font-color1: white;\n",
       "                    --jp-layout-color2: #454545;\n",
       "                    background-color: #383838;\n",
       "                }\n",
       "\n",
       "                .geemap-dark .jupyter-button {\n",
       "                    --jp-layout-color3: #383838;\n",
       "                }\n",
       "\n",
       "                .geemap-colab {\n",
       "                    background-color: var(--colab-primary-surface-color, white);\n",
       "                }\n",
       "\n",
       "                .geemap-colab .jupyter-button {\n",
       "                    --jp-layout-color3: var(--colab-primary-surface-color, white);\n",
       "                }\n",
       "            </style>\n",
       "            "
      ],
      "text/plain": [
       "<IPython.core.display.HTML object>"
      ]
     },
     "metadata": {},
     "output_type": "display_data"
    },
    {
     "data": {
      "application/vnd.jupyter.widget-view+json": {
       "model_id": "eb2c61d83e6a426c97721f9cf16be8fc",
       "version_major": 2,
       "version_minor": 0
      },
      "text/plain": [
       "Map(center=[49.77709292899147, 6.095157795443893], controls=(WidgetControl(options=['position', 'transparent_b…"
      ]
     },
     "execution_count": 58,
     "metadata": {},
     "output_type": "execute_result"
    }
   ],
   "source": [
    "# Classify the test image\n",
    "classified_image = test_mosaic_image.classify(trained_classifier)\n",
    "\n",
    "# Define the color mapping dictionary\n",
    "clc_colors = {\n",
    "    0: '#FFFFFF', # Rural\n",
    "    1: '#000000', # Urban\n",
    "}\n",
    "\n",
    "# Convert string labels to numeric codes\n",
    "def classify_to_numeric(image):\n",
    "    # Create a dictionary that maps string labels to numeric values\n",
    "    label_to_numeric = {label: index for index, label in enumerate(clc_colors.keys())}\n",
    "\n",
    "    # Convert string label to numeric value\n",
    "    return image.remap(\n",
    "        list(label_to_numeric.keys()),\n",
    "        list(label_to_numeric.values())\n",
    "    )\n",
    "\n",
    "# Convert the classified image\n",
    "numeric_classified_image = classify_to_numeric(classified_image)\n",
    "\n",
    "# Generate a palette for visualization\n",
    "palette = [clc_colors[label] for label in clc_colors.keys()]\n",
    "\n",
    "# Add the numeric classified image to the map\n",
    "map.addLayer(numeric_classified_image, {'palette': palette, 'min': 0, 'max': len(clc_colors) - 1}, 'Classified Image')\n",
    "map"
   ]
  },
  {
   "cell_type": "code",
   "execution_count": 41,
   "id": "p-rnLVS8-bdZ",
   "metadata": {
    "id": "p-rnLVS8-bdZ"
   },
   "outputs": [
    {
     "data": {
      "text/html": [
       "\n",
       "            <style>\n",
       "                .geemap-dark {\n",
       "                    --jp-widgets-color: white;\n",
       "                    --jp-widgets-label-color: white;\n",
       "                    --jp-ui-font-color1: white;\n",
       "                    --jp-layout-color2: #454545;\n",
       "                    background-color: #383838;\n",
       "                }\n",
       "\n",
       "                .geemap-dark .jupyter-button {\n",
       "                    --jp-layout-color3: #383838;\n",
       "                }\n",
       "\n",
       "                .geemap-colab {\n",
       "                    background-color: var(--colab-primary-surface-color, white);\n",
       "                }\n",
       "\n",
       "                .geemap-colab .jupyter-button {\n",
       "                    --jp-layout-color3: var(--colab-primary-surface-color, white);\n",
       "                }\n",
       "            </style>\n",
       "            "
      ],
      "text/plain": [
       "<IPython.core.display.HTML object>"
      ]
     },
     "metadata": {},
     "output_type": "display_data"
    },
    {
     "data": {
      "application/vnd.jupyter.widget-view+json": {
       "model_id": "22c88ff1bebd46198ed0d15e024120e6",
       "version_major": 2,
       "version_minor": 0
      },
      "text/plain": [
       "Map(center=[51.37, 4.999999999999999], controls=(WidgetControl(options=['position', 'transparent_bg'], widget=…"
      ]
     },
     "execution_count": 41,
     "metadata": {},
     "output_type": "execute_result"
    }
   ],
   "source": [
    "# point = ee.Geometry.Point([5.0, 51.37])\n",
    "# bands = ['B4', 'B3', 'B2'] # Fill in this list yourself\n",
    "# vis_params = {'max': 3000, 'bands':bands} # Limit upper range so you can see detail\n",
    "\n",
    "# map = geemap.Map(height=800,width=700,center=[52.37,4.5],zoom=7)\n",
    "# map.centerObject(point, 8)\n",
    "# map.addLayer(test_mosaic_image, vis_params, \"test-Sentinel-2_2024\")\n",
    "# map"
   ]
  },
  {
   "cell_type": "code",
   "execution_count": 59,
   "id": "883eb0bb-2196-4acc-bbb8-1fdc13448a66",
   "metadata": {},
   "outputs": [
    {
     "data": {
      "text/html": [
       "\n",
       "            <style>\n",
       "                .geemap-dark {\n",
       "                    --jp-widgets-color: white;\n",
       "                    --jp-widgets-label-color: white;\n",
       "                    --jp-ui-font-color1: white;\n",
       "                    --jp-layout-color2: #454545;\n",
       "                    background-color: #383838;\n",
       "                }\n",
       "\n",
       "                .geemap-dark .jupyter-button {\n",
       "                    --jp-layout-color3: #383838;\n",
       "                }\n",
       "\n",
       "                .geemap-colab {\n",
       "                    background-color: var(--colab-primary-surface-color, white);\n",
       "                }\n",
       "\n",
       "                .geemap-colab .jupyter-button {\n",
       "                    --jp-layout-color3: var(--colab-primary-surface-color, white);\n",
       "                }\n",
       "            </style>\n",
       "            "
      ],
      "text/plain": [
       "<IPython.core.display.HTML object>"
      ]
     },
     "metadata": {},
     "output_type": "display_data"
    },
    {
     "data": {
      "application/vnd.jupyter.widget-view+json": {
       "model_id": "ad9d5eb56d864f548bb04947c83ff33d",
       "version_major": 2,
       "version_minor": 0
      },
      "text/plain": [
       "Map(center=[49.77709292899147, 6.095157795443893], controls=(WidgetControl(options=['position', 'transparent_b…"
      ]
     },
     "execution_count": 59,
     "metadata": {},
     "output_type": "execute_result"
    }
   ],
   "source": [
    "country_center = country_ROI.geometry().centroid()\n",
    "\n",
    "\n",
    "bands = ['B4', 'B3', 'B2']  # Fill in the bands yourself\n",
    "vis_params = {'max': 3000, 'bands': bands}  # Limit upper range so you can see detail\n",
    "\n",
    "\n",
    "map = geemap.Map(height=800, width=700)\n",
    "\n",
    "# dynamically center the map on the selected country's center\n",
    "map.centerObject(country_ROI.geometry(), 8)  \n",
    "\n",
    "map.addLayer(test_mosaic_image, vis_params, \"test-Sentinel-2_2024\")\n",
    "\n",
    "map"
   ]
  },
  {
   "cell_type": "markdown",
   "id": "LPkrvHduHyDh",
   "metadata": {
    "id": "LPkrvHduHyDh"
   },
   "source": [
    "Load computed layer to local environment"
   ]
  },
  {
   "cell_type": "code",
   "execution_count": 60,
   "id": "m1FjLJVzH2Zt",
   "metadata": {
    "id": "m1FjLJVzH2Zt"
   },
   "outputs": [
    {
     "data": {
      "text/html": [
       "\n",
       "            <style>\n",
       "                .geemap-dark {\n",
       "                    --jp-widgets-color: white;\n",
       "                    --jp-widgets-label-color: white;\n",
       "                    --jp-ui-font-color1: white;\n",
       "                    --jp-layout-color2: #454545;\n",
       "                    background-color: #383838;\n",
       "                }\n",
       "\n",
       "                .geemap-dark .jupyter-button {\n",
       "                    --jp-layout-color3: #383838;\n",
       "                }\n",
       "\n",
       "                .geemap-colab {\n",
       "                    background-color: var(--colab-primary-surface-color, white);\n",
       "                }\n",
       "\n",
       "                .geemap-colab .jupyter-button {\n",
       "                    --jp-layout-color3: var(--colab-primary-surface-color, white);\n",
       "                }\n",
       "            </style>\n",
       "            "
      ],
      "text/plain": [
       "<IPython.core.display.HTML object>"
      ]
     },
     "metadata": {},
     "output_type": "display_data"
    },
    {
     "name": "stdout",
     "output_type": "stream",
     "text": [
      "Generating URL ...\n",
      "Downloading data from https://earthengine.googleapis.com/v1/projects/earthengine-legacy/thumbnails/a14d3f6634316aa0f4ba8aa3d1d2dbff-6ff583178c3d996d7033c97edff50aa8:getPixels\n",
      "Please wait ...\n",
      "Data downloaded to C:\\Users\\lif475\\OneDrive - Vrije Universiteit Amsterdam\\Documents\\BigDatainSustainabilitySciences\\urban_rural_raster.tif\n"
     ]
    }
   ],
   "source": [
    "geemap.ee_export_image(classified_image, filename='urban_rural_raster.tif', scale=1000, file_per_band=False)\n",
    "urban_raster = rio.open('urban_rural_raster.tif')"
   ]
  },
  {
   "cell_type": "markdown",
   "id": "309a00a2-8aa1-4091-b575-31d56622fd16",
   "metadata": {},
   "source": [
    "## 3. Overlay urban and rural classification with population and Healthcare information"
   ]
  },
  {
   "cell_type": "markdown",
   "id": "7055a7db-636f-4a56-a954-62ed2546328e",
   "metadata": {},
   "source": [
    "1 is urban, 0 is rural"
   ]
  },
  {
   "cell_type": "code",
   "execution_count": 61,
   "id": "f456e034-5e81-4d99-9093-0380af66e8f9",
   "metadata": {},
   "outputs": [
    {
     "data": {
      "text/html": [
       "\n",
       "            <style>\n",
       "                .geemap-dark {\n",
       "                    --jp-widgets-color: white;\n",
       "                    --jp-widgets-label-color: white;\n",
       "                    --jp-ui-font-color1: white;\n",
       "                    --jp-layout-color2: #454545;\n",
       "                    background-color: #383838;\n",
       "                }\n",
       "\n",
       "                .geemap-dark .jupyter-button {\n",
       "                    --jp-layout-color3: #383838;\n",
       "                }\n",
       "\n",
       "                .geemap-colab {\n",
       "                    background-color: var(--colab-primary-surface-color, white);\n",
       "                }\n",
       "\n",
       "                .geemap-colab .jupyter-button {\n",
       "                    --jp-layout-color3: var(--colab-primary-surface-color, white);\n",
       "                }\n",
       "            </style>\n",
       "            "
      ],
      "text/plain": [
       "<IPython.core.display.HTML object>"
      ]
     },
     "metadata": {},
     "output_type": "display_data"
    }
   ],
   "source": [
    "urban_rural = xr.open_dataarray('urban_rural_raster.tif')\n",
    "\n",
    "values = urban_rural.sel(\n",
    "                {\n",
    "                    urban_rural.rio.x_dim: xr.DataArray(df_worldpop_.geometry.x),\n",
    "                    urban_rural.rio.y_dim: xr.DataArray(df_worldpop_.geometry.y),\n",
    "                },\n",
    "                method=\"nearest\",\n",
    "            ).values[0]\n",
    "df_worldpop_[\"urban_rural\"] = values\n",
    "df_worldpop_[\"urban_rural\"] = df_worldpop_[\"urban_rural\"].fillna(0)"
   ]
  },
  {
   "cell_type": "markdown",
   "id": "573f10a4-d0bb-4675-903f-71ffbe45358f",
   "metadata": {
    "id": "573f10a4-d0bb-4675-903f-71ffbe45358f"
   },
   "source": [
    "## 4. Clustering of Healthcare centres and population"
   ]
  },
  {
   "cell_type": "code",
   "execution_count": 62,
   "id": "09511e34-85cc-43f8-b994-a5d3f53431c2",
   "metadata": {
    "id": "09511e34-85cc-43f8-b994-a5d3f53431c2"
   },
   "outputs": [
    {
     "data": {
      "text/html": [
       "\n",
       "            <style>\n",
       "                .geemap-dark {\n",
       "                    --jp-widgets-color: white;\n",
       "                    --jp-widgets-label-color: white;\n",
       "                    --jp-ui-font-color1: white;\n",
       "                    --jp-layout-color2: #454545;\n",
       "                    background-color: #383838;\n",
       "                }\n",
       "\n",
       "                .geemap-dark .jupyter-button {\n",
       "                    --jp-layout-color3: #383838;\n",
       "                }\n",
       "\n",
       "                .geemap-colab {\n",
       "                    background-color: var(--colab-primary-surface-color, white);\n",
       "                }\n",
       "\n",
       "                .geemap-colab .jupyter-button {\n",
       "                    --jp-layout-color3: var(--colab-primary-surface-color, white);\n",
       "                }\n",
       "            </style>\n",
       "            "
      ],
      "text/plain": [
       "<IPython.core.display.HTML object>"
      ]
     },
     "metadata": {},
     "output_type": "display_data"
    },
    {
     "data": {
      "text/html": [
       "<div>\n",
       "<style scoped>\n",
       "    .dataframe tbody tr th:only-of-type {\n",
       "        vertical-align: middle;\n",
       "    }\n",
       "\n",
       "    .dataframe tbody tr th {\n",
       "        vertical-align: top;\n",
       "    }\n",
       "\n",
       "    .dataframe thead th {\n",
       "        text-align: right;\n",
       "    }\n",
       "</style>\n",
       "<table border=\"1\" class=\"dataframe\">\n",
       "  <thead>\n",
       "    <tr style=\"text-align: right;\">\n",
       "      <th></th>\n",
       "      <th>cluster</th>\n",
       "      <th>geometry</th>\n",
       "      <th>population</th>\n",
       "      <th>nearest_hospital_local_id</th>\n",
       "      <th>nearest_hospital_geometry</th>\n",
       "    </tr>\n",
       "  </thead>\n",
       "  <tbody>\n",
       "    <tr>\n",
       "      <th>0</th>\n",
       "      <td>0</td>\n",
       "      <td>POINT (6.15153 49.58031)</td>\n",
       "      <td>128651.312500</td>\n",
       "      <td>1</td>\n",
       "      <td>POINT (6.128297306122917 49.60370244201384)</td>\n",
       "    </tr>\n",
       "    <tr>\n",
       "      <th>1</th>\n",
       "      <td>1</td>\n",
       "      <td>POINT (6.32931 49.67302)</td>\n",
       "      <td>15717.392578</td>\n",
       "      <td>2</td>\n",
       "      <td>POINT (6.176428597947581 49.63239294648283)</td>\n",
       "    </tr>\n",
       "    <tr>\n",
       "      <th>2</th>\n",
       "      <td>2</td>\n",
       "      <td>POINT (6.01819 49.71938)</td>\n",
       "      <td>18540.769531</td>\n",
       "      <td>8</td>\n",
       "      <td>POINT (6.125497137582533 49.67548286167413)</td>\n",
       "    </tr>\n",
       "    <tr>\n",
       "      <th>3</th>\n",
       "      <td>3</td>\n",
       "      <td>POINT (6.40338 49.79663)</td>\n",
       "      <td>9557.767578</td>\n",
       "      <td>2</td>\n",
       "      <td>POINT (6.176428597947581 49.63239294648283)</td>\n",
       "    </tr>\n",
       "    <tr>\n",
       "      <th>4</th>\n",
       "      <td>4</td>\n",
       "      <td>POINT (5.92931 49.53396)</td>\n",
       "      <td>73094.476562</td>\n",
       "      <td>12</td>\n",
       "      <td>POINT (5.886631289416359 49.53288914400383)</td>\n",
       "    </tr>\n",
       "    <tr>\n",
       "      <th>5</th>\n",
       "      <td>5</td>\n",
       "      <td>POINT (6.15153 49.4876)</td>\n",
       "      <td>35154.476562</td>\n",
       "      <td>6</td>\n",
       "      <td>POINT (6.088783750195296 49.47060587499345)</td>\n",
       "    </tr>\n",
       "    <tr>\n",
       "      <th>6</th>\n",
       "      <td>6</td>\n",
       "      <td>POINT (6.46264 49.67302)</td>\n",
       "      <td>5642.869141</td>\n",
       "      <td>2</td>\n",
       "      <td>POINT (6.176428597947581 49.63239294648283)</td>\n",
       "    </tr>\n",
       "    <tr>\n",
       "      <th>7</th>\n",
       "      <td>7</td>\n",
       "      <td>POINT (6.13671 49.70392)</td>\n",
       "      <td>62590.195312</td>\n",
       "      <td>8</td>\n",
       "      <td>POINT (6.125497137582533 49.67548286167413)</td>\n",
       "    </tr>\n",
       "    <tr>\n",
       "      <th>8</th>\n",
       "      <td>8</td>\n",
       "      <td>POINT (6.01819 49.53396)</td>\n",
       "      <td>61558.296875</td>\n",
       "      <td>9</td>\n",
       "      <td>POINT (5.985821590636188 49.50122369975853)</td>\n",
       "    </tr>\n",
       "    <tr>\n",
       "      <th>9</th>\n",
       "      <td>9</td>\n",
       "      <td>POINT (5.81079 49.87389)</td>\n",
       "      <td>13944.097656</td>\n",
       "      <td>10</td>\n",
       "      <td>POINT (5.8253568378630085 49.75912164639861)</td>\n",
       "    </tr>\n",
       "    <tr>\n",
       "      <th>10</th>\n",
       "      <td>10</td>\n",
       "      <td>POINT (5.88486 49.71938)</td>\n",
       "      <td>25226.894531</td>\n",
       "      <td>11</td>\n",
       "      <td>POINT (5.912548337712089 49.66095224406815)</td>\n",
       "    </tr>\n",
       "    <tr>\n",
       "      <th>11</th>\n",
       "      <td>11</td>\n",
       "      <td>POINT (5.79597 49.53396)</td>\n",
       "      <td>33223.046875</td>\n",
       "      <td>12</td>\n",
       "      <td>POINT (5.886631289416359 49.53288914400383)</td>\n",
       "    </tr>\n",
       "    <tr>\n",
       "      <th>12</th>\n",
       "      <td>12</td>\n",
       "      <td>POINT (6.24042 49.81208)</td>\n",
       "      <td>23956.867188</td>\n",
       "      <td>13</td>\n",
       "      <td>POINT (6.096093002090682 49.84290986563605)</td>\n",
       "    </tr>\n",
       "    <tr>\n",
       "      <th>13</th>\n",
       "      <td>13</td>\n",
       "      <td>POINT (6.32931 49.53396)</td>\n",
       "      <td>21879.988281</td>\n",
       "      <td>14</td>\n",
       "      <td>POINT (6.173860418724089 49.62791052823996)</td>\n",
       "    </tr>\n",
       "    <tr>\n",
       "      <th>14</th>\n",
       "      <td>14</td>\n",
       "      <td>POINT (6.09227 49.93569)</td>\n",
       "      <td>28763.843750</td>\n",
       "      <td>15</td>\n",
       "      <td>POINT (6.095520633026102 49.85367960759491)</td>\n",
       "    </tr>\n",
       "    <tr>\n",
       "      <th>15</th>\n",
       "      <td>15</td>\n",
       "      <td>POINT (5.95153 50.07862)</td>\n",
       "      <td>20551.439453</td>\n",
       "      <td>16</td>\n",
       "      <td>POINT (5.934042808032211 49.96544643315656)</td>\n",
       "    </tr>\n",
       "  </tbody>\n",
       "</table>\n",
       "</div>"
      ],
      "text/plain": [
       "    cluster                  geometry     population  \\\n",
       "0         0  POINT (6.15153 49.58031)  128651.312500   \n",
       "1         1  POINT (6.32931 49.67302)   15717.392578   \n",
       "2         2  POINT (6.01819 49.71938)   18540.769531   \n",
       "3         3  POINT (6.40338 49.79663)    9557.767578   \n",
       "4         4  POINT (5.92931 49.53396)   73094.476562   \n",
       "5         5   POINT (6.15153 49.4876)   35154.476562   \n",
       "6         6  POINT (6.46264 49.67302)    5642.869141   \n",
       "7         7  POINT (6.13671 49.70392)   62590.195312   \n",
       "8         8  POINT (6.01819 49.53396)   61558.296875   \n",
       "9         9  POINT (5.81079 49.87389)   13944.097656   \n",
       "10       10  POINT (5.88486 49.71938)   25226.894531   \n",
       "11       11  POINT (5.79597 49.53396)   33223.046875   \n",
       "12       12  POINT (6.24042 49.81208)   23956.867188   \n",
       "13       13  POINT (6.32931 49.53396)   21879.988281   \n",
       "14       14  POINT (6.09227 49.93569)   28763.843750   \n",
       "15       15  POINT (5.95153 50.07862)   20551.439453   \n",
       "\n",
       "    nearest_hospital_local_id                     nearest_hospital_geometry  \n",
       "0                           1   POINT (6.128297306122917 49.60370244201384)  \n",
       "1                           2   POINT (6.176428597947581 49.63239294648283)  \n",
       "2                           8   POINT (6.125497137582533 49.67548286167413)  \n",
       "3                           2   POINT (6.176428597947581 49.63239294648283)  \n",
       "4                          12   POINT (5.886631289416359 49.53288914400383)  \n",
       "5                           6   POINT (6.088783750195296 49.47060587499345)  \n",
       "6                           2   POINT (6.176428597947581 49.63239294648283)  \n",
       "7                           8   POINT (6.125497137582533 49.67548286167413)  \n",
       "8                           9   POINT (5.985821590636188 49.50122369975853)  \n",
       "9                          10  POINT (5.8253568378630085 49.75912164639861)  \n",
       "10                         11   POINT (5.912548337712089 49.66095224406815)  \n",
       "11                         12   POINT (5.886631289416359 49.53288914400383)  \n",
       "12                         13   POINT (6.096093002090682 49.84290986563605)  \n",
       "13                         14   POINT (6.173860418724089 49.62791052823996)  \n",
       "14                         15   POINT (6.095520633026102 49.85367960759491)  \n",
       "15                         16   POINT (5.934042808032211 49.96544643315656)  "
      ]
     },
     "execution_count": 62,
     "metadata": {},
     "output_type": "execute_result"
    }
   ],
   "source": [
    "### 1st step: Add Local_ID to the HealthCenters_centroids GeoDataFrame\n",
    "HealthCenters_centroids['Local_ID'] = range(1, len(HealthCenters_centroids) + 1)\n",
    "\n",
    "# 2nd step Ensure both GeoDataFrames are in the same CRS (EPSG:4326)\n",
    "HealthCenters_centroids = HealthCenters_centroids.to_crs(epsg=4326)\n",
    "\n",
    "# Convert geometries to a list of coordinates (for KMeans)\n",
    "pop_coords = np.array([(geom.x, geom.y) for geom in df_worldpop_['geometry']])\n",
    "pop_band_data = df_worldpop_['band_data'].values\n",
    "\n",
    "# Extract the hospital coordinates\n",
    "hospital_coords = np.array([(geom.x, geom.y) for geom in HealthCenters_centroids['geometry']])\n",
    "hospital_local_ids = HealthCenters_centroids['Local_ID'].values\n",
    "hospital_geometries = HealthCenters_centroids['geometry'].values\n",
    "\n",
    "### 3rd step 3: K-Means\n",
    "kmeans = KMeans(n_clusters=len(hospital_coords), random_state=random_seed, init=hospital_coords, n_init=1)  # is using hospital locations as initial centers\n",
    "df_worldpop_['cluster'] = kmeans.fit_predict(pop_coords)\n",
    "\n",
    "# get cluster centers (latitude and longitude)\n",
    "cluster_centers = kmeans.cluster_centers_\n",
    "\n",
    "### 4th step: calculate the sum of population in each cluster\n",
    "df_worldpop_['cluster_population'] = df_worldpop_.groupby('cluster')['band_data'].transform('sum')\n",
    "\n",
    "# Create a new DataFrame for clusters and their population sums\n",
    "clusters_df = pd.DataFrame({\n",
    "    'cluster': range(len(cluster_centers)),\n",
    "    'geometry': [Point(x, y) for x, y in cluster_centers],\n",
    "    'population': df_worldpop_.groupby('cluster')['band_data'].sum().values\n",
    "})\n",
    "\n",
    "### 5th step: assign the nearest hospital to the related cluster\n",
    "# distances between each cluster center and each health facility center\n",
    "distances = cdist(cluster_centers, hospital_coords, metric='euclidean')\n",
    "\n",
    "# the index of the nearest hospital for each cluster\n",
    "nearest_hospital_idx = distances.argmin(axis=1)\n",
    "\n",
    "# assign the nearest hospital Local_ID and geometry to each cluster center\n",
    "clusters_df['nearest_hospital_local_id'] = [hospital_local_ids[idx] for idx in nearest_hospital_idx]\n",
    "clusters_df['nearest_hospital_geometry'] = [hospital_geometries[idx] for idx in nearest_hospital_idx]\n",
    "\n",
    "### 6th step: convert to GeoDataFrame and set CRS\n",
    "clusters_gdf = gpd.GeoDataFrame(clusters_df, geometry='geometry')\n",
    "clusters_gdf.set_crs(epsg=4326, inplace=True)\n",
    "\n",
    "# check the content of the resutled clusters dataframe\n",
    "clusters_gdf"
   ]
  },
  {
   "cell_type": "markdown",
   "id": "5299738d-567d-4473-aaa2-095dede18b92",
   "metadata": {
    "id": "5299738d-567d-4473-aaa2-095dede18b92"
   },
   "source": [
    "## 5. Explore and evaluate baseline results\n",
    "\n",
    "### Plot clusters"
   ]
  },
  {
   "cell_type": "code",
   "execution_count": 63,
   "id": "4735e1af-5573-4baf-83d7-6644ac7a3ad5",
   "metadata": {
    "id": "4735e1af-5573-4baf-83d7-6644ac7a3ad5"
   },
   "outputs": [
    {
     "data": {
      "text/html": [
       "\n",
       "            <style>\n",
       "                .geemap-dark {\n",
       "                    --jp-widgets-color: white;\n",
       "                    --jp-widgets-label-color: white;\n",
       "                    --jp-ui-font-color1: white;\n",
       "                    --jp-layout-color2: #454545;\n",
       "                    background-color: #383838;\n",
       "                }\n",
       "\n",
       "                .geemap-dark .jupyter-button {\n",
       "                    --jp-layout-color3: #383838;\n",
       "                }\n",
       "\n",
       "                .geemap-colab {\n",
       "                    background-color: var(--colab-primary-surface-color, white);\n",
       "                }\n",
       "\n",
       "                .geemap-colab .jupyter-button {\n",
       "                    --jp-layout-color3: var(--colab-primary-surface-color, white);\n",
       "                }\n",
       "            </style>\n",
       "            "
      ],
      "text/plain": [
       "<IPython.core.display.HTML object>"
      ]
     },
     "metadata": {},
     "output_type": "display_data"
    },
    {
     "data": {
      "image/png": "[encoded data removed]",
      "text/plain": [
       "<Figure size 1000x800 with 1 Axes>"
      ]
     },
     "metadata": {},
     "output_type": "display_data"
    }
   ],
   "source": [
    "clusters_gdf['x'] = clusters_gdf.geometry.x\n",
    "clusters_gdf['y'] = clusters_gdf.geometry.y\n",
    "\n",
    "\n",
    "HealthCenters_centroids['x'] = HealthCenters_centroids.geometry.x\n",
    "HealthCenters_centroids['y'] = HealthCenters_centroids.geometry.y\n",
    "\n",
    "\n",
    "fig, ax = plt.subplots(figsize=(10, 8))\n",
    "\n",
    "\n",
    "ax.scatter(clusters_gdf['x'], clusters_gdf['y'], color='black', marker='o', s=20, label='Cluster Centers')\n",
    "\n",
    "\n",
    "for x, y, label in zip(clusters_gdf['x'], clusters_gdf['y'], clusters_gdf['cluster']):\n",
    "    ax.text(x, y, str(label), fontsize=12, color='k')\n",
    "\n",
    "ax.scatter(HealthCenters_centroids['x'], HealthCenters_centroids['y'], color='red', marker='+', s=100, label='Hospitals')\n",
    "\n",
    "\n",
    "plt.title(\"Cluster Centers with their IDs and Hospital Locations\")\n",
    "plt.xlabel(\"Longitude\")\n",
    "plt.ylabel(\"Latitude\")\n",
    "plt.legend()\n",
    "plt.show()\n"
   ]
  },
  {
   "cell_type": "markdown",
   "id": "e3d8e5a3-ffa1-4b1a-a3e6-0e569346a78c",
   "metadata": {
    "id": "e3d8e5a3-ffa1-4b1a-a3e6-0e569346a78c"
   },
   "source": [
    "### Identify and plot population per healthcare facility"
   ]
  },
  {
   "cell_type": "code",
   "execution_count": 64,
   "id": "dc10ce38-c177-4925-a677-82c5770e9034",
   "metadata": {
    "id": "dc10ce38-c177-4925-a677-82c5770e9034"
   },
   "outputs": [
    {
     "data": {
      "text/html": [
       "\n",
       "            <style>\n",
       "                .geemap-dark {\n",
       "                    --jp-widgets-color: white;\n",
       "                    --jp-widgets-label-color: white;\n",
       "                    --jp-ui-font-color1: white;\n",
       "                    --jp-layout-color2: #454545;\n",
       "                    background-color: #383838;\n",
       "                }\n",
       "\n",
       "                .geemap-dark .jupyter-button {\n",
       "                    --jp-layout-color3: #383838;\n",
       "                }\n",
       "\n",
       "                .geemap-colab {\n",
       "                    background-color: var(--colab-primary-surface-color, white);\n",
       "                }\n",
       "\n",
       "                .geemap-colab .jupyter-button {\n",
       "                    --jp-layout-color3: var(--colab-primary-surface-color, white);\n",
       "                }\n",
       "            </style>\n",
       "            "
      ],
      "text/plain": [
       "<IPython.core.display.HTML object>"
      ]
     },
     "metadata": {},
     "output_type": "display_data"
    },
    {
     "data": {
      "text/html": [
       "<div>\n",
       "<style scoped>\n",
       "    .dataframe tbody tr th:only-of-type {\n",
       "        vertical-align: middle;\n",
       "    }\n",
       "\n",
       "    .dataframe tbody tr th {\n",
       "        vertical-align: top;\n",
       "    }\n",
       "\n",
       "    .dataframe thead th {\n",
       "        text-align: right;\n",
       "    }\n",
       "</style>\n",
       "<table border=\"1\" class=\"dataframe\">\n",
       "  <thead>\n",
       "    <tr style=\"text-align: right;\">\n",
       "      <th></th>\n",
       "      <th>Local_ID</th>\n",
       "      <th>population</th>\n",
       "    </tr>\n",
       "  </thead>\n",
       "  <tbody>\n",
       "    <tr>\n",
       "      <th>0</th>\n",
       "      <td>1</td>\n",
       "      <td>128651.312500</td>\n",
       "    </tr>\n",
       "    <tr>\n",
       "      <th>11</th>\n",
       "      <td>12</td>\n",
       "      <td>106317.523438</td>\n",
       "    </tr>\n",
       "    <tr>\n",
       "      <th>7</th>\n",
       "      <td>8</td>\n",
       "      <td>81130.968750</td>\n",
       "    </tr>\n",
       "    <tr>\n",
       "      <th>8</th>\n",
       "      <td>9</td>\n",
       "      <td>61558.296875</td>\n",
       "    </tr>\n",
       "    <tr>\n",
       "      <th>5</th>\n",
       "      <td>6</td>\n",
       "      <td>35154.476562</td>\n",
       "    </tr>\n",
       "    <tr>\n",
       "      <th>1</th>\n",
       "      <td>2</td>\n",
       "      <td>30918.029297</td>\n",
       "    </tr>\n",
       "    <tr>\n",
       "      <th>14</th>\n",
       "      <td>15</td>\n",
       "      <td>28763.843750</td>\n",
       "    </tr>\n",
       "    <tr>\n",
       "      <th>10</th>\n",
       "      <td>11</td>\n",
       "      <td>25226.894531</td>\n",
       "    </tr>\n",
       "    <tr>\n",
       "      <th>12</th>\n",
       "      <td>13</td>\n",
       "      <td>23956.867188</td>\n",
       "    </tr>\n",
       "    <tr>\n",
       "      <th>13</th>\n",
       "      <td>14</td>\n",
       "      <td>21879.988281</td>\n",
       "    </tr>\n",
       "    <tr>\n",
       "      <th>15</th>\n",
       "      <td>16</td>\n",
       "      <td>20551.439453</td>\n",
       "    </tr>\n",
       "    <tr>\n",
       "      <th>9</th>\n",
       "      <td>10</td>\n",
       "      <td>13944.097656</td>\n",
       "    </tr>\n",
       "  </tbody>\n",
       "</table>\n",
       "</div>"
      ],
      "text/plain": [
       "    Local_ID     population\n",
       "0          1  128651.312500\n",
       "11        12  106317.523438\n",
       "7          8   81130.968750\n",
       "8          9   61558.296875\n",
       "5          6   35154.476562\n",
       "1          2   30918.029297\n",
       "14        15   28763.843750\n",
       "10        11   25226.894531\n",
       "12        13   23956.867188\n",
       "13        14   21879.988281\n",
       "15        16   20551.439453\n",
       "9         10   13944.097656"
      ]
     },
     "execution_count": 64,
     "metadata": {},
     "output_type": "execute_result"
    }
   ],
   "source": [
    "# to calculate the total population in demand of services from each hospital\n",
    "hospital_population = clusters_gdf.groupby('nearest_hospital_local_id')['population'].sum().reset_index()\n",
    "\n",
    "hospital_population_merged = HealthCenters_centroids.merge(hospital_population, left_on='Local_ID', right_on='nearest_hospital_local_id', how='left')\n",
    "\n",
    "hospital_population_merged[['Local_ID', 'population']].sort_values('population',ascending=False).dropna()"
   ]
  },
  {
   "cell_type": "markdown",
   "id": "12b83859-6dfc-4b28-8fd6-297b66ed737a",
   "metadata": {
    "id": "12b83859-6dfc-4b28-8fd6-297b66ed737a",
    "scrolled": true
   },
   "source": [
    "hospital_population_merged.plot('population')"
   ]
  },
  {
   "cell_type": "code",
   "execution_count": 65,
   "id": "bb07e73c-84a2-466f-a644-4fa313b82dec",
   "metadata": {
    "id": "bb07e73c-84a2-466f-a644-4fa313b82dec"
   },
   "outputs": [
    {
     "data": {
      "text/html": [
       "\n",
       "            <style>\n",
       "                .geemap-dark {\n",
       "                    --jp-widgets-color: white;\n",
       "                    --jp-widgets-label-color: white;\n",
       "                    --jp-ui-font-color1: white;\n",
       "                    --jp-layout-color2: #454545;\n",
       "                    background-color: #383838;\n",
       "                }\n",
       "\n",
       "                .geemap-dark .jupyter-button {\n",
       "                    --jp-layout-color3: #383838;\n",
       "                }\n",
       "\n",
       "                .geemap-colab {\n",
       "                    background-color: var(--colab-primary-surface-color, white);\n",
       "                }\n",
       "\n",
       "                .geemap-colab .jupyter-button {\n",
       "                    --jp-layout-color3: var(--colab-primary-surface-color, white);\n",
       "                }\n",
       "            </style>\n",
       "            "
      ],
      "text/plain": [
       "<IPython.core.display.HTML object>"
      ]
     },
     "metadata": {},
     "output_type": "display_data"
    },
    {
     "name": "stdout",
     "output_type": "stream",
     "text": [
      "following hospitals are not assigned to any cluster:\n",
      "   Local_ID                  geometry\n",
      "2         3   POINT (6.1006 49.61807)\n",
      "3         4  POINT (6.13542 49.63111)\n",
      "4         5   POINT (5.98155 49.5017)\n",
      "6         7   POINT (6.13554 49.6317)\n"
     ]
    }
   ],
   "source": [
    "assigned_hospitals = clusters_gdf['nearest_hospital_local_id'].unique()\n",
    "\n",
    "unassigned_hospitals = HealthCenters_centroids[~HealthCenters_centroids['Local_ID'].isin(assigned_hospitals)]\n",
    "\n",
    "if unassigned_hospitals.empty:\n",
    "    print(\"All hospitals are assigned to at least one cluster.\")\n",
    "else:\n",
    "    print(\"following hospitals are not assigned to any cluster:\")\n",
    "    print(unassigned_hospitals[['Local_ID', 'geometry']])"
   ]
  },
  {
   "cell_type": "code",
   "execution_count": null,
   "id": "281204e5-8a50-4225-9521-3313a1bbf3ba",
   "metadata": {
    "id": "281204e5-8a50-4225-9521-3313a1bbf3ba"
   },
   "outputs": [],
   "source": []
  },
  {
   "cell_type": "markdown",
   "id": "3740a61b-f60c-427c-aab5-6e6e552dc57d",
   "metadata": {
    "id": "3740a61b-f60c-427c-aab5-6e6e552dc57d"
   },
   "source": [
    "## 6. Natural hazard disruption"
   ]
  },
  {
   "cell_type": "markdown",
   "id": "52d30a9c-2515-4aff-ae5f-9a15cd343061",
   "metadata": {
    "id": "52d30a9c-2515-4aff-ae5f-9a15cd343061"
   },
   "source": [
    "### Download flood data\n",
    "The flood data we will extract from a repository maintained by the European Commission Joint Research Centre. We will download river flood hazard maps from their [Flood Data Collection](https://data.jrc.ec.europa.eu/dataset/1d128b6c-a4ee-4858-9e34-6210707f3c81).\n",
    "\n",
    "Here we do not need to use an API and we also do not need to register ourselves, so we can download any of the files directly. To do so, we use the `urllib` package."
   ]
  },
  {
   "cell_type": "code",
   "execution_count": 74,
   "id": "47875fb5-c347-4ef7-bd27-ee0ef75f29af",
   "metadata": {
    "id": "47875fb5-c347-4ef7-bd27-ee0ef75f29af"
   },
   "outputs": [
    {
     "data": {
      "text/html": [
       "\n",
       "            <style>\n",
       "                .geemap-dark {\n",
       "                    --jp-widgets-color: white;\n",
       "                    --jp-widgets-label-color: white;\n",
       "                    --jp-ui-font-color1: white;\n",
       "                    --jp-layout-color2: #454545;\n",
       "                    background-color: #383838;\n",
       "                }\n",
       "\n",
       "                .geemap-dark .jupyter-button {\n",
       "                    --jp-layout-color3: #383838;\n",
       "                }\n",
       "\n",
       "                .geemap-colab {\n",
       "                    background-color: var(--colab-primary-surface-color, white);\n",
       "                }\n",
       "\n",
       "                .geemap-colab .jupyter-button {\n",
       "                    --jp-layout-color3: var(--colab-primary-surface-color, white);\n",
       "                }\n",
       "            </style>\n",
       "            "
      ],
      "text/plain": [
       "<IPython.core.display.HTML object>"
      ]
     },
     "metadata": {},
     "output_type": "display_data"
    }
   ],
   "source": [
    "## this is the link to the 1/100 flood map for Europe\n",
    "zipurl = 'https://jeodpp.jrc.ec.europa.eu/ftp/jrc-opendata/FLOODS/EuropeanMaps/floodMap_RP500.zip'\n",
    "\n",
    "# The path where the downloaded flood map will be extracted, this is the folder of this Google Collaboratory instance. NOTE: a new instance will have this directory be cleared.\n",
    "# data_path = \"\"\n",
    "data_path =r'C:\\Users\\lif475\\OneDrive - Vrije Universiteit Amsterdam\\Documents\\BigDatainSustainabilityScience'\n",
    "# and now we open and extract the data\n",
    "with urlopen(zipurl) as zipresp:\n",
    "    with ZipFile(BytesIO(zipresp.read())) as zfile:\n",
    "        zfile.extractall(data_path)"
   ]
  },
  {
   "cell_type": "markdown",
   "id": "b0ff5f7a-fc94-4429-82bb-2a94da72a887",
   "metadata": {
    "id": "b0ff5f7a-fc94-4429-82bb-2a94da72a887"
   },
   "source": [
    "### Overlay flood data with population centroids"
   ]
  },
  {
   "cell_type": "code",
   "execution_count": 75,
   "id": "e73f0bce-ad12-4be5-acbb-33dd7e2fa18d",
   "metadata": {
    "id": "e73f0bce-ad12-4be5-acbb-33dd7e2fa18d"
   },
   "outputs": [
    {
     "data": {
      "text/html": [
       "\n",
       "            <style>\n",
       "                .geemap-dark {\n",
       "                    --jp-widgets-color: white;\n",
       "                    --jp-widgets-label-color: white;\n",
       "                    --jp-ui-font-color1: white;\n",
       "                    --jp-layout-color2: #454545;\n",
       "                    background-color: #383838;\n",
       "                }\n",
       "\n",
       "                .geemap-dark .jupyter-button {\n",
       "                    --jp-layout-color3: #383838;\n",
       "                }\n",
       "\n",
       "                .geemap-colab {\n",
       "                    background-color: var(--colab-primary-surface-color, white);\n",
       "                }\n",
       "\n",
       "                .geemap-colab .jupyter-button {\n",
       "                    --jp-layout-color3: var(--colab-primary-surface-color, white);\n",
       "                }\n",
       "            </style>\n",
       "            "
      ],
      "text/plain": [
       "<IPython.core.display.HTML object>"
      ]
     },
     "metadata": {},
     "output_type": "display_data"
    }
   ],
   "source": [
    "flood_map_path = \"floodmap_EFAS_RP500_C.tif\""
   ]
  },
  {
   "cell_type": "code",
   "execution_count": 76,
   "id": "28d110b6-0ef4-41c6-acb2-8673597decd2",
   "metadata": {
    "id": "28d110b6-0ef4-41c6-acb2-8673597decd2"
   },
   "outputs": [
    {
     "data": {
      "text/html": [
       "\n",
       "            <style>\n",
       "                .geemap-dark {\n",
       "                    --jp-widgets-color: white;\n",
       "                    --jp-widgets-label-color: white;\n",
       "                    --jp-ui-font-color1: white;\n",
       "                    --jp-layout-color2: #454545;\n",
       "                    background-color: #383838;\n",
       "                }\n",
       "\n",
       "                .geemap-dark .jupyter-button {\n",
       "                    --jp-layout-color3: #383838;\n",
       "                }\n",
       "\n",
       "                .geemap-colab {\n",
       "                    background-color: var(--colab-primary-surface-color, white);\n",
       "                }\n",
       "\n",
       "                .geemap-colab .jupyter-button {\n",
       "                    --jp-layout-color3: var(--colab-primary-surface-color, white);\n",
       "                }\n",
       "            </style>\n",
       "            "
      ],
      "text/plain": [
       "<IPython.core.display.HTML object>"
      ]
     },
     "metadata": {},
     "output_type": "display_data"
    },
    {
     "data": {
      "text/html": [
       "<div><svg style=\"position: absolute; width: 0; height: 0; overflow: hidden\">\n",
       "<defs>\n",
       "<symbol id=\"icon-database\" viewBox=\"0 0 32 32\">\n",
       "<path d=\"M16 0c-8.837 0-16 2.239-16 5v4c0 2.761 7.163 5 16 5s16-2.239 16-5v-4c0-2.761-7.163-5-16-5z\"></path>\n",
       "<path d=\"M16 17c-8.837 0-16-2.239-16-5v6c0 2.761 7.163 5 16 5s16-2.239 16-5v-6c0 2.761-7.163 5-16 5z\"></path>\n",
       "<path d=\"M16 26c-8.837 0-16-2.239-16-5v6c0 2.761 7.163 5 16 5s16-2.239 16-5v-6c0 2.761-7.163 5-16 5z\"></path>\n",
       "</symbol>\n",
       "<symbol id=\"icon-file-text2\" viewBox=\"0 0 32 32\">\n",
       "<path d=\"M28.681 7.159c-0.694-0.947-1.662-2.053-2.724-3.116s-2.169-2.030-3.116-2.724c-1.612-1.182-2.393-1.319-2.841-1.319h-15.5c-1.378 0-2.5 1.121-2.5 2.5v27c0 1.378 1.122 2.5 2.5 2.5h23c1.378 0 2.5-1.122 2.5-2.5v-19.5c0-0.448-0.137-1.23-1.319-2.841zM24.543 5.457c0.959 0.959 1.712 1.825 2.268 2.543h-4.811v-4.811c0.718 0.556 1.584 1.309 2.543 2.268zM28 29.5c0 0.271-0.229 0.5-0.5 0.5h-23c-0.271 0-0.5-0.229-0.5-0.5v-27c0-0.271 0.229-0.5 0.5-0.5 0 0 15.499-0 15.5 0v7c0 0.552 0.448 1 1 1h7v19.5z\"></path>\n",
       "<path d=\"M23 26h-14c-0.552 0-1-0.448-1-1s0.448-1 1-1h14c0.552 0 1 0.448 1 1s-0.448 1-1 1z\"></path>\n",
       "<path d=\"M23 22h-14c-0.552 0-1-0.448-1-1s0.448-1 1-1h14c0.552 0 1 0.448 1 1s-0.448 1-1 1z\"></path>\n",
       "<path d=\"M23 18h-14c-0.552 0-1-0.448-1-1s0.448-1 1-1h14c0.552 0 1 0.448 1 1s-0.448 1-1 1z\"></path>\n",
       "</symbol>\n",
       "</defs>\n",
       "</svg>\n",
       "<style>/* CSS stylesheet for displaying xarray objects in jupyterlab.\n",
       " *\n",
       " */\n",
       "\n",
       ":root {\n",
       "  --xr-font-color0: var(--jp-content-font-color0, rgba(0, 0, 0, 1));\n",
       "  --xr-font-color2: var(--jp-content-font-color2, rgba(0, 0, 0, 0.54));\n",
       "  --xr-font-color3: var(--jp-content-font-color3, rgba(0, 0, 0, 0.38));\n",
       "  --xr-border-color: var(--jp-border-color2, #e0e0e0);\n",
       "  --xr-disabled-color: var(--jp-layout-color3, #bdbdbd);\n",
       "  --xr-background-color: var(--jp-layout-color0, white);\n",
       "  --xr-background-color-row-even: var(--jp-layout-color1, white);\n",
       "  --xr-background-color-row-odd: var(--jp-layout-color2, #eeeeee);\n",
       "}\n",
       "\n",
       "html[theme=dark],\n",
       "html[data-theme=dark],\n",
       "body[data-theme=dark],\n",
       "body.vscode-dark {\n",
       "  --xr-font-color0: rgba(255, 255, 255, 1);\n",
       "  --xr-font-color2: rgba(255, 255, 255, 0.54);\n",
       "  --xr-font-color3: rgba(255, 255, 255, 0.38);\n",
       "  --xr-border-color: #1F1F1F;\n",
       "  --xr-disabled-color: #515151;\n",
       "  --xr-background-color: #111111;\n",
       "  --xr-background-color-row-even: #111111;\n",
       "  --xr-background-color-row-odd: #313131;\n",
       "}\n",
       "\n",
       ".xr-wrap {\n",
       "  display: block !important;\n",
       "  min-width: 300px;\n",
       "  max-width: 700px;\n",
       "}\n",
       "\n",
       ".xr-text-repr-fallback {\n",
       "  /* fallback to plain text repr when CSS is not injected (untrusted notebook) */\n",
       "  display: none;\n",
       "}\n",
       "\n",
       ".xr-header {\n",
       "  padding-top: 6px;\n",
       "  padding-bottom: 6px;\n",
       "  margin-bottom: 4px;\n",
       "  border-bottom: solid 1px var(--xr-border-color);\n",
       "}\n",
       "\n",
       ".xr-header > div,\n",
       ".xr-header > ul {\n",
       "  display: inline;\n",
       "  margin-top: 0;\n",
       "  margin-bottom: 0;\n",
       "}\n",
       "\n",
       ".xr-obj-type,\n",
       ".xr-array-name {\n",
       "  margin-left: 2px;\n",
       "  margin-right: 10px;\n",
       "}\n",
       "\n",
       ".xr-obj-type {\n",
       "  color: var(--xr-font-color2);\n",
       "}\n",
       "\n",
       ".xr-sections {\n",
       "  padding-left: 0 !important;\n",
       "  display: grid;\n",
       "  grid-template-columns: 150px auto auto 1fr 0 20px 0 20px;\n",
       "}\n",
       "\n",
       ".xr-section-item {\n",
       "  display: contents;\n",
       "}\n",
       "\n",
       ".xr-section-item input {\n",
       "  display: inline-block;\n",
       "  opacity: 0;\n",
       "}\n",
       "\n",
       ".xr-section-item input + label {\n",
       "  color: var(--xr-disabled-color);\n",
       "}\n",
       "\n",
       ".xr-section-item input:enabled + label {\n",
       "  cursor: pointer;\n",
       "  color: var(--xr-font-color2);\n",
       "}\n",
       "\n",
       ".xr-section-item input:focus + label {\n",
       "  border: 2px solid var(--xr-font-color0);\n",
       "}\n",
       "\n",
       ".xr-section-item input:enabled + label:hover {\n",
       "  color: var(--xr-font-color0);\n",
       "}\n",
       "\n",
       ".xr-section-summary {\n",
       "  grid-column: 1;\n",
       "  color: var(--xr-font-color2);\n",
       "  font-weight: 500;\n",
       "}\n",
       "\n",
       ".xr-section-summary > span {\n",
       "  display: inline-block;\n",
       "  padding-left: 0.5em;\n",
       "}\n",
       "\n",
       ".xr-section-summary-in:disabled + label {\n",
       "  color: var(--xr-font-color2);\n",
       "}\n",
       "\n",
       ".xr-section-summary-in + label:before {\n",
       "  display: inline-block;\n",
       "  content: '►';\n",
       "  font-size: 11px;\n",
       "  width: 15px;\n",
       "  text-align: center;\n",
       "}\n",
       "\n",
       ".xr-section-summary-in:disabled + label:before {\n",
       "  color: var(--xr-disabled-color);\n",
       "}\n",
       "\n",
       ".xr-section-summary-in:checked + label:before {\n",
       "  content: '▼';\n",
       "}\n",
       "\n",
       ".xr-section-summary-in:checked + label > span {\n",
       "  display: none;\n",
       "}\n",
       "\n",
       ".xr-section-summary,\n",
       ".xr-section-inline-details {\n",
       "  padding-top: 4px;\n",
       "  padding-bottom: 4px;\n",
       "}\n",
       "\n",
       ".xr-section-inline-details {\n",
       "  grid-column: 2 / -1;\n",
       "}\n",
       "\n",
       ".xr-section-details {\n",
       "  display: none;\n",
       "  grid-column: 1 / -1;\n",
       "  margin-bottom: 5px;\n",
       "}\n",
       "\n",
       ".xr-section-summary-in:checked ~ .xr-section-details {\n",
       "  display: contents;\n",
       "}\n",
       "\n",
       ".xr-array-wrap {\n",
       "  grid-column: 1 / -1;\n",
       "  display: grid;\n",
       "  grid-template-columns: 20px auto;\n",
       "}\n",
       "\n",
       ".xr-array-wrap > label {\n",
       "  grid-column: 1;\n",
       "  vertical-align: top;\n",
       "}\n",
       "\n",
       ".xr-preview {\n",
       "  color: var(--xr-font-color3);\n",
       "}\n",
       "\n",
       ".xr-array-preview,\n",
       ".xr-array-data {\n",
       "  padding: 0 5px !important;\n",
       "  grid-column: 2;\n",
       "}\n",
       "\n",
       ".xr-array-data,\n",
       ".xr-array-in:checked ~ .xr-array-preview {\n",
       "  display: none;\n",
       "}\n",
       "\n",
       ".xr-array-in:checked ~ .xr-array-data,\n",
       ".xr-array-preview {\n",
       "  display: inline-block;\n",
       "}\n",
       "\n",
       ".xr-dim-list {\n",
       "  display: inline-block !important;\n",
       "  list-style: none;\n",
       "  padding: 0 !important;\n",
       "  margin: 0;\n",
       "}\n",
       "\n",
       ".xr-dim-list li {\n",
       "  display: inline-block;\n",
       "  padding: 0;\n",
       "  margin: 0;\n",
       "}\n",
       "\n",
       ".xr-dim-list:before {\n",
       "  content: '(';\n",
       "}\n",
       "\n",
       ".xr-dim-list:after {\n",
       "  content: ')';\n",
       "}\n",
       "\n",
       ".xr-dim-list li:not(:last-child):after {\n",
       "  content: ',';\n",
       "  padding-right: 5px;\n",
       "}\n",
       "\n",
       ".xr-has-index {\n",
       "  font-weight: bold;\n",
       "}\n",
       "\n",
       ".xr-var-list,\n",
       ".xr-var-item {\n",
       "  display: contents;\n",
       "}\n",
       "\n",
       ".xr-var-item > div,\n",
       ".xr-var-item label,\n",
       ".xr-var-item > .xr-var-name span {\n",
       "  background-color: var(--xr-background-color-row-even);\n",
       "  margin-bottom: 0;\n",
       "}\n",
       "\n",
       ".xr-var-item > .xr-var-name:hover span {\n",
       "  padding-right: 5px;\n",
       "}\n",
       "\n",
       ".xr-var-list > li:nth-child(odd) > div,\n",
       ".xr-var-list > li:nth-child(odd) > label,\n",
       ".xr-var-list > li:nth-child(odd) > .xr-var-name span {\n",
       "  background-color: var(--xr-background-color-row-odd);\n",
       "}\n",
       "\n",
       ".xr-var-name {\n",
       "  grid-column: 1;\n",
       "}\n",
       "\n",
       ".xr-var-dims {\n",
       "  grid-column: 2;\n",
       "}\n",
       "\n",
       ".xr-var-dtype {\n",
       "  grid-column: 3;\n",
       "  text-align: right;\n",
       "  color: var(--xr-font-color2);\n",
       "}\n",
       "\n",
       ".xr-var-preview {\n",
       "  grid-column: 4;\n",
       "}\n",
       "\n",
       ".xr-index-preview {\n",
       "  grid-column: 2 / 5;\n",
       "  color: var(--xr-font-color2);\n",
       "}\n",
       "\n",
       ".xr-var-name,\n",
       ".xr-var-dims,\n",
       ".xr-var-dtype,\n",
       ".xr-preview,\n",
       ".xr-attrs dt {\n",
       "  white-space: nowrap;\n",
       "  overflow: hidden;\n",
       "  text-overflow: ellipsis;\n",
       "  padding-right: 10px;\n",
       "}\n",
       "\n",
       ".xr-var-name:hover,\n",
       ".xr-var-dims:hover,\n",
       ".xr-var-dtype:hover,\n",
       ".xr-attrs dt:hover {\n",
       "  overflow: visible;\n",
       "  width: auto;\n",
       "  z-index: 1;\n",
       "}\n",
       "\n",
       ".xr-var-attrs,\n",
       ".xr-var-data,\n",
       ".xr-index-data {\n",
       "  display: none;\n",
       "  background-color: var(--xr-background-color) !important;\n",
       "  padding-bottom: 5px !important;\n",
       "}\n",
       "\n",
       ".xr-var-attrs-in:checked ~ .xr-var-attrs,\n",
       ".xr-var-data-in:checked ~ .xr-var-data,\n",
       ".xr-index-data-in:checked ~ .xr-index-data {\n",
       "  display: block;\n",
       "}\n",
       "\n",
       ".xr-var-data > table {\n",
       "  float: right;\n",
       "}\n",
       "\n",
       ".xr-var-name span,\n",
       ".xr-var-data,\n",
       ".xr-index-name div,\n",
       ".xr-index-data,\n",
       ".xr-attrs {\n",
       "  padding-left: 25px !important;\n",
       "}\n",
       "\n",
       ".xr-attrs,\n",
       ".xr-var-attrs,\n",
       ".xr-var-data,\n",
       ".xr-index-data {\n",
       "  grid-column: 1 / -1;\n",
       "}\n",
       "\n",
       "dl.xr-attrs {\n",
       "  padding: 0;\n",
       "  margin: 0;\n",
       "  display: grid;\n",
       "  grid-template-columns: 125px auto;\n",
       "}\n",
       "\n",
       ".xr-attrs dt,\n",
       ".xr-attrs dd {\n",
       "  padding: 0;\n",
       "  margin: 0;\n",
       "  float: left;\n",
       "  padding-right: 10px;\n",
       "  width: auto;\n",
       "}\n",
       "\n",
       ".xr-attrs dt {\n",
       "  font-weight: normal;\n",
       "  grid-column: 1;\n",
       "}\n",
       "\n",
       ".xr-attrs dt:hover span {\n",
       "  display: inline-block;\n",
       "  background: var(--xr-background-color);\n",
       "  padding-right: 10px;\n",
       "}\n",
       "\n",
       ".xr-attrs dd {\n",
       "  grid-column: 2;\n",
       "  white-space: pre-wrap;\n",
       "  word-break: break-all;\n",
       "}\n",
       "\n",
       ".xr-icon-database,\n",
       ".xr-icon-file-text2,\n",
       ".xr-no-icon {\n",
       "  display: inline-block;\n",
       "  vertical-align: middle;\n",
       "  width: 1em;\n",
       "  height: 1.5em !important;\n",
       "  stroke-width: 0;\n",
       "  stroke: currentColor;\n",
       "  fill: currentColor;\n",
       "}\n",
       "</style><pre class='xr-text-repr-fallback'>&lt;xarray.Dataset&gt; Size: 12GB\n",
       "Dimensions:      (band: 1, x: 63976, y: 45242)\n",
       "Coordinates:\n",
       "  * band         (band) int64 8B 1\n",
       "  * x            (x) float64 512kB 9.19e+05 9.19e+05 ... 7.316e+06 7.316e+06\n",
       "  * y            (y) float64 362kB 5.441e+06 5.44e+06 ... 9.166e+05 9.164e+05\n",
       "    spatial_ref  int64 8B ...\n",
       "Data variables:\n",
       "    band_data    (band, y, x) float32 12GB ...</pre><div class='xr-wrap' style='display:none'><div class='xr-header'><div class='xr-obj-type'>xarray.Dataset</div></div><ul class='xr-sections'><li class='xr-section-item'><input id='section-451893c9-f4ee-4007-a5ed-f57540a12384' class='xr-section-summary-in' type='checkbox' disabled ><label for='section-451893c9-f4ee-4007-a5ed-f57540a12384' class='xr-section-summary'  title='Expand/collapse section'>Dimensions:</label><div class='xr-section-inline-details'><ul class='xr-dim-list'><li><span class='xr-has-index'>band</span>: 1</li><li><span class='xr-has-index'>x</span>: 63976</li><li><span class='xr-has-index'>y</span>: 45242</li></ul></div><div class='xr-section-details'></div></li><li class='xr-section-item'><input id='section-9c74fe40-160a-473d-85d3-1f778b5b3303' class='xr-section-summary-in' type='checkbox'  checked><label for='section-9c74fe40-160a-473d-85d3-1f778b5b3303' class='xr-section-summary' >Coordinates: <span>(4)</span></label><div class='xr-section-inline-details'></div><div class='xr-section-details'><ul class='xr-var-list'><li class='xr-var-item'><div class='xr-var-name'><span class='xr-has-index'>band</span></div><div class='xr-var-dims'>(band)</div><div class='xr-var-dtype'>int64</div><div class='xr-var-preview xr-preview'>1</div><input id='attrs-e79293c0-5709-444a-9c0f-4e8186b7a861' class='xr-var-attrs-in' type='checkbox' disabled><label for='attrs-e79293c0-5709-444a-9c0f-4e8186b7a861' title='Show/Hide attributes'><svg class='icon xr-icon-file-text2'><use xlink:href='#icon-file-text2'></use></svg></label><input id='data-e363a465-77d2-4d82-9212-57e64a26b0a1' class='xr-var-data-in' type='checkbox'><label for='data-e363a465-77d2-4d82-9212-57e64a26b0a1' title='Show/Hide data repr'><svg class='icon xr-icon-database'><use xlink:href='#icon-database'></use></svg></label><div class='xr-var-attrs'><dl class='xr-attrs'></dl></div><div class='xr-var-data'><pre>array([1])</pre></div></li><li class='xr-var-item'><div class='xr-var-name'><span class='xr-has-index'>x</span></div><div class='xr-var-dims'>(x)</div><div class='xr-var-dtype'>float64</div><div class='xr-var-preview xr-preview'>9.19e+05 9.19e+05 ... 7.316e+06</div><input id='attrs-03eda6be-47ba-4269-ae06-cd80360c5a83' class='xr-var-attrs-in' type='checkbox' disabled><label for='attrs-03eda6be-47ba-4269-ae06-cd80360c5a83' title='Show/Hide attributes'><svg class='icon xr-icon-file-text2'><use xlink:href='#icon-file-text2'></use></svg></label><input id='data-3032b0dd-afc8-49b8-8631-a3b07109e18c' class='xr-var-data-in' type='checkbox'><label for='data-3032b0dd-afc8-49b8-8631-a3b07109e18c' title='Show/Hide data repr'><svg class='icon xr-icon-database'><use xlink:href='#icon-database'></use></svg></label><div class='xr-var-attrs'><dl class='xr-attrs'></dl></div><div class='xr-var-data'><pre>array([ 918950.,  919050.,  919150., ..., 7316250., 7316350., 7316450.])</pre></div></li><li class='xr-var-item'><div class='xr-var-name'><span class='xr-has-index'>y</span></div><div class='xr-var-dims'>(y)</div><div class='xr-var-dtype'>float64</div><div class='xr-var-preview xr-preview'>5.441e+06 5.44e+06 ... 9.164e+05</div><input id='attrs-dcce1ae0-633a-42e8-a70f-ecd34c3d0505' class='xr-var-attrs-in' type='checkbox' disabled><label for='attrs-dcce1ae0-633a-42e8-a70f-ecd34c3d0505' title='Show/Hide attributes'><svg class='icon xr-icon-file-text2'><use xlink:href='#icon-file-text2'></use></svg></label><input id='data-209e0363-facd-4f00-a6aa-5448e22891f4' class='xr-var-data-in' type='checkbox'><label for='data-209e0363-facd-4f00-a6aa-5448e22891f4' title='Show/Hide data repr'><svg class='icon xr-icon-database'><use xlink:href='#icon-database'></use></svg></label><div class='xr-var-attrs'><dl class='xr-attrs'></dl></div><div class='xr-var-data'><pre>array([5440550., 5440450., 5440350., ...,  916650.,  916550.,  916450.])</pre></div></li><li class='xr-var-item'><div class='xr-var-name'><span>spatial_ref</span></div><div class='xr-var-dims'>()</div><div class='xr-var-dtype'>int64</div><div class='xr-var-preview xr-preview'>...</div><input id='attrs-1b53c50a-b51f-4330-b513-36a4601088ac' class='xr-var-attrs-in' type='checkbox' ><label for='attrs-1b53c50a-b51f-4330-b513-36a4601088ac' title='Show/Hide attributes'><svg class='icon xr-icon-file-text2'><use xlink:href='#icon-file-text2'></use></svg></label><input id='data-ee51cdb4-c4ed-4886-96d2-3b18eea891c8' class='xr-var-data-in' type='checkbox'><label for='data-ee51cdb4-c4ed-4886-96d2-3b18eea891c8' title='Show/Hide data repr'><svg class='icon xr-icon-database'><use xlink:href='#icon-database'></use></svg></label><div class='xr-var-attrs'><dl class='xr-attrs'><dt><span>crs_wkt :</span></dt><dd>PROJCS[&quot;ETRS89-extended / LAEA Europe&quot;,GEOGCS[&quot;ETRS89&quot;,DATUM[&quot;European_Terrestrial_Reference_System_1989&quot;,SPHEROID[&quot;GRS 1980&quot;,6378137,298.257222101004,AUTHORITY[&quot;EPSG&quot;,&quot;7019&quot;]],AUTHORITY[&quot;EPSG&quot;,&quot;6258&quot;]],PRIMEM[&quot;Greenwich&quot;,0],UNIT[&quot;degree&quot;,0.0174532925199433,AUTHORITY[&quot;EPSG&quot;,&quot;9122&quot;]],AUTHORITY[&quot;EPSG&quot;,&quot;4258&quot;]],PROJECTION[&quot;Lambert_Azimuthal_Equal_Area&quot;],PARAMETER[&quot;latitude_of_center&quot;,52],PARAMETER[&quot;longitude_of_center&quot;,10],PARAMETER[&quot;false_easting&quot;,4321000],PARAMETER[&quot;false_northing&quot;,3210000],UNIT[&quot;metre&quot;,1],AXIS[&quot;Easting&quot;,EAST],AXIS[&quot;Northing&quot;,NORTH],AUTHORITY[&quot;EPSG&quot;,&quot;3035&quot;]]</dd><dt><span>semi_major_axis :</span></dt><dd>6378137.0</dd><dt><span>semi_minor_axis :</span></dt><dd>6356752.314140356</dd><dt><span>inverse_flattening :</span></dt><dd>298.257222101004</dd><dt><span>reference_ellipsoid_name :</span></dt><dd>GRS 1980</dd><dt><span>longitude_of_prime_meridian :</span></dt><dd>0.0</dd><dt><span>prime_meridian_name :</span></dt><dd>Greenwich</dd><dt><span>geographic_crs_name :</span></dt><dd>ETRS89</dd><dt><span>horizontal_datum_name :</span></dt><dd>European Terrestrial Reference System 1989</dd><dt><span>projected_crs_name :</span></dt><dd>ETRS89-extended / LAEA Europe</dd><dt><span>grid_mapping_name :</span></dt><dd>lambert_azimuthal_equal_area</dd><dt><span>latitude_of_projection_origin :</span></dt><dd>52.0</dd><dt><span>longitude_of_projection_origin :</span></dt><dd>10.0</dd><dt><span>false_easting :</span></dt><dd>4321000.0</dd><dt><span>false_northing :</span></dt><dd>3210000.0</dd><dt><span>spatial_ref :</span></dt><dd>PROJCS[&quot;ETRS89-extended / LAEA Europe&quot;,GEOGCS[&quot;ETRS89&quot;,DATUM[&quot;European_Terrestrial_Reference_System_1989&quot;,SPHEROID[&quot;GRS 1980&quot;,6378137,298.257222101004,AUTHORITY[&quot;EPSG&quot;,&quot;7019&quot;]],AUTHORITY[&quot;EPSG&quot;,&quot;6258&quot;]],PRIMEM[&quot;Greenwich&quot;,0],UNIT[&quot;degree&quot;,0.0174532925199433,AUTHORITY[&quot;EPSG&quot;,&quot;9122&quot;]],AUTHORITY[&quot;EPSG&quot;,&quot;4258&quot;]],PROJECTION[&quot;Lambert_Azimuthal_Equal_Area&quot;],PARAMETER[&quot;latitude_of_center&quot;,52],PARAMETER[&quot;longitude_of_center&quot;,10],PARAMETER[&quot;false_easting&quot;,4321000],PARAMETER[&quot;false_northing&quot;,3210000],UNIT[&quot;metre&quot;,1],AXIS[&quot;Easting&quot;,EAST],AXIS[&quot;Northing&quot;,NORTH],AUTHORITY[&quot;EPSG&quot;,&quot;3035&quot;]]</dd><dt><span>GeoTransform :</span></dt><dd>918900.0 100.0 0.0 5440600.0 0.0 -100.0</dd></dl></div><div class='xr-var-data'><pre>[1 values with dtype=int64]</pre></div></li></ul></div></li><li class='xr-section-item'><input id='section-6ec2f5f3-e305-4462-9310-90a321156046' class='xr-section-summary-in' type='checkbox'  checked><label for='section-6ec2f5f3-e305-4462-9310-90a321156046' class='xr-section-summary' >Data variables: <span>(1)</span></label><div class='xr-section-inline-details'></div><div class='xr-section-details'><ul class='xr-var-list'><li class='xr-var-item'><div class='xr-var-name'><span>band_data</span></div><div class='xr-var-dims'>(band, y, x)</div><div class='xr-var-dtype'>float32</div><div class='xr-var-preview xr-preview'>...</div><input id='attrs-6c00fa89-bec0-42cf-8da6-79b57d4a0640' class='xr-var-attrs-in' type='checkbox' ><label for='attrs-6c00fa89-bec0-42cf-8da6-79b57d4a0640' title='Show/Hide attributes'><svg class='icon xr-icon-file-text2'><use xlink:href='#icon-file-text2'></use></svg></label><input id='data-5af7956e-b347-4bf1-ab3f-701dae889514' class='xr-var-data-in' type='checkbox'><label for='data-5af7956e-b347-4bf1-ab3f-701dae889514' title='Show/Hide data repr'><svg class='icon xr-icon-database'><use xlink:href='#icon-database'></use></svg></label><div class='xr-var-attrs'><dl class='xr-attrs'><dt><span>AREA_OR_POINT :</span></dt><dd>Area</dd><dt><span>DataType :</span></dt><dd>Generic</dd><dt><span>RepresentationType :</span></dt><dd>ATHEMATIC</dd><dt><span>STATISTICS_COVARIANCES :</span></dt><dd>8.857045422371877</dd><dt><span>STATISTICS_MAXIMUM :</span></dt><dd>276.49700927734</dd><dt><span>STATISTICS_MEAN :</span></dt><dd>2.3875402056979</dd><dt><span>STATISTICS_MINIMUM :</span></dt><dd>0.10000000149012</dd><dt><span>STATISTICS_SKIPFACTORX :</span></dt><dd>1</dd><dt><span>STATISTICS_SKIPFACTORY :</span></dt><dd>1</dd><dt><span>STATISTICS_STDDEV :</span></dt><dd>2.976078866961</dd></dl></div><div class='xr-var-data'><pre>[2894402192 values with dtype=float32]</pre></div></li></ul></div></li><li class='xr-section-item'><input id='section-228c10f0-da80-4854-ab0e-ad633aeb8715' class='xr-section-summary-in' type='checkbox'  ><label for='section-228c10f0-da80-4854-ab0e-ad633aeb8715' class='xr-section-summary' >Indexes: <span>(3)</span></label><div class='xr-section-inline-details'></div><div class='xr-section-details'><ul class='xr-var-list'><li class='xr-var-item'><div class='xr-index-name'><div>band</div></div><div class='xr-index-preview'>PandasIndex</div><div></div><input id='index-633b3f36-50fd-46c1-8369-f4cf6505fac6' class='xr-index-data-in' type='checkbox'/><label for='index-633b3f36-50fd-46c1-8369-f4cf6505fac6' title='Show/Hide index repr'><svg class='icon xr-icon-database'><use xlink:href='#icon-database'></use></svg></label><div class='xr-index-data'><pre>PandasIndex(Index([1], dtype=&#x27;int64&#x27;, name=&#x27;band&#x27;))</pre></div></li><li class='xr-var-item'><div class='xr-index-name'><div>x</div></div><div class='xr-index-preview'>PandasIndex</div><div></div><input id='index-f262fff4-7f23-4fe4-b354-5e86c5cf2bf8' class='xr-index-data-in' type='checkbox'/><label for='index-f262fff4-7f23-4fe4-b354-5e86c5cf2bf8' title='Show/Hide index repr'><svg class='icon xr-icon-database'><use xlink:href='#icon-database'></use></svg></label><div class='xr-index-data'><pre>PandasIndex(Index([ 918950.0,  919050.0,  919150.0,  919250.0,  919350.0,  919450.0,\n",
       "        919550.0,  919650.0,  919750.0,  919850.0,\n",
       "       ...\n",
       "       7315550.0, 7315650.0, 7315750.0, 7315850.0, 7315950.0, 7316050.0,\n",
       "       7316150.0, 7316250.0, 7316350.0, 7316450.0],\n",
       "      dtype=&#x27;float64&#x27;, name=&#x27;x&#x27;, length=63976))</pre></div></li><li class='xr-var-item'><div class='xr-index-name'><div>y</div></div><div class='xr-index-preview'>PandasIndex</div><div></div><input id='index-b68dda29-2f94-48d5-845e-1bdf8bcdf78c' class='xr-index-data-in' type='checkbox'/><label for='index-b68dda29-2f94-48d5-845e-1bdf8bcdf78c' title='Show/Hide index repr'><svg class='icon xr-icon-database'><use xlink:href='#icon-database'></use></svg></label><div class='xr-index-data'><pre>PandasIndex(Index([5440550.0, 5440450.0, 5440350.0, 5440250.0, 5440150.0, 5440050.0,\n",
       "       5439950.0, 5439850.0, 5439750.0, 5439650.0,\n",
       "       ...\n",
       "        917350.0,  917250.0,  917150.0,  917050.0,  916950.0,  916850.0,\n",
       "        916750.0,  916650.0,  916550.0,  916450.0],\n",
       "      dtype=&#x27;float64&#x27;, name=&#x27;y&#x27;, length=45242))</pre></div></li></ul></div></li><li class='xr-section-item'><input id='section-fe1641d6-427f-42d2-83c5-7cec7d955f30' class='xr-section-summary-in' type='checkbox' disabled ><label for='section-fe1641d6-427f-42d2-83c5-7cec7d955f30' class='xr-section-summary'  title='Expand/collapse section'>Attributes: <span>(0)</span></label><div class='xr-section-inline-details'></div><div class='xr-section-details'><dl class='xr-attrs'></dl></div></li></ul></div></div>"
      ],
      "text/plain": [
       "<xarray.Dataset> Size: 12GB\n",
       "Dimensions:      (band: 1, x: 63976, y: 45242)\n",
       "Coordinates:\n",
       "  * band         (band) int64 8B 1\n",
       "  * x            (x) float64 512kB 9.19e+05 9.19e+05 ... 7.316e+06 7.316e+06\n",
       "  * y            (y) float64 362kB 5.441e+06 5.44e+06 ... 9.166e+05 9.164e+05\n",
       "    spatial_ref  int64 8B ...\n",
       "Data variables:\n",
       "    band_data    (band, y, x) float32 12GB ..."
      ]
     },
     "execution_count": 76,
     "metadata": {},
     "output_type": "execute_result"
    }
   ],
   "source": [
    "flood_map = xr.open_dataset(flood_map_path, engine=\"rasterio\")\n",
    "flood_map"
   ]
  },
  {
   "cell_type": "code",
   "execution_count": 77,
   "id": "f14da004-413e-4856-80e6-fdaa544aca9d",
   "metadata": {},
   "outputs": [
    {
     "data": {
      "text/html": [
       "\n",
       "            <style>\n",
       "                .geemap-dark {\n",
       "                    --jp-widgets-color: white;\n",
       "                    --jp-widgets-label-color: white;\n",
       "                    --jp-ui-font-color1: white;\n",
       "                    --jp-layout-color2: #454545;\n",
       "                    background-color: #383838;\n",
       "                }\n",
       "\n",
       "                .geemap-dark .jupyter-button {\n",
       "                    --jp-layout-color3: #383838;\n",
       "                }\n",
       "\n",
       "                .geemap-colab {\n",
       "                    background-color: var(--colab-primary-surface-color, white);\n",
       "                }\n",
       "\n",
       "                .geemap-colab .jupyter-button {\n",
       "                    --jp-layout-color3: var(--colab-primary-surface-color, white);\n",
       "                }\n",
       "            </style>\n",
       "            "
      ],
      "text/plain": [
       "<IPython.core.display.HTML object>"
      ]
     },
     "metadata": {},
     "output_type": "display_data"
    },
    {
     "name": "stderr",
     "output_type": "stream",
     "text": [
      "\n",
      "KeyboardInterrupt\n",
      "\n"
     ]
    },
    {
     "data": {
      "text/plain": [
       "<Figure size 1000x800 with 0 Axes>"
      ]
     },
     "metadata": {},
     "output_type": "display_data"
    }
   ],
   "source": [
    "\n",
    "flood_map_data = flood_map['band_data'].isel(band=0)\n",
    "\n",
    "plt.figure(figsize=(10, 8))\n",
    "flood_map_data.plot(cmap='Blues')\n",
    "plt.title(\"Flood Map RP500\")\n",
    "plt.show()\n"
   ]
  },
  {
   "cell_type": "markdown",
   "id": "399149ac-8ee4-4459-971e-9a2003ab4b4e",
   "metadata": {
    "id": "399149ac-8ee4-4459-971e-9a2003ab4b4e"
   },
   "source": [
    "### Overlay flood data with healthcare facilities"
   ]
  },
  {
   "cell_type": "code",
   "execution_count": 78,
   "id": "024a09f7-6f1c-4e15-a810-cf407daa2a48",
   "metadata": {
    "id": "024a09f7-6f1c-4e15-a810-cf407daa2a48"
   },
   "outputs": [
    {
     "data": {
      "text/html": [
       "\n",
       "            <style>\n",
       "                .geemap-dark {\n",
       "                    --jp-widgets-color: white;\n",
       "                    --jp-widgets-label-color: white;\n",
       "                    --jp-ui-font-color1: white;\n",
       "                    --jp-layout-color2: #454545;\n",
       "                    background-color: #383838;\n",
       "                }\n",
       "\n",
       "                .geemap-dark .jupyter-button {\n",
       "                    --jp-layout-color3: #383838;\n",
       "                }\n",
       "\n",
       "                .geemap-colab {\n",
       "                    background-color: var(--colab-primary-surface-color, white);\n",
       "                }\n",
       "\n",
       "                .geemap-colab .jupyter-button {\n",
       "                    --jp-layout-color3: var(--colab-primary-surface-color, white);\n",
       "                }\n",
       "            </style>\n",
       "            "
      ],
      "text/plain": [
       "<IPython.core.display.HTML object>"
      ]
     },
     "metadata": {},
     "output_type": "display_data"
    }
   ],
   "source": [
    "def _get_damage_per_object(asset, curves, cell_area_m2):\n",
    "    \"\"\"\n",
    "    Calculate damage for a given asset based on hazard information.\n",
    "    Arguments:\n",
    "        *asset*: Tuple containing information about the asset. It includes:\n",
    "            - Index or identifier of the asset (asset[0]).\n",
    "            - Asset-specific information, including hazard points (asset[1]['hazard_point']).\n",
    "        *maxdam_dict*: Maximum damage value.\n",
    "    Returns:\n",
    "        *tuple*: A tuple containing the asset index or identifier and the calculated damage.\n",
    "    \"\"\"\n",
    "\n",
    "    if asset.geometry.geom_type in (\"Polygon\", \"MultiPolygon\"):\n",
    "        coverage = asset[\"coverage\"] * cell_area_m2\n",
    "    elif asset.geometry.geom_type in (\"LineString\", \"MultiLineString\"):\n",
    "        coverage = asset[\"coverage\"]\n",
    "    elif asset.geometry.geom_type in (\"Point\"):\n",
    "        coverage = 1\n",
    "    else:\n",
    "        raise ValueError(f\"Geometry type {asset.geometry.geom_type} not supported\")\n",
    "\n",
    "    return (\n",
    "        np.sum(\n",
    "            np.interp(\n",
    "                asset[\"values\"], curves.index, curves[asset[\"amenity\"]].values\n",
    "            )\n",
    "            * coverage\n",
    "        )\n",
    "        * asset[\"maximum_damage\"]\n",
    "    )"
   ]
  },
  {
   "cell_type": "code",
   "execution_count": 79,
   "id": "48ec7696-a117-4302-9276-ac37fa369cd2",
   "metadata": {
    "id": "48ec7696-a117-4302-9276-ac37fa369cd2"
   },
   "outputs": [
    {
     "data": {
      "text/html": [
       "\n",
       "            <style>\n",
       "                .geemap-dark {\n",
       "                    --jp-widgets-color: white;\n",
       "                    --jp-widgets-label-color: white;\n",
       "                    --jp-ui-font-color1: white;\n",
       "                    --jp-layout-color2: #454545;\n",
       "                    background-color: #383838;\n",
       "                }\n",
       "\n",
       "                .geemap-dark .jupyter-button {\n",
       "                    --jp-layout-color3: #383838;\n",
       "                }\n",
       "\n",
       "                .geemap-colab {\n",
       "                    background-color: var(--colab-primary-surface-color, white);\n",
       "                }\n",
       "\n",
       "                .geemap-colab .jupyter-button {\n",
       "                    --jp-layout-color3: var(--colab-primary-surface-color, white);\n",
       "                }\n",
       "            </style>\n",
       "            "
      ],
      "text/plain": [
       "<IPython.core.display.HTML object>"
      ]
     },
     "metadata": {},
     "output_type": "display_data"
    }
   ],
   "source": [
    "maxdam = {\"hospital\":2000,\n",
    "        \"clinic\":1500,\n",
    "}\n",
    "\n",
    "curves = np.array(\n",
    "            [[0,0],\n",
    "            [50,0.2],\n",
    "            [100,0.4],\n",
    "            [150,0.6],\n",
    "            [200,0.8],\n",
    "            [250,1]])\n",
    "\n",
    "curves = np.concatenate((curves,\n",
    "                            np.transpose(np.array([curves[:,1]]*(len(maxdam)-1)))),\n",
    "                           axis=1)\n",
    "\n",
    "curves = pd.DataFrame(curves)\n",
    "curves.columns = ['depth']+list(maxdam.keys())\n",
    "curves.set_index('depth',inplace=True)"
   ]
  },
  {
   "cell_type": "code",
   "execution_count": 80,
   "id": "26e1e323-d30b-4e40-8a89-a25d1e475234",
   "metadata": {
    "id": "26e1e323-d30b-4e40-8a89-a25d1e475234",
    "scrolled": true
   },
   "outputs": [
    {
     "data": {
      "text/html": [
       "\n",
       "            <style>\n",
       "                .geemap-dark {\n",
       "                    --jp-widgets-color: white;\n",
       "                    --jp-widgets-label-color: white;\n",
       "                    --jp-ui-font-color1: white;\n",
       "                    --jp-layout-color2: #454545;\n",
       "                    background-color: #383838;\n",
       "                }\n",
       "\n",
       "                .geemap-dark .jupyter-button {\n",
       "                    --jp-layout-color3: #383838;\n",
       "                }\n",
       "\n",
       "                .geemap-colab {\n",
       "                    background-color: var(--colab-primary-surface-color, white);\n",
       "                }\n",
       "\n",
       "                .geemap-colab .jupyter-button {\n",
       "                    --jp-layout-color3: var(--colab-primary-surface-color, white);\n",
       "                }\n",
       "            </style>\n",
       "            "
      ],
      "text/plain": [
       "<IPython.core.display.HTML object>"
      ]
     },
     "metadata": {},
     "output_type": "display_data"
    },
    {
     "ename": "NameError",
     "evalue": "name 'exact_extract' is not defined",
     "output_type": "error",
     "traceback": [
      "\u001b[1;31m---------------------------------------------------------------------------\u001b[0m",
      "\u001b[1;31mNameError\u001b[0m                                 Traceback (most recent call last)",
      "Cell \u001b[1;32mIn[80], line 1\u001b[0m\n\u001b[1;32m----> 1\u001b[0m values_and_coverage_per_object \u001b[38;5;241m=\u001b[39m \u001b[43mexact_extract\u001b[49m(\n\u001b[0;32m      2\u001b[0m             flood_map,\n\u001b[0;32m      3\u001b[0m             HealthCenters,\n\u001b[0;32m      4\u001b[0m             [\u001b[38;5;124m\"\u001b[39m\u001b[38;5;124mcoverage\u001b[39m\u001b[38;5;124m\"\u001b[39m, \u001b[38;5;124m\"\u001b[39m\u001b[38;5;124mvalues\u001b[39m\u001b[38;5;124m\"\u001b[39m],\n\u001b[0;32m      5\u001b[0m             output\u001b[38;5;241m=\u001b[39m\u001b[38;5;124m\"\u001b[39m\u001b[38;5;124mpandas\u001b[39m\u001b[38;5;124m\"\u001b[39m,\n\u001b[0;32m      6\u001b[0m         )\n",
      "\u001b[1;31mNameError\u001b[0m: name 'exact_extract' is not defined"
     ]
    }
   ],
   "source": [
    "values_and_coverage_per_object = exact_extract(\n",
    "            flood_map,\n",
    "            HealthCenters,\n",
    "            [\"coverage\", \"values\"],\n",
    "            output=\"pandas\",\n",
    "        )"
   ]
  },
  {
   "cell_type": "code",
   "execution_count": null,
   "id": "811245a1-d794-4b0d-b604-1d31c2507d97",
   "metadata": {
    "id": "811245a1-d794-4b0d-b604-1d31c2507d97"
   },
   "outputs": [],
   "source": [
    "HealthCenters = HealthCenters.merge(values_and_coverage_per_object,left_index=True,right_index=True)\n"
   ]
  },
  {
   "cell_type": "code",
   "execution_count": null,
   "id": "115d6cc9-aeb9-4497-9c0e-78f7c8ef19b8",
   "metadata": {
    "id": "115d6cc9-aeb9-4497-9c0e-78f7c8ef19b8"
   },
   "outputs": [],
   "source": [
    "HealthCenters['maximum_damage'] = HealthCenters.amenity.apply(lambda x: maxdam[x])"
   ]
  },
  {
   "cell_type": "code",
   "execution_count": null,
   "id": "291a4fba-40c1-4397-a7f2-8b1665ca7ef5",
   "metadata": {
    "id": "291a4fba-40c1-4397-a7f2-8b1665ca7ef5"
   },
   "outputs": [],
   "source": [
    "HealthCenters['damage'] = HealthCenters.apply(\n",
    "        lambda _object: _get_damage_per_object(_object, curves, cell_area_m2=100*100),\n",
    "        axis=1,\n",
    "    )"
   ]
  },
  {
   "cell_type": "code",
   "execution_count": null,
   "id": "913f9757-3151-46f9-9427-f54fa58d8beb",
   "metadata": {
    "id": "913f9757-3151-46f9-9427-f54fa58d8beb"
   },
   "outputs": [],
   "source": [
    "damage"
   ]
  },
  {
   "cell_type": "markdown",
   "id": "af40b670-4810-473b-81d8-7466852d85a1",
   "metadata": {
    "id": "af40b670-4810-473b-81d8-7466852d85a1"
   },
   "source": [
    "### Recompute clustering without affected healthcare facilities"
   ]
  },
  {
   "cell_type": "code",
   "execution_count": null,
   "id": "151a2c6a-9f28-41ad-a78c-38517e5545fd",
   "metadata": {
    "id": "151a2c6a-9f28-41ad-a78c-38517e5545fd"
   },
   "outputs": [],
   "source": []
  },
  {
   "cell_type": "markdown",
   "id": "160dafed-34d4-44c8-8d9d-aa44c8dfb621",
   "metadata": {
    "id": "160dafed-34d4-44c8-8d9d-aa44c8dfb621"
   },
   "source": [
    "## 7. Visualize and summarize final results"
   ]
  },
  {
   "cell_type": "markdown",
   "id": "c412b628-014e-41ba-8c41-0722098ad006",
   "metadata": {
    "id": "c412b628-014e-41ba-8c41-0722098ad006"
   },
   "source": [
    "- population affected (and changed distance / hospital allocation)\n",
    "- hospitals affected\n",
    "- differences in urban and rural accessibility"
   ]
  },
  {
   "cell_type": "code",
   "execution_count": null,
   "id": "9463fcad-2b88-44c7-9389-8c7c9a94cbf4",
   "metadata": {
    "id": "9463fcad-2b88-44c7-9389-8c7c9a94cbf4"
   },
   "outputs": [],
   "source": []
  }
 ],
 "metadata": {
  "colab": {
   "collapsed_sections": [
    "573f10a4-d0bb-4675-903f-71ffbe45358f",
    "5299738d-567d-4473-aaa2-095dede18b92"
   ],
   "provenance": []
  },
  "kernelspec": {
   "display_name": "Python 3 (ipykernel)",
   "language": "python",
   "name": "python3"
  },
  "language_info": {
   "codemirror_mode": {
    "name": "ipython",
    "version": 3
   },
   "file_extension": ".py",
   "mimetype": "text/x-python",
   "name": "python",
   "nbconvert_exporter": "python",
   "pygments_lexer": "ipython3",
   "version": "3.11.10"
  }
 },
 "nbformat": 4,
 "nbformat_minor": 5
}
