{
 "cells": [
  {
   "cell_type": "markdown",
   "id": "ee037ada-1068-4f35-91ae-30c2ea52ca01",
   "metadata": {
    "id": "ee037ada-1068-4f35-91ae-30c2ea52ca01"
   },
   "source": [
    "# TAA4: Accessibility to healthcare facilities"
   ]
  },
  {
   "cell_type": "markdown",
   "id": "c6036316-479d-4438-b9e7-e31cf7e9051c",
   "metadata": {
    "id": "c6036316-479d-4438-b9e7-e31cf7e9051c"
   },
   "source": [
    "In this tutorial, we wrap up what you have learned in TAA1-3 by demonstrating their applications and connections. For a European country of your choice, we collect data on the population and their health facilities. Using a classification method, we add rural and urban features to the population data points. Then, with a clustering algorithm, we group population points based on their coordinates and assign each cluster to its closest hospitals. This allows us to calculate the total urban and rural demand for each hospital. Next, we assess the impact of flooding on the hospitals, distinguishing between damaged and undamaged facilities.\n",
    "\n",
    "In the aftermath of the flood, the number of hospitals in service has changed. Your task will be to repeat the clustering process, assign the new clusters to the intact hospitals, and then calculate their urban and rural demand in the post-flood conditions.\n",
    "\n",
    "### Important before we start\n",
    "---\n",
    "Make sure that you save this file before you continue, else you will lose everything. To do so, go to **Bestand/File** and click on **Een kopie opslaan in Drive/Save a Copy on Drive**!"
   ]
  },
  {
   "cell_type": "markdown",
   "id": "75f3efb3-f86a-443e-b87a-22653c771143",
   "metadata": {
    "id": "75f3efb3-f86a-443e-b87a-22653c771143"
   },
   "source": [
    "## Learning Objectives\n",
    "\n",
    "- To extract, prepare and manipulate geospatial information\n",
    "\n",
    "- To run a classification algorithm to identify urban and rural land use.\n",
    "\n",
    "- To overlay raster and vector information.\n",
    "\n",
    "- To cluster different geospatial layers.\n",
    "\n",
    "- To visualise geospatial information.\n",
    "<hr>\n",
    "\n"
   ]
  },
  {
   "cell_type": "markdown",
   "id": "59d989b6-9cc8-4a39-a17b-c96c463711dd",
   "metadata": {
    "id": "59d989b6-9cc8-4a39-a17b-c96c463711dd"
   },
   "source": [
    "## Prepare the packages\n",
    "<hr>"
   ]
  },
  {
   "cell_type": "code",
   "execution_count": 1,
   "id": "b06c7b0f-2f83-4f86-ab73-0e8d889bd164",
   "metadata": {
    "id": "b06c7b0f-2f83-4f86-ab73-0e8d889bd164"
   },
   "outputs": [],
   "source": [
    "!pip install -q rasterio rioxarray contextily osm_flex exact_extract"
   ]
  },
  {
   "cell_type": "markdown",
   "id": "bee1cfab-03df-433e-913e-62de5c0076f4",
   "metadata": {
    "id": "bee1cfab-03df-433e-913e-62de5c0076f4"
   },
   "source": [
    "Now we will import these packages in the cell below:"
   ]
  },
  {
   "cell_type": "code",
   "execution_count": 2,
   "id": "ffc10f5f-a43d-4f8f-91b1-ac7afc347ab4",
   "metadata": {
    "id": "ffc10f5f-a43d-4f8f-91b1-ac7afc347ab4"
   },
   "outputs": [],
   "source": [
    "# Standard Library Imports\n",
    "import os\n",
    "import sys\n",
    "from pathlib import Path\n",
    "from datetime import datetime\n",
    "from zipfile import ZipFile\n",
    "from io import BytesIO\n",
    "import random\n",
    "import requests\n",
    "from urllib.request import urlopen\n",
    "\n",
    "# Data Manipulation and Analysis\n",
    "import numpy as np\n",
    "import pandas as pd\n",
    "import geopandas as gpd\n",
    "import xarray as xr\n",
    "import rioxarray as rxr\n",
    "\n",
    "# Machine Learning\n",
    "import sklearn  # General import if other sklearn modules are needed\n",
    "from sklearn.ensemble import RandomForestClassifier\n",
    "from sklearn.cluster import KMeans\n",
    "\n",
    "# Geometry and Spatial Analysis\n",
    "import shapely\n",
    "from shapely.geometry import Point\n",
    "import rasterio as rio\n",
    "from rasterio.enums import Resampling\n",
    "from scipy.spatial.distance import cdist\n",
    "\n",
    "# Earth Engine and Geospatial Libraries\n",
    "import ee\n",
    "import geemap\n",
    "import contextily as cx\n",
    "import osm_flex\n",
    "from osm_flex import download\n",
    "from exactextract import exact_extract\n",
    "\n",
    "# Visualization\n",
    "import matplotlib.pyplot as plt\n",
    "import contextily as ctx\n",
    "from tqdm import tqdm  \n",
    "from IPython.display import clear_output"
   ]
  },
  {
   "cell_type": "markdown",
   "id": "bb50fef4-f456-46ca-aff7-a838766fb127",
   "metadata": {
    "id": "bb50fef4-f456-46ca-aff7-a838766fb127"
   },
   "source": [
    "## 2. Data download and preparation\n",
    "\n",
    "Define a country of your interest and a size for gridding and a randomSeed"
   ]
  },
  {
   "cell_type": "code",
   "execution_count": 3,
   "id": "da8b4246-1b98-455c-89ce-999e21e5dd27",
   "metadata": {
    "id": "da8b4246-1b98-455c-89ce-999e21e5dd27",
    "outputId": "19481c7f-23a6-4e4d-d34e-caed04646a65"
   },
   "outputs": [
    {
     "data": {
      "text/html": [
       "\n",
       "            <style>\n",
       "                .geemap-dark {\n",
       "                    --jp-widgets-color: white;\n",
       "                    --jp-widgets-label-color: white;\n",
       "                    --jp-ui-font-color1: white;\n",
       "                    --jp-layout-color2: #454545;\n",
       "                    background-color: #383838;\n",
       "                }\n",
       "\n",
       "                .geemap-dark .jupyter-button {\n",
       "                    --jp-layout-color3: #383838;\n",
       "                }\n",
       "\n",
       "                .geemap-colab {\n",
       "                    background-color: var(--colab-primary-surface-color, white);\n",
       "                }\n",
       "\n",
       "                .geemap-colab .jupyter-button {\n",
       "                    --jp-layout-color3: var(--colab-primary-surface-color, white);\n",
       "                }\n",
       "            </style>\n",
       "            "
      ],
      "text/plain": [
       "<IPython.core.display.HTML object>"
      ]
     },
     "metadata": {},
     "output_type": "display_data"
    }
   ],
   "source": [
    "country_full_name = 'Slovenia'\n",
    "country_iso3 = 'SVN'\n",
    "upscale_factor = 10 #Km\n",
    "\n",
    "### Set global seeds ###\n",
    "random_seed = 1\n",
    "np.random.seed(random_seed)\n",
    "random.seed(random_seed)\n",
    "os.environ['PYTHONHASHSEED'] = str(random_seed)"
   ]
  },
  {
   "cell_type": "markdown",
   "id": "6d8c4878-9662-4de4-9c69-b9ec0af9cda3",
   "metadata": {
    "id": "6d8c4878-9662-4de4-9c69-b9ec0af9cda3"
   },
   "source": [
    "Here, we download the population data from WorldPop, an open source platform. Select the country of interest from the WorldPop [website](https://hub.worldpop.org/geodata/listing?id=62) and add the link to the URL below."
   ]
  },
  {
   "cell_type": "code",
   "execution_count": 4,
   "id": "6eb55f91-caba-443b-a72b-688bce077b6b",
   "metadata": {
    "id": "6eb55f91-caba-443b-a72b-688bce077b6b",
    "outputId": "5cdbc571-9669-4108-9cec-2d204189b5a3"
   },
   "outputs": [
    {
     "data": {
      "text/html": [
       "\n",
       "            <style>\n",
       "                .geemap-dark {\n",
       "                    --jp-widgets-color: white;\n",
       "                    --jp-widgets-label-color: white;\n",
       "                    --jp-ui-font-color1: white;\n",
       "                    --jp-layout-color2: #454545;\n",
       "                    background-color: #383838;\n",
       "                }\n",
       "\n",
       "                .geemap-dark .jupyter-button {\n",
       "                    --jp-layout-color3: #383838;\n",
       "                }\n",
       "\n",
       "                .geemap-colab {\n",
       "                    background-color: var(--colab-primary-surface-color, white);\n",
       "                }\n",
       "\n",
       "                .geemap-colab .jupyter-button {\n",
       "                    --jp-layout-color3: var(--colab-primary-surface-color, white);\n",
       "                }\n",
       "            </style>\n",
       "            "
      ],
      "text/plain": [
       "<IPython.core.display.HTML object>"
      ]
     },
     "metadata": {},
     "output_type": "display_data"
    }
   ],
   "source": [
    "url = \"https://data.worldpop.org/GIS/Population/Global_2000_2020/2018/0_Mosaicked/ppp_2018_1km_Aggregated.tif\"\n",
    "\n",
    "file_name = 'ppp_2018_1km_Aggregated.tif'\n",
    "\n",
    "#open(file_name, 'wb').write(requests.get(url).content)\n",
    "\n",
    "file_name = \"C:\\\\Data\\\\Global_Geospatial\\\\worldpop\\\\ppp_2018_1km_Aggregated.tif\"\n",
    "\n",
    "\n",
    "world_pop_glob = xr.open_dataset(file_name,engine='rasterio')"
   ]
  },
  {
   "cell_type": "markdown",
   "id": "84d4cc8e-d8fc-495a-9337-bfb06958a553",
   "metadata": {
    "id": "84d4cc8e-d8fc-495a-9337-bfb06958a553"
   },
   "source": [
    "Now, we use a file with country borders from Natural Earth, to get boundries of the country of your interest."
   ]
  },
  {
   "cell_type": "code",
   "execution_count": 5,
   "id": "36d356c0-167b-4d4c-bfa1-67e6f3dfee46",
   "metadata": {
    "id": "36d356c0-167b-4d4c-bfa1-67e6f3dfee46",
    "outputId": "ac5d3f50-fac8-4159-ffec-41b3d4147127"
   },
   "outputs": [
    {
     "data": {
      "text/html": [
       "\n",
       "            <style>\n",
       "                .geemap-dark {\n",
       "                    --jp-widgets-color: white;\n",
       "                    --jp-widgets-label-color: white;\n",
       "                    --jp-ui-font-color1: white;\n",
       "                    --jp-layout-color2: #454545;\n",
       "                    background-color: #383838;\n",
       "                }\n",
       "\n",
       "                .geemap-dark .jupyter-button {\n",
       "                    --jp-layout-color3: #383838;\n",
       "                }\n",
       "\n",
       "                .geemap-colab {\n",
       "                    background-color: var(--colab-primary-surface-color, white);\n",
       "                }\n",
       "\n",
       "                .geemap-colab .jupyter-button {\n",
       "                    --jp-layout-color3: var(--colab-primary-surface-color, white);\n",
       "                }\n",
       "            </style>\n",
       "            "
      ],
      "text/plain": [
       "<IPython.core.display.HTML object>"
      ]
     },
     "metadata": {},
     "output_type": "display_data"
    }
   ],
   "source": [
    "world = gpd.read_file(\"https://github.com/nvkelso/natural-earth-vector/raw/master/10m_cultural/ne_10m_admin_0_countries.shp\")\n",
    "# And we want to take the country boundaries and geometry\n",
    "country_bounds = world.loc[world.ADM0_ISO == country_iso3].bounds\n",
    "country_geom = world.loc[world.ADM0_ISO == country_iso3].geometry"
   ]
  },
  {
   "cell_type": "code",
   "execution_count": 6,
   "id": "d0dbb83b-a8b4-48ee-821e-3d156677455f",
   "metadata": {},
   "outputs": [
    {
     "data": {
      "text/html": [
       "\n",
       "            <style>\n",
       "                .geemap-dark {\n",
       "                    --jp-widgets-color: white;\n",
       "                    --jp-widgets-label-color: white;\n",
       "                    --jp-ui-font-color1: white;\n",
       "                    --jp-layout-color2: #454545;\n",
       "                    background-color: #383838;\n",
       "                }\n",
       "\n",
       "                .geemap-dark .jupyter-button {\n",
       "                    --jp-layout-color3: #383838;\n",
       "                }\n",
       "\n",
       "                .geemap-colab {\n",
       "                    background-color: var(--colab-primary-surface-color, white);\n",
       "                }\n",
       "\n",
       "                .geemap-colab .jupyter-button {\n",
       "                    --jp-layout-color3: var(--colab-primary-surface-color, white);\n",
       "                }\n",
       "            </style>\n",
       "            "
      ],
      "text/plain": [
       "<IPython.core.display.HTML object>"
      ]
     },
     "metadata": {},
     "output_type": "display_data"
    },
    {
     "data": {
      "text/plain": [
       "103    POLYGON ((13.64292 45.45943, 13.64282 45.45945...\n",
       "Name: geometry, dtype: geometry"
      ]
     },
     "execution_count": 6,
     "metadata": {},
     "output_type": "execute_result"
    }
   ],
   "source": [
    "country_geom"
   ]
  },
  {
   "cell_type": "markdown",
   "id": "2d131107-2f4f-4f39-9850-df988197ee62",
   "metadata": {
    "id": "2d131107-2f4f-4f39-9850-df988197ee62"
   },
   "source": [
    "Now, we use the derived boundries to clip the population data from worldpop, to get the population of our coutnry."
   ]
  },
  {
   "cell_type": "code",
   "execution_count": 7,
   "id": "3cee77c1-0fcc-4151-b5f1-5c67870b5ab4",
   "metadata": {
    "id": "3cee77c1-0fcc-4151-b5f1-5c67870b5ab4",
    "outputId": "b2ac98f6-4aab-456d-ffe1-beb2dca3562b"
   },
   "outputs": [
    {
     "data": {
      "text/html": [
       "\n",
       "            <style>\n",
       "                .geemap-dark {\n",
       "                    --jp-widgets-color: white;\n",
       "                    --jp-widgets-label-color: white;\n",
       "                    --jp-ui-font-color1: white;\n",
       "                    --jp-layout-color2: #454545;\n",
       "                    background-color: #383838;\n",
       "                }\n",
       "\n",
       "                .geemap-dark .jupyter-button {\n",
       "                    --jp-layout-color3: #383838;\n",
       "                }\n",
       "\n",
       "                .geemap-colab {\n",
       "                    background-color: var(--colab-primary-surface-color, white);\n",
       "                }\n",
       "\n",
       "                .geemap-colab .jupyter-button {\n",
       "                    --jp-layout-color3: var(--colab-primary-surface-color, white);\n",
       "                }\n",
       "            </style>\n",
       "            "
      ],
      "text/plain": [
       "<IPython.core.display.HTML object>"
      ]
     },
     "metadata": {},
     "output_type": "display_data"
    }
   ],
   "source": [
    "# clip to country\n",
    "world_pop_national = world_pop_glob.rio.clip_box(minx=country_bounds.minx.values[0],\n",
    "                     miny=country_bounds.miny.values[0],\n",
    "                     maxx=country_bounds.maxx.values[0],\n",
    "                     maxy=country_bounds.maxy.values[0]\n",
    "                    )\n",
    "world_pop_national = world_pop_national.rio.clip(country_geom.values, world_pop_glob.rio.crs, drop=False)"
   ]
  },
  {
   "cell_type": "markdown",
   "id": "ab6155b2-3e5b-4f0d-85b1-0f45d5b5f31f",
   "metadata": {
    "id": "ab6155b2-3e5b-4f0d-85b1-0f45d5b5f31f"
   },
   "source": [
    "The worldpop data, however, is stored as 1km by 1km grid. This will be too computationally intensive if we would use that resolution. As such, we reproject the to a lower resolution. This will help us to perform the analyis more smoothly. We use the *upscale_factor* as defined at the start of this subsection."
   ]
  },
  {
   "cell_type": "code",
   "execution_count": 8,
   "id": "0834501f-2e00-4dce-b91c-8101fcdffb74",
   "metadata": {
    "id": "0834501f-2e00-4dce-b91c-8101fcdffb74",
    "outputId": "9249e16c-68b7-4761-a8ad-e36a1f3175d2"
   },
   "outputs": [
    {
     "data": {
      "text/html": [
       "\n",
       "            <style>\n",
       "                .geemap-dark {\n",
       "                    --jp-widgets-color: white;\n",
       "                    --jp-widgets-label-color: white;\n",
       "                    --jp-ui-font-color1: white;\n",
       "                    --jp-layout-color2: #454545;\n",
       "                    background-color: #383838;\n",
       "                }\n",
       "\n",
       "                .geemap-dark .jupyter-button {\n",
       "                    --jp-layout-color3: #383838;\n",
       "                }\n",
       "\n",
       "                .geemap-colab {\n",
       "                    background-color: var(--colab-primary-surface-color, white);\n",
       "                }\n",
       "\n",
       "                .geemap-colab .jupyter-button {\n",
       "                    --jp-layout-color3: var(--colab-primary-surface-color, white);\n",
       "                }\n",
       "            </style>\n",
       "            "
      ],
      "text/plain": [
       "<IPython.core.display.HTML object>"
      ]
     },
     "metadata": {},
     "output_type": "display_data"
    }
   ],
   "source": [
    "new_width = int(world_pop_national.rio.width / upscale_factor)\n",
    "new_height = int(world_pop_national.rio.height / upscale_factor)\n",
    "\n",
    "worldpop_Grided = world_pop_national.rio.reproject(\n",
    "    world_pop_national.rio.crs,\n",
    "    shape=(new_height, new_width),\n",
    "    resampling=Resampling.sum,\n",
    ")"
   ]
  },
  {
   "cell_type": "markdown",
   "id": "17062d77-f2a0-47ff-ac8b-759d09fc8b97",
   "metadata": {
    "id": "9ab78ba1-1d06-4a76-8092-b989a5842f00"
   },
   "source": [
    "Now we remove the missing data from our data points and create a GeoDataFrame for our country. "
   ]
  },
  {
   "cell_type": "code",
   "execution_count": 9,
   "id": "256c59b1-c8cb-40ef-9d4d-6c30e05e2861",
   "metadata": {
    "id": "256c59b1-c8cb-40ef-9d4d-6c30e05e2861",
    "outputId": "5da3bf85-5663-49bd-803c-0046f63ec4ac"
   },
   "outputs": [
    {
     "data": {
      "text/html": [
       "\n",
       "            <style>\n",
       "                .geemap-dark {\n",
       "                    --jp-widgets-color: white;\n",
       "                    --jp-widgets-label-color: white;\n",
       "                    --jp-ui-font-color1: white;\n",
       "                    --jp-layout-color2: #454545;\n",
       "                    background-color: #383838;\n",
       "                }\n",
       "\n",
       "                .geemap-dark .jupyter-button {\n",
       "                    --jp-layout-color3: #383838;\n",
       "                }\n",
       "\n",
       "                .geemap-colab {\n",
       "                    background-color: var(--colab-primary-surface-color, white);\n",
       "                }\n",
       "\n",
       "                .geemap-colab .jupyter-button {\n",
       "                    --jp-layout-color3: var(--colab-primary-surface-color, white);\n",
       "                }\n",
       "            </style>\n",
       "            "
      ],
      "text/plain": [
       "<IPython.core.display.HTML object>"
      ]
     },
     "metadata": {},
     "output_type": "display_data"
    },
    {
     "name": "stdout",
     "output_type": "stream",
     "text": [
      "The output is df_pop_SVN as a dataframe of the population data of Slovenia\n"
     ]
    }
   ],
   "source": [
    "df_worldpop_ = worldpop_Grided.band_data.to_dataframe()\n",
    "df_worldpop_ = df_worldpop_.loc[~df_worldpop_.band_data.isna()].reset_index(drop=False)\n",
    "\n",
    "# create geometry values and drop lat lon columns\n",
    "df_worldpop_['geometry'] = shapely.points(np.array(list(zip(df_worldpop_['x'],df_worldpop_['y']))))\n",
    "\n",
    "df_worldpop_ = gpd.GeoDataFrame(df_worldpop_.drop(['y','x','spatial_ref','band'],axis=1))\n",
    "\n",
    "# dynamically create a variable name for the DataFrame\n",
    "globals()[f'df_pop_{country_iso3}'] = gpd.GeoDataFrame(df_worldpop_)\n",
    "\n",
    "# dynamically create a print statement that reflects the current country code\n",
    "print(f\"The output is df_pop_{country_iso3} as a dataframe of the population data of {country_full_name}\")"
   ]
  },
  {
   "cell_type": "markdown",
   "id": "9d91ef78-094c-40f4-8142-3f100934ccbc",
   "metadata": {},
   "source": [
    "And Lets plot the population points of our country of interest"
   ]
  },
  {
   "cell_type": "code",
   "execution_count": 10,
   "id": "971cf678-5a60-4b22-af71-5bb7d9ab2302",
   "metadata": {
    "id": "971cf678-5a60-4b22-af71-5bb7d9ab2302",
    "outputId": "001a9a7f-be5c-4df3-cc5a-28e44e39d1c7"
   },
   "outputs": [
    {
     "data": {
      "text/html": [
       "\n",
       "            <style>\n",
       "                .geemap-dark {\n",
       "                    --jp-widgets-color: white;\n",
       "                    --jp-widgets-label-color: white;\n",
       "                    --jp-ui-font-color1: white;\n",
       "                    --jp-layout-color2: #454545;\n",
       "                    background-color: #383838;\n",
       "                }\n",
       "\n",
       "                .geemap-dark .jupyter-button {\n",
       "                    --jp-layout-color3: #383838;\n",
       "                }\n",
       "\n",
       "                .geemap-colab {\n",
       "                    background-color: var(--colab-primary-surface-color, white);\n",
       "                }\n",
       "\n",
       "                .geemap-colab .jupyter-button {\n",
       "                    --jp-layout-color3: var(--colab-primary-surface-color, white);\n",
       "                }\n",
       "            </style>\n",
       "            "
      ],
      "text/plain": [
       "<IPython.core.display.HTML object>"
      ]
     },
     "metadata": {},
     "output_type": "display_data"
    },
    {
     "data": {
      "image/png": "[encoded data removed]",
      "text/plain": [
       "<Figure size 640x480 with 1 Axes>"
      ]
     },
     "metadata": {},
     "output_type": "display_data"
    }
   ],
   "source": [
    "ax = globals()[f'df_pop_{country_iso3}'].plot()\n",
    "ax.set_title(f'Population Points of {country_full_name}')\n",
    "ax.set_xlabel('Longitude')\n",
    "ax.set_ylabel('Latitude')\n",
    "plt.show()"
   ]
  },
  {
   "cell_type": "code",
   "execution_count": 11,
   "id": "02dbdbed-5e0a-425d-88c8-548d57c92d7d",
   "metadata": {
    "id": "02dbdbed-5e0a-425d-88c8-548d57c92d7d",
    "outputId": "81bf44e3-0117-4979-dfff-ae1d7842470f"
   },
   "outputs": [
    {
     "data": {
      "text/html": [
       "\n",
       "            <style>\n",
       "                .geemap-dark {\n",
       "                    --jp-widgets-color: white;\n",
       "                    --jp-widgets-label-color: white;\n",
       "                    --jp-ui-font-color1: white;\n",
       "                    --jp-layout-color2: #454545;\n",
       "                    background-color: #383838;\n",
       "                }\n",
       "\n",
       "                .geemap-dark .jupyter-button {\n",
       "                    --jp-layout-color3: #383838;\n",
       "                }\n",
       "\n",
       "                .geemap-colab {\n",
       "                    background-color: var(--colab-primary-surface-color, white);\n",
       "                }\n",
       "\n",
       "                .geemap-colab .jupyter-button {\n",
       "                    --jp-layout-color3: var(--colab-primary-surface-color, white);\n",
       "                }\n",
       "            </style>\n",
       "            "
      ],
      "text/plain": [
       "<IPython.core.display.HTML object>"
      ]
     },
     "metadata": {},
     "output_type": "display_data"
    },
    {
     "data": {
      "text/plain": [
       "396"
      ]
     },
     "execution_count": 11,
     "metadata": {},
     "output_type": "execute_result"
    }
   ],
   "source": [
    "len(globals()[f'df_pop_{country_iso3}'])"
   ]
  },
  {
   "cell_type": "markdown",
   "id": "32dab221-7a28-4719-a180-dc8a91c17b48",
   "metadata": {
    "id": "32dab221-7a28-4719-a180-dc8a91c17b48"
   },
   "source": [
    "Our next step is to extract information of healthcare facilities for the country of interest. We do so using OpenStreetMap. With the latest version of geopandas, it is now possible to directly read **osm.pbf** files from OpenStreetMap.\n",
    "\n",
    "Healthcare facilities are stored as *multipolygons* within OpenStreetMap, and we want to download all clinics and hospitals."
   ]
  },
  {
   "cell_type": "code",
   "execution_count": 12,
   "id": "dbf8e926-52cc-4411-bc68-263f7cafaf1f",
   "metadata": {
    "id": "dbf8e926-52cc-4411-bc68-263f7cafaf1f",
    "outputId": "41a6e348-4234-4890-fb96-a4dd0943c47d"
   },
   "outputs": [
    {
     "data": {
      "text/html": [
       "\n",
       "            <style>\n",
       "                .geemap-dark {\n",
       "                    --jp-widgets-color: white;\n",
       "                    --jp-widgets-label-color: white;\n",
       "                    --jp-ui-font-color1: white;\n",
       "                    --jp-layout-color2: #454545;\n",
       "                    background-color: #383838;\n",
       "                }\n",
       "\n",
       "                .geemap-dark .jupyter-button {\n",
       "                    --jp-layout-color3: #383838;\n",
       "                }\n",
       "\n",
       "                .geemap-colab {\n",
       "                    background-color: var(--colab-primary-surface-color, white);\n",
       "                }\n",
       "\n",
       "                .geemap-colab .jupyter-button {\n",
       "                    --jp-layout-color3: var(--colab-primary-surface-color, white);\n",
       "                }\n",
       "            </style>\n",
       "            "
      ],
      "text/plain": [
       "<IPython.core.display.HTML object>"
      ]
     },
     "metadata": {},
     "output_type": "display_data"
    },
    {
     "name": "stdout",
     "output_type": "stream",
     "text": [
      "CPU times: total: 0 ns\n",
      "Wall time: 0 ns\n"
     ]
    }
   ],
   "source": [
    "%%time\n",
    "Country_GeofabrikData_path = download.get_country_geofabrik(country_iso3)"
   ]
  },
  {
   "cell_type": "code",
   "execution_count": 13,
   "id": "22f32bc2-8a4b-4af8-a8c6-2494ed27ee89",
   "metadata": {},
   "outputs": [
    {
     "data": {
      "text/html": [
       "\n",
       "            <style>\n",
       "                .geemap-dark {\n",
       "                    --jp-widgets-color: white;\n",
       "                    --jp-widgets-label-color: white;\n",
       "                    --jp-ui-font-color1: white;\n",
       "                    --jp-layout-color2: #454545;\n",
       "                    background-color: #383838;\n",
       "                }\n",
       "\n",
       "                .geemap-dark .jupyter-button {\n",
       "                    --jp-layout-color3: #383838;\n",
       "                }\n",
       "\n",
       "                .geemap-colab {\n",
       "                    background-color: var(--colab-primary-surface-color, white);\n",
       "                }\n",
       "\n",
       "                .geemap-colab .jupyter-button {\n",
       "                    --jp-layout-color3: var(--colab-primary-surface-color, white);\n",
       "                }\n",
       "            </style>\n",
       "            "
      ],
      "text/plain": [
       "<IPython.core.display.HTML object>"
      ]
     },
     "metadata": {},
     "output_type": "display_data"
    },
    {
     "name": "stderr",
     "output_type": "stream",
     "text": [
      "C:\\Users\\eks510\\.conda\\envs\\pygis\\Lib\\site-packages\\pyogrio\\raw.py:196: RuntimeWarning: Non closed ring detected. To avoid accepting it, set the OGR_GEOMETRY_ACCEPT_UNCLOSED_RING configuration option to NO\n",
      "  return ogr_read(\n"
     ]
    }
   ],
   "source": [
    "HealthCenters = gpd.read_file(Country_GeofabrikData_path, layer=\"multipolygons\")\n",
    "sub_types =['clinic', 'hospital']\n",
    "HealthCenters = HealthCenters[HealthCenters['amenity'].isin(sub_types)].reset_index(drop=True)\n",
    "HealthCenters = HealthCenters.to_crs(3857)\n",
    "\n",
    "# to convert polygons to their centroids\n",
    "HealthCenters_centroids = HealthCenters.copy()\n",
    "HealthCenters_centroids['geometry'] = HealthCenters.centroid\n",
    "\n",
    "HealthCenters_centroids=HealthCenters_centroids.to_crs(4326)"
   ]
  },
  {
   "cell_type": "markdown",
   "id": "c57009a2-caa8-4963-b37b-a1a5503a6be9",
   "metadata": {},
   "source": [
    "Let's check the content of our generated HealthCenters_centroids GeoDataFrame."
   ]
  },
  {
   "cell_type": "code",
   "execution_count": 14,
   "id": "cfbc0e8e-bf63-42c9-b9d0-3a095c0f8ca6",
   "metadata": {
    "id": "cfbc0e8e-bf63-42c9-b9d0-3a095c0f8ca6",
    "outputId": "5468bc08-d8e2-4404-8f28-fdd3a7186a41"
   },
   "outputs": [
    {
     "data": {
      "text/html": [
       "\n",
       "            <style>\n",
       "                .geemap-dark {\n",
       "                    --jp-widgets-color: white;\n",
       "                    --jp-widgets-label-color: white;\n",
       "                    --jp-ui-font-color1: white;\n",
       "                    --jp-layout-color2: #454545;\n",
       "                    background-color: #383838;\n",
       "                }\n",
       "\n",
       "                .geemap-dark .jupyter-button {\n",
       "                    --jp-layout-color3: #383838;\n",
       "                }\n",
       "\n",
       "                .geemap-colab {\n",
       "                    background-color: var(--colab-primary-surface-color, white);\n",
       "                }\n",
       "\n",
       "                .geemap-colab .jupyter-button {\n",
       "                    --jp-layout-color3: var(--colab-primary-surface-color, white);\n",
       "                }\n",
       "            </style>\n",
       "            "
      ],
      "text/plain": [
       "<IPython.core.display.HTML object>"
      ]
     },
     "metadata": {},
     "output_type": "display_data"
    },
    {
     "data": {
      "text/html": [
       "<div>\n",
       "<style scoped>\n",
       "    .dataframe tbody tr th:only-of-type {\n",
       "        vertical-align: middle;\n",
       "    }\n",
       "\n",
       "    .dataframe tbody tr th {\n",
       "        vertical-align: top;\n",
       "    }\n",
       "\n",
       "    .dataframe thead th {\n",
       "        text-align: right;\n",
       "    }\n",
       "</style>\n",
       "<table border=\"1\" class=\"dataframe\">\n",
       "  <thead>\n",
       "    <tr style=\"text-align: right;\">\n",
       "      <th></th>\n",
       "      <th>osm_id</th>\n",
       "      <th>osm_way_id</th>\n",
       "      <th>name</th>\n",
       "      <th>type</th>\n",
       "      <th>aeroway</th>\n",
       "      <th>amenity</th>\n",
       "      <th>admin_level</th>\n",
       "      <th>barrier</th>\n",
       "      <th>boundary</th>\n",
       "      <th>building</th>\n",
       "      <th>...</th>\n",
       "      <th>man_made</th>\n",
       "      <th>military</th>\n",
       "      <th>natural</th>\n",
       "      <th>office</th>\n",
       "      <th>place</th>\n",
       "      <th>shop</th>\n",
       "      <th>sport</th>\n",
       "      <th>tourism</th>\n",
       "      <th>other_tags</th>\n",
       "      <th>geometry</th>\n",
       "    </tr>\n",
       "  </thead>\n",
       "  <tbody>\n",
       "    <tr>\n",
       "      <th>0</th>\n",
       "      <td>16172</td>\n",
       "      <td>None</td>\n",
       "      <td>Porodnišnica Ljubljana</td>\n",
       "      <td>multipolygon</td>\n",
       "      <td>None</td>\n",
       "      <td>hospital</td>\n",
       "      <td>None</td>\n",
       "      <td>None</td>\n",
       "      <td>None</td>\n",
       "      <td>hospital</td>\n",
       "      <td>...</td>\n",
       "      <td>None</td>\n",
       "      <td>None</td>\n",
       "      <td>None</td>\n",
       "      <td>None</td>\n",
       "      <td>None</td>\n",
       "      <td>None</td>\n",
       "      <td>None</td>\n",
       "      <td>None</td>\n",
       "      <td>\"addr:city\"=&gt;\"Ljubljana\",\"addr:housenumber\"=&gt;\"...</td>\n",
       "      <td>MULTIPOLYGON (((1616891.57 5788942.854, 161685...</td>\n",
       "    </tr>\n",
       "    <tr>\n",
       "      <th>1</th>\n",
       "      <td>1735820</td>\n",
       "      <td>None</td>\n",
       "      <td>REHA Radkersburg Klinik Maria Theresia</td>\n",
       "      <td>multipolygon</td>\n",
       "      <td>None</td>\n",
       "      <td>clinic</td>\n",
       "      <td>None</td>\n",
       "      <td>None</td>\n",
       "      <td>None</td>\n",
       "      <td>yes</td>\n",
       "      <td>...</td>\n",
       "      <td>None</td>\n",
       "      <td>None</td>\n",
       "      <td>None</td>\n",
       "      <td>None</td>\n",
       "      <td>None</td>\n",
       "      <td>None</td>\n",
       "      <td>None</td>\n",
       "      <td>None</td>\n",
       "      <td>\"addr:city\"=&gt;\"Bad Radkersburg\",\"addr:housenumb...</td>\n",
       "      <td>MULTIPOLYGON (((1778635.005 5891252.415, 17786...</td>\n",
       "    </tr>\n",
       "    <tr>\n",
       "      <th>2</th>\n",
       "      <td>2226607</td>\n",
       "      <td>None</td>\n",
       "      <td>Univerzitetni rehabilitacijski inštitut Republ...</td>\n",
       "      <td>multipolygon</td>\n",
       "      <td>None</td>\n",
       "      <td>hospital</td>\n",
       "      <td>None</td>\n",
       "      <td>None</td>\n",
       "      <td>None</td>\n",
       "      <td>hospital</td>\n",
       "      <td>...</td>\n",
       "      <td>None</td>\n",
       "      <td>None</td>\n",
       "      <td>None</td>\n",
       "      <td>None</td>\n",
       "      <td>None</td>\n",
       "      <td>None</td>\n",
       "      <td>None</td>\n",
       "      <td>None</td>\n",
       "      <td>\"addr:city\"=&gt;\"Ljubljana\",\"addr:housenumber\"=&gt;\"...</td>\n",
       "      <td>MULTIPOLYGON (((1616842.545 5791255.347, 16168...</td>\n",
       "    </tr>\n",
       "    <tr>\n",
       "      <th>3</th>\n",
       "      <td>3449006</td>\n",
       "      <td>None</td>\n",
       "      <td>Zdravstveni dom Ljubljana - Rudnik</td>\n",
       "      <td>multipolygon</td>\n",
       "      <td>None</td>\n",
       "      <td>clinic</td>\n",
       "      <td>None</td>\n",
       "      <td>None</td>\n",
       "      <td>None</td>\n",
       "      <td>yes</td>\n",
       "      <td>...</td>\n",
       "      <td>None</td>\n",
       "      <td>None</td>\n",
       "      <td>None</td>\n",
       "      <td>None</td>\n",
       "      <td>None</td>\n",
       "      <td>None</td>\n",
       "      <td>None</td>\n",
       "      <td>None</td>\n",
       "      <td>\"addr:city\"=&gt;\"Ljubljana\",\"addr:housenumber\"=&gt;\"...</td>\n",
       "      <td>MULTIPOLYGON (((1616791.327 5786197.784, 16167...</td>\n",
       "    </tr>\n",
       "    <tr>\n",
       "      <th>4</th>\n",
       "      <td>5229321</td>\n",
       "      <td>None</td>\n",
       "      <td>Psihiatrična bolnišnica</td>\n",
       "      <td>multipolygon</td>\n",
       "      <td>None</td>\n",
       "      <td>hospital</td>\n",
       "      <td>None</td>\n",
       "      <td>None</td>\n",
       "      <td>None</td>\n",
       "      <td>yes</td>\n",
       "      <td>...</td>\n",
       "      <td>None</td>\n",
       "      <td>None</td>\n",
       "      <td>None</td>\n",
       "      <td>None</td>\n",
       "      <td>None</td>\n",
       "      <td>None</td>\n",
       "      <td>None</td>\n",
       "      <td>None</td>\n",
       "      <td>\"addr:city\"=&gt;\"Begunje na Gorenjskem\",\"addr:hou...</td>\n",
       "      <td>MULTIPOLYGON (((1580944.926 5840918.384, 15808...</td>\n",
       "    </tr>\n",
       "  </tbody>\n",
       "</table>\n",
       "<p>5 rows × 26 columns</p>\n",
       "</div>"
      ],
      "text/plain": [
       "    osm_id osm_way_id                                               name  \\\n",
       "0    16172       None                             Porodnišnica Ljubljana   \n",
       "1  1735820       None             REHA Radkersburg Klinik Maria Theresia   \n",
       "2  2226607       None  Univerzitetni rehabilitacijski inštitut Republ...   \n",
       "3  3449006       None                 Zdravstveni dom Ljubljana - Rudnik   \n",
       "4  5229321       None                            Psihiatrična bolnišnica   \n",
       "\n",
       "           type aeroway   amenity admin_level barrier boundary  building  ...  \\\n",
       "0  multipolygon    None  hospital        None    None     None  hospital  ...   \n",
       "1  multipolygon    None    clinic        None    None     None       yes  ...   \n",
       "2  multipolygon    None  hospital        None    None     None  hospital  ...   \n",
       "3  multipolygon    None    clinic        None    None     None       yes  ...   \n",
       "4  multipolygon    None  hospital        None    None     None       yes  ...   \n",
       "\n",
       "  man_made military natural office place  shop sport tourism  \\\n",
       "0     None     None    None   None  None  None  None    None   \n",
       "1     None     None    None   None  None  None  None    None   \n",
       "2     None     None    None   None  None  None  None    None   \n",
       "3     None     None    None   None  None  None  None    None   \n",
       "4     None     None    None   None  None  None  None    None   \n",
       "\n",
       "                                          other_tags  \\\n",
       "0  \"addr:city\"=>\"Ljubljana\",\"addr:housenumber\"=>\"...   \n",
       "1  \"addr:city\"=>\"Bad Radkersburg\",\"addr:housenumb...   \n",
       "2  \"addr:city\"=>\"Ljubljana\",\"addr:housenumber\"=>\"...   \n",
       "3  \"addr:city\"=>\"Ljubljana\",\"addr:housenumber\"=>\"...   \n",
       "4  \"addr:city\"=>\"Begunje na Gorenjskem\",\"addr:hou...   \n",
       "\n",
       "                                            geometry  \n",
       "0  MULTIPOLYGON (((1616891.57 5788942.854, 161685...  \n",
       "1  MULTIPOLYGON (((1778635.005 5891252.415, 17786...  \n",
       "2  MULTIPOLYGON (((1616842.545 5791255.347, 16168...  \n",
       "3  MULTIPOLYGON (((1616791.327 5786197.784, 16167...  \n",
       "4  MULTIPOLYGON (((1580944.926 5840918.384, 15808...  \n",
       "\n",
       "[5 rows x 26 columns]"
      ]
     },
     "execution_count": 14,
     "metadata": {},
     "output_type": "execute_result"
    }
   ],
   "source": [
    "HealthCenters.head()"
   ]
  },
  {
   "cell_type": "markdown",
   "id": "c364c46d-40ca-47a3-babe-c0ee55ecb880",
   "metadata": {},
   "source": [
    "And let's visualize the hospitals locations."
   ]
  },
  {
   "cell_type": "code",
   "execution_count": 15,
   "id": "14c6ab08-56b0-49a2-8955-74a0bd8b6b7c",
   "metadata": {
    "id": "14c6ab08-56b0-49a2-8955-74a0bd8b6b7c",
    "outputId": "2560df0b-9f7b-4972-fcf4-1e25bd6b7217"
   },
   "outputs": [
    {
     "data": {
      "text/html": [
       "\n",
       "            <style>\n",
       "                .geemap-dark {\n",
       "                    --jp-widgets-color: white;\n",
       "                    --jp-widgets-label-color: white;\n",
       "                    --jp-ui-font-color1: white;\n",
       "                    --jp-layout-color2: #454545;\n",
       "                    background-color: #383838;\n",
       "                }\n",
       "\n",
       "                .geemap-dark .jupyter-button {\n",
       "                    --jp-layout-color3: #383838;\n",
       "                }\n",
       "\n",
       "                .geemap-colab {\n",
       "                    background-color: var(--colab-primary-surface-color, white);\n",
       "                }\n",
       "\n",
       "                .geemap-colab .jupyter-button {\n",
       "                    --jp-layout-color3: var(--colab-primary-surface-color, white);\n",
       "                }\n",
       "            </style>\n",
       "            "
      ],
      "text/plain": [
       "<IPython.core.display.HTML object>"
      ]
     },
     "metadata": {},
     "output_type": "display_data"
    },
    {
     "name": "stdout",
     "output_type": "stream",
     "text": [
      "The output is HealthCenters_centroids as a dataframe of the Health Centers\n"
     ]
    },
    {
     "data": {
      "image/png": "[encoded data removed]",
      "text/plain": [
       "<Figure size 1000x1000 with 1 Axes>"
      ]
     },
     "metadata": {},
     "output_type": "display_data"
    }
   ],
   "source": [
    "print(\"The output is HealthCenters_centroids as a dataframe of the Health Centers\")\n",
    "\n",
    "#plotting\n",
    "fig, ax = plt.subplots(figsize=(10, 10))\n",
    "HealthCenters_centroids.plot(ax=ax, color='red', markersize=10, alpha=0.7)\n",
    "\n",
    "# temporarily reprojects to EPSG:3857 to add the basemap (contextily requires it)\n",
    "#cx.add_basemap(ax, crs='EPSG:4326', source=cx.providers.OpenStreetMap.Mapnik, zoom=8)\n",
    "\n",
    "ax.set_title(f'Locations of Hospitals and Clinics in {country_full_name}', fontsize=15)\n",
    "\n",
    "ax.set_xlabel('Longitude')\n",
    "ax.set_ylabel('Latitude')\n",
    "plt.show()\n",
    "\n",
    "plt.show()"
   ]
  },
  {
   "cell_type": "markdown",
   "id": "dc39cef6-eac9-40a0-a737-bac3cd5bc2a1",
   "metadata": {
    "id": "dc39cef6-eac9-40a0-a737-bac3cd5bc2a1"
   },
   "source": [
    "## 3. Classification of rural and urban areas"
   ]
  },
  {
   "cell_type": "markdown",
   "id": "M2QYz4j0EBah",
   "metadata": {
    "id": "M2QYz4j0EBah"
   },
   "source": [
    "As you remember, we checked the content of the population data, and there was no information regarding urban or rural areas. Therefore, we need to add this information to our dataset. So, we will use an approach similar to what you learned in TAA1, but for the sake of processing efficiency, we will use Earth Engine's built-in classifier packages rather than scikit-learn. In this situation we are interested in only two land cover classes: rural and urban. We will have to reclassify the raster, train a model to distinguish between these timesteps, and finally perform the classification on recent images.\n",
    "<!--  -->\n",
    " We have pre-filled most of the code in this section, and you will use a few new tricks to perform the classification. Beyond that, we challenge you to leverage what you have learned in TAA1 to improve the performance of the model, by any means you see fit. You will be evaluated on your reasoning, as well as the creativity of the approaches."
   ]
  },
  {
   "cell_type": "markdown",
   "id": "zotYyVnD4Jt2",
   "metadata": {
    "id": "zotYyVnD4Jt2"
   },
   "source": [
    "### Set-up"
   ]
  },
  {
   "cell_type": "markdown",
   "id": "-l1Sg8b54mQl",
   "metadata": {
    "id": "-l1Sg8b54mQl"
   },
   "source": [
    "First, set up your Earth Engine environment as you did before."
   ]
  },
  {
   "cell_type": "code",
   "execution_count": 16,
   "id": "i1hx3v6pEMva",
   "metadata": {
    "id": "i1hx3v6pEMva"
   },
   "outputs": [
    {
     "data": {
      "text/html": [
       "\n",
       "            <style>\n",
       "                .geemap-dark {\n",
       "                    --jp-widgets-color: white;\n",
       "                    --jp-widgets-label-color: white;\n",
       "                    --jp-ui-font-color1: white;\n",
       "                    --jp-layout-color2: #454545;\n",
       "                    background-color: #383838;\n",
       "                }\n",
       "\n",
       "                .geemap-dark .jupyter-button {\n",
       "                    --jp-layout-color3: #383838;\n",
       "                }\n",
       "\n",
       "                .geemap-colab {\n",
       "                    background-color: var(--colab-primary-surface-color, white);\n",
       "                }\n",
       "\n",
       "                .geemap-colab .jupyter-button {\n",
       "                    --jp-layout-color3: var(--colab-primary-surface-color, white);\n",
       "                }\n",
       "            </style>\n",
       "            "
      ],
      "text/plain": [
       "<IPython.core.display.HTML object>"
      ]
     },
     "metadata": {},
     "output_type": "display_data"
    },
    {
     "data": {
      "text/plain": [
       "True"
      ]
     },
     "execution_count": 16,
     "metadata": {},
     "output_type": "execute_result"
    }
   ],
   "source": [
    "ee.Authenticate()"
   ]
  },
  {
   "cell_type": "code",
   "execution_count": 17,
   "id": "a76108be-d449-46a6-98e9-be3f17ae1888",
   "metadata": {},
   "outputs": [
    {
     "data": {
      "text/html": [
       "\n",
       "            <style>\n",
       "                .geemap-dark {\n",
       "                    --jp-widgets-color: white;\n",
       "                    --jp-widgets-label-color: white;\n",
       "                    --jp-ui-font-color1: white;\n",
       "                    --jp-layout-color2: #454545;\n",
       "                    background-color: #383838;\n",
       "                }\n",
       "\n",
       "                .geemap-dark .jupyter-button {\n",
       "                    --jp-layout-color3: #383838;\n",
       "                }\n",
       "\n",
       "                .geemap-colab {\n",
       "                    background-color: var(--colab-primary-surface-color, white);\n",
       "                }\n",
       "\n",
       "                .geemap-colab .jupyter-button {\n",
       "                    --jp-layout-color3: var(--colab-primary-surface-color, white);\n",
       "                }\n",
       "            </style>\n",
       "            "
      ],
      "text/plain": [
       "<IPython.core.display.HTML object>"
      ]
     },
     "metadata": {},
     "output_type": "display_data"
    }
   ],
   "source": [
    "ee.Initialize(project=\"proj-gis-1234\")"
   ]
  },
  {
   "cell_type": "markdown",
   "id": "_tY_sxXy4SPA",
   "metadata": {
    "id": "_tY_sxXy4SPA"
   },
   "source": [
    "### Set-up training & validation data"
   ]
  },
  {
   "cell_type": "markdown",
   "id": "rToXuPnoET3C",
   "metadata": {
    "id": "rToXuPnoET3C"
   },
   "source": [
    "We will make use of the following data sources:\n",
    "1. Administrative country boundary to clip to the area of interest  \n",
    "2. Sentinel-2 satellite images at 10x10m resolution\n",
    "3. CORINE Land Cover (CLC)\n",
    "\n",
    "For the satellite image, we take the S2 median image over the summer to improve sensitivity to single-capture conditions. The median image is taken over the summer, so that we exclude seasonal dynamics. Finally, we clip this image to the country extent.\n",
    "\n"
   ]
  },
  {
   "cell_type": "code",
   "execution_count": 18,
   "id": "_I9OT5iF4iPe",
   "metadata": {
    "id": "_I9OT5iF4iPe",
    "outputId": "65deb07b-7f0a-4382-b519-459ab71bbb7e"
   },
   "outputs": [
    {
     "data": {
      "text/html": [
       "\n",
       "            <style>\n",
       "                .geemap-dark {\n",
       "                    --jp-widgets-color: white;\n",
       "                    --jp-widgets-label-color: white;\n",
       "                    --jp-ui-font-color1: white;\n",
       "                    --jp-layout-color2: #454545;\n",
       "                    background-color: #383838;\n",
       "                }\n",
       "\n",
       "                .geemap-dark .jupyter-button {\n",
       "                    --jp-layout-color3: #383838;\n",
       "                }\n",
       "\n",
       "                .geemap-colab {\n",
       "                    background-color: var(--colab-primary-surface-color, white);\n",
       "                }\n",
       "\n",
       "                .geemap-colab .jupyter-button {\n",
       "                    --jp-layout-color3: var(--colab-primary-surface-color, white);\n",
       "                }\n",
       "            </style>\n",
       "            "
      ],
      "text/plain": [
       "<IPython.core.display.HTML object>"
      ]
     },
     "metadata": {},
     "output_type": "display_data"
    }
   ],
   "source": [
    "# Define the region of interest (ROI)\n",
    "country_ROI = ee.FeatureCollection(\"FAO/GAUL/2015/level0\") \\\n",
    "                .filter(ee.Filter.eq('ADM0_NAME', country_full_name))\n",
    "\n",
    "# Load Sentinel-2 Image Collection\n",
    "sentinel2 = ee.ImageCollection(\"COPERNICUS/S2_HARMONIZED\") \\\n",
    "             .filterBounds(country_ROI.geometry()) \\\n",
    "             .filterDate('2018-06-01', '2018-08-31') \\\n",
    "             .filter(ee.Filter.lt('CLOUDY_PIXEL_PERCENTAGE', 10))\n",
    "\n",
    "# Create a median composite to reduce cloud cover\n",
    "mosaic_image = sentinel2.median().clip(country_ROI.geometry())"
   ]
  },
  {
   "cell_type": "markdown",
   "id": "FPiX1Imk6Oom",
   "metadata": {
    "id": "FPiX1Imk6Oom"
   },
   "source": [
    "Show on map to verify that it's loaded"
   ]
  },
  {
   "cell_type": "code",
   "execution_count": 19,
   "id": "98176961-f52f-4859-8ff9-9b55d2eb7347",
   "metadata": {},
   "outputs": [
    {
     "data": {
      "text/html": [
       "\n",
       "            <style>\n",
       "                .geemap-dark {\n",
       "                    --jp-widgets-color: white;\n",
       "                    --jp-widgets-label-color: white;\n",
       "                    --jp-ui-font-color1: white;\n",
       "                    --jp-layout-color2: #454545;\n",
       "                    background-color: #383838;\n",
       "                }\n",
       "\n",
       "                .geemap-dark .jupyter-button {\n",
       "                    --jp-layout-color3: #383838;\n",
       "                }\n",
       "\n",
       "                .geemap-colab {\n",
       "                    background-color: var(--colab-primary-surface-color, white);\n",
       "                }\n",
       "\n",
       "                .geemap-colab .jupyter-button {\n",
       "                    --jp-layout-color3: var(--colab-primary-surface-color, white);\n",
       "                }\n",
       "            </style>\n",
       "            "
      ],
      "text/plain": [
       "<IPython.core.display.HTML object>"
      ]
     },
     "metadata": {},
     "output_type": "display_data"
    },
    {
     "data": {
      "application/vnd.jupyter.widget-view+json": {
       "model_id": "1397cb265f0847a09763b85957dcf482",
       "version_major": 2,
       "version_minor": 0
      },
      "text/plain": [
       "Map(center=[46.12445795068446, 14.826893950462633], controls=(WidgetControl(options=['position', 'transparent_…"
      ]
     },
     "execution_count": 19,
     "metadata": {},
     "output_type": "execute_result"
    }
   ],
   "source": [
    "bands = ['B4', 'B3', 'B2'] # Fill in this list yourself\n",
    "vis_params = {'max': 3000, 'bands': bands}  # Limit upper range so you can see detail\n",
    "\n",
    "map = geemap.Map(height=800, width=700, zoom=7)\n",
    "\n",
    "# dynamically center the map on the selected country (ROI)\n",
    "map.centerObject(country_ROI.geometry(), 8)\n",
    "\n",
    "# adding the mosaic image layer for the selected country\n",
    "map.addLayer(mosaic_image, vis_params, \"Sentinel-2_2018\")\n",
    "\n",
    "map"
   ]
  },
  {
   "cell_type": "markdown",
   "id": "c9NfiE5dFr19",
   "metadata": {
    "id": "c9NfiE5dFr19"
   },
   "source": [
    "### Calculate image variables to include"
   ]
  },
  {
   "cell_type": "markdown",
   "id": "1gGMF-NEGN84",
   "metadata": {
    "id": "1gGMF-NEGN84"
   },
   "source": [
    "Next, we will compute variables to use for our classifier. We have provided the examples you've already seen for TAA1, but we challenge you to add your own variables. You can get inspiration from anywhere, but be sure that you are able to explain the reasoning behind including each variable."
   ]
  },
  {
   "cell_type": "code",
   "execution_count": 20,
   "id": "cjMQF_E57zIw",
   "metadata": {
    "id": "cjMQF_E57zIw",
    "outputId": "95107040-bb80-4b50-ea20-9ac63bd3c95f"
   },
   "outputs": [
    {
     "data": {
      "text/html": [
       "\n",
       "            <style>\n",
       "                .geemap-dark {\n",
       "                    --jp-widgets-color: white;\n",
       "                    --jp-widgets-label-color: white;\n",
       "                    --jp-ui-font-color1: white;\n",
       "                    --jp-layout-color2: #454545;\n",
       "                    background-color: #383838;\n",
       "                }\n",
       "\n",
       "                .geemap-dark .jupyter-button {\n",
       "                    --jp-layout-color3: #383838;\n",
       "                }\n",
       "\n",
       "                .geemap-colab {\n",
       "                    background-color: var(--colab-primary-surface-color, white);\n",
       "                }\n",
       "\n",
       "                .geemap-colab .jupyter-button {\n",
       "                    --jp-layout-color3: var(--colab-primary-surface-color, white);\n",
       "                }\n",
       "            </style>\n",
       "            "
      ],
      "text/plain": [
       "<IPython.core.display.HTML object>"
      ]
     },
     "metadata": {},
     "output_type": "display_data"
    }
   ],
   "source": [
    "def make_s2_variables(s2_image):\n",
    "    # Calculate additional spectral indices\n",
    "    dvi = s2_image.select('B5').subtract(s2_image.select('B4')).rename('DVI')\n",
    "    ndvi = s2_image.normalizedDifference(['B5', 'B4']).rename('NDVI')\n",
    "    ndwi = s2_image.normalizedDifference(['B3', 'B5']).rename('NDWI')\n",
    "\n",
    "    # Add indices to the image\n",
    "    s2_image = s2_image.addBands([dvi, ndvi, ndwi])\n",
    "\n",
    "    '''\n",
    "       ToDo: Add your own variables!\n",
    "\n",
    "       Think about what you learned in TAA1 - how else can you compute information\n",
    "       from the spectral bands to include? Look at some papers for inspiration,\n",
    "       or try something out yourself. There's more than just indices that can help here!\n",
    "\n",
    "       Don't forget to add them to the image after you create them!\n",
    "    '''\n",
    "    ### TEACHER EXAMPLE - REMOVE BEFORE GOES LIVE. ###\n",
    "\n",
    "    # Define neighborhood size (e.g., 3x3)\n",
    "    kernel = ee.Kernel.square(radius=1)\n",
    "\n",
    "    # Calculate neighborhood statistics\n",
    "    neighborhood_vars = []\n",
    "    for band in ['DVI', 'NDVI', 'NDWI']:\n",
    "        mean = s2_image.select(band).reduceNeighborhood(\n",
    "            reducer=ee.Reducer.mean(),\n",
    "            kernel=kernel\n",
    "        ).rename(f'{band}_mean')\n",
    "\n",
    "        std_dev = s2_image.select(band).reduceNeighborhood(\n",
    "            reducer=ee.Reducer.stdDev(),\n",
    "            kernel=kernel\n",
    "        ).rename(f'{band}_stdDev')\n",
    "\n",
    "        # Add additional statistics here, such as min, max, etc., if desired.\n",
    "\n",
    "        # Append neighborhood bands to the list\n",
    "        neighborhood_vars.extend([mean, std_dev])\n",
    "\n",
    "    # Add neighborhood statistics to the image\n",
    "    s2_image = s2_image.addBands(neighborhood_vars)\n",
    "\n",
    "    ### End of teaching example ###\n",
    "\n",
    "    return s2_image"
   ]
  },
  {
   "cell_type": "code",
   "execution_count": 21,
   "id": "oCmPdaR_74Ml",
   "metadata": {
    "id": "oCmPdaR_74Ml",
    "outputId": "f971149c-89b2-421c-ebe1-2fb3ddfb51ff"
   },
   "outputs": [
    {
     "data": {
      "text/html": [
       "\n",
       "            <style>\n",
       "                .geemap-dark {\n",
       "                    --jp-widgets-color: white;\n",
       "                    --jp-widgets-label-color: white;\n",
       "                    --jp-ui-font-color1: white;\n",
       "                    --jp-layout-color2: #454545;\n",
       "                    background-color: #383838;\n",
       "                }\n",
       "\n",
       "                .geemap-dark .jupyter-button {\n",
       "                    --jp-layout-color3: #383838;\n",
       "                }\n",
       "\n",
       "                .geemap-colab {\n",
       "                    background-color: var(--colab-primary-surface-color, white);\n",
       "                }\n",
       "\n",
       "                .geemap-colab .jupyter-button {\n",
       "                    --jp-layout-color3: var(--colab-primary-surface-color, white);\n",
       "                }\n",
       "            </style>\n",
       "            "
      ],
      "text/plain": [
       "<IPython.core.display.HTML object>"
      ]
     },
     "metadata": {},
     "output_type": "display_data"
    }
   ],
   "source": [
    "mosaic_image = make_s2_variables(mosaic_image)"
   ]
  },
  {
   "cell_type": "code",
   "execution_count": 22,
   "id": "sTScJDPp8dew",
   "metadata": {
    "id": "sTScJDPp8dew",
    "outputId": "59b81db2-2a46-4f87-e968-a772e927eec8"
   },
   "outputs": [
    {
     "data": {
      "text/html": [
       "\n",
       "            <style>\n",
       "                .geemap-dark {\n",
       "                    --jp-widgets-color: white;\n",
       "                    --jp-widgets-label-color: white;\n",
       "                    --jp-ui-font-color1: white;\n",
       "                    --jp-layout-color2: #454545;\n",
       "                    background-color: #383838;\n",
       "                }\n",
       "\n",
       "                .geemap-dark .jupyter-button {\n",
       "                    --jp-layout-color3: #383838;\n",
       "                }\n",
       "\n",
       "                .geemap-colab {\n",
       "                    background-color: var(--colab-primary-surface-color, white);\n",
       "                }\n",
       "\n",
       "                .geemap-colab .jupyter-button {\n",
       "                    --jp-layout-color3: var(--colab-primary-surface-color, white);\n",
       "                }\n",
       "            </style>\n",
       "            "
      ],
      "text/plain": [
       "<IPython.core.display.HTML object>"
      ]
     },
     "metadata": {},
     "output_type": "display_data"
    }
   ],
   "source": [
    "# Use these bands for prediction\n",
    "# DON'T FORGET to add your own variables when you make them!\n",
    "bands = ['B2', 'B3', 'B4', 'B5', 'B6', 'B7']\n",
    "indices = ['NDVI', 'DVI']\n",
    "img_bands = [*bands, *indices]"
   ]
  },
  {
   "cell_type": "markdown",
   "id": "44mziLGt8j4C",
   "metadata": {
    "id": "44mziLGt8j4C"
   },
   "source": [
    "### Load CLC2018 and sample data\n"
   ]
  },
  {
   "cell_type": "markdown",
   "id": "K62rE0S-F5X2",
   "metadata": {
    "id": "K62rE0S-F5X2"
   },
   "source": [
    "Now, let's load labels from CORINE and classify the model."
   ]
  },
  {
   "cell_type": "code",
   "execution_count": 23,
   "id": "Pacg8UcH8lHe",
   "metadata": {
    "id": "Pacg8UcH8lHe",
    "outputId": "4cd47f65-1213-4c47-9c69-7e8161b96f86"
   },
   "outputs": [
    {
     "data": {
      "text/html": [
       "\n",
       "            <style>\n",
       "                .geemap-dark {\n",
       "                    --jp-widgets-color: white;\n",
       "                    --jp-widgets-label-color: white;\n",
       "                    --jp-ui-font-color1: white;\n",
       "                    --jp-layout-color2: #454545;\n",
       "                    background-color: #383838;\n",
       "                }\n",
       "\n",
       "                .geemap-dark .jupyter-button {\n",
       "                    --jp-layout-color3: #383838;\n",
       "                }\n",
       "\n",
       "                .geemap-colab {\n",
       "                    background-color: var(--colab-primary-surface-color, white);\n",
       "                }\n",
       "\n",
       "                .geemap-colab .jupyter-button {\n",
       "                    --jp-layout-color3: var(--colab-primary-surface-color, white);\n",
       "                }\n",
       "            </style>\n",
       "            "
      ],
      "text/plain": [
       "<IPython.core.display.HTML object>"
      ]
     },
     "metadata": {},
     "output_type": "display_data"
    }
   ],
   "source": [
    "CLC = ee.Image('COPERNICUS/CORINE/V20/100m/2018').select('landcover').clip(mosaic_image.geometry())\n",
    "lc_points = CLC.sample(\n",
    "    **{\n",
    "        'region': mosaic_image.geometry(),\n",
    "        'scale': 30,\n",
    "        'numPixels': 10000, # Change this as you see fit\n",
    "        'seed': random_seed,\n",
    "        'geometries': True,\n",
    "    }\n",
    ")"
   ]
  },
  {
   "cell_type": "markdown",
   "id": "n7hzNmOt8tY5",
   "metadata": {
    "id": "n7hzNmOt8tY5"
   },
   "source": [
    "Next, let's reclassify the dataset to a binary urban/rural dataset. The choice how to do this is yours, and can be as easy or complicated as you like it to be. As a reminder, CLC consists of a [3-digit hierarchy](https://land.copernicus.eu/content/corine-land-cover-nomenclature-guidelines/html/), so you can pick which classes you want to include and exclude."
   ]
  },
  {
   "cell_type": "code",
   "execution_count": 24,
   "id": "Hm4xWGNS8ugv",
   "metadata": {
    "id": "Hm4xWGNS8ugv",
    "outputId": "ade49efe-bc51-4e15-f485-c016104a56c6"
   },
   "outputs": [
    {
     "data": {
      "text/html": [
       "\n",
       "            <style>\n",
       "                .geemap-dark {\n",
       "                    --jp-widgets-color: white;\n",
       "                    --jp-widgets-label-color: white;\n",
       "                    --jp-ui-font-color1: white;\n",
       "                    --jp-layout-color2: #454545;\n",
       "                    background-color: #383838;\n",
       "                }\n",
       "\n",
       "                .geemap-dark .jupyter-button {\n",
       "                    --jp-layout-color3: #383838;\n",
       "                }\n",
       "\n",
       "                .geemap-colab {\n",
       "                    background-color: var(--colab-primary-surface-color, white);\n",
       "                }\n",
       "\n",
       "                .geemap-colab .jupyter-button {\n",
       "                    --jp-layout-color3: var(--colab-primary-surface-color, white);\n",
       "                }\n",
       "            </style>\n",
       "            "
      ],
      "text/plain": [
       "<IPython.core.display.HTML object>"
      ]
     },
     "metadata": {},
     "output_type": "display_data"
    }
   ],
   "source": [
    "def generalize_clc_class(feature):\n",
    "    lc_value = ee.String(feature.get('landcover'))\n",
    "\n",
    "    # Check if the first character is '1'\n",
    "    set_value = ee.Algorithms.If(lc_value.slice(0, 1).equals('1'), 1, 0)\n",
    "\n",
    "    # Set the new binary value for the 'landcover' property\n",
    "    return feature.set('landcover', set_value)\n",
    "lc_reference_pts = lc_points.map(generalize_clc_class)"
   ]
  },
  {
   "cell_type": "markdown",
   "id": "Y0v4HOG6GtZq",
   "metadata": {
    "id": "Y0v4HOG6GtZq"
   },
   "source": [
    "**Q: Briefly explain which classes you included for the urban/rural re-classification.**"
   ]
  },
  {
   "cell_type": "markdown",
   "id": "th9Dl6mW9FII",
   "metadata": {
    "id": "th9Dl6mW9FII"
   },
   "source": [
    "Let's make training/validation splits. You can customize this however you see fit, but we suggest balanced sampling, where you control how many positive and how many negative samples are included during training/validation, so as to not over/under-sample one or the other."
   ]
  },
  {
   "cell_type": "code",
   "execution_count": 25,
   "id": "X1tMXV4w9LFb",
   "metadata": {
    "id": "X1tMXV4w9LFb",
    "outputId": "d52bc7b8-4fc3-4c3b-92c9-24abd3def05b"
   },
   "outputs": [
    {
     "data": {
      "text/html": [
       "\n",
       "            <style>\n",
       "                .geemap-dark {\n",
       "                    --jp-widgets-color: white;\n",
       "                    --jp-widgets-label-color: white;\n",
       "                    --jp-ui-font-color1: white;\n",
       "                    --jp-layout-color2: #454545;\n",
       "                    background-color: #383838;\n",
       "                }\n",
       "\n",
       "                .geemap-dark .jupyter-button {\n",
       "                    --jp-layout-color3: #383838;\n",
       "                }\n",
       "\n",
       "                .geemap-colab {\n",
       "                    background-color: var(--colab-primary-surface-color, white);\n",
       "                }\n",
       "\n",
       "                .geemap-colab .jupyter-button {\n",
       "                    --jp-layout-color3: var(--colab-primary-surface-color, white);\n",
       "                }\n",
       "            </style>\n",
       "            "
      ],
      "text/plain": [
       "<IPython.core.display.HTML object>"
      ]
     },
     "metadata": {},
     "output_type": "display_data"
    }
   ],
   "source": [
    "# Define the land cover labels column\n",
    "label_col = 'landcover'\n",
    "\n",
    "## TEACHING EXAMPLE, REMOVE BEFORE GOING LIVE ##\n",
    "# Filter points by label\n",
    "positive_points = lc_reference_pts.filter(ee.Filter.eq(label_col, 1))\n",
    "negative_points = lc_reference_pts.filter(ee.Filter.eq(label_col, 0))\n",
    "\n",
    "# Allow a maximum of 2-to-1 difference in negative vs positive class sampling\n",
    "positive_sample = positive_points.randomColumn('random').limit(positive_points.size())\n",
    "negative_sample = negative_points.randomColumn('random').limit(positive_points.size().multiply(ee.Number(2)))\n",
    "\n",
    "# Merge the samples\n",
    "balanced_sample = positive_sample.merge(negative_sample)\n",
    "\n",
    "## End of teaching example ##\n",
    "\n",
    "# Split into training and validation sets\n",
    "training_sample = balanced_sample.filter('random <= 0.8')\n",
    "validation_sample = balanced_sample.filter('random > 0.8')\n",
    "\n",
    "# Sample regions for training and validation datasets\n",
    "train_data = mosaic_image.select(img_bands).sampleRegions(\n",
    "    collection=training_sample, properties=[label_col], scale=100\n",
    ")\n",
    "\n",
    "val_data = mosaic_image.select(img_bands).sampleRegions(\n",
    "    collection=validation_sample, properties=[label_col], scale=100\n",
    ")"
   ]
  },
  {
   "cell_type": "markdown",
   "id": "LONawc_nGj3L",
   "metadata": {
    "id": "LONawc_nGj3L"
   },
   "source": [
    "**Q: Describe your sampling approach. Which approach did you go with, and what is the rationale behind it?**"
   ]
  },
  {
   "cell_type": "markdown",
   "id": "uS-6YzaM9P5-",
   "metadata": {
    "id": "uS-6YzaM9P5-"
   },
   "source": [
    "### Optimize on training & validation set"
   ]
  },
  {
   "cell_type": "markdown",
   "id": "H3G8LxVmG7d6",
   "metadata": {
    "id": "H3G8LxVmG7d6"
   },
   "source": [
    "Now that we have sampled data, we will iteratively improve the model. How you want to approach this is up to you, we only provide the basic process here. In TAA1 we taught you a few methods and concepts that you can build on. To give some suggestions:\n",
    "1. Analyze the confusion matrix\n",
    "2. Look at different metrics that might be more informative - for instance, precision and recall\n",
    "3. Look at redundant variables - you learned this in scikit-learn, but EE has options for this too if you want to search for it.\n",
    "\n",
    "It's up to you how to approach this, but we recommend to document what worked and what didn't work so that you have an easier time reporting your results."
   ]
  },
  {
   "cell_type": "code",
   "execution_count": 26,
   "id": "Hv5M5UkT9X39",
   "metadata": {
    "id": "Hv5M5UkT9X39",
    "outputId": "ac04f2d4-d0e6-4007-f6c0-e61fb97a2e83"
   },
   "outputs": [
    {
     "data": {
      "text/html": [
       "\n",
       "            <style>\n",
       "                .geemap-dark {\n",
       "                    --jp-widgets-color: white;\n",
       "                    --jp-widgets-label-color: white;\n",
       "                    --jp-ui-font-color1: white;\n",
       "                    --jp-layout-color2: #454545;\n",
       "                    background-color: #383838;\n",
       "                }\n",
       "\n",
       "                .geemap-dark .jupyter-button {\n",
       "                    --jp-layout-color3: #383838;\n",
       "                }\n",
       "\n",
       "                .geemap-colab {\n",
       "                    background-color: var(--colab-primary-surface-color, white);\n",
       "                }\n",
       "\n",
       "                .geemap-colab .jupyter-button {\n",
       "                    --jp-layout-color3: var(--colab-primary-surface-color, white);\n",
       "                }\n",
       "            </style>\n",
       "            "
      ],
      "text/plain": [
       "<IPython.core.display.HTML object>"
      ]
     },
     "metadata": {},
     "output_type": "display_data"
    }
   ],
   "source": [
    "# Train the model\n",
    "classifier = ee.Classifier.smileRandomForest(numberOfTrees=100, minLeafPopulation=2, maxNodes=50)\n",
    "trained_classifier = classifier.train(features=train_data, classProperty=label_col, inputProperties=img_bands)\n",
    "\n",
    "# Apply the classifier to the validation data\n",
    "classified_val = val_data.classify(trained_classifier)"
   ]
  },
  {
   "cell_type": "markdown",
   "id": "_r0pZTPq97XH",
   "metadata": {
    "id": "_r0pZTPq97XH"
   },
   "source": [
    "Now, let's analyze your results."
   ]
  },
  {
   "cell_type": "code",
   "execution_count": 27,
   "id": "q7SJuNRd9Zmm",
   "metadata": {
    "id": "q7SJuNRd9Zmm",
    "outputId": "356fee26-dffb-4987-bf85-469a2b4cb693"
   },
   "outputs": [
    {
     "data": {
      "text/html": [
       "\n",
       "            <style>\n",
       "                .geemap-dark {\n",
       "                    --jp-widgets-color: white;\n",
       "                    --jp-widgets-label-color: white;\n",
       "                    --jp-ui-font-color1: white;\n",
       "                    --jp-layout-color2: #454545;\n",
       "                    background-color: #383838;\n",
       "                }\n",
       "\n",
       "                .geemap-dark .jupyter-button {\n",
       "                    --jp-layout-color3: #383838;\n",
       "                }\n",
       "\n",
       "                .geemap-colab {\n",
       "                    background-color: var(--colab-primary-surface-color, white);\n",
       "                }\n",
       "\n",
       "                .geemap-colab .jupyter-button {\n",
       "                    --jp-layout-color3: var(--colab-primary-surface-color, white);\n",
       "                }\n",
       "            </style>\n",
       "            "
      ],
      "text/plain": [
       "<IPython.core.display.HTML object>"
      ]
     },
     "metadata": {},
     "output_type": "display_data"
    },
    {
     "name": "stdout",
     "output_type": "stream",
     "text": [
      "Validation Metrics:\n",
      "Accuracy: 0.8556701030927835\n",
      "Kappa: 0.6687804878048779\n"
     ]
    }
   ],
   "source": [
    "# Calculate metrics\n",
    "confusion_matrix = classified_val.errorMatrix(label_col, 'classification')\n",
    "val_accuracy = confusion_matrix.accuracy()\n",
    "kappa = confusion_matrix.kappa()\n",
    "\n",
    "# Package all metrics into a single dictionary\n",
    "metrics = ee.Dictionary({\n",
    "    'Accuracy': val_accuracy,\n",
    "    'Kappa': kappa\n",
    "})\n",
    "\n",
    "# Retrieve all metrics in one call\n",
    "metrics_info = metrics.getInfo()\n",
    "\n",
    "# Print all metrics\n",
    "print('Validation Metrics:')\n",
    "print(f\"Accuracy: {metrics_info['Accuracy']}\")\n",
    "print(f\"Kappa: {metrics_info['Kappa']}\")"
   ]
  },
  {
   "cell_type": "markdown",
   "id": "u-QKNQK5AL43",
   "metadata": {
    "id": "u-QKNQK5AL43"
   },
   "source": [
    "**Q: Describe the changes you made to the 'standard' approach.**\n",
    "1. **Why did you make these changes**\n",
    "2. **which impact did each change have on your analysis?**\n",
    "3. **Which things did you try that did not work out?**"
   ]
  },
  {
   "cell_type": "markdown",
   "id": "BnOR_Ouk-CFv",
   "metadata": {
    "id": "BnOR_Ouk-CFv"
   },
   "source": [
    "### Run on test set"
   ]
  },
  {
   "cell_type": "markdown",
   "id": "YjIzJ6rR-mje",
   "metadata": {
    "id": "YjIzJ6rR-mje"
   },
   "source": [
    "Now, we load recent test images to classify recent urban extent. We take a median image over August 2024."
   ]
  },
  {
   "cell_type": "code",
   "execution_count": 28,
   "id": "cL9G2aPS-ba2",
   "metadata": {
    "id": "cL9G2aPS-ba2"
   },
   "outputs": [
    {
     "data": {
      "text/html": [
       "\n",
       "            <style>\n",
       "                .geemap-dark {\n",
       "                    --jp-widgets-color: white;\n",
       "                    --jp-widgets-label-color: white;\n",
       "                    --jp-ui-font-color1: white;\n",
       "                    --jp-layout-color2: #454545;\n",
       "                    background-color: #383838;\n",
       "                }\n",
       "\n",
       "                .geemap-dark .jupyter-button {\n",
       "                    --jp-layout-color3: #383838;\n",
       "                }\n",
       "\n",
       "                .geemap-colab {\n",
       "                    background-color: var(--colab-primary-surface-color, white);\n",
       "                }\n",
       "\n",
       "                .geemap-colab .jupyter-button {\n",
       "                    --jp-layout-color3: var(--colab-primary-surface-color, white);\n",
       "                }\n",
       "            </style>\n",
       "            "
      ],
      "text/plain": [
       "<IPython.core.display.HTML object>"
      ]
     },
     "metadata": {},
     "output_type": "display_data"
    }
   ],
   "source": [
    "# Load Sentinel-2 Image Collection\n",
    "test_sentinel2 = ee.ImageCollection(\"COPERNICUS/S2_HARMONIZED\") \\\n",
    "             .filterBounds(country_ROI.geometry()) \\\n",
    "             .filterDate('2024-08-01', '2024-08-31') \\\n",
    "             .filter(ee.Filter.lt('CLOUDY_PIXEL_PERCENTAGE', 10))\n",
    "\n",
    "# Create a median composite to reduce cloud cover\n",
    "test_mosaic_image = sentinel2.median().clip(country_ROI.geometry())\n",
    "\n",
    "# Add variables\n",
    "test_mosaic_image = make_s2_variables(test_mosaic_image)\n",
    "\n",
    "# Add to map object\n",
    "map.addLayer(test_mosaic_image, vis_params, \"test-Sentinel-2-2024\")"
   ]
  },
  {
   "cell_type": "markdown",
   "id": "ZMXJCmTj-9YV",
   "metadata": {
    "id": "ZMXJCmTj-9YV"
   },
   "source": [
    "Let's visualize the results calculated over the entire test image"
   ]
  },
  {
   "cell_type": "code",
   "execution_count": 29,
   "id": "waPHnNLv-76V",
   "metadata": {
    "colab": {
     "referenced_widgets": [
      "eb2c61d83e6a426c97721f9cf16be8fc"
     ]
    },
    "id": "waPHnNLv-76V",
    "outputId": "b8f65f6f-ca43-46f1-b91f-aa582c9a33ef"
   },
   "outputs": [
    {
     "data": {
      "text/html": [
       "\n",
       "            <style>\n",
       "                .geemap-dark {\n",
       "                    --jp-widgets-color: white;\n",
       "                    --jp-widgets-label-color: white;\n",
       "                    --jp-ui-font-color1: white;\n",
       "                    --jp-layout-color2: #454545;\n",
       "                    background-color: #383838;\n",
       "                }\n",
       "\n",
       "                .geemap-dark .jupyter-button {\n",
       "                    --jp-layout-color3: #383838;\n",
       "                }\n",
       "\n",
       "                .geemap-colab {\n",
       "                    background-color: var(--colab-primary-surface-color, white);\n",
       "                }\n",
       "\n",
       "                .geemap-colab .jupyter-button {\n",
       "                    --jp-layout-color3: var(--colab-primary-surface-color, white);\n",
       "                }\n",
       "            </style>\n",
       "            "
      ],
      "text/plain": [
       "<IPython.core.display.HTML object>"
      ]
     },
     "metadata": {},
     "output_type": "display_data"
    },
    {
     "data": {
      "application/vnd.jupyter.widget-view+json": {
       "model_id": "1397cb265f0847a09763b85957dcf482",
       "version_major": 2,
       "version_minor": 0
      },
      "text/plain": [
       "Map(center=[46.12445795068446, 14.826893950462633], controls=(WidgetControl(options=['position', 'transparent_…"
      ]
     },
     "execution_count": 29,
     "metadata": {},
     "output_type": "execute_result"
    }
   ],
   "source": [
    "# Classify the test image\n",
    "classified_image = test_mosaic_image.classify(trained_classifier)\n",
    "\n",
    "# Define the color mapping dictionary\n",
    "clc_colors = {\n",
    "    0: '#FFFFFF', # Rural\n",
    "    1: '#000000', # Urban\n",
    "}\n",
    "\n",
    "# Convert string labels to numeric codes\n",
    "def classify_to_numeric(image):\n",
    "    # Create a dictionary that maps string labels to numeric values\n",
    "    label_to_numeric = {label: index for index, label in enumerate(clc_colors.keys())}\n",
    "\n",
    "    # Convert string label to numeric value\n",
    "    return image.remap(\n",
    "        list(label_to_numeric.keys()),\n",
    "        list(label_to_numeric.values())\n",
    "    )\n",
    "\n",
    "# Convert the classified image\n",
    "numeric_classified_image = classify_to_numeric(classified_image)\n",
    "\n",
    "# Generate a palette for visualization\n",
    "palette = [clc_colors[label] for label in clc_colors.keys()]\n",
    "\n",
    "# Add the numeric classified image to the map\n",
    "map.addLayer(numeric_classified_image, {'palette': palette, 'min': 0, 'max': len(clc_colors) - 1}, 'Classified Image')\n",
    "map"
   ]
  },
  {
   "cell_type": "markdown",
   "id": "pJVtw5Y9IVes",
   "metadata": {
    "id": "pJVtw5Y9IVes"
   },
   "source": [
    "There are no metrics to calculate here - after all, we're trying to update our reference data. Instead, visually evaluate if you're happy with the results. When you're happy with the results, proceed to the next block to export the data from Earth Engine into our local environment.\n",
    "\n",
    "(**hint:** don't go for perfect, this is very hard to achieve in the current setting)\n",
    "\n",
    "**Q: Describe your map and your results in general.**\n",
    "1. **Where do you still see errors? Are these systemic?**\n",
    "2. **How could you further improve your product to clean these up?** **bold text**\n",
    "3. **Was there anything you wanted to try, but were unable to?**"
   ]
  },
  {
   "cell_type": "markdown",
   "id": "LPkrvHduHyDh",
   "metadata": {
    "id": "LPkrvHduHyDh"
   },
   "source": [
    "### Export resulting image"
   ]
  },
  {
   "cell_type": "code",
   "execution_count": 30,
   "id": "m1FjLJVzH2Zt",
   "metadata": {
    "id": "m1FjLJVzH2Zt",
    "outputId": "930bd2b1-83ff-4ea3-c851-12142a86a63c"
   },
   "outputs": [
    {
     "data": {
      "text/html": [
       "\n",
       "            <style>\n",
       "                .geemap-dark {\n",
       "                    --jp-widgets-color: white;\n",
       "                    --jp-widgets-label-color: white;\n",
       "                    --jp-ui-font-color1: white;\n",
       "                    --jp-layout-color2: #454545;\n",
       "                    background-color: #383838;\n",
       "                }\n",
       "\n",
       "                .geemap-dark .jupyter-button {\n",
       "                    --jp-layout-color3: #383838;\n",
       "                }\n",
       "\n",
       "                .geemap-colab {\n",
       "                    background-color: var(--colab-primary-surface-color, white);\n",
       "                }\n",
       "\n",
       "                .geemap-colab .jupyter-button {\n",
       "                    --jp-layout-color3: var(--colab-primary-surface-color, white);\n",
       "                }\n",
       "            </style>\n",
       "            "
      ],
      "text/plain": [
       "<IPython.core.display.HTML object>"
      ]
     },
     "metadata": {},
     "output_type": "display_data"
    },
    {
     "name": "stdout",
     "output_type": "stream",
     "text": [
      "Generating URL ...\n",
      "Downloading data from https://earthengine.googleapis.com/v1/projects/proj-gis-1234/thumbnails/5318c58b433613d47dc90c8602bd6264-893516433a0289f1d648527a6e51611d:getPixels\n",
      "Please wait ...\n",
      "Data downloaded to C:\\projects\\UNIGIS_ProgrammingGIS\\TAA4\\urban_rural_raster.tif\n"
     ]
    }
   ],
   "source": [
    "geemap.ee_export_image(classified_image, filename='urban_rural_raster.tif', scale=1000, file_per_band=False)\n",
    "urban_raster = xr.open_dataset('urban_rural_raster.tif', engine='rasterio')"
   ]
  },
  {
   "cell_type": "markdown",
   "id": "309a00a2-8aa1-4091-b575-31d56622fd16",
   "metadata": {
    "id": "309a00a2-8aa1-4091-b575-31d56622fd16"
   },
   "source": [
    "### 3. Overlay urban and rural classification with population and Healthcare information"
   ]
  },
  {
   "cell_type": "markdown",
   "id": "cfa24afd-0400-4462-ab77-62d5fd126853",
   "metadata": {},
   "source": [
    "In this step, we overlay the resulting urban/rural raster image from the previous section onto our population data point. a binary categorical variable, unban_rural, will be added to each data point, where 1 represents urban and 0 represents rural."
   ]
  },
  {
   "cell_type": "code",
   "execution_count": 31,
   "id": "f456e034-5e81-4d99-9093-0380af66e8f9",
   "metadata": {
    "id": "f456e034-5e81-4d99-9093-0380af66e8f9",
    "outputId": "d397d580-707f-411c-a5af-82887241d4bd"
   },
   "outputs": [
    {
     "data": {
      "text/html": [
       "\n",
       "            <style>\n",
       "                .geemap-dark {\n",
       "                    --jp-widgets-color: white;\n",
       "                    --jp-widgets-label-color: white;\n",
       "                    --jp-ui-font-color1: white;\n",
       "                    --jp-layout-color2: #454545;\n",
       "                    background-color: #383838;\n",
       "                }\n",
       "\n",
       "                .geemap-dark .jupyter-button {\n",
       "                    --jp-layout-color3: #383838;\n",
       "                }\n",
       "\n",
       "                .geemap-colab {\n",
       "                    background-color: var(--colab-primary-surface-color, white);\n",
       "                }\n",
       "\n",
       "                .geemap-colab .jupyter-button {\n",
       "                    --jp-layout-color3: var(--colab-primary-surface-color, white);\n",
       "                }\n",
       "            </style>\n",
       "            "
      ],
      "text/plain": [
       "<IPython.core.display.HTML object>"
      ]
     },
     "metadata": {},
     "output_type": "display_data"
    }
   ],
   "source": [
    "urban_rural = xr.open_dataarray('urban_rural_raster.tif')\n",
    "\n",
    "values = urban_rural.sel(\n",
    "                {\n",
    "                    urban_rural.rio.x_dim: xr.DataArray(df_worldpop_.geometry.x),\n",
    "                    urban_rural.rio.y_dim: xr.DataArray(df_worldpop_.geometry.y),\n",
    "                },\n",
    "                method=\"nearest\",\n",
    "            ).values[0]\n",
    "df_worldpop_[\"urban_rural\"] = values\n",
    "df_worldpop_[\"urban_rural\"] = df_worldpop_[\"urban_rural\"].fillna(0)"
   ]
  },
  {
   "cell_type": "markdown",
   "id": "33b230bc-dbfe-436f-aefb-acd3de96f909",
   "metadata": {},
   "source": [
    "lets check the resulted calssified population, as mentioned about 1 measn urban and 0 rural."
   ]
  },
  {
   "cell_type": "code",
   "execution_count": 32,
   "id": "bf032653-2165-4676-9ad3-e55700c6b8e8",
   "metadata": {},
   "outputs": [
    {
     "data": {
      "text/html": [
       "\n",
       "            <style>\n",
       "                .geemap-dark {\n",
       "                    --jp-widgets-color: white;\n",
       "                    --jp-widgets-label-color: white;\n",
       "                    --jp-ui-font-color1: white;\n",
       "                    --jp-layout-color2: #454545;\n",
       "                    background-color: #383838;\n",
       "                }\n",
       "\n",
       "                .geemap-dark .jupyter-button {\n",
       "                    --jp-layout-color3: #383838;\n",
       "                }\n",
       "\n",
       "                .geemap-colab {\n",
       "                    background-color: var(--colab-primary-surface-color, white);\n",
       "                }\n",
       "\n",
       "                .geemap-colab .jupyter-button {\n",
       "                    --jp-layout-color3: var(--colab-primary-surface-color, white);\n",
       "                }\n",
       "            </style>\n",
       "            "
      ],
      "text/plain": [
       "<IPython.core.display.HTML object>"
      ]
     },
     "metadata": {},
     "output_type": "display_data"
    },
    {
     "data": {
      "text/html": [
       "<div>\n",
       "<style scoped>\n",
       "    .dataframe tbody tr th:only-of-type {\n",
       "        vertical-align: middle;\n",
       "    }\n",
       "\n",
       "    .dataframe tbody tr th {\n",
       "        vertical-align: top;\n",
       "    }\n",
       "\n",
       "    .dataframe thead th {\n",
       "        text-align: right;\n",
       "    }\n",
       "</style>\n",
       "<table border=\"1\" class=\"dataframe\">\n",
       "  <thead>\n",
       "    <tr style=\"text-align: right;\">\n",
       "      <th></th>\n",
       "      <th>band_data</th>\n",
       "      <th>geometry</th>\n",
       "      <th>urban_rural</th>\n",
       "    </tr>\n",
       "  </thead>\n",
       "  <tbody>\n",
       "    <tr>\n",
       "      <th>0</th>\n",
       "      <td>512.969238</td>\n",
       "      <td>POINT (15.96057 46.8236)</td>\n",
       "      <td>0.0</td>\n",
       "    </tr>\n",
       "    <tr>\n",
       "      <th>1</th>\n",
       "      <td>3930.664307</td>\n",
       "      <td>POINT (16.04593 46.8236)</td>\n",
       "      <td>0.0</td>\n",
       "    </tr>\n",
       "    <tr>\n",
       "      <th>2</th>\n",
       "      <td>2205.554199</td>\n",
       "      <td>POINT (16.13129 46.8236)</td>\n",
       "      <td>0.0</td>\n",
       "    </tr>\n",
       "    <tr>\n",
       "      <th>3</th>\n",
       "      <td>1943.986572</td>\n",
       "      <td>POINT (16.21666 46.8236)</td>\n",
       "      <td>0.0</td>\n",
       "    </tr>\n",
       "    <tr>\n",
       "      <th>4</th>\n",
       "      <td>836.774170</td>\n",
       "      <td>POINT (16.30202 46.8236)</td>\n",
       "      <td>0.0</td>\n",
       "    </tr>\n",
       "    <tr>\n",
       "      <th>...</th>\n",
       "      <td>...</td>\n",
       "      <td>...</td>\n",
       "      <td>...</td>\n",
       "    </tr>\n",
       "    <tr>\n",
       "      <th>391</th>\n",
       "      <td>101.199600</td>\n",
       "      <td>POINT (15.02161 45.4589)</td>\n",
       "      <td>0.0</td>\n",
       "    </tr>\n",
       "    <tr>\n",
       "      <th>392</th>\n",
       "      <td>446.684387</td>\n",
       "      <td>POINT (15.10697 45.4589)</td>\n",
       "      <td>0.0</td>\n",
       "    </tr>\n",
       "    <tr>\n",
       "      <th>393</th>\n",
       "      <td>1087.734619</td>\n",
       "      <td>POINT (15.19233 45.4589)</td>\n",
       "      <td>0.0</td>\n",
       "    </tr>\n",
       "    <tr>\n",
       "      <th>394</th>\n",
       "      <td>1046.664062</td>\n",
       "      <td>POINT (15.27769 45.4589)</td>\n",
       "      <td>0.0</td>\n",
       "    </tr>\n",
       "    <tr>\n",
       "      <th>395</th>\n",
       "      <td>155.921677</td>\n",
       "      <td>POINT (15.36305 45.4589)</td>\n",
       "      <td>0.0</td>\n",
       "    </tr>\n",
       "  </tbody>\n",
       "</table>\n",
       "<p>396 rows × 3 columns</p>\n",
       "</div>"
      ],
      "text/plain": [
       "       band_data                  geometry  urban_rural\n",
       "0     512.969238  POINT (15.96057 46.8236)          0.0\n",
       "1    3930.664307  POINT (16.04593 46.8236)          0.0\n",
       "2    2205.554199  POINT (16.13129 46.8236)          0.0\n",
       "3    1943.986572  POINT (16.21666 46.8236)          0.0\n",
       "4     836.774170  POINT (16.30202 46.8236)          0.0\n",
       "..           ...                       ...          ...\n",
       "391   101.199600  POINT (15.02161 45.4589)          0.0\n",
       "392   446.684387  POINT (15.10697 45.4589)          0.0\n",
       "393  1087.734619  POINT (15.19233 45.4589)          0.0\n",
       "394  1046.664062  POINT (15.27769 45.4589)          0.0\n",
       "395   155.921677  POINT (15.36305 45.4589)          0.0\n",
       "\n",
       "[396 rows x 3 columns]"
      ]
     },
     "execution_count": 32,
     "metadata": {},
     "output_type": "execute_result"
    }
   ],
   "source": [
    "df_worldpop_"
   ]
  },
  {
   "cell_type": "markdown",
   "id": "573f10a4-d0bb-4675-903f-71ffbe45358f",
   "metadata": {
    "id": "573f10a4-d0bb-4675-903f-71ffbe45358f"
   },
   "source": [
    "## 4. Clustering population data points and assigning them to their nearest hospital."
   ]
  },
  {
   "cell_type": "markdown",
   "id": "32b0f3b2-85c6-43ee-b80d-dd3106d809dd",
   "metadata": {},
   "source": [
    "In this section, we first add a local_ID to all hospitals to make sure each one has a uniqe id to be refered to later. then we create clusters of population. in this regard, we use K-means clustering algorithm with k equal to the numebr of hospitals. then calculate the sum of rural population each cluster as well as the urban population.  then we calcualte the eucleadin distance of each center of cluster to all hospitals and assinge the hospila that has the minimum distance to them."
   ]
  },
  {
   "cell_type": "code",
   "execution_count": 33,
   "id": "e56a71da-0062-4325-8246-d8de4ceb9135",
   "metadata": {},
   "outputs": [
    {
     "data": {
      "text/html": [
       "\n",
       "            <style>\n",
       "                .geemap-dark {\n",
       "                    --jp-widgets-color: white;\n",
       "                    --jp-widgets-label-color: white;\n",
       "                    --jp-ui-font-color1: white;\n",
       "                    --jp-layout-color2: #454545;\n",
       "                    background-color: #383838;\n",
       "                }\n",
       "\n",
       "                .geemap-dark .jupyter-button {\n",
       "                    --jp-layout-color3: #383838;\n",
       "                }\n",
       "\n",
       "                .geemap-colab {\n",
       "                    background-color: var(--colab-primary-surface-color, white);\n",
       "                }\n",
       "\n",
       "                .geemap-colab .jupyter-button {\n",
       "                    --jp-layout-color3: var(--colab-primary-surface-color, white);\n",
       "                }\n",
       "            </style>\n",
       "            "
      ],
      "text/plain": [
       "<IPython.core.display.HTML object>"
      ]
     },
     "metadata": {},
     "output_type": "display_data"
    },
    {
     "data": {
      "text/plain": [
       "133"
      ]
     },
     "execution_count": 33,
     "metadata": {},
     "output_type": "execute_result"
    }
   ],
   "source": [
    "len(HealthCenters_centroids)"
   ]
  },
  {
   "cell_type": "code",
   "execution_count": 34,
   "id": "8991a94b-75bb-4a65-b81f-8800eb23752a",
   "metadata": {},
   "outputs": [
    {
     "data": {
      "text/html": [
       "\n",
       "            <style>\n",
       "                .geemap-dark {\n",
       "                    --jp-widgets-color: white;\n",
       "                    --jp-widgets-label-color: white;\n",
       "                    --jp-ui-font-color1: white;\n",
       "                    --jp-layout-color2: #454545;\n",
       "                    background-color: #383838;\n",
       "                }\n",
       "\n",
       "                .geemap-dark .jupyter-button {\n",
       "                    --jp-layout-color3: #383838;\n",
       "                }\n",
       "\n",
       "                .geemap-colab {\n",
       "                    background-color: var(--colab-primary-surface-color, white);\n",
       "                }\n",
       "\n",
       "                .geemap-colab .jupyter-button {\n",
       "                    --jp-layout-color3: var(--colab-primary-surface-color, white);\n",
       "                }\n",
       "            </style>\n",
       "            "
      ],
      "text/plain": [
       "<IPython.core.display.HTML object>"
      ]
     },
     "metadata": {},
     "output_type": "display_data"
    },
    {
     "data": {
      "text/html": [
       "<div>\n",
       "<style scoped>\n",
       "    .dataframe tbody tr th:only-of-type {\n",
       "        vertical-align: middle;\n",
       "    }\n",
       "\n",
       "    .dataframe tbody tr th {\n",
       "        vertical-align: top;\n",
       "    }\n",
       "\n",
       "    .dataframe thead th {\n",
       "        text-align: right;\n",
       "    }\n",
       "</style>\n",
       "<table border=\"1\" class=\"dataframe\">\n",
       "  <thead>\n",
       "    <tr style=\"text-align: right;\">\n",
       "      <th></th>\n",
       "      <th>cluster</th>\n",
       "      <th>geometry</th>\n",
       "      <th>urban_population</th>\n",
       "      <th>rural_population</th>\n",
       "      <th>nearest_hospital_local_id</th>\n",
       "      <th>nearest_hospital_geometry</th>\n",
       "    </tr>\n",
       "  </thead>\n",
       "  <tbody>\n",
       "    <tr>\n",
       "      <th>0</th>\n",
       "      <td>0</td>\n",
       "      <td>POINT (15.36305 45.4589)</td>\n",
       "      <td>0.000000</td>\n",
       "      <td>155.921677</td>\n",
       "      <td>73</td>\n",
       "      <td>POINT (15.163850749114253 45.79989695241292)</td>\n",
       "    </tr>\n",
       "    <tr>\n",
       "      <th>1</th>\n",
       "      <td>1</td>\n",
       "      <td>POINT (15.99472 46.75537)</td>\n",
       "      <td>3826.316650</td>\n",
       "      <td>13469.583984</td>\n",
       "      <td>2</td>\n",
       "      <td>POINT (15.978238324664575 46.68750277238846)</td>\n",
       "    </tr>\n",
       "    <tr>\n",
       "      <th>2</th>\n",
       "      <td>2</td>\n",
       "      <td>POINT (15.27769 45.4589)</td>\n",
       "      <td>0.000000</td>\n",
       "      <td>1046.664062</td>\n",
       "      <td>73</td>\n",
       "      <td>POINT (15.163850749114253 45.79989695241292)</td>\n",
       "    </tr>\n",
       "    <tr>\n",
       "      <th>3</th>\n",
       "      <td>3</td>\n",
       "      <td>POINT (14.50945 45.97066)</td>\n",
       "      <td>10871.824219</td>\n",
       "      <td>0.000000</td>\n",
       "      <td>4</td>\n",
       "      <td>POINT (14.523534544937489 46.03654961029273)</td>\n",
       "    </tr>\n",
       "    <tr>\n",
       "      <th>4</th>\n",
       "      <td>4</td>\n",
       "      <td>POINT (14.21922 46.38007)</td>\n",
       "      <td>20575.242188</td>\n",
       "      <td>13451.051758</td>\n",
       "      <td>5</td>\n",
       "      <td>POINT (14.201134898326943 46.376751864014345)</td>\n",
       "    </tr>\n",
       "    <tr>\n",
       "      <th>...</th>\n",
       "      <td>...</td>\n",
       "      <td>...</td>\n",
       "      <td>...</td>\n",
       "      <td>...</td>\n",
       "      <td>...</td>\n",
       "      <td>...</td>\n",
       "    </tr>\n",
       "    <tr>\n",
       "      <th>128</th>\n",
       "      <td>128</td>\n",
       "      <td>POINT (14.50945 46.35449)</td>\n",
       "      <td>0.000000</td>\n",
       "      <td>1238.608643</td>\n",
       "      <td>129</td>\n",
       "      <td>POINT (14.486722993533334 46.24971688580778)</td>\n",
       "    </tr>\n",
       "    <tr>\n",
       "      <th>129</th>\n",
       "      <td>129</td>\n",
       "      <td>POINT (13.78389 46.43978)</td>\n",
       "      <td>0.000000</td>\n",
       "      <td>3545.973633</td>\n",
       "      <td>130</td>\n",
       "      <td>POINT (13.782413390607312 46.48538871591214)</td>\n",
       "    </tr>\n",
       "    <tr>\n",
       "      <th>130</th>\n",
       "      <td>130</td>\n",
       "      <td>POINT (14.38141 46.43978)</td>\n",
       "      <td>0.000000</td>\n",
       "      <td>5411.233398</td>\n",
       "      <td>131</td>\n",
       "      <td>POINT (14.332917646680235 46.32902384898702)</td>\n",
       "    </tr>\n",
       "    <tr>\n",
       "      <th>131</th>\n",
       "      <td>131</td>\n",
       "      <td>POINT (14.33873 46.22654)</td>\n",
       "      <td>47305.285156</td>\n",
       "      <td>29385.140625</td>\n",
       "      <td>132</td>\n",
       "      <td>POINT (14.353454222758952 46.24864076461883)</td>\n",
       "    </tr>\n",
       "    <tr>\n",
       "      <th>132</th>\n",
       "      <td>132</td>\n",
       "      <td>POINT (13.91193 45.50154)</td>\n",
       "      <td>0.000000</td>\n",
       "      <td>2524.853027</td>\n",
       "      <td>43</td>\n",
       "      <td>POINT (13.732211026809601 45.53942988832533)</td>\n",
       "    </tr>\n",
       "  </tbody>\n",
       "</table>\n",
       "<p>133 rows × 6 columns</p>\n",
       "</div>"
      ],
      "text/plain": [
       "     cluster                   geometry  urban_population  rural_population  \\\n",
       "0          0   POINT (15.36305 45.4589)          0.000000        155.921677   \n",
       "1          1  POINT (15.99472 46.75537)       3826.316650      13469.583984   \n",
       "2          2   POINT (15.27769 45.4589)          0.000000       1046.664062   \n",
       "3          3  POINT (14.50945 45.97066)      10871.824219          0.000000   \n",
       "4          4  POINT (14.21922 46.38007)      20575.242188      13451.051758   \n",
       "..       ...                        ...               ...               ...   \n",
       "128      128  POINT (14.50945 46.35449)          0.000000       1238.608643   \n",
       "129      129  POINT (13.78389 46.43978)          0.000000       3545.973633   \n",
       "130      130  POINT (14.38141 46.43978)          0.000000       5411.233398   \n",
       "131      131  POINT (14.33873 46.22654)      47305.285156      29385.140625   \n",
       "132      132  POINT (13.91193 45.50154)          0.000000       2524.853027   \n",
       "\n",
       "     nearest_hospital_local_id                      nearest_hospital_geometry  \n",
       "0                           73   POINT (15.163850749114253 45.79989695241292)  \n",
       "1                            2   POINT (15.978238324664575 46.68750277238846)  \n",
       "2                           73   POINT (15.163850749114253 45.79989695241292)  \n",
       "3                            4   POINT (14.523534544937489 46.03654961029273)  \n",
       "4                            5  POINT (14.201134898326943 46.376751864014345)  \n",
       "..                         ...                                            ...  \n",
       "128                        129   POINT (14.486722993533334 46.24971688580778)  \n",
       "129                        130   POINT (13.782413390607312 46.48538871591214)  \n",
       "130                        131   POINT (14.332917646680235 46.32902384898702)  \n",
       "131                        132   POINT (14.353454222758952 46.24864076461883)  \n",
       "132                         43   POINT (13.732211026809601 45.53942988832533)  \n",
       "\n",
       "[133 rows x 6 columns]"
      ]
     },
     "execution_count": 34,
     "metadata": {},
     "output_type": "execute_result"
    }
   ],
   "source": [
    "### 1st step: Add Local_ID to the HealthCenters_centroids GeoDataFrame\n",
    "HealthCenters_centroids['Local_ID'] = range(1, len(HealthCenters_centroids) + 1)\n",
    "\n",
    "# 2nd step: Ensure both GeoDataFrames are in the same CRS (EPSG:4326)\n",
    "HealthCenters_centroids = HealthCenters_centroids.to_crs(epsg=4326)\n",
    "\n",
    "# Convert geometries to a list of coordinates (for KMeans)\n",
    "pop_coords = np.array([(geom.x, geom.y) for geom in df_worldpop_['geometry']])\n",
    "pop_band_data = df_worldpop_['band_data'].values\n",
    "\n",
    "# Extract the hospital coordinates\n",
    "hospital_coords = np.array([(geom.x, geom.y) for geom in HealthCenters_centroids['geometry']])\n",
    "hospital_local_ids = HealthCenters_centroids['Local_ID'].values\n",
    "hospital_geometries = HealthCenters_centroids['geometry'].values\n",
    "\n",
    "### 3rd step: K-Means\n",
    "# Ensure that the number of clusters is equal to the number of hospital coordinates\n",
    "n_clusters = len(hospital_coords)\n",
    "\n",
    "kmeans = KMeans(n_clusters=n_clusters, random_state=random_seed, init=hospital_coords, n_init=1)  # using hospital locations as initial centers\n",
    "df_worldpop_['cluster'] = kmeans.fit_predict(pop_coords)\n",
    "\n",
    "# Get cluster centers (latitude & longitude)\n",
    "cluster_centers = kmeans.cluster_centers_\n",
    "\n",
    "### 4th step: calculate the sum of urban and rural populations in each cluster\n",
    "# group by cluster and urban/rural status then sum up the populations\n",
    "\n",
    "# rural population (urban_rural = 0)\n",
    "rural_population_by_cluster = df_worldpop_[df_worldpop_['urban_rural'] == 0.0].groupby('cluster')['band_data'].sum().reindex(range(n_clusters), fill_value=0)\n",
    "\n",
    "# urban population (urban_rural = 1)\n",
    "urban_population_by_cluster = df_worldpop_[df_worldpop_['urban_rural'] == 1.0].groupby('cluster')['band_data'].sum().reindex(range(n_clusters), fill_value=0)\n",
    "\n",
    "# to create a new DataFrame for clusters with the total urban and rural population\n",
    "clusters_df = pd.DataFrame({\n",
    "    'cluster': range(n_clusters),\n",
    "    'geometry': [Point(x, y) for x, y in cluster_centers],\n",
    "    'urban_population': urban_population_by_cluster.values,\n",
    "    'rural_population': rural_population_by_cluster.values\n",
    "})\n",
    "\n",
    "### 5th step: assign the nearest hospital to the related cluster\n",
    "# distances between each cluster center and each health facility center\n",
    "distances = cdist(cluster_centers, hospital_coords, metric='euclidean')\n",
    "\n",
    "# the index of the nearest hospital for each cluster\n",
    "nearest_hospital_idx = distances.argmin(axis=1)\n",
    "\n",
    "# assign the nearest hospital Local_ID and geometry to each cluster center\n",
    "clusters_df['nearest_hospital_local_id'] = [hospital_local_ids[idx] for idx in nearest_hospital_idx]\n",
    "clusters_df['nearest_hospital_geometry'] = [hospital_geometries[idx] for idx in nearest_hospital_idx]\n",
    "\n",
    "### 6th step: convert to GeoDataFrame and set CRS\n",
    "clusters_gdf = gpd.GeoDataFrame(clusters_df, geometry='geometry')\n",
    "clusters_gdf.set_crs(epsg=4326, inplace=True)\n",
    "\n",
    "# review the content of the resulting clusters dataframe\n",
    "clusters_gdf\n",
    "\n"
   ]
  },
  {
   "cell_type": "markdown",
   "id": "5299738d-567d-4473-aaa2-095dede18b92",
   "metadata": {
    "id": "5299738d-567d-4473-aaa2-095dede18b92"
   },
   "source": [
    "## 5. Explore and evaluate baseline results\n",
    "\n",
    "let's Plot cluster centers and the location of hospitals"
   ]
  },
  {
   "cell_type": "code",
   "execution_count": 35,
   "id": "4735e1af-5573-4baf-83d7-6644ac7a3ad5",
   "metadata": {
    "id": "4735e1af-5573-4baf-83d7-6644ac7a3ad5",
    "outputId": "cee4726f-b707-4b29-c1b1-d1495557475d"
   },
   "outputs": [
    {
     "data": {
      "text/html": [
       "\n",
       "            <style>\n",
       "                .geemap-dark {\n",
       "                    --jp-widgets-color: white;\n",
       "                    --jp-widgets-label-color: white;\n",
       "                    --jp-ui-font-color1: white;\n",
       "                    --jp-layout-color2: #454545;\n",
       "                    background-color: #383838;\n",
       "                }\n",
       "\n",
       "                .geemap-dark .jupyter-button {\n",
       "                    --jp-layout-color3: #383838;\n",
       "                }\n",
       "\n",
       "                .geemap-colab {\n",
       "                    background-color: var(--colab-primary-surface-color, white);\n",
       "                }\n",
       "\n",
       "                .geemap-colab .jupyter-button {\n",
       "                    --jp-layout-color3: var(--colab-primary-surface-color, white);\n",
       "                }\n",
       "            </style>\n",
       "            "
      ],
      "text/plain": [
       "<IPython.core.display.HTML object>"
      ]
     },
     "metadata": {},
     "output_type": "display_data"
    },
    {
     "data": {
      "image/png": "[encoded data removed]",
      "text/plain": [
       "<Figure size 1000x800 with 1 Axes>"
      ]
     },
     "metadata": {},
     "output_type": "display_data"
    }
   ],
   "source": [
    "clusters_gdf['x'] = clusters_gdf.geometry.x\n",
    "clusters_gdf['y'] = clusters_gdf.geometry.y\n",
    "\n",
    "\n",
    "HealthCenters_centroids['x'] = HealthCenters_centroids.geometry.x\n",
    "HealthCenters_centroids['y'] = HealthCenters_centroids.geometry.y\n",
    "\n",
    "\n",
    "fig, ax = plt.subplots(figsize=(10, 8))\n",
    "\n",
    "\n",
    "ax.scatter(clusters_gdf['x'], clusters_gdf['y'], color='black', marker='o', s=20, label='Cluster Centers')\n",
    "\n",
    "\n",
    "for x, y, label in zip(clusters_gdf['x'], clusters_gdf['y'], clusters_gdf['cluster']):\n",
    "    ax.text(x, y, str(label), fontsize=12, color='k')\n",
    "\n",
    "ax.scatter(HealthCenters_centroids['x'], HealthCenters_centroids['y'], color='red', marker='+', s=100, label='Hospitals')\n",
    "\n",
    "\n",
    "plt.title(\"Cluster Centers with their IDs and Hospital Locations\")\n",
    "plt.xlabel(\"Longitude\")\n",
    "plt.ylabel(\"Latitude\")\n",
    "plt.legend()\n",
    "plt.show()\n"
   ]
  },
  {
   "cell_type": "markdown",
   "id": "e3d8e5a3-ffa1-4b1a-a3e6-0e569346a78c",
   "metadata": {
    "id": "e3d8e5a3-ffa1-4b1a-a3e6-0e569346a78c"
   },
   "source": [
    "### Identify and plot population per healthcare facility"
   ]
  },
  {
   "cell_type": "markdown",
   "id": "b2ea7390-b44c-4bbc-9cf4-7b40556e5e8d",
   "metadata": {},
   "source": [
    "Here, we calculate the urban and rural demand for services for each hospital by summing the populations in each cluster assigned to the hospitals. We also calculate the total demand for each hospital."
   ]
  },
  {
   "cell_type": "code",
   "execution_count": 36,
   "id": "cf27813b-e51f-49cd-811d-e95fb1f1983c",
   "metadata": {},
   "outputs": [
    {
     "data": {
      "text/html": [
       "\n",
       "            <style>\n",
       "                .geemap-dark {\n",
       "                    --jp-widgets-color: white;\n",
       "                    --jp-widgets-label-color: white;\n",
       "                    --jp-ui-font-color1: white;\n",
       "                    --jp-layout-color2: #454545;\n",
       "                    background-color: #383838;\n",
       "                }\n",
       "\n",
       "                .geemap-dark .jupyter-button {\n",
       "                    --jp-layout-color3: #383838;\n",
       "                }\n",
       "\n",
       "                .geemap-colab {\n",
       "                    background-color: var(--colab-primary-surface-color, white);\n",
       "                }\n",
       "\n",
       "                .geemap-colab .jupyter-button {\n",
       "                    --jp-layout-color3: var(--colab-primary-surface-color, white);\n",
       "                }\n",
       "            </style>\n",
       "            "
      ],
      "text/plain": [
       "<IPython.core.display.HTML object>"
      ]
     },
     "metadata": {},
     "output_type": "display_data"
    },
    {
     "data": {
      "text/html": [
       "<div>\n",
       "<style scoped>\n",
       "    .dataframe tbody tr th:only-of-type {\n",
       "        vertical-align: middle;\n",
       "    }\n",
       "\n",
       "    .dataframe tbody tr th {\n",
       "        vertical-align: top;\n",
       "    }\n",
       "\n",
       "    .dataframe thead th {\n",
       "        text-align: right;\n",
       "    }\n",
       "</style>\n",
       "<table border=\"1\" class=\"dataframe\">\n",
       "  <thead>\n",
       "    <tr style=\"text-align: right;\">\n",
       "      <th></th>\n",
       "      <th>Local_ID</th>\n",
       "      <th>urban_population</th>\n",
       "      <th>rural_population</th>\n",
       "      <th>total_population</th>\n",
       "    </tr>\n",
       "  </thead>\n",
       "  <tbody>\n",
       "    <tr>\n",
       "      <th>38</th>\n",
       "      <td>39</td>\n",
       "      <td>167343.843750</td>\n",
       "      <td>0.000000</td>\n",
       "      <td>167343.843750</td>\n",
       "    </tr>\n",
       "    <tr>\n",
       "      <th>48</th>\n",
       "      <td>49</td>\n",
       "      <td>46885.500000</td>\n",
       "      <td>70193.351562</td>\n",
       "      <td>117078.851562</td>\n",
       "    </tr>\n",
       "    <tr>\n",
       "      <th>25</th>\n",
       "      <td>26</td>\n",
       "      <td>76068.718750</td>\n",
       "      <td>11647.865234</td>\n",
       "      <td>87716.585938</td>\n",
       "    </tr>\n",
       "    <tr>\n",
       "      <th>16</th>\n",
       "      <td>17</td>\n",
       "      <td>66169.156250</td>\n",
       "      <td>20895.769531</td>\n",
       "      <td>87064.921875</td>\n",
       "    </tr>\n",
       "    <tr>\n",
       "      <th>131</th>\n",
       "      <td>132</td>\n",
       "      <td>47305.285156</td>\n",
       "      <td>29385.140625</td>\n",
       "      <td>76690.421875</td>\n",
       "    </tr>\n",
       "    <tr>\n",
       "      <th>...</th>\n",
       "      <td>...</td>\n",
       "      <td>...</td>\n",
       "      <td>...</td>\n",
       "      <td>...</td>\n",
       "    </tr>\n",
       "    <tr>\n",
       "      <th>101</th>\n",
       "      <td>102</td>\n",
       "      <td>0.000000</td>\n",
       "      <td>3403.614990</td>\n",
       "      <td>3403.614990</td>\n",
       "    </tr>\n",
       "    <tr>\n",
       "      <th>121</th>\n",
       "      <td>122</td>\n",
       "      <td>2615.232422</td>\n",
       "      <td>354.383392</td>\n",
       "      <td>2969.615723</td>\n",
       "    </tr>\n",
       "    <tr>\n",
       "      <th>40</th>\n",
       "      <td>41</td>\n",
       "      <td>0.000000</td>\n",
       "      <td>2423.224854</td>\n",
       "      <td>2423.224854</td>\n",
       "    </tr>\n",
       "    <tr>\n",
       "      <th>108</th>\n",
       "      <td>109</td>\n",
       "      <td>0.000000</td>\n",
       "      <td>1852.280396</td>\n",
       "      <td>1852.280396</td>\n",
       "    </tr>\n",
       "    <tr>\n",
       "      <th>128</th>\n",
       "      <td>129</td>\n",
       "      <td>0.000000</td>\n",
       "      <td>1437.886475</td>\n",
       "      <td>1437.886475</td>\n",
       "    </tr>\n",
       "  </tbody>\n",
       "</table>\n",
       "<p>77 rows × 4 columns</p>\n",
       "</div>"
      ],
      "text/plain": [
       "     Local_ID  urban_population  rural_population  total_population\n",
       "38         39     167343.843750          0.000000     167343.843750\n",
       "48         49      46885.500000      70193.351562     117078.851562\n",
       "25         26      76068.718750      11647.865234      87716.585938\n",
       "16         17      66169.156250      20895.769531      87064.921875\n",
       "131       132      47305.285156      29385.140625      76690.421875\n",
       "..        ...               ...               ...               ...\n",
       "101       102          0.000000       3403.614990       3403.614990\n",
       "121       122       2615.232422        354.383392       2969.615723\n",
       "40         41          0.000000       2423.224854       2423.224854\n",
       "108       109          0.000000       1852.280396       1852.280396\n",
       "128       129          0.000000       1437.886475       1437.886475\n",
       "\n",
       "[77 rows x 4 columns]"
      ]
     },
     "execution_count": 36,
     "metadata": {},
     "output_type": "execute_result"
    }
   ],
   "source": [
    "# calculateing the total rural and urban demand (population) of each hospital\n",
    "hospital_population = clusters_gdf.groupby('nearest_hospital_local_id')[['urban_population', 'rural_population']].sum().reset_index()\n",
    "\n",
    "# now we merge the population data back to the HealthCenters_centroids GeoDataFrame\n",
    "hospital_population_merged = HealthCenters_centroids.merge(hospital_population, left_on='Local_ID', right_on='nearest_hospital_local_id', how='left')\n",
    "\n",
    "# also we sum up rural and urban demand to get the total demand of each hospital as well\n",
    "hospital_population_merged['total_population'] = hospital_population_merged['urban_population'] + hospital_population_merged['rural_population']\n",
    "\n",
    "# display the demand of hospitals\n",
    "hospital_population_merged[['Local_ID', 'urban_population', 'rural_population', 'total_population']].sort_values('total_population', ascending=False).dropna()\n"
   ]
  },
  {
   "cell_type": "markdown",
   "id": "12b83859-6dfc-4b28-8fd6-297b66ed737a",
   "metadata": {
    "id": "12b83859-6dfc-4b28-8fd6-297b66ed737a",
    "scrolled": true
   },
   "source": [
    "hospital_population_merged.plot('population')"
   ]
  },
  {
   "cell_type": "code",
   "execution_count": 37,
   "id": "d9e2d924-4ad9-440b-9f46-409878af679c",
   "metadata": {},
   "outputs": [
    {
     "data": {
      "text/html": [
       "\n",
       "            <style>\n",
       "                .geemap-dark {\n",
       "                    --jp-widgets-color: white;\n",
       "                    --jp-widgets-label-color: white;\n",
       "                    --jp-ui-font-color1: white;\n",
       "                    --jp-layout-color2: #454545;\n",
       "                    background-color: #383838;\n",
       "                }\n",
       "\n",
       "                .geemap-dark .jupyter-button {\n",
       "                    --jp-layout-color3: #383838;\n",
       "                }\n",
       "\n",
       "                .geemap-colab {\n",
       "                    background-color: var(--colab-primary-surface-color, white);\n",
       "                }\n",
       "\n",
       "                .geemap-colab .jupyter-button {\n",
       "                    --jp-layout-color3: var(--colab-primary-surface-color, white);\n",
       "                }\n",
       "            </style>\n",
       "            "
      ],
      "text/plain": [
       "<IPython.core.display.HTML object>"
      ]
     },
     "metadata": {},
     "output_type": "display_data"
    },
    {
     "data": {
      "text/plain": [
       "Index(['osm_id', 'osm_way_id', 'name', 'type', 'aeroway', 'amenity',\n",
       "       'admin_level', 'barrier', 'boundary', 'building', 'craft', 'geological',\n",
       "       'historic', 'land_area', 'landuse', 'leisure', 'man_made', 'military',\n",
       "       'natural', 'office', 'place', 'shop', 'sport', 'tourism', 'other_tags',\n",
       "       'geometry', 'Local_ID', 'x', 'y', 'nearest_hospital_local_id',\n",
       "       'urban_population', 'rural_population', 'total_population'],\n",
       "      dtype='object')"
      ]
     },
     "execution_count": 37,
     "metadata": {},
     "output_type": "execute_result"
    }
   ],
   "source": [
    "hospital_population_merged.columns"
   ]
  },
  {
   "cell_type": "code",
   "execution_count": 38,
   "id": "bc00dbb0-81fb-431b-ba56-37e07aa9907a",
   "metadata": {},
   "outputs": [
    {
     "data": {
      "text/html": [
       "\n",
       "            <style>\n",
       "                .geemap-dark {\n",
       "                    --jp-widgets-color: white;\n",
       "                    --jp-widgets-label-color: white;\n",
       "                    --jp-ui-font-color1: white;\n",
       "                    --jp-layout-color2: #454545;\n",
       "                    background-color: #383838;\n",
       "                }\n",
       "\n",
       "                .geemap-dark .jupyter-button {\n",
       "                    --jp-layout-color3: #383838;\n",
       "                }\n",
       "\n",
       "                .geemap-colab {\n",
       "                    background-color: var(--colab-primary-surface-color, white);\n",
       "                }\n",
       "\n",
       "                .geemap-colab .jupyter-button {\n",
       "                    --jp-layout-color3: var(--colab-primary-surface-color, white);\n",
       "                }\n",
       "            </style>\n",
       "            "
      ],
      "text/plain": [
       "<IPython.core.display.HTML object>"
      ]
     },
     "metadata": {},
     "output_type": "display_data"
    },
    {
     "name": "stderr",
     "output_type": "stream",
     "text": [
      "No artists with labels found to put in legend.  Note that artists whose label start with an underscore are ignored when legend() is called with no argument.\n"
     ]
    },
    {
     "data": {
      "image/png": "[encoded data removed]",
      "text/plain": [
       "<Figure size 1000x1000 with 2 Axes>"
      ]
     },
     "metadata": {},
     "output_type": "display_data"
    }
   ],
   "source": [
    "fig, ax = plt.subplots(figsize=(10, 10))\n",
    "\n",
    "\n",
    "hospital_population_merged.plot(\n",
    "    ax=ax,\n",
    "    column='total_population',\n",
    "    legend=True, \n",
    "    legend_kwds={'label': \"Total Population\", 'orientation': \"horizontal\"},\n",
    "    markersize=hospital_population_merged['total_population']/1000 , \n",
    "    alpha=0.8,\n",
    "    cmap='viridis_r',\n",
    "    edgecolor='black' \n",
    ")\n",
    "\n",
    "\n",
    "# Add a title and labels to the axes\n",
    "ax.set_title('Hospital locations and their total demand', fontsize=16)\n",
    "ax.set_xlabel('Longitude', fontsize=12)\n",
    "ax.set_ylabel('Latitude', fontsize=12)\n",
    "plt.legend()\n",
    "\n",
    "# Show the plot\n",
    "plt.show()\n"
   ]
  },
  {
   "cell_type": "markdown",
   "id": "c95fa7e9-46bf-4588-9bcd-7149d77d3e38",
   "metadata": {},
   "source": [
    "Now we check if there is any hospital that has not been assigned to any population cluster."
   ]
  },
  {
   "cell_type": "code",
   "execution_count": 39,
   "id": "bb07e73c-84a2-466f-a644-4fa313b82dec",
   "metadata": {
    "id": "bb07e73c-84a2-466f-a644-4fa313b82dec",
    "outputId": "10ee77ab-180c-4ee4-a5fa-ca59f4ae757e"
   },
   "outputs": [
    {
     "data": {
      "text/html": [
       "\n",
       "            <style>\n",
       "                .geemap-dark {\n",
       "                    --jp-widgets-color: white;\n",
       "                    --jp-widgets-label-color: white;\n",
       "                    --jp-ui-font-color1: white;\n",
       "                    --jp-layout-color2: #454545;\n",
       "                    background-color: #383838;\n",
       "                }\n",
       "\n",
       "                .geemap-dark .jupyter-button {\n",
       "                    --jp-layout-color3: #383838;\n",
       "                }\n",
       "\n",
       "                .geemap-colab {\n",
       "                    background-color: var(--colab-primary-surface-color, white);\n",
       "                }\n",
       "\n",
       "                .geemap-colab .jupyter-button {\n",
       "                    --jp-layout-color3: var(--colab-primary-surface-color, white);\n",
       "                }\n",
       "            </style>\n",
       "            "
      ],
      "text/plain": [
       "<IPython.core.display.HTML object>"
      ]
     },
     "metadata": {},
     "output_type": "display_data"
    },
    {
     "name": "stdout",
     "output_type": "stream",
     "text": [
      "following hospitals are not assigned to any cluster:\n",
      "     Local_ID                   geometry\n",
      "0           1  POINT (14.52441 46.05365)\n",
      "2           3  POINT (14.52484 46.06755)\n",
      "6           7  POINT (14.48788 46.06866)\n",
      "7           8  POINT (14.48717 46.06762)\n",
      "8           9  POINT (14.52093 46.05413)\n",
      "9          10   POINT (14.5237 46.05333)\n",
      "10         11  POINT (14.52078 46.05266)\n",
      "11         12  POINT (14.52033 46.05172)\n",
      "13         14  POINT (14.56972 46.05215)\n",
      "21         22  POINT (14.52243 46.05235)\n",
      "22         23  POINT (14.52138 46.05506)\n",
      "23         24  POINT (14.51099 46.06451)\n",
      "26         27  POINT (15.87645 46.42654)\n",
      "28         29   POINT (14.5239 46.05406)\n",
      "29         30  POINT (14.52124 46.05119)\n",
      "30         31   POINT (14.5225 46.05157)\n",
      "31         32  POINT (14.52194 46.05188)\n",
      "32         33  POINT (14.52217 46.05327)\n",
      "33         34  POINT (14.52236 46.05607)\n",
      "34         35  POINT (14.51737 46.05131)\n",
      "37         38  POINT (14.52526 46.05426)\n",
      "39         40  POINT (14.52839 46.05496)\n",
      "43         44   POINT (14.4811 46.04615)\n",
      "44         45  POINT (14.53185 46.10335)\n",
      "45         46  POINT (14.53148 46.05589)\n",
      "46         47  POINT (14.50068 46.06068)\n",
      "47         48  POINT (14.51968 46.05196)\n",
      "49         50   POINT (15.08172 46.5083)\n",
      "51         52   POINT (14.55865 46.0535)\n",
      "52         53  POINT (14.57055 46.05288)\n",
      "53         54  POINT (14.57102 46.05314)\n",
      "54         55  POINT (14.57156 46.05365)\n",
      "55         56  POINT (14.57166 46.05253)\n",
      "56         57  POINT (14.57013 46.05332)\n",
      "62         63  POINT (15.67162 46.52356)\n",
      "67         68  POINT (14.46488 46.09857)\n",
      "73         74  POINT (15.16206 45.80063)\n",
      "79         80   POINT (14.48296 46.0712)\n",
      "80         81  POINT (14.59646 46.13959)\n",
      "81         82  POINT (14.51998 46.05327)\n",
      "82         83  POINT (14.52931 46.05476)\n",
      "83         84  POINT (14.50254 46.06452)\n",
      "84         85  POINT (15.64027 46.23881)\n",
      "89         90  POINT (13.64537 45.95796)\n",
      "92         93    POINT (14.35333 46.249)\n",
      "96         97  POINT (15.08171 46.50819)\n",
      "97         98  POINT (14.35409 46.24867)\n",
      "112       113  POINT (14.48694 46.04654)\n",
      "113       114  POINT (14.52171 46.05584)\n",
      "114       115  POINT (14.48726 46.06773)\n",
      "119       120  POINT (16.14167 46.40654)\n",
      "122       123   POINT (13.68777 45.5443)\n",
      "123       124  POINT (14.35315 46.27635)\n",
      "124       125   POINT (14.5258 46.05186)\n",
      "127       128     POINT (14.487 46.0465)\n",
      "132       133  POINT (14.10892 46.37141)\n"
     ]
    }
   ],
   "source": [
    "assigned_hospitals = clusters_gdf['nearest_hospital_local_id'].unique()\n",
    "\n",
    "unassigned_hospitals = HealthCenters_centroids[~HealthCenters_centroids['Local_ID'].isin(assigned_hospitals)]\n",
    "\n",
    "if unassigned_hospitals.empty:\n",
    "    print(\"All hospitals are assigned to at least one cluster.\")\n",
    "else:\n",
    "    print(\"following hospitals are not assigned to any cluster:\")\n",
    "    print(unassigned_hospitals[['Local_ID', 'geometry']])"
   ]
  },
  {
   "cell_type": "markdown",
   "id": "3740a61b-f60c-427c-aab5-6e6e552dc57d",
   "metadata": {
    "id": "3740a61b-f60c-427c-aab5-6e6e552dc57d"
   },
   "source": [
    "## 6. Natural hazard disruption"
   ]
  },
  {
   "cell_type": "markdown",
   "id": "52d30a9c-2515-4aff-ae5f-9a15cd343061",
   "metadata": {
    "id": "52d30a9c-2515-4aff-ae5f-9a15cd343061"
   },
   "source": [
    "### Download flood data\n",
    "The flood data we will extract from a repository maintained by the World Resources Institute. We will download river flood hazard maps from their [Flood Data Collection](https://wri-projects.s3.amazonaws.com/AqueductFloodTool/download/v2/index.html).\n",
    "\n",
    "Here we do not need to use an API and we also do not need to register ourselves, so we can download any of the files directly. In case you do not have any flood impacts. You could select a more extreme future scenario. But let's first download the 1/1000 river flood event under historic conditions. "
   ]
  },
  {
   "cell_type": "markdown",
   "id": "b0ff5f7a-fc94-4429-82bb-2a94da72a887",
   "metadata": {
    "id": "b0ff5f7a-fc94-4429-82bb-2a94da72a887"
   },
   "source": [
    "### Overlay flood data with Hospitals"
   ]
  },
  {
   "cell_type": "code",
   "execution_count": 41,
   "id": "e73f0bce-ad12-4be5-acbb-33dd7e2fa18d",
   "metadata": {
    "id": "e73f0bce-ad12-4be5-acbb-33dd7e2fa18d",
    "outputId": "ec5a636a-dac4-4098-a442-1a515598df95"
   },
   "outputs": [
    {
     "data": {
      "text/html": [
       "\n",
       "            <style>\n",
       "                .geemap-dark {\n",
       "                    --jp-widgets-color: white;\n",
       "                    --jp-widgets-label-color: white;\n",
       "                    --jp-ui-font-color1: white;\n",
       "                    --jp-layout-color2: #454545;\n",
       "                    background-color: #383838;\n",
       "                }\n",
       "\n",
       "                .geemap-dark .jupyter-button {\n",
       "                    --jp-layout-color3: #383838;\n",
       "                }\n",
       "\n",
       "                .geemap-colab {\n",
       "                    background-color: var(--colab-primary-surface-color, white);\n",
       "                }\n",
       "\n",
       "                .geemap-colab .jupyter-button {\n",
       "                    --jp-layout-color3: var(--colab-primary-surface-color, white);\n",
       "                }\n",
       "            </style>\n",
       "            "
      ],
      "text/plain": [
       "<IPython.core.display.HTML object>"
      ]
     },
     "metadata": {},
     "output_type": "display_data"
    }
   ],
   "source": [
    "flood_map_path = \"https://wri-projects.s3.amazonaws.com/AqueductFloodTool/download/v2/inunriver_historical_000000000WATCH_1980_rp01000.tif\""
   ]
  },
  {
   "cell_type": "code",
   "execution_count": 42,
   "id": "28d110b6-0ef4-41c6-acb2-8673597decd2",
   "metadata": {
    "id": "28d110b6-0ef4-41c6-acb2-8673597decd2",
    "outputId": "d23d720d-52bf-42cb-e706-b71f0e2a8a1a"
   },
   "outputs": [
    {
     "data": {
      "text/html": [
       "\n",
       "            <style>\n",
       "                .geemap-dark {\n",
       "                    --jp-widgets-color: white;\n",
       "                    --jp-widgets-label-color: white;\n",
       "                    --jp-ui-font-color1: white;\n",
       "                    --jp-layout-color2: #454545;\n",
       "                    background-color: #383838;\n",
       "                }\n",
       "\n",
       "                .geemap-dark .jupyter-button {\n",
       "                    --jp-layout-color3: #383838;\n",
       "                }\n",
       "\n",
       "                .geemap-colab {\n",
       "                    background-color: var(--colab-primary-surface-color, white);\n",
       "                }\n",
       "\n",
       "                .geemap-colab .jupyter-button {\n",
       "                    --jp-layout-color3: var(--colab-primary-surface-color, white);\n",
       "                }\n",
       "            </style>\n",
       "            "
      ],
      "text/plain": [
       "<IPython.core.display.HTML object>"
      ]
     },
     "metadata": {},
     "output_type": "display_data"
    },
    {
     "data": {
      "text/html": [
       "<div><svg style=\"position: absolute; width: 0; height: 0; overflow: hidden\">\n",
       "<defs>\n",
       "<symbol id=\"icon-database\" viewBox=\"0 0 32 32\">\n",
       "<path d=\"M16 0c-8.837 0-16 2.239-16 5v4c0 2.761 7.163 5 16 5s16-2.239 16-5v-4c0-2.761-7.163-5-16-5z\"></path>\n",
       "<path d=\"M16 17c-8.837 0-16-2.239-16-5v6c0 2.761 7.163 5 16 5s16-2.239 16-5v-6c0 2.761-7.163 5-16 5z\"></path>\n",
       "<path d=\"M16 26c-8.837 0-16-2.239-16-5v6c0 2.761 7.163 5 16 5s16-2.239 16-5v-6c0 2.761-7.163 5-16 5z\"></path>\n",
       "</symbol>\n",
       "<symbol id=\"icon-file-text2\" viewBox=\"0 0 32 32\">\n",
       "<path d=\"M28.681 7.159c-0.694-0.947-1.662-2.053-2.724-3.116s-2.169-2.030-3.116-2.724c-1.612-1.182-2.393-1.319-2.841-1.319h-15.5c-1.378 0-2.5 1.121-2.5 2.5v27c0 1.378 1.122 2.5 2.5 2.5h23c1.378 0 2.5-1.122 2.5-2.5v-19.5c0-0.448-0.137-1.23-1.319-2.841zM24.543 5.457c0.959 0.959 1.712 1.825 2.268 2.543h-4.811v-4.811c0.718 0.556 1.584 1.309 2.543 2.268zM28 29.5c0 0.271-0.229 0.5-0.5 0.5h-23c-0.271 0-0.5-0.229-0.5-0.5v-27c0-0.271 0.229-0.5 0.5-0.5 0 0 15.499-0 15.5 0v7c0 0.552 0.448 1 1 1h7v19.5z\"></path>\n",
       "<path d=\"M23 26h-14c-0.552 0-1-0.448-1-1s0.448-1 1-1h14c0.552 0 1 0.448 1 1s-0.448 1-1 1z\"></path>\n",
       "<path d=\"M23 22h-14c-0.552 0-1-0.448-1-1s0.448-1 1-1h14c0.552 0 1 0.448 1 1s-0.448 1-1 1z\"></path>\n",
       "<path d=\"M23 18h-14c-0.552 0-1-0.448-1-1s0.448-1 1-1h14c0.552 0 1 0.448 1 1s-0.448 1-1 1z\"></path>\n",
       "</symbol>\n",
       "</defs>\n",
       "</svg>\n",
       "<style>/* CSS stylesheet for displaying xarray objects in jupyterlab.\n",
       " *\n",
       " */\n",
       "\n",
       ":root {\n",
       "  --xr-font-color0: var(--jp-content-font-color0, rgba(0, 0, 0, 1));\n",
       "  --xr-font-color2: var(--jp-content-font-color2, rgba(0, 0, 0, 0.54));\n",
       "  --xr-font-color3: var(--jp-content-font-color3, rgba(0, 0, 0, 0.38));\n",
       "  --xr-border-color: var(--jp-border-color2, #e0e0e0);\n",
       "  --xr-disabled-color: var(--jp-layout-color3, #bdbdbd);\n",
       "  --xr-background-color: var(--jp-layout-color0, white);\n",
       "  --xr-background-color-row-even: var(--jp-layout-color1, white);\n",
       "  --xr-background-color-row-odd: var(--jp-layout-color2, #eeeeee);\n",
       "}\n",
       "\n",
       "html[theme=dark],\n",
       "body[data-theme=dark],\n",
       "body.vscode-dark {\n",
       "  --xr-font-color0: rgba(255, 255, 255, 1);\n",
       "  --xr-font-color2: rgba(255, 255, 255, 0.54);\n",
       "  --xr-font-color3: rgba(255, 255, 255, 0.38);\n",
       "  --xr-border-color: #1F1F1F;\n",
       "  --xr-disabled-color: #515151;\n",
       "  --xr-background-color: #111111;\n",
       "  --xr-background-color-row-even: #111111;\n",
       "  --xr-background-color-row-odd: #313131;\n",
       "}\n",
       "\n",
       ".xr-wrap {\n",
       "  display: block !important;\n",
       "  min-width: 300px;\n",
       "  max-width: 700px;\n",
       "}\n",
       "\n",
       ".xr-text-repr-fallback {\n",
       "  /* fallback to plain text repr when CSS is not injected (untrusted notebook) */\n",
       "  display: none;\n",
       "}\n",
       "\n",
       ".xr-header {\n",
       "  padding-top: 6px;\n",
       "  padding-bottom: 6px;\n",
       "  margin-bottom: 4px;\n",
       "  border-bottom: solid 1px var(--xr-border-color);\n",
       "}\n",
       "\n",
       ".xr-header > div,\n",
       ".xr-header > ul {\n",
       "  display: inline;\n",
       "  margin-top: 0;\n",
       "  margin-bottom: 0;\n",
       "}\n",
       "\n",
       ".xr-obj-type,\n",
       ".xr-array-name {\n",
       "  margin-left: 2px;\n",
       "  margin-right: 10px;\n",
       "}\n",
       "\n",
       ".xr-obj-type {\n",
       "  color: var(--xr-font-color2);\n",
       "}\n",
       "\n",
       ".xr-sections {\n",
       "  padding-left: 0 !important;\n",
       "  display: grid;\n",
       "  grid-template-columns: 150px auto auto 1fr 20px 20px;\n",
       "}\n",
       "\n",
       ".xr-section-item {\n",
       "  display: contents;\n",
       "}\n",
       "\n",
       ".xr-section-item input {\n",
       "  display: none;\n",
       "}\n",
       "\n",
       ".xr-section-item input + label {\n",
       "  color: var(--xr-disabled-color);\n",
       "}\n",
       "\n",
       ".xr-section-item input:enabled + label {\n",
       "  cursor: pointer;\n",
       "  color: var(--xr-font-color2);\n",
       "}\n",
       "\n",
       ".xr-section-item input:enabled + label:hover {\n",
       "  color: var(--xr-font-color0);\n",
       "}\n",
       "\n",
       ".xr-section-summary {\n",
       "  grid-column: 1;\n",
       "  color: var(--xr-font-color2);\n",
       "  font-weight: 500;\n",
       "}\n",
       "\n",
       ".xr-section-summary > span {\n",
       "  display: inline-block;\n",
       "  padding-left: 0.5em;\n",
       "}\n",
       "\n",
       ".xr-section-summary-in:disabled + label {\n",
       "  color: var(--xr-font-color2);\n",
       "}\n",
       "\n",
       ".xr-section-summary-in + label:before {\n",
       "  display: inline-block;\n",
       "  content: '►';\n",
       "  font-size: 11px;\n",
       "  width: 15px;\n",
       "  text-align: center;\n",
       "}\n",
       "\n",
       ".xr-section-summary-in:disabled + label:before {\n",
       "  color: var(--xr-disabled-color);\n",
       "}\n",
       "\n",
       ".xr-section-summary-in:checked + label:before {\n",
       "  content: '▼';\n",
       "}\n",
       "\n",
       ".xr-section-summary-in:checked + label > span {\n",
       "  display: none;\n",
       "}\n",
       "\n",
       ".xr-section-summary,\n",
       ".xr-section-inline-details {\n",
       "  padding-top: 4px;\n",
       "  padding-bottom: 4px;\n",
       "}\n",
       "\n",
       ".xr-section-inline-details {\n",
       "  grid-column: 2 / -1;\n",
       "}\n",
       "\n",
       ".xr-section-details {\n",
       "  display: none;\n",
       "  grid-column: 1 / -1;\n",
       "  margin-bottom: 5px;\n",
       "}\n",
       "\n",
       ".xr-section-summary-in:checked ~ .xr-section-details {\n",
       "  display: contents;\n",
       "}\n",
       "\n",
       ".xr-array-wrap {\n",
       "  grid-column: 1 / -1;\n",
       "  display: grid;\n",
       "  grid-template-columns: 20px auto;\n",
       "}\n",
       "\n",
       ".xr-array-wrap > label {\n",
       "  grid-column: 1;\n",
       "  vertical-align: top;\n",
       "}\n",
       "\n",
       ".xr-preview {\n",
       "  color: var(--xr-font-color3);\n",
       "}\n",
       "\n",
       ".xr-array-preview,\n",
       ".xr-array-data {\n",
       "  padding: 0 5px !important;\n",
       "  grid-column: 2;\n",
       "}\n",
       "\n",
       ".xr-array-data,\n",
       ".xr-array-in:checked ~ .xr-array-preview {\n",
       "  display: none;\n",
       "}\n",
       "\n",
       ".xr-array-in:checked ~ .xr-array-data,\n",
       ".xr-array-preview {\n",
       "  display: inline-block;\n",
       "}\n",
       "\n",
       ".xr-dim-list {\n",
       "  display: inline-block !important;\n",
       "  list-style: none;\n",
       "  padding: 0 !important;\n",
       "  margin: 0;\n",
       "}\n",
       "\n",
       ".xr-dim-list li {\n",
       "  display: inline-block;\n",
       "  padding: 0;\n",
       "  margin: 0;\n",
       "}\n",
       "\n",
       ".xr-dim-list:before {\n",
       "  content: '(';\n",
       "}\n",
       "\n",
       ".xr-dim-list:after {\n",
       "  content: ')';\n",
       "}\n",
       "\n",
       ".xr-dim-list li:not(:last-child):after {\n",
       "  content: ',';\n",
       "  padding-right: 5px;\n",
       "}\n",
       "\n",
       ".xr-has-index {\n",
       "  font-weight: bold;\n",
       "}\n",
       "\n",
       ".xr-var-list,\n",
       ".xr-var-item {\n",
       "  display: contents;\n",
       "}\n",
       "\n",
       ".xr-var-item > div,\n",
       ".xr-var-item label,\n",
       ".xr-var-item > .xr-var-name span {\n",
       "  background-color: var(--xr-background-color-row-even);\n",
       "  margin-bottom: 0;\n",
       "}\n",
       "\n",
       ".xr-var-item > .xr-var-name:hover span {\n",
       "  padding-right: 5px;\n",
       "}\n",
       "\n",
       ".xr-var-list > li:nth-child(odd) > div,\n",
       ".xr-var-list > li:nth-child(odd) > label,\n",
       ".xr-var-list > li:nth-child(odd) > .xr-var-name span {\n",
       "  background-color: var(--xr-background-color-row-odd);\n",
       "}\n",
       "\n",
       ".xr-var-name {\n",
       "  grid-column: 1;\n",
       "}\n",
       "\n",
       ".xr-var-dims {\n",
       "  grid-column: 2;\n",
       "}\n",
       "\n",
       ".xr-var-dtype {\n",
       "  grid-column: 3;\n",
       "  text-align: right;\n",
       "  color: var(--xr-font-color2);\n",
       "}\n",
       "\n",
       ".xr-var-preview {\n",
       "  grid-column: 4;\n",
       "}\n",
       "\n",
       ".xr-index-preview {\n",
       "  grid-column: 2 / 5;\n",
       "  color: var(--xr-font-color2);\n",
       "}\n",
       "\n",
       ".xr-var-name,\n",
       ".xr-var-dims,\n",
       ".xr-var-dtype,\n",
       ".xr-preview,\n",
       ".xr-attrs dt {\n",
       "  white-space: nowrap;\n",
       "  overflow: hidden;\n",
       "  text-overflow: ellipsis;\n",
       "  padding-right: 10px;\n",
       "}\n",
       "\n",
       ".xr-var-name:hover,\n",
       ".xr-var-dims:hover,\n",
       ".xr-var-dtype:hover,\n",
       ".xr-attrs dt:hover {\n",
       "  overflow: visible;\n",
       "  width: auto;\n",
       "  z-index: 1;\n",
       "}\n",
       "\n",
       ".xr-var-attrs,\n",
       ".xr-var-data,\n",
       ".xr-index-data {\n",
       "  display: none;\n",
       "  background-color: var(--xr-background-color) !important;\n",
       "  padding-bottom: 5px !important;\n",
       "}\n",
       "\n",
       ".xr-var-attrs-in:checked ~ .xr-var-attrs,\n",
       ".xr-var-data-in:checked ~ .xr-var-data,\n",
       ".xr-index-data-in:checked ~ .xr-index-data {\n",
       "  display: block;\n",
       "}\n",
       "\n",
       ".xr-var-data > table {\n",
       "  float: right;\n",
       "}\n",
       "\n",
       ".xr-var-name span,\n",
       ".xr-var-data,\n",
       ".xr-index-name div,\n",
       ".xr-index-data,\n",
       ".xr-attrs {\n",
       "  padding-left: 25px !important;\n",
       "}\n",
       "\n",
       ".xr-attrs,\n",
       ".xr-var-attrs,\n",
       ".xr-var-data,\n",
       ".xr-index-data {\n",
       "  grid-column: 1 / -1;\n",
       "}\n",
       "\n",
       "dl.xr-attrs {\n",
       "  padding: 0;\n",
       "  margin: 0;\n",
       "  display: grid;\n",
       "  grid-template-columns: 125px auto;\n",
       "}\n",
       "\n",
       ".xr-attrs dt,\n",
       ".xr-attrs dd {\n",
       "  padding: 0;\n",
       "  margin: 0;\n",
       "  float: left;\n",
       "  padding-right: 10px;\n",
       "  width: auto;\n",
       "}\n",
       "\n",
       ".xr-attrs dt {\n",
       "  font-weight: normal;\n",
       "  grid-column: 1;\n",
       "}\n",
       "\n",
       ".xr-attrs dt:hover span {\n",
       "  display: inline-block;\n",
       "  background: var(--xr-background-color);\n",
       "  padding-right: 10px;\n",
       "}\n",
       "\n",
       ".xr-attrs dd {\n",
       "  grid-column: 2;\n",
       "  white-space: pre-wrap;\n",
       "  word-break: break-all;\n",
       "}\n",
       "\n",
       ".xr-icon-database,\n",
       ".xr-icon-file-text2,\n",
       ".xr-no-icon {\n",
       "  display: inline-block;\n",
       "  vertical-align: middle;\n",
       "  width: 1em;\n",
       "  height: 1.5em !important;\n",
       "  stroke-width: 0;\n",
       "  stroke: currentColor;\n",
       "  fill: currentColor;\n",
       "}\n",
       "</style><pre class='xr-text-repr-fallback'>&lt;xarray.Dataset&gt; Size: 4GB\n",
       "Dimensions:      (band: 1, x: 43200, y: 21600)\n",
       "Coordinates:\n",
       "  * band         (band) int32 4B 1\n",
       "  * x            (x) float64 346kB -180.0 -180.0 -180.0 ... 180.0 180.0 180.0\n",
       "  * y            (y) float64 173kB 90.0 89.99 89.98 ... -89.98 -89.99 -90.0\n",
       "    spatial_ref  int32 4B ...\n",
       "Data variables:\n",
       "    band_data    (band, y, x) float32 4GB ...</pre><div class='xr-wrap' style='display:none'><div class='xr-header'><div class='xr-obj-type'>xarray.Dataset</div></div><ul class='xr-sections'><li class='xr-section-item'><input id='section-a83e22e4-21e9-4def-a4d3-2c76753b37af' class='xr-section-summary-in' type='checkbox' disabled ><label for='section-a83e22e4-21e9-4def-a4d3-2c76753b37af' class='xr-section-summary'  title='Expand/collapse section'>Dimensions:</label><div class='xr-section-inline-details'><ul class='xr-dim-list'><li><span class='xr-has-index'>band</span>: 1</li><li><span class='xr-has-index'>x</span>: 43200</li><li><span class='xr-has-index'>y</span>: 21600</li></ul></div><div class='xr-section-details'></div></li><li class='xr-section-item'><input id='section-9f4070f8-89e2-49f7-b953-77edc8335b5d' class='xr-section-summary-in' type='checkbox'  checked><label for='section-9f4070f8-89e2-49f7-b953-77edc8335b5d' class='xr-section-summary' >Coordinates: <span>(4)</span></label><div class='xr-section-inline-details'></div><div class='xr-section-details'><ul class='xr-var-list'><li class='xr-var-item'><div class='xr-var-name'><span class='xr-has-index'>band</span></div><div class='xr-var-dims'>(band)</div><div class='xr-var-dtype'>int32</div><div class='xr-var-preview xr-preview'>1</div><input id='attrs-8d23b35d-3fed-4c0a-a7dc-e55d1b97fcac' class='xr-var-attrs-in' type='checkbox' disabled><label for='attrs-8d23b35d-3fed-4c0a-a7dc-e55d1b97fcac' title='Show/Hide attributes'><svg class='icon xr-icon-file-text2'><use xlink:href='#icon-file-text2'></use></svg></label><input id='data-f4a82293-0a7b-4068-af5f-fce312187b5c' class='xr-var-data-in' type='checkbox'><label for='data-f4a82293-0a7b-4068-af5f-fce312187b5c' title='Show/Hide data repr'><svg class='icon xr-icon-database'><use xlink:href='#icon-database'></use></svg></label><div class='xr-var-attrs'><dl class='xr-attrs'></dl></div><div class='xr-var-data'><pre>array([1])</pre></div></li><li class='xr-var-item'><div class='xr-var-name'><span class='xr-has-index'>x</span></div><div class='xr-var-dims'>(x)</div><div class='xr-var-dtype'>float64</div><div class='xr-var-preview xr-preview'>-180.0 -180.0 ... 180.0 180.0</div><input id='attrs-29587ec8-c7eb-48fe-bb0e-ae2cb4637ebd' class='xr-var-attrs-in' type='checkbox' disabled><label for='attrs-29587ec8-c7eb-48fe-bb0e-ae2cb4637ebd' title='Show/Hide attributes'><svg class='icon xr-icon-file-text2'><use xlink:href='#icon-file-text2'></use></svg></label><input id='data-69ab63f1-224f-4ed5-905d-c087bfce0e80' class='xr-var-data-in' type='checkbox'><label for='data-69ab63f1-224f-4ed5-905d-c087bfce0e80' title='Show/Hide data repr'><svg class='icon xr-icon-database'><use xlink:href='#icon-database'></use></svg></label><div class='xr-var-attrs'><dl class='xr-attrs'></dl></div><div class='xr-var-data'><pre>array([-179.995833, -179.9875  , -179.979167, ...,  179.979167,  179.9875  ,\n",
       "        179.995833])</pre></div></li><li class='xr-var-item'><div class='xr-var-name'><span class='xr-has-index'>y</span></div><div class='xr-var-dims'>(y)</div><div class='xr-var-dtype'>float64</div><div class='xr-var-preview xr-preview'>90.0 89.99 89.98 ... -89.99 -90.0</div><input id='attrs-cb9138f6-b914-4f21-a656-f408bb80d980' class='xr-var-attrs-in' type='checkbox' disabled><label for='attrs-cb9138f6-b914-4f21-a656-f408bb80d980' title='Show/Hide attributes'><svg class='icon xr-icon-file-text2'><use xlink:href='#icon-file-text2'></use></svg></label><input id='data-4067f123-9497-4107-9313-6ed40eb37b69' class='xr-var-data-in' type='checkbox'><label for='data-4067f123-9497-4107-9313-6ed40eb37b69' title='Show/Hide data repr'><svg class='icon xr-icon-database'><use xlink:href='#icon-database'></use></svg></label><div class='xr-var-attrs'><dl class='xr-attrs'></dl></div><div class='xr-var-data'><pre>array([ 89.995833,  89.9875  ,  89.979167, ..., -89.979167, -89.9875  ,\n",
       "       -89.995833])</pre></div></li><li class='xr-var-item'><div class='xr-var-name'><span>spatial_ref</span></div><div class='xr-var-dims'>()</div><div class='xr-var-dtype'>int32</div><div class='xr-var-preview xr-preview'>...</div><input id='attrs-bebabe04-4ad4-469a-9429-5e9deb0f3aa8' class='xr-var-attrs-in' type='checkbox' ><label for='attrs-bebabe04-4ad4-469a-9429-5e9deb0f3aa8' title='Show/Hide attributes'><svg class='icon xr-icon-file-text2'><use xlink:href='#icon-file-text2'></use></svg></label><input id='data-4b603495-9840-48ae-810e-2369af019cc3' class='xr-var-data-in' type='checkbox'><label for='data-4b603495-9840-48ae-810e-2369af019cc3' title='Show/Hide data repr'><svg class='icon xr-icon-database'><use xlink:href='#icon-database'></use></svg></label><div class='xr-var-attrs'><dl class='xr-attrs'><dt><span>crs_wkt :</span></dt><dd>GEOGCS[&quot;WGS 84&quot;,DATUM[&quot;WGS_1984&quot;,SPHEROID[&quot;WGS 84&quot;,6378137,298.257223563,AUTHORITY[&quot;EPSG&quot;,&quot;7030&quot;]],AUTHORITY[&quot;EPSG&quot;,&quot;6326&quot;]],PRIMEM[&quot;Greenwich&quot;,0,AUTHORITY[&quot;EPSG&quot;,&quot;8901&quot;]],UNIT[&quot;degree&quot;,0.0174532925199433,AUTHORITY[&quot;EPSG&quot;,&quot;9122&quot;]],AXIS[&quot;Latitude&quot;,NORTH],AXIS[&quot;Longitude&quot;,EAST],AUTHORITY[&quot;EPSG&quot;,&quot;4326&quot;]]</dd><dt><span>semi_major_axis :</span></dt><dd>6378137.0</dd><dt><span>semi_minor_axis :</span></dt><dd>6356752.314245179</dd><dt><span>inverse_flattening :</span></dt><dd>298.257223563</dd><dt><span>reference_ellipsoid_name :</span></dt><dd>WGS 84</dd><dt><span>longitude_of_prime_meridian :</span></dt><dd>0.0</dd><dt><span>prime_meridian_name :</span></dt><dd>Greenwich</dd><dt><span>geographic_crs_name :</span></dt><dd>WGS 84</dd><dt><span>horizontal_datum_name :</span></dt><dd>World Geodetic System 1984</dd><dt><span>grid_mapping_name :</span></dt><dd>latitude_longitude</dd><dt><span>spatial_ref :</span></dt><dd>GEOGCS[&quot;WGS 84&quot;,DATUM[&quot;WGS_1984&quot;,SPHEROID[&quot;WGS 84&quot;,6378137,298.257223563,AUTHORITY[&quot;EPSG&quot;,&quot;7030&quot;]],AUTHORITY[&quot;EPSG&quot;,&quot;6326&quot;]],PRIMEM[&quot;Greenwich&quot;,0,AUTHORITY[&quot;EPSG&quot;,&quot;8901&quot;]],UNIT[&quot;degree&quot;,0.0174532925199433,AUTHORITY[&quot;EPSG&quot;,&quot;9122&quot;]],AXIS[&quot;Latitude&quot;,NORTH],AXIS[&quot;Longitude&quot;,EAST],AUTHORITY[&quot;EPSG&quot;,&quot;4326&quot;]]</dd><dt><span>GeoTransform :</span></dt><dd>-180.0 0.008333333333333333 0.0 90.0 0.0 -0.008333333333333333</dd></dl></div><div class='xr-var-data'><pre>[1 values with dtype=int32]</pre></div></li></ul></div></li><li class='xr-section-item'><input id='section-73aa3f76-6f8e-4d66-8ca6-cc278e6f4ff8' class='xr-section-summary-in' type='checkbox'  checked><label for='section-73aa3f76-6f8e-4d66-8ca6-cc278e6f4ff8' class='xr-section-summary' >Data variables: <span>(1)</span></label><div class='xr-section-inline-details'></div><div class='xr-section-details'><ul class='xr-var-list'><li class='xr-var-item'><div class='xr-var-name'><span>band_data</span></div><div class='xr-var-dims'>(band, y, x)</div><div class='xr-var-dtype'>float32</div><div class='xr-var-preview xr-preview'>...</div><input id='attrs-fa128d1a-141a-44be-871e-6762bebf1816' class='xr-var-attrs-in' type='checkbox' ><label for='attrs-fa128d1a-141a-44be-871e-6762bebf1816' title='Show/Hide attributes'><svg class='icon xr-icon-file-text2'><use xlink:href='#icon-file-text2'></use></svg></label><input id='data-9cd3dea3-3a8b-4963-b842-8f67625a8037' class='xr-var-data-in' type='checkbox'><label for='data-9cd3dea3-3a8b-4963-b842-8f67625a8037' title='Show/Hide data repr'><svg class='icon xr-icon-database'><use xlink:href='#icon-database'></use></svg></label><div class='xr-var-attrs'><dl class='xr-attrs'><dt><span>AREA_OR_POINT :</span></dt><dd>Area</dd></dl></div><div class='xr-var-data'><pre>[933120000 values with dtype=float32]</pre></div></li></ul></div></li><li class='xr-section-item'><input id='section-dd7eecb6-a217-4a3f-98ff-ecf25c602f6c' class='xr-section-summary-in' type='checkbox'  ><label for='section-dd7eecb6-a217-4a3f-98ff-ecf25c602f6c' class='xr-section-summary' >Indexes: <span>(3)</span></label><div class='xr-section-inline-details'></div><div class='xr-section-details'><ul class='xr-var-list'><li class='xr-var-item'><div class='xr-index-name'><div>band</div></div><div class='xr-index-preview'>PandasIndex</div><div></div><input id='index-f0daa577-989f-4634-84f4-2c2b6c89e574' class='xr-index-data-in' type='checkbox'/><label for='index-f0daa577-989f-4634-84f4-2c2b6c89e574' title='Show/Hide index repr'><svg class='icon xr-icon-database'><use xlink:href='#icon-database'></use></svg></label><div class='xr-index-data'><pre>PandasIndex(Index([1], dtype=&#x27;int32&#x27;, name=&#x27;band&#x27;))</pre></div></li><li class='xr-var-item'><div class='xr-index-name'><div>x</div></div><div class='xr-index-preview'>PandasIndex</div><div></div><input id='index-460ecab8-a8a2-457a-884b-d10775be7113' class='xr-index-data-in' type='checkbox'/><label for='index-460ecab8-a8a2-457a-884b-d10775be7113' title='Show/Hide index repr'><svg class='icon xr-icon-database'><use xlink:href='#icon-database'></use></svg></label><div class='xr-index-data'><pre>PandasIndex(Index([-179.99583333333334,           -179.9875, -179.97916666666666,\n",
       "       -179.97083333333333,           -179.9625, -179.95416666666668,\n",
       "       -179.94583333333333,           -179.9375, -179.92916666666667,\n",
       "       -179.92083333333335,\n",
       "       ...\n",
       "        179.92083333333335,  179.92916666666667,            179.9375,\n",
       "        179.94583333333333,  179.95416666666665,  179.96249999999998,\n",
       "         179.9708333333333,  179.97916666666669,            179.9875,\n",
       "        179.99583333333334],\n",
       "      dtype=&#x27;float64&#x27;, name=&#x27;x&#x27;, length=43200))</pre></div></li><li class='xr-var-item'><div class='xr-index-name'><div>y</div></div><div class='xr-index-preview'>PandasIndex</div><div></div><input id='index-3c25caf4-f0b6-4a83-b015-62743946d5f0' class='xr-index-data-in' type='checkbox'/><label for='index-3c25caf4-f0b6-4a83-b015-62743946d5f0' title='Show/Hide index repr'><svg class='icon xr-icon-database'><use xlink:href='#icon-database'></use></svg></label><div class='xr-index-data'><pre>PandasIndex(Index([ 89.99583333333334,            89.9875,  89.97916666666667,\n",
       "        89.97083333333333,            89.9625,  89.95416666666667,\n",
       "        89.94583333333334,            89.9375,  89.92916666666667,\n",
       "        89.92083333333333,\n",
       "       ...\n",
       "       -89.92083333333332, -89.92916666666667,           -89.9375,\n",
       "       -89.94583333333333, -89.95416666666665,           -89.9625,\n",
       "       -89.97083333333333, -89.97916666666666, -89.98749999999998,\n",
       "       -89.99583333333334],\n",
       "      dtype=&#x27;float64&#x27;, name=&#x27;y&#x27;, length=21600))</pre></div></li></ul></div></li><li class='xr-section-item'><input id='section-780647c4-e5fe-4121-872e-308329b807e8' class='xr-section-summary-in' type='checkbox' disabled ><label for='section-780647c4-e5fe-4121-872e-308329b807e8' class='xr-section-summary'  title='Expand/collapse section'>Attributes: <span>(0)</span></label><div class='xr-section-inline-details'></div><div class='xr-section-details'><dl class='xr-attrs'></dl></div></li></ul></div></div>"
      ],
      "text/plain": [
       "<xarray.Dataset> Size: 4GB\n",
       "Dimensions:      (band: 1, x: 43200, y: 21600)\n",
       "Coordinates:\n",
       "  * band         (band) int32 4B 1\n",
       "  * x            (x) float64 346kB -180.0 -180.0 -180.0 ... 180.0 180.0 180.0\n",
       "  * y            (y) float64 173kB 90.0 89.99 89.98 ... -89.98 -89.99 -90.0\n",
       "    spatial_ref  int32 4B ...\n",
       "Data variables:\n",
       "    band_data    (band, y, x) float32 4GB ..."
      ]
     },
     "execution_count": 42,
     "metadata": {},
     "output_type": "execute_result"
    }
   ],
   "source": [
    "flood_map = xr.open_dataset(flood_map_path, engine=\"rasterio\")\n",
    "flood_map"
   ]
  },
  {
   "cell_type": "markdown",
   "id": "b21c691f-5789-4b0d-a5ec-da785b94c833",
   "metadata": {},
   "source": [
    "As you can see, this is a very large dataset again. Let's make our life a little bit more relaxed by clipping the map to our country of interest."
   ]
  },
  {
   "cell_type": "code",
   "execution_count": 43,
   "id": "f14da004-413e-4856-80e6-fdaa544aca9d",
   "metadata": {
    "id": "f14da004-413e-4856-80e6-fdaa544aca9d",
    "outputId": "3696782e-4378-42fc-9e84-2599abeef710"
   },
   "outputs": [
    {
     "data": {
      "text/html": [
       "\n",
       "            <style>\n",
       "                .geemap-dark {\n",
       "                    --jp-widgets-color: white;\n",
       "                    --jp-widgets-label-color: white;\n",
       "                    --jp-ui-font-color1: white;\n",
       "                    --jp-layout-color2: #454545;\n",
       "                    background-color: #383838;\n",
       "                }\n",
       "\n",
       "                .geemap-dark .jupyter-button {\n",
       "                    --jp-layout-color3: #383838;\n",
       "                }\n",
       "\n",
       "                .geemap-colab {\n",
       "                    background-color: var(--colab-primary-surface-color, white);\n",
       "                }\n",
       "\n",
       "                .geemap-colab .jupyter-button {\n",
       "                    --jp-layout-color3: var(--colab-primary-surface-color, white);\n",
       "                }\n",
       "            </style>\n",
       "            "
      ],
      "text/plain": [
       "<IPython.core.display.HTML object>"
      ]
     },
     "metadata": {},
     "output_type": "display_data"
    }
   ],
   "source": [
    "min_lon =  country_geom.bounds.minx.values[0]\n",
    "min_lat = country_geom.bounds.miny.values[0] #complete function\n",
    "max_lon =  country_geom.bounds.maxx.values[0] #complete function\n",
    "max_lat =  country_geom.bounds.maxy.values[0]#complete function\n",
    "\n",
    "flood_map_area = flood_map.rio.clip_box(minx=min_lon,miny=min_lat,maxx=max_lon,maxy=max_lat) #complete function"
   ]
  },
  {
   "cell_type": "code",
   "execution_count": 44,
   "id": "ecf80c30-9ba1-426c-9990-cf3ea07e499b",
   "metadata": {},
   "outputs": [
    {
     "data": {
      "text/html": [
       "\n",
       "            <style>\n",
       "                .geemap-dark {\n",
       "                    --jp-widgets-color: white;\n",
       "                    --jp-widgets-label-color: white;\n",
       "                    --jp-ui-font-color1: white;\n",
       "                    --jp-layout-color2: #454545;\n",
       "                    background-color: #383838;\n",
       "                }\n",
       "\n",
       "                .geemap-dark .jupyter-button {\n",
       "                    --jp-layout-color3: #383838;\n",
       "                }\n",
       "\n",
       "                .geemap-colab {\n",
       "                    background-color: var(--colab-primary-surface-color, white);\n",
       "                }\n",
       "\n",
       "                .geemap-colab .jupyter-button {\n",
       "                    --jp-layout-color3: var(--colab-primary-surface-color, white);\n",
       "                }\n",
       "            </style>\n",
       "            "
      ],
      "text/plain": [
       "<IPython.core.display.HTML object>"
      ]
     },
     "metadata": {},
     "output_type": "display_data"
    },
    {
     "data": {
      "text/plain": [
       "<matplotlib.collections.QuadMesh at 0x2795c5a3bf0>"
      ]
     },
     "execution_count": 44,
     "metadata": {},
     "output_type": "execute_result"
    },
    {
     "data": {
      "image/png": "[encoded data removed]",
      "text/plain": [
       "<Figure size 640x480 with 2 Axes>"
      ]
     },
     "metadata": {},
     "output_type": "display_data"
    }
   ],
   "source": [
    "flood_map_area.band_data.plot(cmap='Blues')"
   ]
  },
  {
   "cell_type": "markdown",
   "id": "399149ac-8ee4-4459-971e-9a2003ab4b4e",
   "metadata": {
    "id": "399149ac-8ee4-4459-971e-9a2003ab4b4e"
   },
   "source": [
    "### Overlay flood data with healthcare facilities"
   ]
  },
  {
   "cell_type": "code",
   "execution_count": 45,
   "id": "024a09f7-6f1c-4e15-a810-cf407daa2a48",
   "metadata": {
    "id": "024a09f7-6f1c-4e15-a810-cf407daa2a48",
    "outputId": "a33183f3-464f-4abf-fe29-436436f65671"
   },
   "outputs": [
    {
     "data": {
      "text/html": [
       "\n",
       "            <style>\n",
       "                .geemap-dark {\n",
       "                    --jp-widgets-color: white;\n",
       "                    --jp-widgets-label-color: white;\n",
       "                    --jp-ui-font-color1: white;\n",
       "                    --jp-layout-color2: #454545;\n",
       "                    background-color: #383838;\n",
       "                }\n",
       "\n",
       "                .geemap-dark .jupyter-button {\n",
       "                    --jp-layout-color3: #383838;\n",
       "                }\n",
       "\n",
       "                .geemap-colab {\n",
       "                    background-color: var(--colab-primary-surface-color, white);\n",
       "                }\n",
       "\n",
       "                .geemap-colab .jupyter-button {\n",
       "                    --jp-layout-color3: var(--colab-primary-surface-color, white);\n",
       "                }\n",
       "            </style>\n",
       "            "
      ],
      "text/plain": [
       "<IPython.core.display.HTML object>"
      ]
     },
     "metadata": {},
     "output_type": "display_data"
    }
   ],
   "source": [
    "def _get_damage_per_object(asset, curves, cell_area_m2):\n",
    "    \"\"\"\n",
    "    Calculate damage for a given asset based on hazard information.\n",
    "    Arguments:\n",
    "        *asset*: Tuple containing information about the asset. It includes:\n",
    "            - Index or identifier of the asset (asset[0]).\n",
    "            - Asset-specific information, including hazard points (asset[1]['hazard_point']).\n",
    "        *maxdam_dict*: Maximum damage value.\n",
    "    Returns:\n",
    "        *tuple*: A tuple containing the asset index or identifier and the calculated damage.\n",
    "    \"\"\"\n",
    "\n",
    "    if asset.geometry.geom_type in (\"Polygon\", \"MultiPolygon\"):\n",
    "        coverage = asset[\"coverage\"] * cell_area_m2\n",
    "    elif asset.geometry.geom_type in (\"LineString\", \"MultiLineString\"):\n",
    "        coverage = asset[\"coverage\"]\n",
    "    elif asset.geometry.geom_type in (\"Point\"):\n",
    "        coverage = 1\n",
    "    else:\n",
    "        raise ValueError(f\"Geometry type {asset.geometry.geom_type} not supported\")\n",
    "\n",
    "    return (\n",
    "        np.sum(\n",
    "            np.interp(\n",
    "                asset[\"values\"], curves.index, curves[asset[\"amenity\"]].values\n",
    "            )\n",
    "            * coverage\n",
    "        )\n",
    "        * asset[\"maximum_damage\"]\n",
    "    )"
   ]
  },
  {
   "cell_type": "code",
   "execution_count": 46,
   "id": "48ec7696-a117-4302-9276-ac37fa369cd2",
   "metadata": {
    "id": "48ec7696-a117-4302-9276-ac37fa369cd2",
    "outputId": "88db2c6c-ffd8-4b7d-80b6-2c3bbf33c165"
   },
   "outputs": [
    {
     "data": {
      "text/html": [
       "\n",
       "            <style>\n",
       "                .geemap-dark {\n",
       "                    --jp-widgets-color: white;\n",
       "                    --jp-widgets-label-color: white;\n",
       "                    --jp-ui-font-color1: white;\n",
       "                    --jp-layout-color2: #454545;\n",
       "                    background-color: #383838;\n",
       "                }\n",
       "\n",
       "                .geemap-dark .jupyter-button {\n",
       "                    --jp-layout-color3: #383838;\n",
       "                }\n",
       "\n",
       "                .geemap-colab {\n",
       "                    background-color: var(--colab-primary-surface-color, white);\n",
       "                }\n",
       "\n",
       "                .geemap-colab .jupyter-button {\n",
       "                    --jp-layout-color3: var(--colab-primary-surface-color, white);\n",
       "                }\n",
       "            </style>\n",
       "            "
      ],
      "text/plain": [
       "<IPython.core.display.HTML object>"
      ]
     },
     "metadata": {},
     "output_type": "display_data"
    }
   ],
   "source": [
    "maxdam = {\"hospital\":2000,\n",
    "        \"clinic\":1500,\n",
    "}\n",
    "\n",
    "curves = np.array(\n",
    "            [[0,0],\n",
    "            [50,0.2],\n",
    "            [100,0.4],\n",
    "            [150,0.6],\n",
    "            [200,0.8],\n",
    "            [250,1]])\n",
    "\n",
    "curves = np.concatenate((curves,\n",
    "                            np.transpose(np.array([curves[:,1]]*(len(maxdam)-1)))),\n",
    "                           axis=1)\n",
    "\n",
    "curves = pd.DataFrame(curves)\n",
    "curves.columns = ['depth']+list(maxdam.keys())\n",
    "curves.set_index('depth',inplace=True)"
   ]
  },
  {
   "cell_type": "code",
   "execution_count": 47,
   "id": "26e1e323-d30b-4e40-8a89-a25d1e475234",
   "metadata": {
    "id": "26e1e323-d30b-4e40-8a89-a25d1e475234",
    "outputId": "70b41a67-b5e6-49fb-cd9e-9366d1bf31e5",
    "scrolled": true
   },
   "outputs": [
    {
     "data": {
      "text/html": [
       "\n",
       "            <style>\n",
       "                .geemap-dark {\n",
       "                    --jp-widgets-color: white;\n",
       "                    --jp-widgets-label-color: white;\n",
       "                    --jp-ui-font-color1: white;\n",
       "                    --jp-layout-color2: #454545;\n",
       "                    background-color: #383838;\n",
       "                }\n",
       "\n",
       "                .geemap-dark .jupyter-button {\n",
       "                    --jp-layout-color3: #383838;\n",
       "                }\n",
       "\n",
       "                .geemap-colab {\n",
       "                    background-color: var(--colab-primary-surface-color, white);\n",
       "                }\n",
       "\n",
       "                .geemap-colab .jupyter-button {\n",
       "                    --jp-layout-color3: var(--colab-primary-surface-color, white);\n",
       "                }\n",
       "            </style>\n",
       "            "
      ],
      "text/plain": [
       "<IPython.core.display.HTML object>"
      ]
     },
     "metadata": {},
     "output_type": "display_data"
    }
   ],
   "source": [
    "values_and_coverage_per_object = exact_extract(\n",
    "            flood_map,\n",
    "            HealthCenters.to_crs(4326),\n",
    "            [\"coverage\", \"values\"],\n",
    "            output=\"pandas\",\n",
    "        )"
   ]
  },
  {
   "cell_type": "code",
   "execution_count": 48,
   "id": "2460afd7-dc6c-4b37-9e77-0550fcacf24d",
   "metadata": {},
   "outputs": [
    {
     "data": {
      "text/html": [
       "\n",
       "            <style>\n",
       "                .geemap-dark {\n",
       "                    --jp-widgets-color: white;\n",
       "                    --jp-widgets-label-color: white;\n",
       "                    --jp-ui-font-color1: white;\n",
       "                    --jp-layout-color2: #454545;\n",
       "                    background-color: #383838;\n",
       "                }\n",
       "\n",
       "                .geemap-dark .jupyter-button {\n",
       "                    --jp-layout-color3: #383838;\n",
       "                }\n",
       "\n",
       "                .geemap-colab {\n",
       "                    background-color: var(--colab-primary-surface-color, white);\n",
       "                }\n",
       "\n",
       "                .geemap-colab .jupyter-button {\n",
       "                    --jp-layout-color3: var(--colab-primary-surface-color, white);\n",
       "                }\n",
       "            </style>\n",
       "            "
      ],
      "text/plain": [
       "<IPython.core.display.HTML object>"
      ]
     },
     "metadata": {},
     "output_type": "display_data"
    },
    {
     "data": {
      "text/html": [
       "<div>\n",
       "<style scoped>\n",
       "    .dataframe tbody tr th:only-of-type {\n",
       "        vertical-align: middle;\n",
       "    }\n",
       "\n",
       "    .dataframe tbody tr th {\n",
       "        vertical-align: top;\n",
       "    }\n",
       "\n",
       "    .dataframe thead th {\n",
       "        text-align: right;\n",
       "    }\n",
       "</style>\n",
       "<table border=\"1\" class=\"dataframe\">\n",
       "  <thead>\n",
       "    <tr style=\"text-align: right;\">\n",
       "      <th></th>\n",
       "      <th>coverage</th>\n",
       "      <th>values</th>\n",
       "    </tr>\n",
       "  </thead>\n",
       "  <tbody>\n",
       "    <tr>\n",
       "      <th>0</th>\n",
       "      <td>[0.0031160966027528048]</td>\n",
       "      <td>[0.0]</td>\n",
       "    </tr>\n",
       "    <tr>\n",
       "      <th>1</th>\n",
       "      <td>[0.008566441014409065]</td>\n",
       "      <td>[0.31174808740615845]</td>\n",
       "    </tr>\n",
       "    <tr>\n",
       "      <th>2</th>\n",
       "      <td>[0.012850387953221798, 0.008853942155838013, 0...</td>\n",
       "      <td>[0.0, 0.0, 0.0, 0.0]</td>\n",
       "    </tr>\n",
       "    <tr>\n",
       "      <th>3</th>\n",
       "      <td>[0.00234486092813313]</td>\n",
       "      <td>[0.0]</td>\n",
       "    </tr>\n",
       "    <tr>\n",
       "      <th>4</th>\n",
       "      <td>[0.00516355037689209]</td>\n",
       "      <td>[0.0]</td>\n",
       "    </tr>\n",
       "    <tr>\n",
       "      <th>...</th>\n",
       "      <td>...</td>\n",
       "      <td>...</td>\n",
       "    </tr>\n",
       "    <tr>\n",
       "      <th>128</th>\n",
       "      <td>[0.0008400809019804001]</td>\n",
       "      <td>[0.0]</td>\n",
       "    </tr>\n",
       "    <tr>\n",
       "      <th>129</th>\n",
       "      <td>[0.0007367293583229184]</td>\n",
       "      <td>[0.0]</td>\n",
       "    </tr>\n",
       "    <tr>\n",
       "      <th>130</th>\n",
       "      <td>[0.00482288608327508, 0.0020372953731566668]</td>\n",
       "      <td>[0.0, 0.0]</td>\n",
       "    </tr>\n",
       "    <tr>\n",
       "      <th>131</th>\n",
       "      <td>[0.0023558475077152252]</td>\n",
       "      <td>[0.0]</td>\n",
       "    </tr>\n",
       "    <tr>\n",
       "      <th>132</th>\n",
       "      <td>[0.002978724194690585]</td>\n",
       "      <td>[0.0]</td>\n",
       "    </tr>\n",
       "  </tbody>\n",
       "</table>\n",
       "<p>133 rows × 2 columns</p>\n",
       "</div>"
      ],
      "text/plain": [
       "                                              coverage                 values\n",
       "0                              [0.0031160966027528048]                  [0.0]\n",
       "1                               [0.008566441014409065]  [0.31174808740615845]\n",
       "2    [0.012850387953221798, 0.008853942155838013, 0...   [0.0, 0.0, 0.0, 0.0]\n",
       "3                                [0.00234486092813313]                  [0.0]\n",
       "4                                [0.00516355037689209]                  [0.0]\n",
       "..                                                 ...                    ...\n",
       "128                            [0.0008400809019804001]                  [0.0]\n",
       "129                            [0.0007367293583229184]                  [0.0]\n",
       "130       [0.00482288608327508, 0.0020372953731566668]             [0.0, 0.0]\n",
       "131                            [0.0023558475077152252]                  [0.0]\n",
       "132                             [0.002978724194690585]                  [0.0]\n",
       "\n",
       "[133 rows x 2 columns]"
      ]
     },
     "execution_count": 48,
     "metadata": {},
     "output_type": "execute_result"
    }
   ],
   "source": [
    "values_and_coverage_per_object"
   ]
  },
  {
   "cell_type": "code",
   "execution_count": 49,
   "id": "811245a1-d794-4b0d-b604-1d31c2507d97",
   "metadata": {
    "id": "811245a1-d794-4b0d-b604-1d31c2507d97"
   },
   "outputs": [
    {
     "data": {
      "text/html": [
       "\n",
       "            <style>\n",
       "                .geemap-dark {\n",
       "                    --jp-widgets-color: white;\n",
       "                    --jp-widgets-label-color: white;\n",
       "                    --jp-ui-font-color1: white;\n",
       "                    --jp-layout-color2: #454545;\n",
       "                    background-color: #383838;\n",
       "                }\n",
       "\n",
       "                .geemap-dark .jupyter-button {\n",
       "                    --jp-layout-color3: #383838;\n",
       "                }\n",
       "\n",
       "                .geemap-colab {\n",
       "                    background-color: var(--colab-primary-surface-color, white);\n",
       "                }\n",
       "\n",
       "                .geemap-colab .jupyter-button {\n",
       "                    --jp-layout-color3: var(--colab-primary-surface-color, white);\n",
       "                }\n",
       "            </style>\n",
       "            "
      ],
      "text/plain": [
       "<IPython.core.display.HTML object>"
      ]
     },
     "metadata": {},
     "output_type": "display_data"
    }
   ],
   "source": [
    "HealthCenters = HealthCenters.merge(values_and_coverage_per_object,left_index=True,right_index=True)"
   ]
  },
  {
   "cell_type": "code",
   "execution_count": 50,
   "id": "115d6cc9-aeb9-4497-9c0e-78f7c8ef19b8",
   "metadata": {
    "id": "115d6cc9-aeb9-4497-9c0e-78f7c8ef19b8"
   },
   "outputs": [
    {
     "data": {
      "text/html": [
       "\n",
       "            <style>\n",
       "                .geemap-dark {\n",
       "                    --jp-widgets-color: white;\n",
       "                    --jp-widgets-label-color: white;\n",
       "                    --jp-ui-font-color1: white;\n",
       "                    --jp-layout-color2: #454545;\n",
       "                    background-color: #383838;\n",
       "                }\n",
       "\n",
       "                .geemap-dark .jupyter-button {\n",
       "                    --jp-layout-color3: #383838;\n",
       "                }\n",
       "\n",
       "                .geemap-colab {\n",
       "                    background-color: var(--colab-primary-surface-color, white);\n",
       "                }\n",
       "\n",
       "                .geemap-colab .jupyter-button {\n",
       "                    --jp-layout-color3: var(--colab-primary-surface-color, white);\n",
       "                }\n",
       "            </style>\n",
       "            "
      ],
      "text/plain": [
       "<IPython.core.display.HTML object>"
      ]
     },
     "metadata": {},
     "output_type": "display_data"
    }
   ],
   "source": [
    "HealthCenters['maximum_damage'] = HealthCenters.amenity.apply(lambda x: maxdam[x])"
   ]
  },
  {
   "cell_type": "code",
   "execution_count": 51,
   "id": "291a4fba-40c1-4397-a7f2-8b1665ca7ef5",
   "metadata": {
    "id": "291a4fba-40c1-4397-a7f2-8b1665ca7ef5"
   },
   "outputs": [
    {
     "data": {
      "text/html": [
       "\n",
       "            <style>\n",
       "                .geemap-dark {\n",
       "                    --jp-widgets-color: white;\n",
       "                    --jp-widgets-label-color: white;\n",
       "                    --jp-ui-font-color1: white;\n",
       "                    --jp-layout-color2: #454545;\n",
       "                    background-color: #383838;\n",
       "                }\n",
       "\n",
       "                .geemap-dark .jupyter-button {\n",
       "                    --jp-layout-color3: #383838;\n",
       "                }\n",
       "\n",
       "                .geemap-colab {\n",
       "                    background-color: var(--colab-primary-surface-color, white);\n",
       "                }\n",
       "\n",
       "                .geemap-colab .jupyter-button {\n",
       "                    --jp-layout-color3: var(--colab-primary-surface-color, white);\n",
       "                }\n",
       "            </style>\n",
       "            "
      ],
      "text/plain": [
       "<IPython.core.display.HTML object>"
      ]
     },
     "metadata": {},
     "output_type": "display_data"
    }
   ],
   "source": [
    "HealthCenters['damage'] = HealthCenters.apply(\n",
    "        lambda _object: _get_damage_per_object(_object, curves, cell_area_m2=100*100),\n",
    "        axis=1,\n",
    "    )"
   ]
  },
  {
   "cell_type": "code",
   "execution_count": 52,
   "id": "913f9757-3151-46f9-9427-f54fa58d8beb",
   "metadata": {
    "id": "913f9757-3151-46f9-9427-f54fa58d8beb"
   },
   "outputs": [
    {
     "data": {
      "text/html": [
       "\n",
       "            <style>\n",
       "                .geemap-dark {\n",
       "                    --jp-widgets-color: white;\n",
       "                    --jp-widgets-label-color: white;\n",
       "                    --jp-ui-font-color1: white;\n",
       "                    --jp-layout-color2: #454545;\n",
       "                    background-color: #383838;\n",
       "                }\n",
       "\n",
       "                .geemap-dark .jupyter-button {\n",
       "                    --jp-layout-color3: #383838;\n",
       "                }\n",
       "\n",
       "                .geemap-colab {\n",
       "                    background-color: var(--colab-primary-surface-color, white);\n",
       "                }\n",
       "\n",
       "                .geemap-colab .jupyter-button {\n",
       "                    --jp-layout-color3: var(--colab-primary-surface-color, white);\n",
       "                }\n",
       "            </style>\n",
       "            "
      ],
      "text/plain": [
       "<IPython.core.display.HTML object>"
      ]
     },
     "metadata": {},
     "output_type": "display_data"
    },
    {
     "data": {
      "text/plain": [
       "0         0.000000\n",
       "93        0.000000\n",
       "92        0.000000\n",
       "91        0.000000\n",
       "90        0.000000\n",
       "          ...     \n",
       "76       86.627588\n",
       "41      148.154755\n",
       "1       160.234296\n",
       "120     326.382010\n",
       "12     2793.266143\n",
       "Name: damage, Length: 133, dtype: float64"
      ]
     },
     "execution_count": 52,
     "metadata": {},
     "output_type": "execute_result"
    }
   ],
   "source": [
    "HealthCenters['damage'].sort_values(ascending=True)"
   ]
  },
  {
   "cell_type": "markdown",
   "id": "437b207f-7c43-4846-b9ba-63e416ff92cf",
   "metadata": {
    "id": "160dafed-34d4-44c8-8d9d-aa44c8dfb621"
   },
   "source": [
    "# 7. Your Final Task"
   ]
  },
  {
   "cell_type": "markdown",
   "id": "c412b628-014e-41ba-8c41-0722098ad006",
   "metadata": {
    "id": "c412b628-014e-41ba-8c41-0722098ad006"
   },
   "source": [
    "As you saw, due to a flood with a 1000-year return period, some hospitals may be out of service. Therefore, we need to estimate the post-flood urban/rural demand for services from the hospitals that remain operational.\n",
    "\n",
    "### Your task here will be: \n",
    "- Create new clusters of populations and assign them to the remaining hospitals, then determine the post-disaster demand for these hospitals.\n",
    "- Calcuate the urban, rural and total demand (population in need of services) for each hospital.\n",
    "- Plot the remaining hospitals vs their total population in need of service.\n",
    "- Let us know how many hospitals were affected by the flood and the total number of rural residents who need to find an alternative hospital."
   ]
  },
  {
   "cell_type": "code",
   "execution_count": null,
   "id": "3f9203aa-b2e2-4207-ad93-bf71e1ff5636",
   "metadata": {},
   "outputs": [],
   "source": []
  }
 ],
 "metadata": {
  "colab": {
   "collapsed_sections": [
    "dc39cef6-eac9-40a0-a737-bac3cd5bc2a1",
    "zotYyVnD4Jt2",
    "_tY_sxXy4SPA",
    "c9NfiE5dFr19",
    "44mziLGt8j4C",
    "uS-6YzaM9P5-",
    "BnOR_Ouk-CFv",
    "573f10a4-d0bb-4675-903f-71ffbe45358f",
    "5299738d-567d-4473-aaa2-095dede18b92"
   ],
   "provenance": []
  },
  "kernelspec": {
   "display_name": "Python 3 (ipykernel)",
   "language": "python",
   "name": "python3"
  },
  "language_info": {
   "codemirror_mode": {
    "name": "ipython",
    "version": 3
   },
   "file_extension": ".py",
   "mimetype": "text/x-python",
   "name": "python",
   "nbconvert_exporter": "python",
   "pygments_lexer": "ipython3",
   "version": "3.12.3"
  }
 },
 "nbformat": 4,
 "nbformat_minor": 5
}
