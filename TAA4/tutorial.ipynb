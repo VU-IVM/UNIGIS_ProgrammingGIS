{
 "cells": [
  {
   "cell_type": "markdown",
   "id": "ee037ada-1068-4f35-91ae-30c2ea52ca01",
   "metadata": {
    "id": "ee037ada-1068-4f35-91ae-30c2ea52ca01"
   },
   "source": [
    "# TAA4: Accessibility to healthcare facilities"
   ]
  },
  {
   "cell_type": "markdown",
   "id": "c6036316-479d-4438-b9e7-e31cf7e9051c",
   "metadata": {
    "id": "c6036316-479d-4438-b9e7-e31cf7e9051c"
   },
   "source": [
    "In this tutorial, we wrap up what you have learned in TAA1-3 by demonstrating their applications and connections. For a European country of your choice, we collect data on the population and their health facilities. Using a classification method, we add rural and urban features to the population data points. Then, with a clustering algorithm, we group population points based on their coordinates and assign each cluster to its closest hospitals. This allows us to calculate the total urban and rural demand for each hospital. Next, we assess the impact of flooding on the hospitals, distinguishing between damaged and undamaged facilities.\n",
    "\n",
    "In the aftermath of the flood, the number of hospitals in service has changed. Your task will be to repeat the clustering process, assign the new clusters to the intact hospitals, and then calculate their urban and rural demand in the post-flood conditions.\n",
    "\n",
    "### Important before we start\n",
    "---\n",
    "Make sure that you save this file before you continue, else you will lose everything. To do so, go to **Bestand/File** and click on **Een kopie opslaan in Drive/Save a Copy on Drive**!"
   ]
  },
  {
   "cell_type": "markdown",
   "id": "75f3efb3-f86a-443e-b87a-22653c771143",
   "metadata": {
    "id": "75f3efb3-f86a-443e-b87a-22653c771143"
   },
   "source": [
    "## Learning Objectives\n",
    "\n",
    "- To extract, prepare and manipulate geospatial information\n",
    "\n",
    "- To run a classification algorithm to identify urban and rural land use.\n",
    "\n",
    "- To overlay raster and vector information.\n",
    "\n",
    "- To cluster different geospatial layers.\n",
    "\n",
    "- To visualise geospatial information.\n",
    "<hr>\n",
    "\n"
   ]
  },
  {
   "cell_type": "markdown",
   "id": "59d989b6-9cc8-4a39-a17b-c96c463711dd",
   "metadata": {
    "id": "59d989b6-9cc8-4a39-a17b-c96c463711dd"
   },
   "source": [
    "## Prepare the packages\n",
    "<hr>"
   ]
  },
  {
   "cell_type": "markdown",
   "id": "21Lmim3C9uej",
   "metadata": {
    "id": "21Lmim3C9uej"
   },
   "source": [
    "Before we can start, we need to install several packages. Most of you, you have seen before in the previous tutorials!"
   ]
  },
  {
   "cell_type": "code",
   "execution_count": null,
   "id": "b06c7b0f-2f83-4f86-ab73-0e8d889bd164",
   "metadata": {
    "colab": {
     "base_uri": "https://localhost:8080/"
    },
    "id": "b06c7b0f-2f83-4f86-ab73-0e8d889bd164",
    "outputId": "e72908dd-a5bf-4430-8db5-897fa346b2e9"
   },
   "outputs": [],
   "source": [
    "!pip install -q rasterio rioxarray contextily osm_flex exactextract"
   ]
  },
  {
   "cell_type": "markdown",
   "id": "bee1cfab-03df-433e-913e-62de5c0076f4",
   "metadata": {
    "id": "bee1cfab-03df-433e-913e-62de5c0076f4"
   },
   "source": [
    "Now we will import these packages in the cell below:"
   ]
  },
  {
   "cell_type": "code",
   "execution_count": null,
   "id": "ffc10f5f-a43d-4f8f-91b1-ac7afc347ab4",
   "metadata": {
    "id": "ffc10f5f-a43d-4f8f-91b1-ac7afc347ab4"
   },
   "outputs": [],
   "source": [
    "# Standard Library Imports\n",
    "import os\n",
    "import sys\n",
    "from pathlib import Path\n",
    "from datetime import datetime\n",
    "from zipfile import ZipFile\n",
    "from io import BytesIO\n",
    "import random\n",
    "import requests\n",
    "from urllib.request import urlopen\n",
    "\n",
    "# Data Manipulation and Analysis\n",
    "import numpy as np\n",
    "import pandas as pd\n",
    "import geopandas as gpd\n",
    "import xarray as xr\n",
    "import rioxarray as rxr\n",
    "\n",
    "# Machine Learning\n",
    "import sklearn  # General import if other sklearn modules are needed\n",
    "from sklearn.ensemble import RandomForestClassifier\n",
    "from sklearn.cluster import KMeans\n",
    "\n",
    "# Geometry and Spatial Analysis\n",
    "import shapely\n",
    "from shapely.geometry import Point\n",
    "import rasterio as rio\n",
    "from rasterio.enums import Resampling\n",
    "from scipy.spatial.distance import cdist\n",
    "\n",
    "# Earth Engine and Geospatial Libraries\n",
    "import ee\n",
    "import geemap\n",
    "import contextily as cx\n",
    "import osm_flex\n",
    "from osm_flex import download\n",
    "from exactextract import exact_extract\n",
    "\n",
    "# Visualization\n",
    "import matplotlib.pyplot as plt\n",
    "import contextily as ctx\n",
    "from tqdm import tqdm\n",
    "from IPython.display import clear_output"
   ]
  },
  {
   "cell_type": "markdown",
   "id": "bb50fef4-f456-46ca-aff7-a838766fb127",
   "metadata": {
    "id": "bb50fef4-f456-46ca-aff7-a838766fb127"
   },
   "source": [
    "## 2. Data download and preparation\n",
    "\n",
    "Define a country of your interest and a size for gridding and a randomSeed.\n",
    "\n",
    "We use the ISO3 code of the country to select it from the data. Please have a look online yourself if you do not know the ISO3 code of your country (it is widely used within geospatial analysis)."
   ]
  },
  {
   "cell_type": "code",
   "execution_count": null,
   "id": "da8b4246-1b98-455c-89ce-999e21e5dd27",
   "metadata": {
    "colab": {
     "base_uri": "https://localhost:8080/",
     "height": 17
    },
    "id": "da8b4246-1b98-455c-89ce-999e21e5dd27",
    "outputId": "68410792-891e-47a2-d04a-526c41be22e3"
   },
   "outputs": [],
   "source": [
    "country_full_name = 'XXX' # add full name of the country\n",
    "country_iso3 = 'XXX' # add ISO3 code of the country.\n",
    "upscale_factor = 100 # our population data that we will upscale to a lower resolution in a\n",
    "                      #later stage, will have to be converted from 100x100m to something more useful (such as 10x10km)\n",
    "\n",
    "### Set global seeds ###\n",
    "random_seed = 1\n",
    "np.random.seed(random_seed)\n",
    "random.seed(random_seed)\n",
    "os.environ['PYTHONHASHSEED'] = str(random_seed)"
   ]
  },
  {
   "cell_type": "markdown",
   "id": "6d8c4878-9662-4de4-9c69-b9ec0af9cda3",
   "metadata": {
    "id": "6d8c4878-9662-4de4-9c69-b9ec0af9cda3"
   },
   "source": [
    "Here, we download the population data from WorldPop, an open source platform. Select the country of interest from the WorldPop [website](https://hub.worldpop.org/geodata/listing?id=69) and add the link to the URL below."
   ]
  },
  {
   "cell_type": "code",
   "execution_count": null,
   "id": "6eb55f91-caba-443b-a72b-688bce077b6b",
   "metadata": {
    "colab": {
     "base_uri": "https://localhost:8080/",
     "height": 17
    },
    "id": "6eb55f91-caba-443b-a72b-688bce077b6b",
    "outputId": "2ff1db67-4b19-4460-e6ff-93d1bc0a53fe"
   },
   "outputs": [],
   "source": [
    "url = \"XXXX\"\n",
    "\n",
    "file_name = 'ppp_2018_1km_Aggregated.tif'\n",
    "\n",
    "open(file_name, 'wb').write(requests.get(url).content)\n",
    "\n",
    "world_pop = xr.open_dataset(file_name,engine='rasterio')"
   ]
  },
  {
   "cell_type": "markdown",
   "id": "84d4cc8e-d8fc-495a-9337-bfb06958a553",
   "metadata": {
    "id": "84d4cc8e-d8fc-495a-9337-bfb06958a553"
   },
   "source": [
    "Now, we use a file with country borders from Natural Earth, to get the boundaries of the country of your interest."
   ]
  },
  {
   "cell_type": "code",
   "execution_count": null,
   "id": "36d356c0-167b-4d4c-bfa1-67e6f3dfee46",
   "metadata": {
    "colab": {
     "base_uri": "https://localhost:8080/",
     "height": 17
    },
    "id": "36d356c0-167b-4d4c-bfa1-67e6f3dfee46",
    "outputId": "346e0708-1080-4368-e1d1-e30a83dbc3b0"
   },
   "outputs": [],
   "source": [
    "world = gpd.read_file(\"https://github.com/nvkelso/natural-earth-vector/raw/master/10m_cultural/ne_10m_admin_0_countries.shp\")\n",
    "\n",
    "# And we want to take the country boundaries and geometry\n",
    "country_bounds = world.loc[world.ADM0_ISO == country_iso3].bounds\n",
    "country_geom = world.loc[world.ADM0_ISO == country_iso3].geometry"
   ]
  },
  {
   "cell_type": "markdown",
   "id": "TpQrhW3I-Vlo",
   "metadata": {
    "id": "TpQrhW3I-Vlo"
   },
   "source": [
    "Check if the country_bounds and country_geom are not empty. If not empty, you selected an existing ISO3 code!"
   ]
  },
  {
   "cell_type": "code",
   "execution_count": null,
   "id": "d0dbb83b-a8b4-48ee-821e-3d156677455f",
   "metadata": {
    "colab": {
     "base_uri": "https://localhost:8080/",
     "height": 115
    },
    "id": "d0dbb83b-a8b4-48ee-821e-3d156677455f",
    "outputId": "22e666b4-492b-4466-aa9f-995b297e39f1"
   },
   "outputs": [],
   "source": []
  },
  {
   "cell_type": "markdown",
   "id": "2d131107-2f4f-4f39-9850-df988197ee62",
   "metadata": {
    "id": "2d131107-2f4f-4f39-9850-df988197ee62"
   },
   "source": [
    "Now, we use the derived boundries to clip the population data from worldpop, to get the population of our country. We use the **rio.clip_box(** and **rio.cip(** function again. We used those before in TAA4. Apply them here to clip the world_pop data, to make sure it for sure fits the same spatial extent as the hospital data."
   ]
  },
  {
   "cell_type": "code",
   "execution_count": null,
   "id": "3cee77c1-0fcc-4151-b5f1-5c67870b5ab4",
   "metadata": {
    "colab": {
     "base_uri": "https://localhost:8080/",
     "height": 17
    },
    "id": "3cee77c1-0fcc-4151-b5f1-5c67870b5ab4",
    "outputId": "9baefed6-9e4a-4456-bef0-4d54054e6d67"
   },
   "outputs": [],
   "source": [
    "world_pop_national = world_pop.rio.clip_box(minx..\n",
    "\n",
    "                    )\n",
    "world_pop_national = world_pop_national.rio.clip(XX, XX, drop=False)"
   ]
  },
  {
   "cell_type": "markdown",
   "id": "ab6155b2-3e5b-4f0d-85b1-0f45d5b5f31f",
   "metadata": {
    "id": "ab6155b2-3e5b-4f0d-85b1-0f45d5b5f31f"
   },
   "source": [
    "The worldpop data is stored as 100 by 100m grid. This will be too computationally intensive if we would use that resolution. As such, we reproject the to a lower resolution. This will help us to perform the analyis more smoothly. We use the *upscale_factor* as defined at the start of this subsection."
   ]
  },
  {
   "cell_type": "code",
   "execution_count": null,
   "id": "0834501f-2e00-4dce-b91c-8101fcdffb74",
   "metadata": {
    "colab": {
     "base_uri": "https://localhost:8080/",
     "height": 17
    },
    "id": "0834501f-2e00-4dce-b91c-8101fcdffb74",
    "outputId": "d797be2f-b10c-4c04-ff08-dd17261eccb8"
   },
   "outputs": [],
   "source": [
    "new_width = int(world_pop_national.rio.width / upscale_factor)\n",
    "new_height = int(world_pop_national.rio.height / upscale_factor)\n",
    "\n",
    "worldpop_Grided = world_pop_national.rio.reproject(\n",
    "    world_pop_national.rio.crs,\n",
    "    shape=(new_height, new_width),\n",
    "    resampling=Resampling.sum,\n",
    ")"
   ]
  },
  {
   "cell_type": "markdown",
   "id": "17062d77-f2a0-47ff-ac8b-759d09fc8b97",
   "metadata": {
    "id": "17062d77-f2a0-47ff-ac8b-759d09fc8b97"
   },
   "source": [
    "Now we remove the missing data from our data points and create a GeoDataFrame for our country."
   ]
  },
  {
   "cell_type": "code",
   "execution_count": null,
   "id": "256c59b1-c8cb-40ef-9d4d-6c30e05e2861",
   "metadata": {
    "colab": {
     "base_uri": "https://localhost:8080/",
     "height": 35
    },
    "id": "256c59b1-c8cb-40ef-9d4d-6c30e05e2861",
    "outputId": "4ef7fbf2-940f-495e-b197-f5c3e6f05fe8"
   },
   "outputs": [],
   "source": [
    "df_worldpop_ = worldpop_Grided.band_data.to_dataframe()\n",
    "df_worldpop_ = df_worldpop_.loc[~df_worldpop_.band_data.isna()].reset_index(drop=False)\n",
    "\n",
    "# create geometry values and drop lat lon columns\n",
    "df_worldpop_['geometry'] = shapely.points(np.array(list(zip(df_worldpop_['x'],df_worldpop_['y']))))\n",
    "\n",
    "df_worldpop_ = gpd.GeoDataFrame(df_worldpop_.drop(['y','x','spatial_ref','band'],axis=1))\n",
    "\n",
    "# dynamically create a variable name for the DataFrame\n",
    "globals()[f'df_pop_{country_iso3}'] = gpd.GeoDataFrame(df_worldpop_) \n",
    "\n",
    "# dynamically create a print statement that reflects the current country code (however df_worldpop_ would work as well)\n",
    "print(f\"The output is df_pop_{country_iso3} as a dataframe of the population data of {country_full_name}\")"
   ]
  },
  {
   "cell_type": "markdown",
   "id": "9d91ef78-094c-40f4-8142-3f100934ccbc",
   "metadata": {
    "id": "9d91ef78-094c-40f4-8142-3f100934ccbc"
   },
   "source": [
    "And Lets plot the population points of our country of interest.\n",
    "\n",
    "**Q: Make sure you provide a plot with all its characteristics (title, good colors etc).**"
   ]
  },
  {
   "cell_type": "code",
   "execution_count": null,
   "id": "971cf678-5a60-4b22-af71-5bb7d9ab2302",
   "metadata": {
    "id": "971cf678-5a60-4b22-af71-5bb7d9ab2302"
   },
   "outputs": [],
   "source": []
  },
  {
   "cell_type": "markdown",
   "id": "32dab221-7a28-4719-a180-dc8a91c17b48",
   "metadata": {
    "id": "32dab221-7a28-4719-a180-dc8a91c17b48"
   },
   "source": [
    "Our next step is to extract information of healthcare facilities for the country of interest. We do so using OpenStreetMap. With the latest version of geopandas, it is now possible to directly read **osm.pbf** files from OpenStreetMap."
   ]
  },
  {
   "cell_type": "code",
   "execution_count": null,
   "id": "dbf8e926-52cc-4411-bc68-263f7cafaf1f",
   "metadata": {
    "colab": {
     "base_uri": "https://localhost:8080/",
     "height": 53
    },
    "id": "dbf8e926-52cc-4411-bc68-263f7cafaf1f",
    "outputId": "1370b7d3-aa7e-4d4e-e856-ca0b4d0f2119"
   },
   "outputs": [],
   "source": [
    "%%time\n",
    "Country_GeofabrikData_path = download.get_country_geofabrik(country_iso3)"
   ]
  },
  {
   "cell_type": "markdown",
   "id": "Vpg5lYK9_UVI",
   "metadata": {
    "id": "Vpg5lYK9_UVI"
   },
   "source": [
    "Healthcare facilities are stored as *multipolygons* within OpenStreetMap, and we want to download all clinics and hospitals. Depending on the country, this may take a while."
   ]
  },
  {
   "cell_type": "code",
   "execution_count": null,
   "id": "22f32bc2-8a4b-4af8-a8c6-2494ed27ee89",
   "metadata": {
    "colab": {
     "base_uri": "https://localhost:8080/",
     "height": 73
    },
    "id": "22f32bc2-8a4b-4af8-a8c6-2494ed27ee89",
    "outputId": "384a197f-e51f-46bd-e8d5-9cf72395449d"
   },
   "outputs": [],
   "source": [
    "HealthCenters = gpd.read_file(Country_GeofabrikData_path, layer=\"XXX\")\n",
    "\n",
    "sub_types =['XX', 'XX']\n",
    "HealthCenters = HealthCenters[HealthCenters['amenity'].isin(sub_types)].reset_index(drop=True)\n",
    "\n",
    "# to convert polygons to their centroids\n",
    "HealthCenters_centroids = HealthCenters.copy()\n",
    "HealthCenters_centroids['geometry'] = HealthCenters.centroid"
   ]
  },
  {
   "cell_type": "markdown",
   "id": "c57009a2-caa8-4963-b37b-a1a5503a6be9",
   "metadata": {
    "id": "c57009a2-caa8-4963-b37b-a1a5503a6be9"
   },
   "source": [
    "Let's check the content of our generated HealthCenters_centroids GeoDataFrame."
   ]
  },
  {
   "cell_type": "code",
   "execution_count": null,
   "id": "cfbc0e8e-bf63-42c9-b9d0-3a095c0f8ca6",
   "metadata": {
    "colab": {
     "base_uri": "https://localhost:8080/",
     "height": 516
    },
    "id": "cfbc0e8e-bf63-42c9-b9d0-3a095c0f8ca6",
    "outputId": "a865fb38-41be-46f0-d5a2-7b61be65daf7"
   },
   "outputs": [],
   "source": [
    "HealthCenters.head()"
   ]
  },
  {
   "cell_type": "markdown",
   "id": "c364c46d-40ca-47a3-babe-c0ee55ecb880",
   "metadata": {
    "id": "c364c46d-40ca-47a3-babe-c0ee55ecb880"
   },
   "source": [
    "And let's visualize the hospitals locations.\n",
    "\n",
    "If you want to use the contextily basemaps, you need to temporarily reproject the data to EPSG:3857 to add the basemap.\n"
   ]
  },
  {
   "cell_type": "code",
   "execution_count": null,
   "id": "14c6ab08-56b0-49a2-8955-74a0bd8b6b7c",
   "metadata": {
    "id": "14c6ab08-56b0-49a2-8955-74a0bd8b6b7c"
   },
   "outputs": [],
   "source": [
    "print(\"The output is HealthCenters_centroids as a dataframe of the Health Centers\")\n",
    "\n",
    "#plotting\n",
    "fig, ax = plt.subplots(figsize=(10, 10))\n",
    "HealthCenters_centroids.plot(ax=ax, color='red', markersize=10, alpha=0.7)\n",
    "\n",
    "#cx.add_basemap(ax, crs='EPSG:4326', source=cx.providers.OpenStreetMap.Mapnik, zoom=8)\n",
    "\n",
    "ax.set_title()\n",
    "\n",
    "ax.set_xlabel()\n",
    "ax.set_ylabel()\n",
    "\n",
    "plt.show()"
   ]
  },
  {
   "cell_type": "markdown",
   "id": "dc39cef6-eac9-40a0-a737-bac3cd5bc2a1",
   "metadata": {
    "id": "dc39cef6-eac9-40a0-a737-bac3cd5bc2a1"
   },
   "source": [
    "## 3. Classification of rural and urban areas"
   ]
  },
  {
   "cell_type": "markdown",
   "id": "M2QYz4j0EBah",
   "metadata": {
    "id": "M2QYz4j0EBah"
   },
   "source": [
    "As you remember, we checked the content of the population data, and there was no information regarding urban or rural areas. Therefore, we need to add this information to our dataset. So, we will use an approach similar to what you learned in TAA1, but for the sake of processing efficiency, we will use Earth Engine's built-in classifier packages rather than scikit-learn. In this situation we are interested in only two land cover classes: rural and urban. We will have to reclassify the raster, train a model to distinguish between these timesteps, and finally perform the classification on recent images.\n",
    "<!--  -->\n",
    " We have pre-filled most of the code in this section, and you will use a few new tricks to perform the classification. Beyond that, we challenge you to leverage what you have learned in TAA1 to improve the performance of the model, by any means you see fit. You will be evaluated on your reasoning, as well as the creativity of the approaches."
   ]
  },
  {
   "cell_type": "markdown",
   "id": "zotYyVnD4Jt2",
   "metadata": {
    "id": "zotYyVnD4Jt2"
   },
   "source": [
    "### Set-up"
   ]
  },
  {
   "cell_type": "markdown",
   "id": "-l1Sg8b54mQl",
   "metadata": {
    "id": "-l1Sg8b54mQl"
   },
   "source": [
    "First, set up your Earth Engine environment as you did before."
   ]
  },
  {
   "cell_type": "code",
   "execution_count": null,
   "id": "i1hx3v6pEMva",
   "metadata": {
    "colab": {
     "base_uri": "https://localhost:8080/",
     "height": 17
    },
    "id": "i1hx3v6pEMva",
    "outputId": "343336f8-9da9-49ad-8cf2-f5a2428d890d"
   },
   "outputs": [],
   "source": [
    "ee.Authenticate()"
   ]
  },
  {
   "cell_type": "code",
   "execution_count": null,
   "id": "a76108be-d449-46a6-98e9-be3f17ae1888",
   "metadata": {
    "colab": {
     "base_uri": "https://localhost:8080/",
     "height": 17
    },
    "id": "a76108be-d449-46a6-98e9-be3f17ae1888",
    "outputId": "3d53476b-e096-48d3-e513-99d4eabde1a7"
   },
   "outputs": [],
   "source": [
    "ee.Initialize(project=\"XXX\")"
   ]
  },
  {
   "cell_type": "markdown",
   "id": "_tY_sxXy4SPA",
   "metadata": {
    "id": "_tY_sxXy4SPA"
   },
   "source": [
    "### Set-up training & validation data"
   ]
  },
  {
   "cell_type": "markdown",
   "id": "rToXuPnoET3C",
   "metadata": {
    "id": "rToXuPnoET3C"
   },
   "source": [
    "We will make use of the following data sources:\n",
    "1. Administrative country boundary to clip to the area of interest  \n",
    "2. Sentinel-2 satellite images at 10x10m resolution\n",
    "3. CORINE Land Cover (CLC)\n",
    "\n",
    "For the satellite image, we take the S2 median image over the summer to improve sensitivity to single-capture conditions. The median image is taken over the summer, so that we exclude seasonal dynamics. Finally, we clip this image to the country extent.\n",
    "\n"
   ]
  },
  {
   "cell_type": "code",
   "execution_count": null,
   "id": "_I9OT5iF4iPe",
   "metadata": {
    "colab": {
     "base_uri": "https://localhost:8080/",
     "height": 17
    },
    "id": "_I9OT5iF4iPe",
    "outputId": "35d15ec3-0459-4b5c-c18f-047271b33c03"
   },
   "outputs": [],
   "source": [
    "# Define the region of interest (ROI)\n",
    "country_ROI = ee.FeatureCollection(\"FAO/GAUL/2015/level0\") \\\n",
    "                .filter(ee.Filter.eq('ADM0_NAME', country_full_name))\n",
    "\n",
    "# Load Sentinel-2 Image Collection\n",
    "sentinel2 = ee.ImageCollection(\"COPERNICUS/S2_HARMONIZED\") \\\n",
    "             .filterBounds(country_ROI.geometry()) \\\n",
    "             .filterDate('2018-06-01', '2018-08-31') \\\n",
    "             .filter(ee.Filter.lt('CLOUDY_PIXEL_PERCENTAGE', 10))\n",
    "\n",
    "# Create a median composite to reduce cloud cover\n",
    "mosaic_image = sentinel2.median().clip(country_ROI.geometry())"
   ]
  },
  {
   "cell_type": "markdown",
   "id": "FPiX1Imk6Oom",
   "metadata": {
    "id": "FPiX1Imk6Oom"
   },
   "source": [
    "Show on map to verify that it's loaded"
   ]
  },
  {
   "cell_type": "code",
   "execution_count": null,
   "id": "98176961-f52f-4859-8ff9-9b55d2eb7347",
   "metadata": {
    "id": "98176961-f52f-4859-8ff9-9b55d2eb7347"
   },
   "outputs": [],
   "source": [
    "bands = [] # Fill in this list yourself\n",
    "vis_params = {'max': , 'bands': bands}  # Limit upper range so you can see detail\n",
    "\n",
    "map = geemap.Map(height=800, width=700, zoom=7)\n",
    "\n",
    "# dynamically center the map on the selected country (ROI)\n",
    "map.centerObject(country_ROI.geometry(), 8)\n",
    "\n",
    "# adding the mosaic image layer for the selected country\n",
    "map.addLayer(mosaic_image, vis_params, \"Sentinel-2_2018\")\n",
    "\n",
    "map"
   ]
  },
  {
   "cell_type": "markdown",
   "id": "c9NfiE5dFr19",
   "metadata": {
    "id": "c9NfiE5dFr19"
   },
   "source": [
    "### Calculate image variables to include"
   ]
  },
  {
   "cell_type": "markdown",
   "id": "1gGMF-NEGN84",
   "metadata": {
    "id": "1gGMF-NEGN84"
   },
   "source": [
    "Next, we will compute variables to use for our classifier. We have provided the examples you've already seen for TAA1, but we challenge you to add your own variables. You can get inspiration from anywhere, but be sure that you are able to explain the reasoning behind including each variable."
   ]
  },
  {
   "cell_type": "code",
   "execution_count": null,
   "id": "cjMQF_E57zIw",
   "metadata": {
    "colab": {
     "base_uri": "https://localhost:8080/",
     "height": 17
    },
    "id": "cjMQF_E57zIw",
    "outputId": "e01c14ae-604c-4d6d-b236-bd3f7e976ab7"
   },
   "outputs": [],
   "source": [
    "def make_s2_variables(s2_image):\n",
    "    # Calculate additional spectral indices\n",
    "    dvi = s2_image.select('B5').subtract(s2_image.select('B4')).rename('DVI')\n",
    "    ndvi = s2_image.normalizedDifference(['B5', 'B4']).rename('NDVI')\n",
    "    ndwi = s2_image.normalizedDifference(['B3', 'B5']).rename('NDWI')\n",
    "\n",
    "    # Add indices to the image\n",
    "    s2_image = s2_image.addBands([dvi, ndvi, ndwi])\n",
    "\n",
    "    '''\n",
    "       ToDo: Add your own variables!\n",
    "\n",
    "       Think about what you learned in TAA1 - how else can you compute information\n",
    "       from the spectral bands to include? Look at some papers for inspiration,\n",
    "       or try something out yourself. There's more than just indices that can help here!\n",
    "\n",
    "       Don't forget to add them to the image after you create them!\n",
    "    '''\n",
    "\n",
    "    # Define neighborhood size (e.g., 3x3)\n",
    "\n",
    "    # Calculate neighborhood statistics\n",
    "\n",
    "\n",
    "        # Add additional statistics here, such as min, max, etc., if desired.\n",
    "\n",
    "        # Append neighborhood bands to the list\n",
    "\n",
    "    # Add neighborhood statistics to the image\n",
    "\n",
    "\n",
    "    return s2_image"
   ]
  },
  {
   "cell_type": "code",
   "execution_count": null,
   "id": "oCmPdaR_74Ml",
   "metadata": {
    "colab": {
     "base_uri": "https://localhost:8080/",
     "height": 17
    },
    "id": "oCmPdaR_74Ml",
    "outputId": "db6a2de0-a902-4eb4-fe64-d444deec90bd"
   },
   "outputs": [],
   "source": [
    "mosaic_image = make_s2_variables(mosaic_image)"
   ]
  },
  {
   "cell_type": "code",
   "execution_count": null,
   "id": "sTScJDPp8dew",
   "metadata": {
    "colab": {
     "base_uri": "https://localhost:8080/",
     "height": 17
    },
    "id": "sTScJDPp8dew",
    "outputId": "4294086d-5133-4665-d351-f3d3d7a3243d"
   },
   "outputs": [],
   "source": [
    "# Use these bands for prediction\n",
    "# DON'T FORGET to add your own variables when you make them!\n",
    "bands = ['B2', 'B3', 'B4', 'B5', 'B6', 'B7']\n",
    "indices = ['NDVI', 'DVI']\n",
    "img_bands = [*bands, *indices]"
   ]
  },
  {
   "cell_type": "markdown",
   "id": "44mziLGt8j4C",
   "metadata": {
    "id": "44mziLGt8j4C"
   },
   "source": [
    "### Load CLC2018 and sample data\n"
   ]
  },
  {
   "cell_type": "markdown",
   "id": "K62rE0S-F5X2",
   "metadata": {
    "id": "K62rE0S-F5X2"
   },
   "source": [
    "Now, let's load labels from CORINE and classify the model."
   ]
  },
  {
   "cell_type": "code",
   "execution_count": null,
   "id": "Pacg8UcH8lHe",
   "metadata": {
    "colab": {
     "base_uri": "https://localhost:8080/",
     "height": 17
    },
    "id": "Pacg8UcH8lHe",
    "outputId": "2bdbed57-3efc-4f56-e6ae-13f5f7fc03d6"
   },
   "outputs": [],
   "source": [
    "CLC = ee.Image('COPERNICUS/CORINE/V20/100m/2018').select('landcover').clip(mosaic_image.geometry())\n",
    "lc_points = CLC.sample(\n",
    "    **{\n",
    "        'region': mosaic_image.geometry(),\n",
    "        'scale': 30,\n",
    "        'numPixels': 10000, # Change this as you see fit\n",
    "        'seed': random_seed,\n",
    "        'geometries': True,\n",
    "    }\n",
    ")"
   ]
  },
  {
   "cell_type": "markdown",
   "id": "n7hzNmOt8tY5",
   "metadata": {
    "id": "n7hzNmOt8tY5"
   },
   "source": [
    "Next, let's reclassify the dataset to a binary urban/rural dataset. The choice how to do this is yours, and can be as easy or complicated as you like it to be. As a reminder, CLC consists of a [3-digit hierarchy](https://land.copernicus.eu/content/corine-land-cover-nomenclature-guidelines/html/), so you can pick which classes you want to include and exclude."
   ]
  },
  {
   "cell_type": "code",
   "execution_count": null,
   "id": "Hm4xWGNS8ugv",
   "metadata": {
    "colab": {
     "base_uri": "https://localhost:8080/",
     "height": 17
    },
    "id": "Hm4xWGNS8ugv",
    "outputId": "01971d58-7c8b-4f19-c868-983d47395c5a"
   },
   "outputs": [],
   "source": [
    "def generalize_clc_class(feature):\n",
    "    lc_value = ee.String(feature.get('landcover'))\n",
    "\n",
    "    # Check if the first character is '1'\n",
    "    set_value = ee.Algorithms.If(lc_value.slice(0, 1).equals('1'), 1, 0)\n",
    "\n",
    "    # Set the new binary value for the 'landcover' property\n",
    "    return feature.set('landcover', set_value)\n",
    "\n",
    "lc_reference_pts = lc_points.map(generalize_clc_class)"
   ]
  },
  {
   "cell_type": "markdown",
   "id": "Y0v4HOG6GtZq",
   "metadata": {
    "id": "Y0v4HOG6GtZq"
   },
   "source": [
    "**Q: Briefly explain which classes you included for the urban/rural re-classification.**"
   ]
  },
  {
   "cell_type": "markdown",
   "id": "th9Dl6mW9FII",
   "metadata": {
    "id": "th9Dl6mW9FII"
   },
   "source": [
    "Let's make training/validation splits. You can customize this however you see fit, but we suggest balanced sampling, where you control how many positive and how many negative samples are included during training/validation, so as to not over/under-sample one or the other."
   ]
  },
  {
   "cell_type": "code",
   "execution_count": null,
   "id": "X1tMXV4w9LFb",
   "metadata": {
    "colab": {
     "base_uri": "https://localhost:8080/",
     "height": 17
    },
    "id": "X1tMXV4w9LFb",
    "outputId": "43d28a05-e757-4112-9a1f-78a5d07c3e32"
   },
   "outputs": [],
   "source": [
    "# Define the land cover labels column\n",
    "label_col = 'landcover'\n",
    "\n",
    "# Filter points by label\n",
    "\n",
    "# Allow a maximum of 2-to-1 difference in negative vs positive class sampling\n",
    "\n",
    "# Merge the samples\n",
    "\n",
    "\n",
    "# Split into training and validation sets\n",
    "training_sample = balanced_sample.filter('random <= 0.8')\n",
    "validation_sample = balanced_sample.filter('random > 0.8')\n",
    "\n",
    "# Sample regions for training and validation datasets\n",
    "train_data = mosaic_image.select(img_bands).sampleRegions(\n",
    "    collection=training_sample, properties=[label_col], scale=100\n",
    ")\n",
    "\n",
    "val_data = mosaic_image.select(img_bands).sampleRegions(\n",
    "    collection=validation_sample, properties=[label_col], scale=100\n",
    ")"
   ]
  },
  {
   "cell_type": "markdown",
   "id": "LONawc_nGj3L",
   "metadata": {
    "id": "LONawc_nGj3L"
   },
   "source": [
    "**Q: Describe your sampling approach. Which approach did you go with, and what is the rationale behind it?**"
   ]
  },
  {
   "cell_type": "markdown",
   "id": "uS-6YzaM9P5-",
   "metadata": {
    "id": "uS-6YzaM9P5-"
   },
   "source": [
    "### Optimize on training & validation set"
   ]
  },
  {
   "cell_type": "markdown",
   "id": "H3G8LxVmG7d6",
   "metadata": {
    "id": "H3G8LxVmG7d6"
   },
   "source": [
    "Now that we have sampled data, we will iteratively improve the model. How you want to approach this is up to you, we only provide the basic process here. In TAA1 we taught you a few methods and concepts that you can build on. To give some suggestions:\n",
    "1. Analyze the confusion matrix\n",
    "2. Look at different metrics that might be more informative - for instance, precision and recall\n",
    "3. Look at redundant variables - you learned this in scikit-learn, but EE has options for this too if you want to search for it.\n",
    "\n",
    "It's up to you how to approach this, but we recommend to document what worked and what didn't work so that you have an easier time reporting your results."
   ]
  },
  {
   "cell_type": "code",
   "execution_count": null,
   "id": "Hv5M5UkT9X39",
   "metadata": {
    "colab": {
     "base_uri": "https://localhost:8080/",
     "height": 17
    },
    "id": "Hv5M5UkT9X39",
    "outputId": "c51262d9-d567-4d25-82e8-1926b1ac92b7"
   },
   "outputs": [],
   "source": [
    "# Train the model\n",
    "classifier = ee.Classifier.smileRandomForest(numberOfTrees=100, minLeafPopulation=2, maxNodes=50)\n",
    "trained_classifier = classifier.train(features=train_data, classProperty=label_col, inputProperties=img_bands)\n",
    "\n",
    "# Apply the classifier to the validation data\n",
    "classified_val = val_data.classify(trained_classifier)"
   ]
  },
  {
   "cell_type": "markdown",
   "id": "_r0pZTPq97XH",
   "metadata": {
    "id": "_r0pZTPq97XH"
   },
   "source": [
    "Now, let's analyze your results."
   ]
  },
  {
   "cell_type": "code",
   "execution_count": null,
   "id": "q7SJuNRd9Zmm",
   "metadata": {
    "id": "q7SJuNRd9Zmm"
   },
   "outputs": [],
   "source": [
    "# Calculate metrics\n",
    "confusion_matrix = classified_val.errorMatrix(label_col, 'classification')\n",
    "val_accuracy = confusion_matrix.accuracy()\n",
    "kappa = confusion_matrix.kappa()\n",
    "\n",
    "# Package all metrics into a single dictionary\n",
    "metrics = ee.Dictionary({\n",
    "    'Accuracy': val_accuracy,\n",
    "    'Kappa': kappa\n",
    "})\n",
    "\n",
    "# Retrieve all metrics in one call\n",
    "metrics_info = metrics.getInfo()\n",
    "\n",
    "# Print all metrics\n",
    "print('Validation Metrics:')\n",
    "print(f\"Accuracy: {metrics_info['Accuracy']}\")\n",
    "print(f\"Kappa: {metrics_info['Kappa']}\")"
   ]
  },
  {
   "cell_type": "markdown",
   "id": "u-QKNQK5AL43",
   "metadata": {
    "id": "u-QKNQK5AL43"
   },
   "source": [
    "**Q: Describe the changes you made to the 'standard' approach.**\n",
    "1. **Why did you make these changes**\n",
    "2. **which impact did each change have on your analysis?**\n",
    "3. **Which things did you try that did not work out?**"
   ]
  },
  {
   "cell_type": "markdown",
   "id": "BnOR_Ouk-CFv",
   "metadata": {
    "id": "BnOR_Ouk-CFv"
   },
   "source": [
    "### Run on test set"
   ]
  },
  {
   "cell_type": "markdown",
   "id": "YjIzJ6rR-mje",
   "metadata": {
    "id": "YjIzJ6rR-mje"
   },
   "source": [
    "Now, we load recent test images to classify recent urban extent. We take a median image over August 2024."
   ]
  },
  {
   "cell_type": "code",
   "execution_count": null,
   "id": "cL9G2aPS-ba2",
   "metadata": {
    "colab": {
     "base_uri": "https://localhost:8080/",
     "height": 17
    },
    "id": "cL9G2aPS-ba2",
    "outputId": "4a4e6bae-dcc4-493a-b1aa-4e1cee65b664"
   },
   "outputs": [],
   "source": [
    "# Load Sentinel-2 Image Collection\n",
    "test_sentinel2 = ee.ImageCollection(\"COPERNICUS/S2_HARMONIZED\") \\\n",
    "             .filterBounds(country_ROI.geometry()) \\\n",
    "             .filterDate('2024-08-01', '2024-08-31') \\\n",
    "             .filter(ee.Filter.lt('CLOUDY_PIXEL_PERCENTAGE', 10))\n",
    "\n",
    "# Create a median composite to reduce cloud cover\n",
    "test_mosaic_image = sentinel2.median().clip(country_ROI.geometry())\n",
    "\n",
    "# Add variables\n",
    "test_mosaic_image = make_s2_variables(test_mosaic_image)\n",
    "\n",
    "# Add to map object\n",
    "map.addLayer(test_mosaic_image, vis_params, \"test-Sentinel-2-2024\")"
   ]
  },
  {
   "cell_type": "markdown",
   "id": "ZMXJCmTj-9YV",
   "metadata": {
    "id": "ZMXJCmTj-9YV"
   },
   "source": [
    "Let's visualize the results calculated over the entire test image"
   ]
  },
  {
   "cell_type": "code",
   "execution_count": null,
   "id": "waPHnNLv-76V",
   "metadata": {
    "colab": {
     "base_uri": "https://localhost:8080/",
     "height": 821,
     "referenced_widgets": [
      "3a3b34572feb4066aefcc23e81987a46",
      "c3752df95abc429794a4a0202f94543b",
      "24b5f1e6d494464791f572a7267d5e76",
      "a3f2cebbba2143d7a3ec17ccab7185ce",
      "7cbe1e73e7904ae783b78b0563cebe89",
      "6317195a0ee144e4afd389609c79a0da",
      "507a12705ba04ded83cab282cbf744d0",
      "cf7617d7301045b7b257100eb6abded1",
      "c2261d1225da4ce2824db545ba59530b",
      "4668b6ecb57d4e0f8aa6b2d8e779f691",
      "c469d39734f543b4b013a64bedd908c4",
      "fd63d556622a47c4adebc2834357373c",
      "870dcc8965ca4440a9049dce4182a445",
      "b86eea0fceeb4fdf89bda88ad6f87d89",
      "8291cd3d7b9c4f46b994780509fed418",
      "1c7bfc32516741c3a5a991e0fce4644f",
      "17d973adfca54d15a04d0108ce848569",
      "139b3369afd242de8dbc46b69e4cd492",
      "bee9d9ff93234c1f86bdbd9bdb53abc3",
      "3b70df797d9842d0aff586dbfac3f7da",
      "790d8653badb4e0b86babae17d2267df",
      "ed5520805a49470d85c5daf635332662",
      "b28a921c200c4115a832a3e11e2271ce",
      "7379f820ae724cfaa4b08c432a13de79",
      "e7b8212fd0e741f6934a8cc0e65cc33e",
      "f13ea45725294367a364b69c101eae2d",
      "e5efa6da8f5246f881d3e607a06da8cc",
      "24684865d561430987c5a672d17c115d",
      "5610f43a0de242f68334c69c30c59477",
      "eb812fbd65d34a7cab6b950b5fcbb50b",
      "b674bf5d3981418eb3ddde22000e518a",
      "5f88ba00dbf24897b8252560150b4de9",
      "9357f2b3501c45428577fdda373612da",
      "ef7053fb685c4a2681b0fcdb328a1e13",
      "269489846dfa480fb91171b095f7e7ed",
      "ed63bec8597044afad110ff1e71579da",
      "57098fe98c8d4d1ab5461d77b88c5a18",
      "184dc2b386ab4dc7b8d4fe6db0cedfd4",
      "45bdcd4489594c96bc58adb09639ef33",
      "cdfc89ec10344ae59586741e8839dc95",
      "eb5697d4beda4b87ba2fb7b5a21c0685",
      "509d924fcaa34f9788c614ed2bbbc5a5",
      "4b109ce02485408b81829d30e92cc007",
      "2e1ac90931594480adaa43be97b73d3d",
      "9a7be842974c4c4c8cd5f930ee0646bd",
      "1e653fdf7fa44480ae0cb201ce0d60b6",
      "adf67648b0c149d2b314f441a41226dd",
      "2fbc357a428e4a649605c3c59bcaa579",
      "976bce4e264e435fb723028d098984a1",
      "0b108383fdee484794577b8b823565cd",
      "de242f6385274063af240dd1c9fe71d2",
      "b012a47593a149009f14b3118f8ff4c7",
      "8e40a595a7c34a5e978a0e6afd8f5180",
      "c312eeb30fe44e20b5423d36f6d26a69",
      "21d51caf25ad42319b2809845d6ff207",
      "db06838e12e5437293b393183b84ce7c",
      "aeb6b197ed1d4bfcb52bb5d84d613b39",
      "d17103dd6d8f472f9f8bb54af1647d0f",
      "75a0749097ef4fd28fd8335626016693",
      "d8680e961fde45408237e652ae9fb249",
      "c9ab1c8f68394323ba8838ff22349cf1",
      "dbc04a7d29694ade9a8b95bf9c64aa02",
      "f9b0e6c202c7438891f34297aa1a8d60",
      "cc8495cb44eb4bb79799174f93314f16",
      "a480c2173b7049f88f31ad5f0056198d",
      "b6aef31204d34234aa27b8629f14d10b",
      "824b6a765d304a119ae2ec71c04c1e6c",
      "a79c075a8fc44c71909a890f03aa1cd7",
      "f3acf695411145448fff3de45fc50d6b",
      "8db0c674629c4242a1b16843fb011438",
      "21283cd7c8e3472a9383d32a8a7ee920",
      "667e899e8dd74ef989561fbf3463d2b2",
      "c5e3656bb5d648c58bd722f5a259805b",
      "c4fde32e88b14829aadb45648bdea5e7",
      "76bf51bf717d46c0a86a1830f81a15ac",
      "83d5cdbc931c4702b0133c19e55c5d17",
      "9e283a20f6ed4b208ba8ef8e59f8e863",
      "e3a40c97be4c4d16a026afc199d78dd7",
      "1ae898add4874cd9bf66707daf9cba4c",
      "961361660bc44340834c5aab4748b8b2",
      "0146a894699c4c29b31645892f396da0",
      "789ef3752e394c2b8fc31a7130d6dce2",
      "ad04d520fbe844899fe18674ce06b8a6",
      "c4b8b02e5ec14893aa516c2d32538486",
      "5a575661714a45eca60f731aba5f276f",
      "f0410acbb3964aac8bb41c1543a942c5",
      "8b8fb2769d1644cb986936d9c3921f52",
      "d29f6350cbbf4abc9e5fd451b8d7e215",
      "7eec92d3848b44c7a86fa3a67f65aefd",
      "087265329bcb4570879949f5df04b6bc",
      "3b9be6000bc44009a72516c792179d16",
      "a03b0b1dad444d028942abb49e837df9",
      "497eb3574c964cf4ba91b793366d6a93",
      "8a1561a625cf4751b4ae625879408a5a",
      "e3b2cb3119524b7eaf2964a296ee5b57",
      "c7c81f7910684179b86adcdcd72d3ece",
      "c448f85e320546d2bc83da61485bd241",
      "824f6aa915954a90842a8e6a430fcf64",
      "ef75622c60c349b3b2cbb19de7869dbb",
      "3cfa8eb0218e4205af9766a2d28118c0",
      "929809c0985c4f97991cf5182a5a1943",
      "178ce8ddeb4a4252992cdfff6eef265e",
      "361a8ec2a03a49e6b200cc0aecc9377e",
      "4d18a61244714b46ab81d36daee77604",
      "c2877ea9f4034e1c827da83c49b823cc"
     ]
    },
    "id": "waPHnNLv-76V",
    "outputId": "48d5ddac-f54a-4980-f7fa-7dc2a0aa7d3b"
   },
   "outputs": [],
   "source": [
    "# Classify the test image\n",
    "classified_image = test_mosaic_image.classify(trained_classifier)\n",
    "\n",
    "# Define the color mapping dictionary\n",
    "clc_colors = {\n",
    "    0: '#FFFFFF', # Rural\n",
    "    1: '#000000', # Urban\n",
    "}\n",
    "\n",
    "# Convert string labels to numeric codes\n",
    "def classify_to_numeric(image):\n",
    "    # Create a dictionary that maps string labels to numeric values\n",
    "    label_to_numeric = {label: index for index, label in enumerate(clc_colors.keys())}\n",
    "\n",
    "    # Convert string label to numeric value\n",
    "    return image.remap(\n",
    "        list(label_to_numeric.keys()),\n",
    "        list(label_to_numeric.values())\n",
    "    )\n",
    "\n",
    "# Convert the classified image\n",
    "numeric_classified_image = classify_to_numeric(classified_image)\n",
    "\n",
    "# Generate a palette for visualization\n",
    "palette = [clc_colors[label] for label in clc_colors.keys()]\n",
    "\n",
    "# Add the numeric classified image to the map\n",
    "map.addLayer(numeric_classified_image, {'palette': palette, 'min': 0, 'max': len(clc_colors) - 1}, 'Classified Image')\n",
    "map"
   ]
  },
  {
   "cell_type": "markdown",
   "id": "pJVtw5Y9IVes",
   "metadata": {
    "id": "pJVtw5Y9IVes"
   },
   "source": [
    "There are no metrics to calculate here - after all, we're trying to update our reference data. Instead, visually evaluate if you're happy with the results. When you're happy with the results, proceed to the next block to export the data from Earth Engine into our local environment.\n",
    "\n",
    "(**hint:** don't go for perfect, this is very hard to achieve in the current setting)\n",
    "\n",
    "**Q: Describe your map and your results in general.**\n",
    "1. **Where do you still see errors? Are these systemic?**\n",
    "2. **How could you further improve your product to clean these up?** **bold text**\n",
    "3. **Was there anything you wanted to try, but were unable to?**"
   ]
  },
  {
   "cell_type": "markdown",
   "id": "LPkrvHduHyDh",
   "metadata": {
    "id": "LPkrvHduHyDh"
   },
   "source": [
    "### Export resulting image"
   ]
  },
  {
   "cell_type": "code",
   "execution_count": null,
   "id": "m1FjLJVzH2Zt",
   "metadata": {
    "colab": {
     "base_uri": "https://localhost:8080/",
     "height": 110
    },
    "id": "m1FjLJVzH2Zt",
    "outputId": "fc094d0e-fa56-40dc-c7ed-021383648f4e"
   },
   "outputs": [],
   "source": [
    "geemap.ee_export_image(classified_image, filename='urban_rural_raster.tif', scale=1000, file_per_band=False)\n",
    "urban_raster = xr.open_dataset('urban_rural_raster.tif', engine='rasterio')"
   ]
  },
  {
   "cell_type": "markdown",
   "id": "309a00a2-8aa1-4091-b575-31d56622fd16",
   "metadata": {
    "id": "309a00a2-8aa1-4091-b575-31d56622fd16"
   },
   "source": [
    "### 3. Overlay urban and rural classification with population and Healthcare information"
   ]
  },
  {
   "cell_type": "markdown",
   "id": "eZek63zWAZPj",
   "metadata": {
    "id": "eZek63zWAZPj"
   },
   "source": [
    "First, open the urban_rural dataset you just downloaded."
   ]
  },
  {
   "cell_type": "code",
   "execution_count": null,
   "id": "bnGsm2aoAYzT",
   "metadata": {
    "id": "bnGsm2aoAYzT"
   },
   "outputs": [],
   "source": [
    "urban_rural = xr.open_dataarray('XX')"
   ]
  },
  {
   "cell_type": "markdown",
   "id": "WtRy2lkLAfnT",
   "metadata": {
    "id": "WtRy2lkLAfnT"
   },
   "source": [
    "In this step, we overlay the resulting urban/rural raster image from the previous section onto our population data point. a binary categorical variable, unban_rural, will be added to each data point, where 1 represents urban and 0 represents rural."
   ]
  },
  {
   "cell_type": "code",
   "execution_count": null,
   "id": "f456e034-5e81-4d99-9093-0380af66e8f9",
   "metadata": {
    "id": "f456e034-5e81-4d99-9093-0380af66e8f9"
   },
   "outputs": [],
   "source": [
    "values = urban_rural.sel(\n",
    "                {\n",
    "                    urban_rural.rio.x_dim: xr.DataArray(df_worldpop_.geometry.x),\n",
    "                    urban_rural.rio.y_dim: xr.DataArray(df_worldpop_.geometry.y),\n",
    "                },\n",
    "                method=\"nearest\",\n",
    "            ).values[0]\n",
    "\n",
    "df_worldpop_[\"urban_rural\"] = ### add the values\n",
    "df_worldpop_[\"urban_rural\"] = ### fill the not a numbers with zeros."
   ]
  },
  {
   "cell_type": "markdown",
   "id": "33b230bc-dbfe-436f-aefb-acd3de96f909",
   "metadata": {
    "id": "33b230bc-dbfe-436f-aefb-acd3de96f909"
   },
   "source": [
    "lets check the resulted calssified population, as mentioned 1 means urban and 0 rural."
   ]
  },
  {
   "cell_type": "code",
   "execution_count": null,
   "id": "bf032653-2165-4676-9ad3-e55700c6b8e8",
   "metadata": {
    "id": "bf032653-2165-4676-9ad3-e55700c6b8e8"
   },
   "outputs": [],
   "source": [
    "df_worldpop_"
   ]
  },
  {
   "cell_type": "markdown",
   "id": "573f10a4-d0bb-4675-903f-71ffbe45358f",
   "metadata": {
    "id": "573f10a4-d0bb-4675-903f-71ffbe45358f"
   },
   "source": [
    "## 4. Clustering population data points and assigning them to their nearest hospital."
   ]
  },
  {
   "cell_type": "markdown",
   "id": "32b0f3b2-85c6-43ee-b80d-dd3106d809dd",
   "metadata": {
    "id": "32b0f3b2-85c6-43ee-b80d-dd3106d809dd"
   },
   "source": [
    "In this section, we first add a local_ID to all hospitals to make sure each one has a unique id to be refered to later. then we create clusters of population. In this regard, we use K-means clustering algorithm with k equal to the number of hospitals. then calculate the sum of rural population each cluster as well as the urban population.  then we calcualte the euclidean distance of each center of cluster to all hospitals and assessing the hospital that has the minimum distance to them."
   ]
  },
  {
   "cell_type": "code",
   "execution_count": null,
   "id": "e56a71da-0062-4325-8246-d8de4ceb9135",
   "metadata": {
    "colab": {
     "base_uri": "https://localhost:8080/",
     "height": 35
    },
    "id": "e56a71da-0062-4325-8246-d8de4ceb9135",
    "outputId": "1b800085-e4af-4897-e4c6-c077d78c4e90"
   },
   "outputs": [],
   "source": [
    "len(HealthCenters_centroids)"
   ]
  },
  {
   "cell_type": "code",
   "execution_count": null,
   "id": "8991a94b-75bb-4a65-b81f-8800eb23752a",
   "metadata": {
    "colab": {
     "base_uri": "https://localhost:8080/",
     "height": 423
    },
    "id": "8991a94b-75bb-4a65-b81f-8800eb23752a",
    "outputId": "7ad7578c-3f9b-4328-f5d0-f2ef1c9c1716"
   },
   "outputs": [],
   "source": [
    "### 1st step: Add Local_ID to the HealthCenters_centroids GeoDataFrame\n",
    "HealthCenters_centroids['Local_ID'] = range(1, len(HealthCenters_centroids) + 1)\n",
    "\n",
    "# 2nd step: Ensure both GeoDataFrames are in the same CRS (EPSG:4326)\n",
    "HealthCenters_centroids = HealthCenters_centroids.to_crs(\n",
    "\n",
    "# Convert geometries to a list of coordinates (for KMeans)\n",
    "pop_coords = np.array([(geom.x, geom.y) for geom in df_worldpop_['geometry']])\n",
    "pop_band_data = df_worldpop_['band_data'].values\n",
    "\n",
    "# Extract the hospital coordinates\n",
    "hospital_coords = np.array([(geom.x, geom.y) for geom in HealthCenters_centroids['geometry']])\n",
    "hospital_local_ids = HealthCenters_centroids['Local_ID'].values\n",
    "hospital_geometries = HealthCenters_centroids['geometry'].values\n",
    "\n",
    "### 3rd step: K-Means\n",
    "# Ensure that the number of clusters is equal to the number of hospital coordinates\n",
    "n_clusters =\n",
    "\n",
    "kmeans = KMeans(n_clusters=n_clusters, random_state=random_seed, init=hospital_coords, n_init=1)  # using hospital locations as initial centers\n",
    "\n",
    "df_worldpop_['cluster'] = kmeans.fit_predict(pop_coords)\n",
    "\n",
    "# Get cluster centers (latitude & longitude)\n",
    "cluster_centers = kmeans.cluster_centers_\n",
    "\n",
    "### 4th step: calculate the sum of urban and rural populations in each cluster\n",
    "# group by cluster and urban/rural status then sum up the populations\n",
    "\n",
    "# rural population (urban_rural = 0)\n",
    "rural_population_by_cluster = df_worldpop_[df_worldpop_['urban_rural'] == 0.0].groupby('cluster')['band_data'].sum().reindex(range(n_clusters), fill_value=0)\n",
    "\n",
    "# urban population (urban_rural = 1)\n",
    "urban_population_by_cluster = df_worldpop_[df_worldpop_['urban_rural'] == 1.0].groupby('cluster')['band_data'].sum().reindex(range(n_clusters), fill_value=0)\n",
    "\n",
    "# to create a new DataFrame for clusters with the total urban and rural population\n",
    "clusters_df = pd.DataFrame({\n",
    "    'cluster': range(n_clusters),\n",
    "    'geometry': [Point(x, y) for x, y in cluster_centers],\n",
    "    'urban_population': urban_population_by_cluster.values,\n",
    "    'rural_population': rural_population_by_cluster.values\n",
    "})\n",
    "\n",
    "### 5th step: assign the nearest hospital to the related cluster\n",
    "# distances between each cluster center and each health facility center\n",
    "distances = cdist(cluster_centers, hospital_coords, metric='euclidean')\n",
    "\n",
    "# the index of the nearest hospital for each cluster\n",
    "nearest_hospital_idx = distances.argmin(axis=1)\n",
    "\n",
    "# assign the nearest hospital Local_ID and geometry to each cluster center\n",
    "clusters_df['nearest_hospital_local_id'] = [hospital_local_ids[idx] for idx in nearest_hospital_idx]\n",
    "clusters_df['nearest_hospital_geometry'] = [hospital_geometries[idx] for idx in nearest_hospital_idx]\n",
    "\n",
    "### 6th step: convert to GeoDataFrame and set CRS\n",
    "clusters_gdf = gpd.GeoDataFrame(clusters_df, geometry='geometry')\n",
    "clusters_gdf.set_crs(epsg=4326, inplace=True)\n",
    "\n",
    "# review the content of the resulting clusters dataframe\n",
    "clusters_gdf\n"
   ]
  },
  {
   "cell_type": "markdown",
   "id": "5299738d-567d-4473-aaa2-095dede18b92",
   "metadata": {
    "id": "5299738d-567d-4473-aaa2-095dede18b92"
   },
   "source": [
    "## 5. Explore and evaluate baseline results\n",
    "\n",
    "**Q: Plot cluster centers and the location of hospitals**"
   ]
  },
  {
   "cell_type": "code",
   "execution_count": null,
   "id": "4735e1af-5573-4baf-83d7-6644ac7a3ad5",
   "metadata": {
    "id": "4735e1af-5573-4baf-83d7-6644ac7a3ad5"
   },
   "outputs": [],
   "source": []
  },
  {
   "cell_type": "markdown",
   "id": "e3d8e5a3-ffa1-4b1a-a3e6-0e569346a78c",
   "metadata": {
    "id": "e3d8e5a3-ffa1-4b1a-a3e6-0e569346a78c"
   },
   "source": [
    "### Identify and plot population per healthcare facility"
   ]
  },
  {
   "cell_type": "markdown",
   "id": "b2ea7390-b44c-4bbc-9cf4-7b40556e5e8d",
   "metadata": {
    "id": "b2ea7390-b44c-4bbc-9cf4-7b40556e5e8d"
   },
   "source": [
    "Here, we calculate the urban and rural demand for services for each hospital by summing the populations in each cluster assigned to the hospitals. We also calculate the total demand for each hospital."
   ]
  },
  {
   "cell_type": "code",
   "execution_count": null,
   "id": "cf27813b-e51f-49cd-811d-e95fb1f1983c",
   "metadata": {
    "colab": {
     "base_uri": "https://localhost:8080/",
     "height": 423
    },
    "id": "cf27813b-e51f-49cd-811d-e95fb1f1983c",
    "outputId": "4b15e83c-249b-4b14-8f55-667393c1a397"
   },
   "outputs": [],
   "source": [
    "# calculating the total rural and urban demand (population) of each hospital\n",
    "hospital_population = clusters_gdf.groupby('nearest_hospital_local_id')[['urban_population', 'rural_population']].sum().reset_index()\n",
    "\n",
    "# now we merge the population data back to the HealthCenters_centroids GeoDataFrame\n",
    "hospital_population_merged = HealthCenters_centroids.merge(hospital_population, left_on='Local_ID', right_on='nearest_hospital_local_id', how='left')\n",
    "\n",
    "# also we sum up rural and urban demand to get the total demand of each hospital as well\n",
    "hospital_population_merged['total_population'] = hospital_population_merged['urban_population'] + hospital_population_merged['rural_population']\n",
    "\n",
    "# display the demand of hospitals\n",
    "hospital_population_merged[['Local_ID', 'urban_population', 'rural_population', 'total_population']].sort_values('total_population', ascending=False).dropna()\n"
   ]
  },
  {
   "cell_type": "markdown",
   "id": "K5bWQ9AqBNXG",
   "metadata": {
    "id": "K5bWQ9AqBNXG"
   },
   "source": [
    "**Q: Plot the Hospital locations and their total demand**"
   ]
  },
  {
   "cell_type": "markdown",
   "id": "c95fa7e9-46bf-4588-9bcd-7149d77d3e38",
   "metadata": {
    "id": "c95fa7e9-46bf-4588-9bcd-7149d77d3e38"
   },
   "source": [
    "Now we check if there is any hospital that has not been assigned to any population cluster."
   ]
  },
  {
   "cell_type": "code",
   "execution_count": null,
   "id": "bb07e73c-84a2-466f-a644-4fa313b82dec",
   "metadata": {
    "colab": {
     "base_uri": "https://localhost:8080/",
     "height": 1000
    },
    "id": "bb07e73c-84a2-466f-a644-4fa313b82dec",
    "outputId": "ec8f0097-e81d-46a1-e749-4e4456390c1e"
   },
   "outputs": [],
   "source": [
    "assigned_hospitals = clusters_gdf['nearest_hospital_local_id'].unique()\n",
    "\n",
    "unassigned_hospitals = HealthCenters_centroids[~HealthCenters_centroids['Local_ID'].isin(assigned_hospitals)]\n",
    "\n",
    "if unassigned_hospitals.empty:\n",
    "    print(\"All hospitals are assigned to at least one cluster.\")\n",
    "else:\n",
    "    print(\"following hospitals are not assigned to any cluster:\")\n",
    "    print(unassigned_hospitals[['Local_ID', 'geometry']])"
   ]
  },
  {
   "cell_type": "markdown",
   "id": "3740a61b-f60c-427c-aab5-6e6e552dc57d",
   "metadata": {
    "id": "3740a61b-f60c-427c-aab5-6e6e552dc57d"
   },
   "source": [
    "## 6. Natural hazard disruption"
   ]
  },
  {
   "cell_type": "markdown",
   "id": "52d30a9c-2515-4aff-ae5f-9a15cd343061",
   "metadata": {
    "id": "52d30a9c-2515-4aff-ae5f-9a15cd343061"
   },
   "source": [
    "### Download flood data\n",
    "The flood data we will extract from a repository maintained by the World Resources Institute. We will download river flood hazard maps from their [Flood Data Collection](https://wri-projects.s3.amazonaws.com/AqueductFloodTool/download/v2/index.html).\n",
    "\n",
    "Here we do not need to use an API and we also do not need to register ourselves, so we can download any of the files directly. In case you do not have any flood impacts. You could select a more extreme future scenario. But let's first download the 1/1000 river flood event under historic conditions."
   ]
  },
  {
   "cell_type": "markdown",
   "id": "b0ff5f7a-fc94-4429-82bb-2a94da72a887",
   "metadata": {
    "id": "b0ff5f7a-fc94-4429-82bb-2a94da72a887"
   },
   "source": [
    "### Overlay flood data with Hospitals"
   ]
  },
  {
   "cell_type": "code",
   "execution_count": null,
   "id": "e73f0bce-ad12-4be5-acbb-33dd7e2fa18d",
   "metadata": {
    "colab": {
     "base_uri": "https://localhost:8080/",
     "height": 17
    },
    "id": "e73f0bce-ad12-4be5-acbb-33dd7e2fa18d",
    "outputId": "e9d8973c-43cf-4eb6-c753-e5e43982dd87"
   },
   "outputs": [],
   "source": [
    "flood_map_path = \"XX\""
   ]
  },
  {
   "cell_type": "code",
   "execution_count": null,
   "id": "28d110b6-0ef4-41c6-acb2-8673597decd2",
   "metadata": {
    "id": "28d110b6-0ef4-41c6-acb2-8673597decd2"
   },
   "outputs": [],
   "source": [
    "flood_map = xr.open_dataset(flood_map_path, engine=\"rasterio\")\n",
    "flood_map"
   ]
  },
  {
   "cell_type": "markdown",
   "id": "b21c691f-5789-4b0d-a5ec-da785b94c833",
   "metadata": {
    "id": "b21c691f-5789-4b0d-a5ec-da785b94c833"
   },
   "source": [
    "As you can see, this is a very large dataset again. Let's make our life a little bit more relaxed by clipping the map to our country of interest. We use the **rio.clip_box** function to do so."
   ]
  },
  {
   "cell_type": "code",
   "execution_count": null,
   "id": "f14da004-413e-4856-80e6-fdaa544aca9d",
   "metadata": {
    "colab": {
     "base_uri": "https://localhost:8080/",
     "height": 17
    },
    "id": "f14da004-413e-4856-80e6-fdaa544aca9d",
    "outputId": "4bd50b97-4d63-499a-efdf-ac4b832318c5"
   },
   "outputs": [],
   "source": [
    "min_lon =  country_geom.bounds.minx.\n",
    "min_lat =  #complete function\n",
    "max_lon =  #complete function\n",
    "max_lat =  #complete function\n",
    "\n",
    "flood_map_area = flood_map.rio.clip_box(minx=min_lon,miny=min_lat,maxx=max_lon,maxy=max_lat) #complete function"
   ]
  },
  {
   "cell_type": "markdown",
   "id": "uaWse42cB1CK",
   "metadata": {
    "id": "uaWse42cB1CK"
   },
   "source": [
    "And plot the data to explore how it looks."
   ]
  },
  {
   "cell_type": "code",
   "execution_count": null,
   "id": "ecf80c30-9ba1-426c-9990-cf3ea07e499b",
   "metadata": {
    "colab": {
     "base_uri": "https://localhost:8080/",
     "height": 386
    },
    "id": "ecf80c30-9ba1-426c-9990-cf3ea07e499b",
    "outputId": "48c0e181-3ebd-4b61-e4e2-3c50530377c9"
   },
   "outputs": [],
   "source": []
  },
  {
   "cell_type": "markdown",
   "id": "24qtdovGCxQW",
   "metadata": {
    "id": "24qtdovGCxQW"
   },
   "source": [
    "And make sure you convert it to a coordinate system in meters, to do a correct overlay in the following step."
   ]
  },
  {
   "cell_type": "code",
   "execution_count": null,
   "id": "BPAtqcN4CwdR",
   "metadata": {
    "id": "BPAtqcN4CwdR"
   },
   "outputs": [],
   "source": []
  },
  {
   "cell_type": "markdown",
   "id": "399149ac-8ee4-4459-971e-9a2003ab4b4e",
   "metadata": {
    "id": "399149ac-8ee4-4459-971e-9a2003ab4b4e"
   },
   "source": [
    "### Overlay flood data with healthcare facilities\n",
    "\n",
    "The next step is to overlay the flood data with the healthcare facilities. To do so, we will estimate the potential damage that can occur to the various hospitals in the country of interest.\n",
    "\n"
   ]
  },
  {
   "cell_type": "code",
   "execution_count": null,
   "id": "024a09f7-6f1c-4e15-a810-cf407daa2a48",
   "metadata": {
    "colab": {
     "base_uri": "https://localhost:8080/",
     "height": 17
    },
    "id": "024a09f7-6f1c-4e15-a810-cf407daa2a48",
    "outputId": "d5f13a58-a662-4e95-f132-26f27e5eefb5"
   },
   "outputs": [],
   "source": [
    "def _get_damage_per_object(asset, curves, cell_area_m2):\n",
    "    \"\"\"\n",
    "    Calculate damage for a given asset based on hazard information.\n",
    "    Arguments:\n",
    "        *asset*: Tuple containing information about the asset. It includes:\n",
    "            - Index or identifier of the asset (asset[0]).\n",
    "            - Asset-specific information, including hazard points (asset[1]['hazard_point']).\n",
    "        *maxdam_dict*: Maximum damage value.\n",
    "    Returns:\n",
    "        *tuple*: A tuple containing the asset index or identifier and the calculated damage.\n",
    "    \"\"\"\n",
    "\n",
    "    if asset.geometry.geom_type in (\"Polygon\", \"MultiPolygon\"):\n",
    "        coverage = asset[\"coverage\"] * cell_area_m2\n",
    "    elif asset.geometry.geom_type in (\"LineString\", \"MultiLineString\"):\n",
    "        coverage = asset[\"coverage\"]\n",
    "    elif asset.geometry.geom_type in (\"Point\"):\n",
    "        coverage = 1\n",
    "    else:\n",
    "        raise ValueError(f\"Geometry type {asset.geometry.geom_type} not supported\")\n",
    "\n",
    "    return (\n",
    "        np.sum(\n",
    "            np.interp(\n",
    "                asset[\"values\"], curves.index, curves[asset[\"amenity\"]].values\n",
    "            )\n",
    "            * coverage\n",
    "        )\n",
    "        * asset[\"maximum_damage\"]\n",
    "    )"
   ]
  },
  {
   "cell_type": "markdown",
   "id": "ip0fkDyKB_WB",
   "metadata": {
    "id": "ip0fkDyKB_WB"
   },
   "source": [
    "We predefine some simple maximum damages and vulnerability curves. Feel free to adjust the damages and curves if you found better information."
   ]
  },
  {
   "cell_type": "code",
   "execution_count": null,
   "id": "48ec7696-a117-4302-9276-ac37fa369cd2",
   "metadata": {
    "colab": {
     "base_uri": "https://localhost:8080/",
     "height": 17
    },
    "id": "48ec7696-a117-4302-9276-ac37fa369cd2",
    "outputId": "9f9788ca-180b-4dc3-a92c-87600cf08c68"
   },
   "outputs": [],
   "source": [
    "maxdam = {\"hospital\":2000,\n",
    "        \"clinic\":1500,\n",
    "}\n",
    "\n",
    "curves = np.array(\n",
    "            [[0,0],\n",
    "            [50,0.2],\n",
    "            [100,0.4],\n",
    "            [150,0.6],\n",
    "            [200,0.8],\n",
    "            [250,1]])\n",
    "\n",
    "curves = np.concatenate((curves,\n",
    "                            np.transpose(np.array([curves[:,1]]*(len(maxdam)-1)))),\n",
    "                           axis=1)\n",
    "\n",
    "curves = pd.DataFrame(curves)\n",
    "curves.columns = ['depth']+list(maxdam.keys())\n",
    "curves.set_index('depth',inplace=True)"
   ]
  },
  {
   "cell_type": "markdown",
   "id": "0eKGJFpgCIBv",
   "metadata": {
    "id": "0eKGJFpgCIBv"
   },
   "source": [
    "And now we apply **exact_extract** to assess the overlay between the flood data and the Healthcare facilities."
   ]
  },
  {
   "cell_type": "code",
   "execution_count": null,
   "id": "26e1e323-d30b-4e40-8a89-a25d1e475234",
   "metadata": {
    "colab": {
     "base_uri": "https://localhost:8080/",
     "height": 17
    },
    "id": "26e1e323-d30b-4e40-8a89-a25d1e475234",
    "outputId": "fe120192-d284-4c7b-c555-8f5145d0d32c",
    "scrolled": true
   },
   "outputs": [],
   "source": [
    "values_and_coverage_per_object = exact_extract(\n",
    "            flood_map,\n",
    "            HealthCenters.to_crs(3857),\n",
    "            [\"coverage\", \"values\"],\n",
    "            output=\"pandas\",\n",
    "        )"
   ]
  },
  {
   "cell_type": "markdown",
   "id": "aqLbEHDjCPvq",
   "metadata": {
    "id": "aqLbEHDjCPvq"
   },
   "source": [
    "Now we merge the **HealthCenters** data and the **values_and_coverage_per_object data**."
   ]
  },
  {
   "cell_type": "code",
   "execution_count": null,
   "id": "811245a1-d794-4b0d-b604-1d31c2507d97",
   "metadata": {
    "colab": {
     "base_uri": "https://localhost:8080/",
     "height": 17
    },
    "id": "811245a1-d794-4b0d-b604-1d31c2507d97",
    "outputId": "5dcdcf64-aeb2-4e58-b6d6-d580ec23e22d"
   },
   "outputs": [],
   "source": [
    "HealthCenters = HealthCenters.merge( XXX ,left_index=True,right_index=True)"
   ]
  },
  {
   "cell_type": "markdown",
   "id": "m_8VR-55CYV4",
   "metadata": {
    "id": "m_8VR-55CYV4"
   },
   "source": [
    "And assign a maximum damage per subtype."
   ]
  },
  {
   "cell_type": "code",
   "execution_count": null,
   "id": "115d6cc9-aeb9-4497-9c0e-78f7c8ef19b8",
   "metadata": {
    "colab": {
     "base_uri": "https://localhost:8080/",
     "height": 17
    },
    "id": "115d6cc9-aeb9-4497-9c0e-78f7c8ef19b8",
    "outputId": "70c26458-e30f-4a1a-93c2-785f1efeb071"
   },
   "outputs": [],
   "source": [
    "HealthCenters['maximum_damage'] = HealthCenters.amenity.apply(lambda x: maxdam[x])"
   ]
  },
  {
   "cell_type": "markdown",
   "id": "8nhjMzRKChyG",
   "metadata": {
    "id": "8nhjMzRKChyG"
   },
   "source": [
    "And now assess the potential damage. The cell_area should correspond to the cell_size of the flood map."
   ]
  },
  {
   "cell_type": "code",
   "execution_count": null,
   "id": "291a4fba-40c1-4397-a7f2-8b1665ca7ef5",
   "metadata": {
    "colab": {
     "base_uri": "https://localhost:8080/",
     "height": 17
    },
    "id": "291a4fba-40c1-4397-a7f2-8b1665ca7ef5",
    "outputId": "e1171781-5aec-4df7-de80-4adf4b9439d1"
   },
   "outputs": [],
   "source": [
    "HealthCenters['damage'] = HealthCenters.apply(\n",
    "        lambda _object: _get_damage_per_object(_object, curves, cell_area_m2=1000*1000),\n",
    "        axis=1,\n",
    "    )"
   ]
  },
  {
   "cell_type": "markdown",
   "id": "RstqoQErC-UK",
   "metadata": {
    "id": "RstqoQErC-UK"
   },
   "source": [
    "And lets explore the results. Perhaps plot them again?"
   ]
  },
  {
   "cell_type": "code",
   "execution_count": null,
   "id": "913f9757-3151-46f9-9427-f54fa58d8beb",
   "metadata": {
    "id": "913f9757-3151-46f9-9427-f54fa58d8beb"
   },
   "outputs": [],
   "source": []
  },
  {
   "cell_type": "markdown",
   "id": "437b207f-7c43-4846-b9ba-63e416ff92cf",
   "metadata": {
    "id": "437b207f-7c43-4846-b9ba-63e416ff92cf"
   },
   "source": [
    "## 7. Your Final Task"
   ]
  },
  {
   "cell_type": "markdown",
   "id": "c412b628-014e-41ba-8c41-0722098ad006",
   "metadata": {
    "id": "c412b628-014e-41ba-8c41-0722098ad006"
   },
   "source": [
    "As you saw, due to a flood with a 1000-year return period, some hospitals may be out of service. Therefore, we need to estimate the post-flood urban/rural demand for services from the hospitals that remain operational.\n",
    "\n",
    "### Your task here will be:\n",
    "- Create new clusters of populations and assign them to the remaining hospitals, then determine the post-disaster demand for these hospitals.\n",
    "- Calculate the urban, rural and total demand (population in need of services) for each hospital.\n",
    "- Plot the remaining hospitals vs their total population in need of service.\n",
    "- Let us know how many hospitals were affected by the flood and the total number of rural residents who need to find an alternative hospital."
   ]
  },
  {
   "cell_type": "code",
   "execution_count": null,
   "id": "3f9203aa-b2e2-4207-ad93-bf71e1ff5636",
   "metadata": {
    "id": "3f9203aa-b2e2-4207-ad93-bf71e1ff5636"
   },
   "outputs": [],
   "source": []
  }
 ],
 "metadata": {
  "colab": {
   "provenance": []
  },
  "kernelspec": {
   "display_name": "Python 3 (ipykernel)",
   "language": "python",
   "name": "python3"
  },
  "language_info": {
   "codemirror_mode": {
    "name": "ipython",
    "version": 3
   },
   "file_extension": ".py",
   "mimetype": "text/x-python",
   "name": "python",
   "nbconvert_exporter": "python",
   "pygments_lexer": "ipython3",
   "version": "3.12.3"
  },
  "widgets": {
   "application/vnd.jupyter.widget-state+json": {
    "0146a894699c4c29b31645892f396da0": {
     "model_module": "@jupyter-widgets/controls",
     "model_module_version": "1.5.0",
     "model_name": "ButtonStyleModel",
     "state": {
      "_model_module": "@jupyter-widgets/controls",
      "_model_module_version": "1.5.0",
      "_model_name": "ButtonStyleModel",
      "_view_count": null,
      "_view_module": "@jupyter-widgets/base",
      "_view_module_version": "1.2.0",
      "_view_name": "StyleView",
      "button_color": null,
      "font_weight": ""
     }
    },
    "087265329bcb4570879949f5df04b6bc": {
     "model_module": "@jupyter-widgets/base",
     "model_module_version": "1.2.0",
     "model_name": "LayoutModel",
     "state": {
      "_model_module": "@jupyter-widgets/base",
      "_model_module_version": "1.2.0",
      "_model_name": "LayoutModel",
      "_view_count": null,
      "_view_module": "@jupyter-widgets/base",
      "_view_module_version": "1.2.0",
      "_view_name": "LayoutView",
      "align_content": null,
      "align_items": null,
      "align_self": null,
      "border": null,
      "bottom": null,
      "display": null,
      "flex": null,
      "flex_flow": null,
      "grid_area": null,
      "grid_auto_columns": null,
      "grid_auto_flow": null,
      "grid_auto_rows": null,
      "grid_column": null,
      "grid_gap": null,
      "grid_row": null,
      "grid_template_areas": null,
      "grid_template_columns": null,
      "grid_template_rows": null,
      "height": "18px",
      "justify_content": null,
      "justify_items": null,
      "left": null,
      "margin": null,
      "max_height": null,
      "max_width": null,
      "min_height": null,
      "min_width": null,
      "object_fit": null,
      "object_position": null,
      "order": null,
      "overflow": null,
      "overflow_x": null,
      "overflow_y": null,
      "padding": null,
      "right": null,
      "top": null,
      "visibility": null,
      "width": "140px"
     }
    },
    "0b108383fdee484794577b8b823565cd": {
     "model_module": "@jupyter-widgets/base",
     "model_module_version": "1.2.0",
     "model_name": "LayoutModel",
     "state": {
      "_model_module": "@jupyter-widgets/base",
      "_model_module_version": "1.2.0",
      "_model_name": "LayoutModel",
      "_view_count": null,
      "_view_module": "@jupyter-widgets/base",
      "_view_module_version": "1.2.0",
      "_view_name": "LayoutView",
      "align_content": null,
      "align_items": null,
      "align_self": null,
      "border": null,
      "bottom": null,
      "display": null,
      "flex": null,
      "flex_flow": null,
      "grid_area": null,
      "grid_auto_columns": null,
      "grid_auto_flow": null,
      "grid_auto_rows": null,
      "grid_column": null,
      "grid_gap": null,
      "grid_row": null,
      "grid_template_areas": null,
      "grid_template_columns": null,
      "grid_template_rows": null,
      "height": "28px",
      "justify_content": null,
      "justify_items": null,
      "left": null,
      "margin": null,
      "max_height": null,
      "max_width": null,
      "min_height": null,
      "min_width": null,
      "object_fit": null,
      "object_position": null,
      "order": null,
      "overflow": null,
      "overflow_x": null,
      "overflow_y": null,
      "padding": "0px 0px 0px 4px",
      "right": null,
      "top": null,
      "visibility": null,
      "width": "28px"
     }
    },
    "139b3369afd242de8dbc46b69e4cd492": {
     "model_module": "@jupyter-widgets/controls",
     "model_module_version": "1.5.0",
     "model_name": "HBoxModel",
     "state": {
      "_dom_classes": [
       "geemap-colab"
      ],
      "_model_module": "@jupyter-widgets/controls",
      "_model_module_version": "1.5.0",
      "_model_name": "HBoxModel",
      "_view_count": null,
      "_view_module": "@jupyter-widgets/controls",
      "_view_module_version": "1.5.0",
      "_view_name": "HBoxView",
      "box_style": "",
      "children": [
       "IPY_MODEL_3b70df797d9842d0aff586dbfac3f7da"
      ],
      "layout": "IPY_MODEL_790d8653badb4e0b86babae17d2267df"
     }
    },
    "178ce8ddeb4a4252992cdfff6eef265e": {
     "model_module": "@jupyter-widgets/base",
     "model_module_version": "1.2.0",
     "model_name": "LayoutModel",
     "state": {
      "_model_module": "@jupyter-widgets/base",
      "_model_module_version": "1.2.0",
      "_model_name": "LayoutModel",
      "_view_count": null,
      "_view_module": "@jupyter-widgets/base",
      "_view_module_version": "1.2.0",
      "_view_name": "LayoutView",
      "align_content": null,
      "align_items": null,
      "align_self": null,
      "border": null,
      "bottom": null,
      "display": null,
      "flex": null,
      "flex_flow": null,
      "grid_area": null,
      "grid_auto_columns": null,
      "grid_auto_flow": null,
      "grid_auto_rows": null,
      "grid_column": null,
      "grid_gap": null,
      "grid_row": null,
      "grid_template_areas": null,
      "grid_template_columns": null,
      "grid_template_rows": null,
      "height": "25px",
      "justify_content": null,
      "justify_items": null,
      "left": null,
      "margin": null,
      "max_height": null,
      "max_width": null,
      "min_height": null,
      "min_width": null,
      "object_fit": null,
      "object_position": null,
      "order": null,
      "overflow": null,
      "overflow_x": null,
      "overflow_y": null,
      "padding": "0px",
      "right": null,
      "top": null,
      "visibility": null,
      "width": "25px"
     }
    },
    "17d973adfca54d15a04d0108ce848569": {
     "model_module": "jupyter-leaflet",
     "model_module_version": "^0.19",
     "model_name": "LeafletMapStyleModel",
     "state": {
      "_model_module": "jupyter-leaflet",
      "_model_module_version": "^0.19",
      "_model_name": "LeafletMapStyleModel",
      "_view_count": null,
      "_view_module": "@jupyter-widgets/base",
      "_view_module_version": "1.2.0",
      "_view_name": "StyleView",
      "cursor": "grab"
     }
    },
    "184dc2b386ab4dc7b8d4fe6db0cedfd4": {
     "model_module": "@jupyter-widgets/base",
     "model_module_version": "1.2.0",
     "model_name": "LayoutModel",
     "state": {
      "_model_module": "@jupyter-widgets/base",
      "_model_module_version": "1.2.0",
      "_model_name": "LayoutModel",
      "_view_count": null,
      "_view_module": "@jupyter-widgets/base",
      "_view_module_version": "1.2.0",
      "_view_name": "LayoutView",
      "align_content": null,
      "align_items": null,
      "align_self": null,
      "border": null,
      "bottom": null,
      "display": null,
      "flex": null,
      "flex_flow": null,
      "grid_area": null,
      "grid_auto_columns": null,
      "grid_auto_flow": null,
      "grid_auto_rows": null,
      "grid_column": null,
      "grid_gap": null,
      "grid_row": null,
      "grid_template_areas": null,
      "grid_template_columns": null,
      "grid_template_rows": null,
      "height": null,
      "justify_content": null,
      "justify_items": null,
      "left": null,
      "margin": null,
      "max_height": null,
      "max_width": null,
      "min_height": null,
      "min_width": null,
      "object_fit": null,
      "object_position": null,
      "order": null,
      "overflow": null,
      "overflow_x": null,
      "overflow_y": null,
      "padding": null,
      "right": null,
      "top": null,
      "visibility": null,
      "width": null
     }
    },
    "1ae898add4874cd9bf66707daf9cba4c": {
     "model_module": "@jupyter-widgets/controls",
     "model_module_version": "1.5.0",
     "model_name": "ButtonStyleModel",
     "state": {
      "_model_module": "@jupyter-widgets/controls",
      "_model_module_version": "1.5.0",
      "_model_name": "ButtonStyleModel",
      "_view_count": null,
      "_view_module": "@jupyter-widgets/base",
      "_view_module_version": "1.2.0",
      "_view_name": "StyleView",
      "button_color": null,
      "font_weight": ""
     }
    },
    "1c7bfc32516741c3a5a991e0fce4644f": {
     "model_module": "@jupyter-widgets/base",
     "model_module_version": "1.2.0",
     "model_name": "LayoutModel",
     "state": {
      "_model_module": "@jupyter-widgets/base",
      "_model_module_version": "1.2.0",
      "_model_name": "LayoutModel",
      "_view_count": null,
      "_view_module": "@jupyter-widgets/base",
      "_view_module_version": "1.2.0",
      "_view_name": "LayoutView",
      "align_content": null,
      "align_items": null,
      "align_self": null,
      "border": null,
      "bottom": null,
      "display": null,
      "flex": null,
      "flex_flow": null,
      "grid_area": null,
      "grid_auto_columns": null,
      "grid_auto_flow": null,
      "grid_auto_rows": null,
      "grid_column": null,
      "grid_gap": null,
      "grid_row": null,
      "grid_template_areas": null,
      "grid_template_columns": null,
      "grid_template_rows": null,
      "height": "800px",
      "justify_content": null,
      "justify_items": null,
      "left": null,
      "margin": null,
      "max_height": null,
      "max_width": null,
      "min_height": null,
      "min_width": null,
      "object_fit": null,
      "object_position": null,
      "order": null,
      "overflow": null,
      "overflow_x": null,
      "overflow_y": null,
      "padding": null,
      "right": null,
      "top": null,
      "visibility": null,
      "width": "700px"
     }
    },
    "1e653fdf7fa44480ae0cb201ce0d60b6": {
     "model_module": "@jupyter-widgets/controls",
     "model_module_version": "1.5.0",
     "model_name": "HBoxModel",
     "state": {
      "_dom_classes": [],
      "_model_module": "@jupyter-widgets/controls",
      "_model_module_version": "1.5.0",
      "_model_name": "HBoxModel",
      "_view_count": null,
      "_view_module": "@jupyter-widgets/controls",
      "_view_module_version": "1.5.0",
      "_view_name": "HBoxView",
      "box_style": "",
      "children": [
       "IPY_MODEL_f3acf695411145448fff3de45fc50d6b",
       "IPY_MODEL_8db0c674629c4242a1b16843fb011438",
       "IPY_MODEL_21283cd7c8e3472a9383d32a8a7ee920",
       "IPY_MODEL_667e899e8dd74ef989561fbf3463d2b2"
      ],
      "layout": "IPY_MODEL_c5e3656bb5d648c58bd722f5a259805b"
     }
    },
    "21283cd7c8e3472a9383d32a8a7ee920": {
     "model_module": "@jupyter-widgets/controls",
     "model_module_version": "1.5.0",
     "model_name": "ButtonModel",
     "state": {
      "_dom_classes": [],
      "_model_module": "@jupyter-widgets/controls",
      "_model_module_version": "1.5.0",
      "_model_name": "ButtonModel",
      "_view_count": null,
      "_view_module": "@jupyter-widgets/controls",
      "_view_module_version": "1.5.0",
      "_view_name": "ButtonView",
      "button_style": "",
      "description": "",
      "disabled": false,
      "icon": "gear",
      "layout": "IPY_MODEL_178ce8ddeb4a4252992cdfff6eef265e",
      "style": "IPY_MODEL_361a8ec2a03a49e6b200cc0aecc9377e",
      "tooltip": "Classified Image"
     }
    },
    "21d51caf25ad42319b2809845d6ff207": {
     "model_module": "@jupyter-widgets/controls",
     "model_module_version": "1.5.0",
     "model_name": "FloatSliderModel",
     "state": {
      "_dom_classes": [],
      "_model_module": "@jupyter-widgets/controls",
      "_model_module_version": "1.5.0",
      "_model_name": "FloatSliderModel",
      "_view_count": null,
      "_view_module": "@jupyter-widgets/controls",
      "_view_module_version": "1.5.0",
      "_view_name": "FloatSliderView",
      "continuous_update": true,
      "description": "",
      "description_tooltip": null,
      "disabled": false,
      "layout": "IPY_MODEL_83d5cdbc931c4702b0133c19e55c5d17",
      "max": 1,
      "min": 0,
      "orientation": "horizontal",
      "readout": false,
      "readout_format": ".2f",
      "step": 0.01,
      "style": "IPY_MODEL_9e283a20f6ed4b208ba8ef8e59f8e863",
      "value": 1
     }
    },
    "24684865d561430987c5a672d17c115d": {
     "model_module": "@jupyter-widgets/controls",
     "model_module_version": "1.5.0",
     "model_name": "ToggleButtonModel",
     "state": {
      "_dom_classes": [],
      "_model_module": "@jupyter-widgets/controls",
      "_model_module_version": "1.5.0",
      "_model_name": "ToggleButtonModel",
      "_view_count": null,
      "_view_module": "@jupyter-widgets/controls",
      "_view_module_version": "1.5.0",
      "_view_name": "ToggleButtonView",
      "button_style": "",
      "description": "",
      "description_tooltip": null,
      "disabled": false,
      "icon": "wrench",
      "layout": "IPY_MODEL_ef7053fb685c4a2681b0fcdb328a1e13",
      "style": "IPY_MODEL_269489846dfa480fb91171b095f7e7ed",
      "tooltip": "Toolbar",
      "value": false
     }
    },
    "24b5f1e6d494464791f572a7267d5e76": {
     "model_module": "jupyter-leaflet",
     "model_module_version": "^0.19",
     "model_name": "LeafletZoomControlModel",
     "state": {
      "_model_module": "jupyter-leaflet",
      "_model_module_version": "^0.19",
      "_model_name": "LeafletZoomControlModel",
      "_view_count": null,
      "_view_module": "jupyter-leaflet",
      "_view_module_version": "^0.19",
      "_view_name": "LeafletZoomControlView",
      "options": [
       "position",
       "zoom_in_text",
       "zoom_in_title",
       "zoom_out_text",
       "zoom_out_title"
      ],
      "position": "topleft",
      "zoom_in_text": "+",
      "zoom_in_title": "Zoom in",
      "zoom_out_text": "-",
      "zoom_out_title": "Zoom out"
     }
    },
    "269489846dfa480fb91171b095f7e7ed": {
     "model_module": "@jupyter-widgets/controls",
     "model_module_version": "1.5.0",
     "model_name": "DescriptionStyleModel",
     "state": {
      "_model_module": "@jupyter-widgets/controls",
      "_model_module_version": "1.5.0",
      "_model_name": "DescriptionStyleModel",
      "_view_count": null,
      "_view_module": "@jupyter-widgets/base",
      "_view_module_version": "1.2.0",
      "_view_name": "StyleView",
      "description_width": ""
     }
    },
    "2e1ac90931594480adaa43be97b73d3d": {
     "model_module": "@jupyter-widgets/controls",
     "model_module_version": "1.5.0",
     "model_name": "HBoxModel",
     "state": {
      "_dom_classes": [],
      "_model_module": "@jupyter-widgets/controls",
      "_model_module_version": "1.5.0",
      "_model_name": "HBoxModel",
      "_view_count": null,
      "_view_module": "@jupyter-widgets/controls",
      "_view_module_version": "1.5.0",
      "_view_name": "HBoxView",
      "box_style": "",
      "children": [
       "IPY_MODEL_75a0749097ef4fd28fd8335626016693",
       "IPY_MODEL_d8680e961fde45408237e652ae9fb249",
       "IPY_MODEL_c9ab1c8f68394323ba8838ff22349cf1",
       "IPY_MODEL_dbc04a7d29694ade9a8b95bf9c64aa02"
      ],
      "layout": "IPY_MODEL_f9b0e6c202c7438891f34297aa1a8d60"
     }
    },
    "2fbc357a428e4a649605c3c59bcaa579": {
     "model_module": "@jupyter-widgets/base",
     "model_module_version": "1.2.0",
     "model_name": "LayoutModel",
     "state": {
      "_model_module": "@jupyter-widgets/base",
      "_model_module_version": "1.2.0",
      "_model_name": "LayoutModel",
      "_view_count": null,
      "_view_module": "@jupyter-widgets/base",
      "_view_module_version": "1.2.0",
      "_view_name": "LayoutView",
      "align_content": null,
      "align_items": null,
      "align_self": null,
      "border": null,
      "bottom": null,
      "display": null,
      "flex": null,
      "flex_flow": null,
      "grid_area": null,
      "grid_auto_columns": null,
      "grid_auto_flow": null,
      "grid_auto_rows": null,
      "grid_column": null,
      "grid_gap": null,
      "grid_row": null,
      "grid_template_areas": null,
      "grid_template_columns": null,
      "grid_template_rows": null,
      "height": "28px",
      "justify_content": null,
      "justify_items": null,
      "left": null,
      "margin": null,
      "max_height": null,
      "max_width": null,
      "min_height": null,
      "min_width": null,
      "object_fit": null,
      "object_position": null,
      "order": null,
      "overflow": null,
      "overflow_x": null,
      "overflow_y": null,
      "padding": "0px",
      "right": null,
      "top": null,
      "visibility": null,
      "width": "28px"
     }
    },
    "361a8ec2a03a49e6b200cc0aecc9377e": {
     "model_module": "@jupyter-widgets/controls",
     "model_module_version": "1.5.0",
     "model_name": "ButtonStyleModel",
     "state": {
      "_model_module": "@jupyter-widgets/controls",
      "_model_module_version": "1.5.0",
      "_model_name": "ButtonStyleModel",
      "_view_count": null,
      "_view_module": "@jupyter-widgets/base",
      "_view_module_version": "1.2.0",
      "_view_name": "StyleView",
      "button_color": null,
      "font_weight": ""
     }
    },
    "3a3b34572feb4066aefcc23e81987a46": {
     "model_module": "jupyter-leaflet",
     "model_module_version": "^0.19",
     "model_name": "LeafletMapModel",
     "state": {
      "_dom_classes": [],
      "_model_module": "jupyter-leaflet",
      "_model_module_version": "^0.19",
      "_model_name": "LeafletMapModel",
      "_view_count": null,
      "_view_module": "jupyter-leaflet",
      "_view_module_version": "^0.19",
      "_view_name": "LeafletMapView",
      "bottom": 23672,
      "bounce_at_zoom_limits": true,
      "box_zoom": true,
      "center": [
       46.16556561464647,
       14.315185546875
      ],
      "close_popup_on_click": true,
      "controls": [
       "IPY_MODEL_c3752df95abc429794a4a0202f94543b",
       "IPY_MODEL_24b5f1e6d494464791f572a7267d5e76",
       "IPY_MODEL_a3f2cebbba2143d7a3ec17ccab7185ce",
       "IPY_MODEL_7cbe1e73e7904ae783b78b0563cebe89",
       "IPY_MODEL_6317195a0ee144e4afd389609c79a0da",
       "IPY_MODEL_507a12705ba04ded83cab282cbf744d0",
       "IPY_MODEL_cf7617d7301045b7b257100eb6abded1",
       "IPY_MODEL_c2261d1225da4ce2824db545ba59530b"
      ],
      "crs": {
       "custom": false,
       "name": "EPSG3857"
      },
      "default_style": "IPY_MODEL_4668b6ecb57d4e0f8aa6b2d8e779f691",
      "double_click_zoom": true,
      "dragging": true,
      "dragging_style": "IPY_MODEL_c469d39734f543b4b013a64bedd908c4",
      "east": 16.237792968750004,
      "fullscreen": false,
      "inertia": true,
      "inertia_deceleration": 3000,
      "inertia_max_speed": 1500,
      "interpolation": "bilinear",
      "keyboard": true,
      "keyboard_pan_offset": 80,
      "keyboard_zoom_offset": 1,
      "layers": [
       "IPY_MODEL_fd63d556622a47c4adebc2834357373c",
       "IPY_MODEL_870dcc8965ca4440a9049dce4182a445",
       "IPY_MODEL_b86eea0fceeb4fdf89bda88ad6f87d89",
       "IPY_MODEL_8291cd3d7b9c4f46b994780509fed418"
      ],
      "layout": "IPY_MODEL_1c7bfc32516741c3a5a991e0fce4644f",
      "left": 35024,
      "max_zoom": 24,
      "min_zoom": null,
      "modisdate": "2024-10-10",
      "north": 47.66538735632654,
      "options": [
       "bounce_at_zoom_limits",
       "box_zoom",
       "center",
       "close_popup_on_click",
       "double_click_zoom",
       "dragging",
       "fullscreen",
       "inertia",
       "inertia_deceleration",
       "inertia_max_speed",
       "interpolation",
       "keyboard",
       "keyboard_pan_offset",
       "keyboard_zoom_offset",
       "max_zoom",
       "min_zoom",
       "prefer_canvas",
       "scroll_wheel_zoom",
       "tap",
       "tap_tolerance",
       "touch_zoom",
       "world_copy_jump",
       "zoom",
       "zoom_animation_threshold",
       "zoom_delta",
       "zoom_snap"
      ],
      "panes": {},
      "prefer_canvas": false,
      "right": 35724,
      "scroll_wheel_zoom": true,
      "south": 44.62175409623327,
      "style": "IPY_MODEL_4668b6ecb57d4e0f8aa6b2d8e779f691",
      "tap": true,
      "tap_tolerance": 15,
      "top": 22872,
      "touch_zoom": true,
      "west": 12.392578125,
      "window_url": "https://06e3qyl1txcd-496ff2e9c6d22116-0-colab.googleusercontent.com/outputframe.html?vrz=colab_20241010-060117_RC00_684361355",
      "world_copy_jump": false,
      "zoom": 8,
      "zoom_animation_threshold": 4,
      "zoom_delta": 1,
      "zoom_snap": 1
     }
    },
    "3b70df797d9842d0aff586dbfac3f7da": {
     "model_module": "@jupyter-widgets/controls",
     "model_module_version": "1.5.0",
     "model_name": "ToggleButtonModel",
     "state": {
      "_dom_classes": [],
      "_model_module": "@jupyter-widgets/controls",
      "_model_module_version": "1.5.0",
      "_model_name": "ToggleButtonModel",
      "_view_count": null,
      "_view_module": "@jupyter-widgets/controls",
      "_view_module_version": "1.5.0",
      "_view_name": "ToggleButtonView",
      "button_style": "",
      "description": "",
      "description_tooltip": null,
      "disabled": false,
      "icon": "globe",
      "layout": "IPY_MODEL_e7b8212fd0e741f6934a8cc0e65cc33e",
      "style": "IPY_MODEL_f13ea45725294367a364b69c101eae2d",
      "tooltip": "Search location/data",
      "value": false
     }
    },
    "3b9be6000bc44009a72516c792179d16": {
     "model_module": "@jupyter-widgets/controls",
     "model_module_version": "1.5.0",
     "model_name": "DescriptionStyleModel",
     "state": {
      "_model_module": "@jupyter-widgets/controls",
      "_model_module_version": "1.5.0",
      "_model_name": "DescriptionStyleModel",
      "_view_count": null,
      "_view_module": "@jupyter-widgets/base",
      "_view_module_version": "1.2.0",
      "_view_name": "StyleView",
      "description_width": ""
     }
    },
    "3cfa8eb0218e4205af9766a2d28118c0": {
     "model_module": "@jupyter-widgets/base",
     "model_module_version": "1.2.0",
     "model_name": "LayoutModel",
     "state": {
      "_model_module": "@jupyter-widgets/base",
      "_model_module_version": "1.2.0",
      "_model_name": "LayoutModel",
      "_view_count": null,
      "_view_module": "@jupyter-widgets/base",
      "_view_module_version": "1.2.0",
      "_view_name": "LayoutView",
      "align_content": null,
      "align_items": null,
      "align_self": null,
      "border": null,
      "bottom": null,
      "display": null,
      "flex": null,
      "flex_flow": null,
      "grid_area": null,
      "grid_auto_columns": null,
      "grid_auto_flow": null,
      "grid_auto_rows": null,
      "grid_column": null,
      "grid_gap": null,
      "grid_row": null,
      "grid_template_areas": null,
      "grid_template_columns": null,
      "grid_template_rows": null,
      "height": null,
      "justify_content": null,
      "justify_items": null,
      "left": null,
      "margin": null,
      "max_height": null,
      "max_width": null,
      "min_height": null,
      "min_width": null,
      "object_fit": null,
      "object_position": null,
      "order": null,
      "overflow": null,
      "overflow_x": null,
      "overflow_y": null,
      "padding": "0px 3px 0px 0px",
      "right": null,
      "top": null,
      "visibility": null,
      "width": "70px"
     }
    },
    "45bdcd4489594c96bc58adb09639ef33": {
     "model_module": "@jupyter-widgets/controls",
     "model_module_version": "1.5.0",
     "model_name": "ButtonModel",
     "state": {
      "_dom_classes": [],
      "_model_module": "@jupyter-widgets/controls",
      "_model_module_version": "1.5.0",
      "_model_name": "ButtonModel",
      "_view_count": null,
      "_view_module": "@jupyter-widgets/controls",
      "_view_module_version": "1.5.0",
      "_view_name": "ButtonView",
      "button_style": "primary",
      "description": "",
      "disabled": false,
      "icon": "times",
      "layout": "IPY_MODEL_2fbc357a428e4a649605c3c59bcaa579",
      "style": "IPY_MODEL_976bce4e264e435fb723028d098984a1",
      "tooltip": "Close the tool"
     }
    },
    "4668b6ecb57d4e0f8aa6b2d8e779f691": {
     "model_module": "jupyter-leaflet",
     "model_module_version": "^0.19",
     "model_name": "LeafletMapStyleModel",
     "state": {
      "_model_module": "jupyter-leaflet",
      "_model_module_version": "^0.19",
      "_model_name": "LeafletMapStyleModel",
      "_view_count": null,
      "_view_module": "@jupyter-widgets/base",
      "_view_module_version": "1.2.0",
      "_view_name": "StyleView",
      "cursor": "grab"
     }
    },
    "497eb3574c964cf4ba91b793366d6a93": {
     "model_module": "@jupyter-widgets/controls",
     "model_module_version": "1.5.0",
     "model_name": "SliderStyleModel",
     "state": {
      "_model_module": "@jupyter-widgets/controls",
      "_model_module_version": "1.5.0",
      "_model_name": "SliderStyleModel",
      "_view_count": null,
      "_view_module": "@jupyter-widgets/base",
      "_view_module_version": "1.2.0",
      "_view_name": "StyleView",
      "description_width": "",
      "handle_color": null
     }
    },
    "4b109ce02485408b81829d30e92cc007": {
     "model_module": "@jupyter-widgets/controls",
     "model_module_version": "1.5.0",
     "model_name": "HBoxModel",
     "state": {
      "_dom_classes": [],
      "_model_module": "@jupyter-widgets/controls",
      "_model_module_version": "1.5.0",
      "_model_name": "HBoxModel",
      "_view_count": null,
      "_view_module": "@jupyter-widgets/controls",
      "_view_module_version": "1.5.0",
      "_view_name": "HBoxView",
      "box_style": "",
      "children": [
       "IPY_MODEL_c312eeb30fe44e20b5423d36f6d26a69",
       "IPY_MODEL_21d51caf25ad42319b2809845d6ff207",
       "IPY_MODEL_db06838e12e5437293b393183b84ce7c",
       "IPY_MODEL_aeb6b197ed1d4bfcb52bb5d84d613b39"
      ],
      "layout": "IPY_MODEL_d17103dd6d8f472f9f8bb54af1647d0f"
     }
    },
    "4d18a61244714b46ab81d36daee77604": {
     "model_module": "@jupyter-widgets/base",
     "model_module_version": "1.2.0",
     "model_name": "LayoutModel",
     "state": {
      "_model_module": "@jupyter-widgets/base",
      "_model_module_version": "1.2.0",
      "_model_name": "LayoutModel",
      "_view_count": null,
      "_view_module": "@jupyter-widgets/base",
      "_view_module_version": "1.2.0",
      "_view_name": "LayoutView",
      "align_content": null,
      "align_items": null,
      "align_self": null,
      "border": null,
      "bottom": null,
      "display": null,
      "flex": null,
      "flex_flow": null,
      "grid_area": null,
      "grid_auto_columns": null,
      "grid_auto_flow": null,
      "grid_auto_rows": null,
      "grid_column": null,
      "grid_gap": null,
      "grid_row": null,
      "grid_template_areas": null,
      "grid_template_columns": null,
      "grid_template_rows": null,
      "height": "25px",
      "justify_content": null,
      "justify_items": null,
      "left": null,
      "margin": null,
      "max_height": null,
      "max_width": null,
      "min_height": null,
      "min_width": null,
      "object_fit": null,
      "object_position": null,
      "order": null,
      "overflow": null,
      "overflow_x": null,
      "overflow_y": null,
      "padding": "0px",
      "right": null,
      "top": null,
      "visibility": null,
      "width": "25px"
     }
    },
    "507a12705ba04ded83cab282cbf744d0": {
     "model_module": "jupyter-leaflet",
     "model_module_version": "^0.19",
     "model_name": "LeafletMeasureControlModel",
     "state": {
      "_custom_units": {},
      "_model_module": "jupyter-leaflet",
      "_model_module_version": "^0.19",
      "_model_name": "LeafletMeasureControlModel",
      "_view_count": null,
      "_view_module": "jupyter-leaflet",
      "_view_module_version": "^0.19",
      "_view_name": "LeafletMeasureControlView",
      "active_color": "orange",
      "capture_z_index": 10000,
      "completed_color": "#C8F2BE",
      "options": [
       "active_color",
       "capture_z_index",
       "completed_color",
       "popup_options",
       "position",
       "primary_area_unit",
       "primary_length_unit",
       "secondary_area_unit",
       "secondary_length_unit"
      ],
      "popup_options": {
       "autoPanPadding": [
        10,
        10
       ],
       "className": "leaflet-measure-resultpopup"
      },
      "position": "bottomleft",
      "primary_area_unit": "acres",
      "primary_length_unit": "kilometers",
      "secondary_area_unit": null,
      "secondary_length_unit": null
     }
    },
    "509d924fcaa34f9788c614ed2bbbc5a5": {
     "model_module": "@jupyter-widgets/controls",
     "model_module_version": "1.5.0",
     "model_name": "CheckboxModel",
     "state": {
      "_dom_classes": [],
      "_model_module": "@jupyter-widgets/controls",
      "_model_module_version": "1.5.0",
      "_model_name": "CheckboxModel",
      "_view_count": null,
      "_view_module": "@jupyter-widgets/controls",
      "_view_module_version": "1.5.0",
      "_view_name": "CheckboxView",
      "description": "All layers on/off",
      "description_tooltip": null,
      "disabled": false,
      "indent": false,
      "layout": "IPY_MODEL_b012a47593a149009f14b3118f8ff4c7",
      "style": "IPY_MODEL_8e40a595a7c34a5e978a0e6afd8f5180",
      "value": false
     }
    },
    "5610f43a0de242f68334c69c30c59477": {
     "model_module": "@jupyter-widgets/base",
     "model_module_version": "1.2.0",
     "model_name": "LayoutModel",
     "state": {
      "_model_module": "@jupyter-widgets/base",
      "_model_module_version": "1.2.0",
      "_model_name": "LayoutModel",
      "_view_count": null,
      "_view_module": "@jupyter-widgets/base",
      "_view_module_version": "1.2.0",
      "_view_name": "LayoutView",
      "align_content": null,
      "align_items": "center",
      "align_self": null,
      "border": null,
      "bottom": null,
      "display": "flex",
      "flex": null,
      "flex_flow": null,
      "grid_area": null,
      "grid_auto_columns": null,
      "grid_auto_flow": null,
      "grid_auto_rows": null,
      "grid_column": null,
      "grid_gap": null,
      "grid_row": null,
      "grid_template_areas": null,
      "grid_template_columns": null,
      "grid_template_rows": null,
      "height": null,
      "justify_content": "flex-end",
      "justify_items": null,
      "left": null,
      "margin": null,
      "max_height": null,
      "max_width": null,
      "min_height": null,
      "min_width": null,
      "object_fit": null,
      "object_position": null,
      "order": null,
      "overflow": null,
      "overflow_x": null,
      "overflow_y": null,
      "padding": null,
      "right": null,
      "top": null,
      "visibility": null,
      "width": null
     }
    },
    "57098fe98c8d4d1ab5461d77b88c5a18": {
     "model_module": "@jupyter-widgets/controls",
     "model_module_version": "1.5.0",
     "model_name": "VBoxModel",
     "state": {
      "_dom_classes": [],
      "_model_module": "@jupyter-widgets/controls",
      "_model_module_version": "1.5.0",
      "_model_name": "VBoxModel",
      "_view_count": null,
      "_view_module": "@jupyter-widgets/controls",
      "_view_module_version": "1.5.0",
      "_view_name": "VBoxView",
      "box_style": "",
      "children": [
       "IPY_MODEL_509d924fcaa34f9788c614ed2bbbc5a5",
       "IPY_MODEL_4b109ce02485408b81829d30e92cc007",
       "IPY_MODEL_2e1ac90931594480adaa43be97b73d3d",
       "IPY_MODEL_9a7be842974c4c4c8cd5f930ee0646bd",
       "IPY_MODEL_1e653fdf7fa44480ae0cb201ce0d60b6"
      ],
      "layout": "IPY_MODEL_adf67648b0c149d2b314f441a41226dd"
     }
    },
    "5a575661714a45eca60f731aba5f276f": {
     "model_module": "@jupyter-widgets/controls",
     "model_module_version": "1.5.0",
     "model_name": "SliderStyleModel",
     "state": {
      "_model_module": "@jupyter-widgets/controls",
      "_model_module_version": "1.5.0",
      "_model_name": "SliderStyleModel",
      "_view_count": null,
      "_view_module": "@jupyter-widgets/base",
      "_view_module_version": "1.2.0",
      "_view_name": "StyleView",
      "description_width": "",
      "handle_color": null
     }
    },
    "5f88ba00dbf24897b8252560150b4de9": {
     "model_module": "@jupyter-widgets/base",
     "model_module_version": "1.2.0",
     "model_name": "LayoutModel",
     "state": {
      "_model_module": "@jupyter-widgets/base",
      "_model_module_version": "1.2.0",
      "_model_name": "LayoutModel",
      "_view_count": null,
      "_view_module": "@jupyter-widgets/base",
      "_view_module_version": "1.2.0",
      "_view_name": "LayoutView",
      "align_content": null,
      "align_items": null,
      "align_self": null,
      "border": null,
      "bottom": null,
      "display": null,
      "flex": null,
      "flex_flow": null,
      "grid_area": null,
      "grid_auto_columns": null,
      "grid_auto_flow": null,
      "grid_auto_rows": null,
      "grid_column": null,
      "grid_gap": null,
      "grid_row": null,
      "grid_template_areas": null,
      "grid_template_columns": null,
      "grid_template_rows": null,
      "height": "28px",
      "justify_content": null,
      "justify_items": null,
      "left": null,
      "margin": null,
      "max_height": null,
      "max_width": null,
      "min_height": null,
      "min_width": null,
      "object_fit": null,
      "object_position": null,
      "order": null,
      "overflow": null,
      "overflow_x": null,
      "overflow_y": null,
      "padding": null,
      "right": null,
      "top": null,
      "visibility": null,
      "width": "72px"
     }
    },
    "6317195a0ee144e4afd389609c79a0da": {
     "model_module": "jupyter-leaflet",
     "model_module_version": "^0.19",
     "model_name": "LeafletScaleControlModel",
     "state": {
      "_model_module": "jupyter-leaflet",
      "_model_module_version": "^0.19",
      "_model_name": "LeafletScaleControlModel",
      "_view_count": null,
      "_view_module": "jupyter-leaflet",
      "_view_module_version": "^0.19",
      "_view_name": "LeafletScaleControlView",
      "imperial": true,
      "max_width": 100,
      "metric": true,
      "options": [
       "imperial",
       "max_width",
       "metric",
       "position",
       "update_when_idle"
      ],
      "position": "bottomleft",
      "update_when_idle": false
     }
    },
    "667e899e8dd74ef989561fbf3463d2b2": {
     "model_module": "@jupyter-widgets/controls",
     "model_module_version": "1.5.0",
     "model_name": "ButtonModel",
     "state": {
      "_dom_classes": [],
      "_model_module": "@jupyter-widgets/controls",
      "_model_module_version": "1.5.0",
      "_model_name": "ButtonModel",
      "_view_count": null,
      "_view_module": "@jupyter-widgets/controls",
      "_view_module_version": "1.5.0",
      "_view_name": "ButtonView",
      "button_style": "",
      "description": "",
      "disabled": false,
      "icon": "times",
      "layout": "IPY_MODEL_4d18a61244714b46ab81d36daee77604",
      "style": "IPY_MODEL_c2877ea9f4034e1c827da83c49b823cc",
      "tooltip": "Loaded"
     }
    },
    "7379f820ae724cfaa4b08c432a13de79": {
     "model_module": "@jupyter-widgets/base",
     "model_module_version": "1.2.0",
     "model_name": "LayoutModel",
     "state": {
      "_model_module": "@jupyter-widgets/base",
      "_model_module_version": "1.2.0",
      "_model_name": "LayoutModel",
      "_view_count": null,
      "_view_module": "@jupyter-widgets/base",
      "_view_module_version": "1.2.0",
      "_view_name": "LayoutView",
      "align_content": null,
      "align_items": null,
      "align_self": null,
      "border": null,
      "bottom": null,
      "display": null,
      "flex": null,
      "flex_flow": null,
      "grid_area": null,
      "grid_auto_columns": null,
      "grid_auto_flow": null,
      "grid_auto_rows": null,
      "grid_column": null,
      "grid_gap": null,
      "grid_row": null,
      "grid_template_areas": null,
      "grid_template_columns": null,
      "grid_template_rows": null,
      "height": null,
      "justify_content": null,
      "justify_items": null,
      "left": null,
      "margin": null,
      "max_height": null,
      "max_width": null,
      "min_height": null,
      "min_width": null,
      "object_fit": null,
      "object_position": null,
      "order": null,
      "overflow": null,
      "overflow_x": null,
      "overflow_y": null,
      "padding": null,
      "right": null,
      "top": null,
      "visibility": null,
      "width": null
     }
    },
    "75a0749097ef4fd28fd8335626016693": {
     "model_module": "@jupyter-widgets/controls",
     "model_module_version": "1.5.0",
     "model_name": "CheckboxModel",
     "state": {
      "_dom_classes": [],
      "_model_module": "@jupyter-widgets/controls",
      "_model_module_version": "1.5.0",
      "_model_name": "CheckboxModel",
      "_view_count": null,
      "_view_module": "@jupyter-widgets/controls",
      "_view_module_version": "1.5.0",
      "_view_name": "CheckboxView",
      "description": "Sentinel-2_2018",
      "description_tooltip": null,
      "disabled": false,
      "indent": false,
      "layout": "IPY_MODEL_789ef3752e394c2b8fc31a7130d6dce2",
      "style": "IPY_MODEL_ad04d520fbe844899fe18674ce06b8a6",
      "value": true
     }
    },
    "76bf51bf717d46c0a86a1830f81a15ac": {
     "model_module": "@jupyter-widgets/controls",
     "model_module_version": "1.5.0",
     "model_name": "DescriptionStyleModel",
     "state": {
      "_model_module": "@jupyter-widgets/controls",
      "_model_module_version": "1.5.0",
      "_model_name": "DescriptionStyleModel",
      "_view_count": null,
      "_view_module": "@jupyter-widgets/base",
      "_view_module_version": "1.2.0",
      "_view_name": "StyleView",
      "description_width": ""
     }
    },
    "789ef3752e394c2b8fc31a7130d6dce2": {
     "model_module": "@jupyter-widgets/base",
     "model_module_version": "1.2.0",
     "model_name": "LayoutModel",
     "state": {
      "_model_module": "@jupyter-widgets/base",
      "_model_module_version": "1.2.0",
      "_model_name": "LayoutModel",
      "_view_count": null,
      "_view_module": "@jupyter-widgets/base",
      "_view_module_version": "1.2.0",
      "_view_name": "LayoutView",
      "align_content": null,
      "align_items": null,
      "align_self": null,
      "border": null,
      "bottom": null,
      "display": null,
      "flex": null,
      "flex_flow": null,
      "grid_area": null,
      "grid_auto_columns": null,
      "grid_auto_flow": null,
      "grid_auto_rows": null,
      "grid_column": null,
      "grid_gap": null,
      "grid_row": null,
      "grid_template_areas": null,
      "grid_template_columns": null,
      "grid_template_rows": null,
      "height": "18px",
      "justify_content": null,
      "justify_items": null,
      "left": null,
      "margin": null,
      "max_height": null,
      "max_width": null,
      "min_height": null,
      "min_width": null,
      "object_fit": null,
      "object_position": null,
      "order": null,
      "overflow": null,
      "overflow_x": null,
      "overflow_y": null,
      "padding": null,
      "right": null,
      "top": null,
      "visibility": null,
      "width": "140px"
     }
    },
    "790d8653badb4e0b86babae17d2267df": {
     "model_module": "@jupyter-widgets/base",
     "model_module_version": "1.2.0",
     "model_name": "LayoutModel",
     "state": {
      "_model_module": "@jupyter-widgets/base",
      "_model_module_version": "1.2.0",
      "_model_name": "LayoutModel",
      "_view_count": null,
      "_view_module": "@jupyter-widgets/base",
      "_view_module_version": "1.2.0",
      "_view_name": "LayoutView",
      "align_content": null,
      "align_items": null,
      "align_self": null,
      "border": null,
      "bottom": null,
      "display": null,
      "flex": null,
      "flex_flow": null,
      "grid_area": null,
      "grid_auto_columns": null,
      "grid_auto_flow": null,
      "grid_auto_rows": null,
      "grid_column": null,
      "grid_gap": null,
      "grid_row": null,
      "grid_template_areas": null,
      "grid_template_columns": null,
      "grid_template_rows": null,
      "height": null,
      "justify_content": null,
      "justify_items": null,
      "left": null,
      "margin": null,
      "max_height": null,
      "max_width": null,
      "min_height": null,
      "min_width": null,
      "object_fit": null,
      "object_position": null,
      "order": null,
      "overflow": null,
      "overflow_x": null,
      "overflow_y": null,
      "padding": null,
      "right": null,
      "top": null,
      "visibility": null,
      "width": null
     }
    },
    "7cbe1e73e7904ae783b78b0563cebe89": {
     "model_module": "jupyter-leaflet",
     "model_module_version": "^0.19",
     "model_name": "LeafletDrawControlModel",
     "state": {
      "_model_module": "jupyter-leaflet",
      "_model_module_version": "^0.19",
      "_model_name": "LeafletDrawControlModel",
      "_view_count": null,
      "_view_module": "jupyter-leaflet",
      "_view_module_version": "^0.19",
      "_view_name": "LeafletDrawControlView",
      "circle": {},
      "circlemarker": {},
      "data": [],
      "edit": true,
      "marker": {
       "shapeOptions": {
        "color": "#3388ff"
       }
      },
      "options": [
       "position"
      ],
      "polygon": {
       "shapeOptions": {}
      },
      "polyline": {
       "shapeOptions": {}
      },
      "position": "topleft",
      "rectangle": {
       "shapeOptions": {
        "color": "#3388ff"
       }
      },
      "remove": true
     }
    },
    "7eec92d3848b44c7a86fa3a67f65aefd": {
     "model_module": "@jupyter-widgets/controls",
     "model_module_version": "1.5.0",
     "model_name": "ButtonStyleModel",
     "state": {
      "_model_module": "@jupyter-widgets/controls",
      "_model_module_version": "1.5.0",
      "_model_name": "ButtonStyleModel",
      "_view_count": null,
      "_view_module": "@jupyter-widgets/base",
      "_view_module_version": "1.2.0",
      "_view_name": "StyleView",
      "button_color": null,
      "font_weight": ""
     }
    },
    "824b6a765d304a119ae2ec71c04c1e6c": {
     "model_module": "@jupyter-widgets/controls",
     "model_module_version": "1.5.0",
     "model_name": "ButtonModel",
     "state": {
      "_dom_classes": [],
      "_model_module": "@jupyter-widgets/controls",
      "_model_module_version": "1.5.0",
      "_model_name": "ButtonModel",
      "_view_count": null,
      "_view_module": "@jupyter-widgets/controls",
      "_view_module_version": "1.5.0",
      "_view_name": "ButtonView",
      "button_style": "",
      "description": "",
      "disabled": false,
      "icon": "times",
      "layout": "IPY_MODEL_c7c81f7910684179b86adcdcd72d3ece",
      "style": "IPY_MODEL_c448f85e320546d2bc83da61485bd241",
      "tooltip": "Loaded"
     }
    },
    "824f6aa915954a90842a8e6a430fcf64": {
     "model_module": "@jupyter-widgets/base",
     "model_module_version": "1.2.0",
     "model_name": "LayoutModel",
     "state": {
      "_model_module": "@jupyter-widgets/base",
      "_model_module_version": "1.2.0",
      "_model_name": "LayoutModel",
      "_view_count": null,
      "_view_module": "@jupyter-widgets/base",
      "_view_module_version": "1.2.0",
      "_view_name": "LayoutView",
      "align_content": null,
      "align_items": null,
      "align_self": null,
      "border": null,
      "bottom": null,
      "display": null,
      "flex": null,
      "flex_flow": null,
      "grid_area": null,
      "grid_auto_columns": null,
      "grid_auto_flow": null,
      "grid_auto_rows": null,
      "grid_column": null,
      "grid_gap": null,
      "grid_row": null,
      "grid_template_areas": null,
      "grid_template_columns": null,
      "grid_template_rows": null,
      "height": "18px",
      "justify_content": null,
      "justify_items": null,
      "left": null,
      "margin": null,
      "max_height": null,
      "max_width": null,
      "min_height": null,
      "min_width": null,
      "object_fit": null,
      "object_position": null,
      "order": null,
      "overflow": null,
      "overflow_x": null,
      "overflow_y": null,
      "padding": null,
      "right": null,
      "top": null,
      "visibility": null,
      "width": "140px"
     }
    },
    "8291cd3d7b9c4f46b994780509fed418": {
     "model_module": "jupyter-leaflet",
     "model_module_version": "^0.19",
     "model_name": "LeafletTileLayerModel",
     "state": {
      "_model_module": "jupyter-leaflet",
      "_model_module_version": "^0.19",
      "_model_name": "LeafletTileLayerModel",
      "_view_count": null,
      "_view_module": "jupyter-leaflet",
      "_view_module_version": "^0.19",
      "_view_name": "LeafletTileLayerView",
      "attribution": "Google Earth Engine",
      "base": false,
      "bottom": true,
      "bounds": null,
      "detect_retina": false,
      "loading": false,
      "max_native_zoom": null,
      "max_zoom": 24,
      "min_native_zoom": null,
      "min_zoom": 0,
      "name": "Classified Image",
      "no_wrap": false,
      "opacity": 1,
      "options": [
       "attribution",
       "bounds",
       "detect_retina",
       "max_native_zoom",
       "max_zoom",
       "min_native_zoom",
       "min_zoom",
       "no_wrap",
       "tile_size",
       "tms",
       "zoom_offset"
      ],
      "pane": "",
      "popup": null,
      "popup_max_height": null,
      "popup_max_width": 300,
      "popup_min_width": 50,
      "show_loading": false,
      "subitems": [],
      "tile_size": 256,
      "tms": false,
      "url": "https://earthengine.googleapis.com/v1/projects/proj-gis-1234/maps/963c69d54b098b3cff7d56f3046f17e9-cd7fa95851a380c0d649e46d65befacc/tiles/{z}/{x}/{y}",
      "visible": true,
      "zoom_offset": 0
     }
    },
    "83d5cdbc931c4702b0133c19e55c5d17": {
     "model_module": "@jupyter-widgets/base",
     "model_module_version": "1.2.0",
     "model_name": "LayoutModel",
     "state": {
      "_model_module": "@jupyter-widgets/base",
      "_model_module_version": "1.2.0",
      "_model_name": "LayoutModel",
      "_view_count": null,
      "_view_module": "@jupyter-widgets/base",
      "_view_module_version": "1.2.0",
      "_view_name": "LayoutView",
      "align_content": null,
      "align_items": null,
      "align_self": null,
      "border": null,
      "bottom": null,
      "display": null,
      "flex": null,
      "flex_flow": null,
      "grid_area": null,
      "grid_auto_columns": null,
      "grid_auto_flow": null,
      "grid_auto_rows": null,
      "grid_column": null,
      "grid_gap": null,
      "grid_row": null,
      "grid_template_areas": null,
      "grid_template_columns": null,
      "grid_template_rows": null,
      "height": null,
      "justify_content": null,
      "justify_items": null,
      "left": null,
      "margin": null,
      "max_height": null,
      "max_width": null,
      "min_height": null,
      "min_width": null,
      "object_fit": null,
      "object_position": null,
      "order": null,
      "overflow": null,
      "overflow_x": null,
      "overflow_y": null,
      "padding": "0px 3px 0px 0px",
      "right": null,
      "top": null,
      "visibility": null,
      "width": "70px"
     }
    },
    "870dcc8965ca4440a9049dce4182a445": {
     "model_module": "jupyter-leaflet",
     "model_module_version": "^0.19",
     "model_name": "LeafletTileLayerModel",
     "state": {
      "_model_module": "jupyter-leaflet",
      "_model_module_version": "^0.19",
      "_model_name": "LeafletTileLayerModel",
      "_view_count": null,
      "_view_module": "jupyter-leaflet",
      "_view_module_version": "^0.19",
      "_view_name": "LeafletTileLayerView",
      "attribution": "Google Earth Engine",
      "base": false,
      "bottom": true,
      "bounds": null,
      "detect_retina": false,
      "loading": false,
      "max_native_zoom": null,
      "max_zoom": 24,
      "min_native_zoom": null,
      "min_zoom": 0,
      "name": "Sentinel-2_2018",
      "no_wrap": false,
      "opacity": 1,
      "options": [
       "attribution",
       "bounds",
       "detect_retina",
       "max_native_zoom",
       "max_zoom",
       "min_native_zoom",
       "min_zoom",
       "no_wrap",
       "tile_size",
       "tms",
       "zoom_offset"
      ],
      "pane": "",
      "popup": null,
      "popup_max_height": null,
      "popup_max_width": 300,
      "popup_min_width": 50,
      "show_loading": false,
      "subitems": [],
      "tile_size": 256,
      "tms": false,
      "url": "https://earthengine.googleapis.com/v1/projects/proj-gis-1234/maps/a51a99fe4f17e2b1c3b24f65aa6807fe-127b606a5507d85450c9615294bfef85/tiles/{z}/{x}/{y}",
      "visible": true,
      "zoom_offset": 0
     }
    },
    "8a1561a625cf4751b4ae625879408a5a": {
     "model_module": "@jupyter-widgets/base",
     "model_module_version": "1.2.0",
     "model_name": "LayoutModel",
     "state": {
      "_model_module": "@jupyter-widgets/base",
      "_model_module_version": "1.2.0",
      "_model_name": "LayoutModel",
      "_view_count": null,
      "_view_module": "@jupyter-widgets/base",
      "_view_module_version": "1.2.0",
      "_view_name": "LayoutView",
      "align_content": null,
      "align_items": null,
      "align_self": null,
      "border": null,
      "bottom": null,
      "display": null,
      "flex": null,
      "flex_flow": null,
      "grid_area": null,
      "grid_auto_columns": null,
      "grid_auto_flow": null,
      "grid_auto_rows": null,
      "grid_column": null,
      "grid_gap": null,
      "grid_row": null,
      "grid_template_areas": null,
      "grid_template_columns": null,
      "grid_template_rows": null,
      "height": "25px",
      "justify_content": null,
      "justify_items": null,
      "left": null,
      "margin": null,
      "max_height": null,
      "max_width": null,
      "min_height": null,
      "min_width": null,
      "object_fit": null,
      "object_position": null,
      "order": null,
      "overflow": null,
      "overflow_x": null,
      "overflow_y": null,
      "padding": "0px",
      "right": null,
      "top": null,
      "visibility": null,
      "width": "25px"
     }
    },
    "8b8fb2769d1644cb986936d9c3921f52": {
     "model_module": "@jupyter-widgets/controls",
     "model_module_version": "1.5.0",
     "model_name": "ButtonStyleModel",
     "state": {
      "_model_module": "@jupyter-widgets/controls",
      "_model_module_version": "1.5.0",
      "_model_name": "ButtonStyleModel",
      "_view_count": null,
      "_view_module": "@jupyter-widgets/base",
      "_view_module_version": "1.2.0",
      "_view_name": "StyleView",
      "button_color": null,
      "font_weight": ""
     }
    },
    "8db0c674629c4242a1b16843fb011438": {
     "model_module": "@jupyter-widgets/controls",
     "model_module_version": "1.5.0",
     "model_name": "FloatSliderModel",
     "state": {
      "_dom_classes": [],
      "_model_module": "@jupyter-widgets/controls",
      "_model_module_version": "1.5.0",
      "_model_name": "FloatSliderModel",
      "_view_count": null,
      "_view_module": "@jupyter-widgets/controls",
      "_view_module_version": "1.5.0",
      "_view_name": "FloatSliderView",
      "continuous_update": true,
      "description": "",
      "description_tooltip": null,
      "disabled": false,
      "layout": "IPY_MODEL_3cfa8eb0218e4205af9766a2d28118c0",
      "max": 1,
      "min": 0,
      "orientation": "horizontal",
      "readout": false,
      "readout_format": ".2f",
      "step": 0.01,
      "style": "IPY_MODEL_929809c0985c4f97991cf5182a5a1943",
      "value": 1
     }
    },
    "8e40a595a7c34a5e978a0e6afd8f5180": {
     "model_module": "@jupyter-widgets/controls",
     "model_module_version": "1.5.0",
     "model_name": "DescriptionStyleModel",
     "state": {
      "_model_module": "@jupyter-widgets/controls",
      "_model_module_version": "1.5.0",
      "_model_name": "DescriptionStyleModel",
      "_view_count": null,
      "_view_module": "@jupyter-widgets/base",
      "_view_module_version": "1.2.0",
      "_view_name": "StyleView",
      "description_width": ""
     }
    },
    "929809c0985c4f97991cf5182a5a1943": {
     "model_module": "@jupyter-widgets/controls",
     "model_module_version": "1.5.0",
     "model_name": "SliderStyleModel",
     "state": {
      "_model_module": "@jupyter-widgets/controls",
      "_model_module_version": "1.5.0",
      "_model_name": "SliderStyleModel",
      "_view_count": null,
      "_view_module": "@jupyter-widgets/base",
      "_view_module_version": "1.2.0",
      "_view_name": "StyleView",
      "description_width": "",
      "handle_color": null
     }
    },
    "9357f2b3501c45428577fdda373612da": {
     "model_module": "@jupyter-widgets/controls",
     "model_module_version": "1.5.0",
     "model_name": "DescriptionStyleModel",
     "state": {
      "_model_module": "@jupyter-widgets/controls",
      "_model_module_version": "1.5.0",
      "_model_name": "DescriptionStyleModel",
      "_view_count": null,
      "_view_module": "@jupyter-widgets/base",
      "_view_module_version": "1.2.0",
      "_view_name": "StyleView",
      "description_width": ""
     }
    },
    "961361660bc44340834c5aab4748b8b2": {
     "model_module": "@jupyter-widgets/base",
     "model_module_version": "1.2.0",
     "model_name": "LayoutModel",
     "state": {
      "_model_module": "@jupyter-widgets/base",
      "_model_module_version": "1.2.0",
      "_model_name": "LayoutModel",
      "_view_count": null,
      "_view_module": "@jupyter-widgets/base",
      "_view_module_version": "1.2.0",
      "_view_name": "LayoutView",
      "align_content": null,
      "align_items": null,
      "align_self": null,
      "border": null,
      "bottom": null,
      "display": null,
      "flex": null,
      "flex_flow": null,
      "grid_area": null,
      "grid_auto_columns": null,
      "grid_auto_flow": null,
      "grid_auto_rows": null,
      "grid_column": null,
      "grid_gap": null,
      "grid_row": null,
      "grid_template_areas": null,
      "grid_template_columns": null,
      "grid_template_rows": null,
      "height": "25px",
      "justify_content": null,
      "justify_items": null,
      "left": null,
      "margin": null,
      "max_height": null,
      "max_width": null,
      "min_height": null,
      "min_width": null,
      "object_fit": null,
      "object_position": null,
      "order": null,
      "overflow": null,
      "overflow_x": null,
      "overflow_y": null,
      "padding": "0px",
      "right": null,
      "top": null,
      "visibility": null,
      "width": "25px"
     }
    },
    "976bce4e264e435fb723028d098984a1": {
     "model_module": "@jupyter-widgets/controls",
     "model_module_version": "1.5.0",
     "model_name": "ButtonStyleModel",
     "state": {
      "_model_module": "@jupyter-widgets/controls",
      "_model_module_version": "1.5.0",
      "_model_name": "ButtonStyleModel",
      "_view_count": null,
      "_view_module": "@jupyter-widgets/base",
      "_view_module_version": "1.2.0",
      "_view_name": "StyleView",
      "button_color": null,
      "font_weight": ""
     }
    },
    "9a7be842974c4c4c8cd5f930ee0646bd": {
     "model_module": "@jupyter-widgets/controls",
     "model_module_version": "1.5.0",
     "model_name": "HBoxModel",
     "state": {
      "_dom_classes": [],
      "_model_module": "@jupyter-widgets/controls",
      "_model_module_version": "1.5.0",
      "_model_name": "HBoxModel",
      "_view_count": null,
      "_view_module": "@jupyter-widgets/controls",
      "_view_module_version": "1.5.0",
      "_view_name": "HBoxView",
      "box_style": "",
      "children": [
       "IPY_MODEL_cc8495cb44eb4bb79799174f93314f16",
       "IPY_MODEL_a480c2173b7049f88f31ad5f0056198d",
       "IPY_MODEL_b6aef31204d34234aa27b8629f14d10b",
       "IPY_MODEL_824b6a765d304a119ae2ec71c04c1e6c"
      ],
      "layout": "IPY_MODEL_a79c075a8fc44c71909a890f03aa1cd7"
     }
    },
    "9e283a20f6ed4b208ba8ef8e59f8e863": {
     "model_module": "@jupyter-widgets/controls",
     "model_module_version": "1.5.0",
     "model_name": "SliderStyleModel",
     "state": {
      "_model_module": "@jupyter-widgets/controls",
      "_model_module_version": "1.5.0",
      "_model_name": "SliderStyleModel",
      "_view_count": null,
      "_view_module": "@jupyter-widgets/base",
      "_view_module_version": "1.2.0",
      "_view_name": "StyleView",
      "description_width": "",
      "handle_color": null
     }
    },
    "a03b0b1dad444d028942abb49e837df9": {
     "model_module": "@jupyter-widgets/base",
     "model_module_version": "1.2.0",
     "model_name": "LayoutModel",
     "state": {
      "_model_module": "@jupyter-widgets/base",
      "_model_module_version": "1.2.0",
      "_model_name": "LayoutModel",
      "_view_count": null,
      "_view_module": "@jupyter-widgets/base",
      "_view_module_version": "1.2.0",
      "_view_name": "LayoutView",
      "align_content": null,
      "align_items": null,
      "align_self": null,
      "border": null,
      "bottom": null,
      "display": null,
      "flex": null,
      "flex_flow": null,
      "grid_area": null,
      "grid_auto_columns": null,
      "grid_auto_flow": null,
      "grid_auto_rows": null,
      "grid_column": null,
      "grid_gap": null,
      "grid_row": null,
      "grid_template_areas": null,
      "grid_template_columns": null,
      "grid_template_rows": null,
      "height": null,
      "justify_content": null,
      "justify_items": null,
      "left": null,
      "margin": null,
      "max_height": null,
      "max_width": null,
      "min_height": null,
      "min_width": null,
      "object_fit": null,
      "object_position": null,
      "order": null,
      "overflow": null,
      "overflow_x": null,
      "overflow_y": null,
      "padding": "0px 3px 0px 0px",
      "right": null,
      "top": null,
      "visibility": null,
      "width": "70px"
     }
    },
    "a3f2cebbba2143d7a3ec17ccab7185ce": {
     "model_module": "jupyter-leaflet",
     "model_module_version": "^0.19",
     "model_name": "LeafletFullScreenControlModel",
     "state": {
      "_model_module": "jupyter-leaflet",
      "_model_module_version": "^0.19",
      "_model_name": "LeafletFullScreenControlModel",
      "_view_count": null,
      "_view_module": "jupyter-leaflet",
      "_view_module_version": "^0.19",
      "_view_name": "LeafletFullScreenControlView",
      "options": [
       "position"
      ],
      "position": "topleft"
     }
    },
    "a480c2173b7049f88f31ad5f0056198d": {
     "model_module": "@jupyter-widgets/controls",
     "model_module_version": "1.5.0",
     "model_name": "FloatSliderModel",
     "state": {
      "_dom_classes": [],
      "_model_module": "@jupyter-widgets/controls",
      "_model_module_version": "1.5.0",
      "_model_name": "FloatSliderModel",
      "_view_count": null,
      "_view_module": "@jupyter-widgets/controls",
      "_view_module_version": "1.5.0",
      "_view_name": "FloatSliderView",
      "continuous_update": true,
      "description": "",
      "description_tooltip": null,
      "disabled": false,
      "layout": "IPY_MODEL_a03b0b1dad444d028942abb49e837df9",
      "max": 1,
      "min": 0,
      "orientation": "horizontal",
      "readout": false,
      "readout_format": ".2f",
      "step": 0.01,
      "style": "IPY_MODEL_497eb3574c964cf4ba91b793366d6a93",
      "value": 1
     }
    },
    "a79c075a8fc44c71909a890f03aa1cd7": {
     "model_module": "@jupyter-widgets/base",
     "model_module_version": "1.2.0",
     "model_name": "LayoutModel",
     "state": {
      "_model_module": "@jupyter-widgets/base",
      "_model_module_version": "1.2.0",
      "_model_name": "LayoutModel",
      "_view_count": null,
      "_view_module": "@jupyter-widgets/base",
      "_view_module_version": "1.2.0",
      "_view_name": "LayoutView",
      "align_content": null,
      "align_items": null,
      "align_self": null,
      "border": null,
      "bottom": null,
      "display": null,
      "flex": null,
      "flex_flow": null,
      "grid_area": null,
      "grid_auto_columns": null,
      "grid_auto_flow": null,
      "grid_auto_rows": null,
      "grid_column": null,
      "grid_gap": null,
      "grid_row": null,
      "grid_template_areas": null,
      "grid_template_columns": null,
      "grid_template_rows": null,
      "height": null,
      "justify_content": null,
      "justify_items": null,
      "left": null,
      "margin": null,
      "max_height": null,
      "max_width": null,
      "min_height": null,
      "min_width": null,
      "object_fit": null,
      "object_position": null,
      "order": null,
      "overflow": null,
      "overflow_x": null,
      "overflow_y": null,
      "padding": "0px 4px 0px 4px",
      "right": null,
      "top": null,
      "visibility": null,
      "width": null
     }
    },
    "ad04d520fbe844899fe18674ce06b8a6": {
     "model_module": "@jupyter-widgets/controls",
     "model_module_version": "1.5.0",
     "model_name": "DescriptionStyleModel",
     "state": {
      "_model_module": "@jupyter-widgets/controls",
      "_model_module_version": "1.5.0",
      "_model_name": "DescriptionStyleModel",
      "_view_count": null,
      "_view_module": "@jupyter-widgets/base",
      "_view_module_version": "1.2.0",
      "_view_name": "StyleView",
      "description_width": ""
     }
    },
    "adf67648b0c149d2b314f441a41226dd": {
     "model_module": "@jupyter-widgets/base",
     "model_module_version": "1.2.0",
     "model_name": "LayoutModel",
     "state": {
      "_model_module": "@jupyter-widgets/base",
      "_model_module_version": "1.2.0",
      "_model_name": "LayoutModel",
      "_view_count": null,
      "_view_module": "@jupyter-widgets/base",
      "_view_module_version": "1.2.0",
      "_view_name": "LayoutView",
      "align_content": null,
      "align_items": null,
      "align_self": null,
      "border": null,
      "bottom": null,
      "display": null,
      "flex": null,
      "flex_flow": null,
      "grid_area": null,
      "grid_auto_columns": null,
      "grid_auto_flow": null,
      "grid_auto_rows": null,
      "grid_column": null,
      "grid_gap": null,
      "grid_row": null,
      "grid_template_areas": null,
      "grid_template_columns": null,
      "grid_template_rows": null,
      "height": null,
      "justify_content": null,
      "justify_items": null,
      "left": null,
      "margin": null,
      "max_height": null,
      "max_width": null,
      "min_height": null,
      "min_width": null,
      "object_fit": null,
      "object_position": null,
      "order": null,
      "overflow": null,
      "overflow_x": null,
      "overflow_y": null,
      "padding": null,
      "right": null,
      "top": null,
      "visibility": null,
      "width": null
     }
    },
    "aeb6b197ed1d4bfcb52bb5d84d613b39": {
     "model_module": "@jupyter-widgets/controls",
     "model_module_version": "1.5.0",
     "model_name": "ButtonModel",
     "state": {
      "_dom_classes": [],
      "_model_module": "@jupyter-widgets/controls",
      "_model_module_version": "1.5.0",
      "_model_name": "ButtonModel",
      "_view_count": null,
      "_view_module": "@jupyter-widgets/controls",
      "_view_module_version": "1.5.0",
      "_view_name": "ButtonView",
      "button_style": "",
      "description": "",
      "disabled": false,
      "icon": "times",
      "layout": "IPY_MODEL_961361660bc44340834c5aab4748b8b2",
      "style": "IPY_MODEL_0146a894699c4c29b31645892f396da0",
      "tooltip": "Loaded"
     }
    },
    "b012a47593a149009f14b3118f8ff4c7": {
     "model_module": "@jupyter-widgets/base",
     "model_module_version": "1.2.0",
     "model_name": "LayoutModel",
     "state": {
      "_model_module": "@jupyter-widgets/base",
      "_model_module_version": "1.2.0",
      "_model_name": "LayoutModel",
      "_view_count": null,
      "_view_module": "@jupyter-widgets/base",
      "_view_module_version": "1.2.0",
      "_view_name": "LayoutView",
      "align_content": null,
      "align_items": null,
      "align_self": null,
      "border": null,
      "bottom": null,
      "display": null,
      "flex": null,
      "flex_flow": null,
      "grid_area": null,
      "grid_auto_columns": null,
      "grid_auto_flow": null,
      "grid_auto_rows": null,
      "grid_column": null,
      "grid_gap": null,
      "grid_row": null,
      "grid_template_areas": null,
      "grid_template_columns": null,
      "grid_template_rows": null,
      "height": "18px",
      "justify_content": null,
      "justify_items": null,
      "left": null,
      "margin": null,
      "max_height": null,
      "max_width": null,
      "min_height": null,
      "min_width": null,
      "object_fit": null,
      "object_position": null,
      "order": null,
      "overflow": null,
      "overflow_x": null,
      "overflow_y": null,
      "padding": "0px 4px 25px 4px",
      "right": null,
      "top": null,
      "visibility": null,
      "width": "30ex"
     }
    },
    "b28a921c200c4115a832a3e11e2271ce": {
     "model_module": "@jupyter-widgets/controls",
     "model_module_version": "1.5.0",
     "model_name": "VBoxModel",
     "state": {
      "_dom_classes": [],
      "_model_module": "@jupyter-widgets/controls",
      "_model_module_version": "1.5.0",
      "_model_name": "VBoxModel",
      "_view_count": null,
      "_view_module": "@jupyter-widgets/controls",
      "_view_module_version": "1.5.0",
      "_view_name": "VBoxView",
      "box_style": "",
      "children": [
       "IPY_MODEL_eb812fbd65d34a7cab6b950b5fcbb50b"
      ],
      "layout": "IPY_MODEL_b674bf5d3981418eb3ddde22000e518a"
     }
    },
    "b674bf5d3981418eb3ddde22000e518a": {
     "model_module": "@jupyter-widgets/base",
     "model_module_version": "1.2.0",
     "model_name": "LayoutModel",
     "state": {
      "_model_module": "@jupyter-widgets/base",
      "_model_module_version": "1.2.0",
      "_model_name": "LayoutModel",
      "_view_count": null,
      "_view_module": "@jupyter-widgets/base",
      "_view_module_version": "1.2.0",
      "_view_name": "LayoutView",
      "align_content": null,
      "align_items": null,
      "align_self": null,
      "border": null,
      "bottom": null,
      "display": null,
      "flex": null,
      "flex_flow": null,
      "grid_area": null,
      "grid_auto_columns": null,
      "grid_auto_flow": null,
      "grid_auto_rows": null,
      "grid_column": null,
      "grid_gap": null,
      "grid_row": null,
      "grid_template_areas": null,
      "grid_template_columns": null,
      "grid_template_rows": null,
      "height": null,
      "justify_content": null,
      "justify_items": null,
      "left": null,
      "margin": null,
      "max_height": null,
      "max_width": null,
      "min_height": null,
      "min_width": null,
      "object_fit": null,
      "object_position": null,
      "order": null,
      "overflow": null,
      "overflow_x": null,
      "overflow_y": null,
      "padding": null,
      "right": null,
      "top": null,
      "visibility": null,
      "width": null
     }
    },
    "b6aef31204d34234aa27b8629f14d10b": {
     "model_module": "@jupyter-widgets/controls",
     "model_module_version": "1.5.0",
     "model_name": "ButtonModel",
     "state": {
      "_dom_classes": [],
      "_model_module": "@jupyter-widgets/controls",
      "_model_module_version": "1.5.0",
      "_model_name": "ButtonModel",
      "_view_count": null,
      "_view_module": "@jupyter-widgets/controls",
      "_view_module_version": "1.5.0",
      "_view_name": "ButtonView",
      "button_style": "",
      "description": "",
      "disabled": false,
      "icon": "gear",
      "layout": "IPY_MODEL_8a1561a625cf4751b4ae625879408a5a",
      "style": "IPY_MODEL_e3b2cb3119524b7eaf2964a296ee5b57",
      "tooltip": "test-Sentinel-2-2024"
     }
    },
    "b86eea0fceeb4fdf89bda88ad6f87d89": {
     "model_module": "jupyter-leaflet",
     "model_module_version": "^0.19",
     "model_name": "LeafletTileLayerModel",
     "state": {
      "_model_module": "jupyter-leaflet",
      "_model_module_version": "^0.19",
      "_model_name": "LeafletTileLayerModel",
      "_view_count": null,
      "_view_module": "jupyter-leaflet",
      "_view_module_version": "^0.19",
      "_view_name": "LeafletTileLayerView",
      "attribution": "Google Earth Engine",
      "base": false,
      "bottom": true,
      "bounds": null,
      "detect_retina": false,
      "loading": false,
      "max_native_zoom": null,
      "max_zoom": 24,
      "min_native_zoom": null,
      "min_zoom": 0,
      "name": "test-Sentinel-2-2024",
      "no_wrap": false,
      "opacity": 1,
      "options": [
       "attribution",
       "bounds",
       "detect_retina",
       "max_native_zoom",
       "max_zoom",
       "min_native_zoom",
       "min_zoom",
       "no_wrap",
       "tile_size",
       "tms",
       "zoom_offset"
      ],
      "pane": "",
      "popup": null,
      "popup_max_height": null,
      "popup_max_width": 300,
      "popup_min_width": 50,
      "show_loading": false,
      "subitems": [],
      "tile_size": 256,
      "tms": false,
      "url": "https://earthengine.googleapis.com/v1/projects/proj-gis-1234/maps/56b455aa6f606733bad2ab3d35dac6d7-7cf39d34bea871af914802f6ca8b587b/tiles/{z}/{x}/{y}",
      "visible": true,
      "zoom_offset": 0
     }
    },
    "bee9d9ff93234c1f86bdbd9bdb53abc3": {
     "model_module": "@jupyter-widgets/controls",
     "model_module_version": "1.5.0",
     "model_name": "VBoxModel",
     "state": {
      "_dom_classes": [
       "geemap-colab"
      ],
      "_model_module": "@jupyter-widgets/controls",
      "_model_module_version": "1.5.0",
      "_model_name": "VBoxModel",
      "_view_count": null,
      "_view_module": "@jupyter-widgets/controls",
      "_view_module_version": "1.5.0",
      "_view_name": "VBoxView",
      "box_style": "",
      "children": [
       "IPY_MODEL_ed5520805a49470d85c5daf635332662",
       "IPY_MODEL_b28a921c200c4115a832a3e11e2271ce"
      ],
      "layout": "IPY_MODEL_7379f820ae724cfaa4b08c432a13de79"
     }
    },
    "c2261d1225da4ce2824db545ba59530b": {
     "model_module": "jupyter-leaflet",
     "model_module_version": "^0.19",
     "model_name": "LeafletAttributionControlModel",
     "state": {
      "_model_module": "jupyter-leaflet",
      "_model_module_version": "^0.19",
      "_model_name": "LeafletAttributionControlModel",
      "_view_count": null,
      "_view_module": "jupyter-leaflet",
      "_view_module_version": "^0.19",
      "_view_name": "LeafletAttributionControlView",
      "options": [
       "position",
       "prefix"
      ],
      "position": "bottomright",
      "prefix": "ipyleaflet"
     }
    },
    "c2877ea9f4034e1c827da83c49b823cc": {
     "model_module": "@jupyter-widgets/controls",
     "model_module_version": "1.5.0",
     "model_name": "ButtonStyleModel",
     "state": {
      "_model_module": "@jupyter-widgets/controls",
      "_model_module_version": "1.5.0",
      "_model_name": "ButtonStyleModel",
      "_view_count": null,
      "_view_module": "@jupyter-widgets/base",
      "_view_module_version": "1.2.0",
      "_view_name": "StyleView",
      "button_color": null,
      "font_weight": ""
     }
    },
    "c312eeb30fe44e20b5423d36f6d26a69": {
     "model_module": "@jupyter-widgets/controls",
     "model_module_version": "1.5.0",
     "model_name": "CheckboxModel",
     "state": {
      "_dom_classes": [],
      "_model_module": "@jupyter-widgets/controls",
      "_model_module_version": "1.5.0",
      "_model_name": "CheckboxModel",
      "_view_count": null,
      "_view_module": "@jupyter-widgets/controls",
      "_view_module_version": "1.5.0",
      "_view_name": "CheckboxView",
      "description": "OpenStreetMap.Mapnik",
      "description_tooltip": null,
      "disabled": false,
      "indent": false,
      "layout": "IPY_MODEL_c4fde32e88b14829aadb45648bdea5e7",
      "style": "IPY_MODEL_76bf51bf717d46c0a86a1830f81a15ac",
      "value": true
     }
    },
    "c3752df95abc429794a4a0202f94543b": {
     "model_module": "jupyter-leaflet",
     "model_module_version": "^0.19",
     "model_name": "LeafletWidgetControlModel",
     "state": {
      "_model_module": "jupyter-leaflet",
      "_model_module_version": "^0.19",
      "_model_name": "LeafletWidgetControlModel",
      "_view_count": null,
      "_view_module": "jupyter-leaflet",
      "_view_module_version": "^0.19",
      "_view_name": "LeafletWidgetControlView",
      "max_height": null,
      "max_width": null,
      "min_height": null,
      "min_width": null,
      "options": [
       "position",
       "transparent_bg"
      ],
      "position": "topleft",
      "transparent_bg": false,
      "widget": "IPY_MODEL_139b3369afd242de8dbc46b69e4cd492"
     }
    },
    "c448f85e320546d2bc83da61485bd241": {
     "model_module": "@jupyter-widgets/controls",
     "model_module_version": "1.5.0",
     "model_name": "ButtonStyleModel",
     "state": {
      "_model_module": "@jupyter-widgets/controls",
      "_model_module_version": "1.5.0",
      "_model_name": "ButtonStyleModel",
      "_view_count": null,
      "_view_module": "@jupyter-widgets/base",
      "_view_module_version": "1.2.0",
      "_view_name": "StyleView",
      "button_color": null,
      "font_weight": ""
     }
    },
    "c469d39734f543b4b013a64bedd908c4": {
     "model_module": "jupyter-leaflet",
     "model_module_version": "^0.19",
     "model_name": "LeafletMapStyleModel",
     "state": {
      "_model_module": "jupyter-leaflet",
      "_model_module_version": "^0.19",
      "_model_name": "LeafletMapStyleModel",
      "_view_count": null,
      "_view_module": "@jupyter-widgets/base",
      "_view_module_version": "1.2.0",
      "_view_name": "StyleView",
      "cursor": "move"
     }
    },
    "c4b8b02e5ec14893aa516c2d32538486": {
     "model_module": "@jupyter-widgets/base",
     "model_module_version": "1.2.0",
     "model_name": "LayoutModel",
     "state": {
      "_model_module": "@jupyter-widgets/base",
      "_model_module_version": "1.2.0",
      "_model_name": "LayoutModel",
      "_view_count": null,
      "_view_module": "@jupyter-widgets/base",
      "_view_module_version": "1.2.0",
      "_view_name": "LayoutView",
      "align_content": null,
      "align_items": null,
      "align_self": null,
      "border": null,
      "bottom": null,
      "display": null,
      "flex": null,
      "flex_flow": null,
      "grid_area": null,
      "grid_auto_columns": null,
      "grid_auto_flow": null,
      "grid_auto_rows": null,
      "grid_column": null,
      "grid_gap": null,
      "grid_row": null,
      "grid_template_areas": null,
      "grid_template_columns": null,
      "grid_template_rows": null,
      "height": null,
      "justify_content": null,
      "justify_items": null,
      "left": null,
      "margin": null,
      "max_height": null,
      "max_width": null,
      "min_height": null,
      "min_width": null,
      "object_fit": null,
      "object_position": null,
      "order": null,
      "overflow": null,
      "overflow_x": null,
      "overflow_y": null,
      "padding": "0px 3px 0px 0px",
      "right": null,
      "top": null,
      "visibility": null,
      "width": "70px"
     }
    },
    "c4fde32e88b14829aadb45648bdea5e7": {
     "model_module": "@jupyter-widgets/base",
     "model_module_version": "1.2.0",
     "model_name": "LayoutModel",
     "state": {
      "_model_module": "@jupyter-widgets/base",
      "_model_module_version": "1.2.0",
      "_model_name": "LayoutModel",
      "_view_count": null,
      "_view_module": "@jupyter-widgets/base",
      "_view_module_version": "1.2.0",
      "_view_name": "LayoutView",
      "align_content": null,
      "align_items": null,
      "align_self": null,
      "border": null,
      "bottom": null,
      "display": null,
      "flex": null,
      "flex_flow": null,
      "grid_area": null,
      "grid_auto_columns": null,
      "grid_auto_flow": null,
      "grid_auto_rows": null,
      "grid_column": null,
      "grid_gap": null,
      "grid_row": null,
      "grid_template_areas": null,
      "grid_template_columns": null,
      "grid_template_rows": null,
      "height": "18px",
      "justify_content": null,
      "justify_items": null,
      "left": null,
      "margin": null,
      "max_height": null,
      "max_width": null,
      "min_height": null,
      "min_width": null,
      "object_fit": null,
      "object_position": null,
      "order": null,
      "overflow": null,
      "overflow_x": null,
      "overflow_y": null,
      "padding": null,
      "right": null,
      "top": null,
      "visibility": null,
      "width": "140px"
     }
    },
    "c5e3656bb5d648c58bd722f5a259805b": {
     "model_module": "@jupyter-widgets/base",
     "model_module_version": "1.2.0",
     "model_name": "LayoutModel",
     "state": {
      "_model_module": "@jupyter-widgets/base",
      "_model_module_version": "1.2.0",
      "_model_name": "LayoutModel",
      "_view_count": null,
      "_view_module": "@jupyter-widgets/base",
      "_view_module_version": "1.2.0",
      "_view_name": "LayoutView",
      "align_content": null,
      "align_items": null,
      "align_self": null,
      "border": null,
      "bottom": null,
      "display": null,
      "flex": null,
      "flex_flow": null,
      "grid_area": null,
      "grid_auto_columns": null,
      "grid_auto_flow": null,
      "grid_auto_rows": null,
      "grid_column": null,
      "grid_gap": null,
      "grid_row": null,
      "grid_template_areas": null,
      "grid_template_columns": null,
      "grid_template_rows": null,
      "height": null,
      "justify_content": null,
      "justify_items": null,
      "left": null,
      "margin": null,
      "max_height": null,
      "max_width": null,
      "min_height": null,
      "min_width": null,
      "object_fit": null,
      "object_position": null,
      "order": null,
      "overflow": null,
      "overflow_x": null,
      "overflow_y": null,
      "padding": "0px 4px 0px 4px",
      "right": null,
      "top": null,
      "visibility": null,
      "width": null
     }
    },
    "c7c81f7910684179b86adcdcd72d3ece": {
     "model_module": "@jupyter-widgets/base",
     "model_module_version": "1.2.0",
     "model_name": "LayoutModel",
     "state": {
      "_model_module": "@jupyter-widgets/base",
      "_model_module_version": "1.2.0",
      "_model_name": "LayoutModel",
      "_view_count": null,
      "_view_module": "@jupyter-widgets/base",
      "_view_module_version": "1.2.0",
      "_view_name": "LayoutView",
      "align_content": null,
      "align_items": null,
      "align_self": null,
      "border": null,
      "bottom": null,
      "display": null,
      "flex": null,
      "flex_flow": null,
      "grid_area": null,
      "grid_auto_columns": null,
      "grid_auto_flow": null,
      "grid_auto_rows": null,
      "grid_column": null,
      "grid_gap": null,
      "grid_row": null,
      "grid_template_areas": null,
      "grid_template_columns": null,
      "grid_template_rows": null,
      "height": "25px",
      "justify_content": null,
      "justify_items": null,
      "left": null,
      "margin": null,
      "max_height": null,
      "max_width": null,
      "min_height": null,
      "min_width": null,
      "object_fit": null,
      "object_position": null,
      "order": null,
      "overflow": null,
      "overflow_x": null,
      "overflow_y": null,
      "padding": "0px",
      "right": null,
      "top": null,
      "visibility": null,
      "width": "25px"
     }
    },
    "c9ab1c8f68394323ba8838ff22349cf1": {
     "model_module": "@jupyter-widgets/controls",
     "model_module_version": "1.5.0",
     "model_name": "ButtonModel",
     "state": {
      "_dom_classes": [],
      "_model_module": "@jupyter-widgets/controls",
      "_model_module_version": "1.5.0",
      "_model_name": "ButtonModel",
      "_view_count": null,
      "_view_module": "@jupyter-widgets/controls",
      "_view_module_version": "1.5.0",
      "_view_name": "ButtonView",
      "button_style": "",
      "description": "",
      "disabled": false,
      "icon": "gear",
      "layout": "IPY_MODEL_f0410acbb3964aac8bb41c1543a942c5",
      "style": "IPY_MODEL_8b8fb2769d1644cb986936d9c3921f52",
      "tooltip": "Sentinel-2_2018"
     }
    },
    "cc8495cb44eb4bb79799174f93314f16": {
     "model_module": "@jupyter-widgets/controls",
     "model_module_version": "1.5.0",
     "model_name": "CheckboxModel",
     "state": {
      "_dom_classes": [],
      "_model_module": "@jupyter-widgets/controls",
      "_model_module_version": "1.5.0",
      "_model_name": "CheckboxModel",
      "_view_count": null,
      "_view_module": "@jupyter-widgets/controls",
      "_view_module_version": "1.5.0",
      "_view_name": "CheckboxView",
      "description": "test-Sentinel-2-2024",
      "description_tooltip": null,
      "disabled": false,
      "indent": false,
      "layout": "IPY_MODEL_087265329bcb4570879949f5df04b6bc",
      "style": "IPY_MODEL_3b9be6000bc44009a72516c792179d16",
      "value": true
     }
    },
    "cdfc89ec10344ae59586741e8839dc95": {
     "model_module": "@jupyter-widgets/controls",
     "model_module_version": "1.5.0",
     "model_name": "ToggleButtonModel",
     "state": {
      "_dom_classes": [],
      "_model_module": "@jupyter-widgets/controls",
      "_model_module_version": "1.5.0",
      "_model_name": "ToggleButtonModel",
      "_view_count": null,
      "_view_module": "@jupyter-widgets/controls",
      "_view_module_version": "1.5.0",
      "_view_name": "ToggleButtonView",
      "button_style": "",
      "description": "",
      "description_tooltip": null,
      "disabled": false,
      "icon": "server",
      "layout": "IPY_MODEL_0b108383fdee484794577b8b823565cd",
      "style": "IPY_MODEL_de242f6385274063af240dd1c9fe71d2",
      "tooltip": "Layer Manager",
      "value": true
     }
    },
    "cf7617d7301045b7b257100eb6abded1": {
     "model_module": "jupyter-leaflet",
     "model_module_version": "^0.19",
     "model_name": "LeafletWidgetControlModel",
     "state": {
      "_model_module": "jupyter-leaflet",
      "_model_module_version": "^0.19",
      "_model_name": "LeafletWidgetControlModel",
      "_view_count": null,
      "_view_module": "jupyter-leaflet",
      "_view_module_version": "^0.19",
      "_view_name": "LeafletWidgetControlView",
      "max_height": null,
      "max_width": null,
      "min_height": null,
      "min_width": null,
      "options": [
       "position",
       "transparent_bg"
      ],
      "position": "topright",
      "transparent_bg": false,
      "widget": "IPY_MODEL_bee9d9ff93234c1f86bdbd9bdb53abc3"
     }
    },
    "d17103dd6d8f472f9f8bb54af1647d0f": {
     "model_module": "@jupyter-widgets/base",
     "model_module_version": "1.2.0",
     "model_name": "LayoutModel",
     "state": {
      "_model_module": "@jupyter-widgets/base",
      "_model_module_version": "1.2.0",
      "_model_name": "LayoutModel",
      "_view_count": null,
      "_view_module": "@jupyter-widgets/base",
      "_view_module_version": "1.2.0",
      "_view_name": "LayoutView",
      "align_content": null,
      "align_items": null,
      "align_self": null,
      "border": null,
      "bottom": null,
      "display": null,
      "flex": null,
      "flex_flow": null,
      "grid_area": null,
      "grid_auto_columns": null,
      "grid_auto_flow": null,
      "grid_auto_rows": null,
      "grid_column": null,
      "grid_gap": null,
      "grid_row": null,
      "grid_template_areas": null,
      "grid_template_columns": null,
      "grid_template_rows": null,
      "height": null,
      "justify_content": null,
      "justify_items": null,
      "left": null,
      "margin": null,
      "max_height": null,
      "max_width": null,
      "min_height": null,
      "min_width": null,
      "object_fit": null,
      "object_position": null,
      "order": null,
      "overflow": null,
      "overflow_x": null,
      "overflow_y": null,
      "padding": "0px 4px 0px 4px",
      "right": null,
      "top": null,
      "visibility": null,
      "width": null
     }
    },
    "d29f6350cbbf4abc9e5fd451b8d7e215": {
     "model_module": "@jupyter-widgets/base",
     "model_module_version": "1.2.0",
     "model_name": "LayoutModel",
     "state": {
      "_model_module": "@jupyter-widgets/base",
      "_model_module_version": "1.2.0",
      "_model_name": "LayoutModel",
      "_view_count": null,
      "_view_module": "@jupyter-widgets/base",
      "_view_module_version": "1.2.0",
      "_view_name": "LayoutView",
      "align_content": null,
      "align_items": null,
      "align_self": null,
      "border": null,
      "bottom": null,
      "display": null,
      "flex": null,
      "flex_flow": null,
      "grid_area": null,
      "grid_auto_columns": null,
      "grid_auto_flow": null,
      "grid_auto_rows": null,
      "grid_column": null,
      "grid_gap": null,
      "grid_row": null,
      "grid_template_areas": null,
      "grid_template_columns": null,
      "grid_template_rows": null,
      "height": "25px",
      "justify_content": null,
      "justify_items": null,
      "left": null,
      "margin": null,
      "max_height": null,
      "max_width": null,
      "min_height": null,
      "min_width": null,
      "object_fit": null,
      "object_position": null,
      "order": null,
      "overflow": null,
      "overflow_x": null,
      "overflow_y": null,
      "padding": "0px",
      "right": null,
      "top": null,
      "visibility": null,
      "width": "25px"
     }
    },
    "d8680e961fde45408237e652ae9fb249": {
     "model_module": "@jupyter-widgets/controls",
     "model_module_version": "1.5.0",
     "model_name": "FloatSliderModel",
     "state": {
      "_dom_classes": [],
      "_model_module": "@jupyter-widgets/controls",
      "_model_module_version": "1.5.0",
      "_model_name": "FloatSliderModel",
      "_view_count": null,
      "_view_module": "@jupyter-widgets/controls",
      "_view_module_version": "1.5.0",
      "_view_name": "FloatSliderView",
      "continuous_update": true,
      "description": "",
      "description_tooltip": null,
      "disabled": false,
      "layout": "IPY_MODEL_c4b8b02e5ec14893aa516c2d32538486",
      "max": 1,
      "min": 0,
      "orientation": "horizontal",
      "readout": false,
      "readout_format": ".2f",
      "step": 0.01,
      "style": "IPY_MODEL_5a575661714a45eca60f731aba5f276f",
      "value": 1
     }
    },
    "db06838e12e5437293b393183b84ce7c": {
     "model_module": "@jupyter-widgets/controls",
     "model_module_version": "1.5.0",
     "model_name": "ButtonModel",
     "state": {
      "_dom_classes": [],
      "_model_module": "@jupyter-widgets/controls",
      "_model_module_version": "1.5.0",
      "_model_name": "ButtonModel",
      "_view_count": null,
      "_view_module": "@jupyter-widgets/controls",
      "_view_module_version": "1.5.0",
      "_view_name": "ButtonView",
      "button_style": "",
      "description": "",
      "disabled": false,
      "icon": "gear",
      "layout": "IPY_MODEL_e3a40c97be4c4d16a026afc199d78dd7",
      "style": "IPY_MODEL_1ae898add4874cd9bf66707daf9cba4c",
      "tooltip": "OpenStreetMap.Mapnik"
     }
    },
    "dbc04a7d29694ade9a8b95bf9c64aa02": {
     "model_module": "@jupyter-widgets/controls",
     "model_module_version": "1.5.0",
     "model_name": "ButtonModel",
     "state": {
      "_dom_classes": [],
      "_model_module": "@jupyter-widgets/controls",
      "_model_module_version": "1.5.0",
      "_model_name": "ButtonModel",
      "_view_count": null,
      "_view_module": "@jupyter-widgets/controls",
      "_view_module_version": "1.5.0",
      "_view_name": "ButtonView",
      "button_style": "",
      "description": "",
      "disabled": false,
      "icon": "times",
      "layout": "IPY_MODEL_d29f6350cbbf4abc9e5fd451b8d7e215",
      "style": "IPY_MODEL_7eec92d3848b44c7a86fa3a67f65aefd",
      "tooltip": "Loaded"
     }
    },
    "de242f6385274063af240dd1c9fe71d2": {
     "model_module": "@jupyter-widgets/controls",
     "model_module_version": "1.5.0",
     "model_name": "DescriptionStyleModel",
     "state": {
      "_model_module": "@jupyter-widgets/controls",
      "_model_module_version": "1.5.0",
      "_model_name": "DescriptionStyleModel",
      "_view_count": null,
      "_view_module": "@jupyter-widgets/base",
      "_view_module_version": "1.2.0",
      "_view_name": "StyleView",
      "description_width": ""
     }
    },
    "e3a40c97be4c4d16a026afc199d78dd7": {
     "model_module": "@jupyter-widgets/base",
     "model_module_version": "1.2.0",
     "model_name": "LayoutModel",
     "state": {
      "_model_module": "@jupyter-widgets/base",
      "_model_module_version": "1.2.0",
      "_model_name": "LayoutModel",
      "_view_count": null,
      "_view_module": "@jupyter-widgets/base",
      "_view_module_version": "1.2.0",
      "_view_name": "LayoutView",
      "align_content": null,
      "align_items": null,
      "align_self": null,
      "border": null,
      "bottom": null,
      "display": null,
      "flex": null,
      "flex_flow": null,
      "grid_area": null,
      "grid_auto_columns": null,
      "grid_auto_flow": null,
      "grid_auto_rows": null,
      "grid_column": null,
      "grid_gap": null,
      "grid_row": null,
      "grid_template_areas": null,
      "grid_template_columns": null,
      "grid_template_rows": null,
      "height": "25px",
      "justify_content": null,
      "justify_items": null,
      "left": null,
      "margin": null,
      "max_height": null,
      "max_width": null,
      "min_height": null,
      "min_width": null,
      "object_fit": null,
      "object_position": null,
      "order": null,
      "overflow": null,
      "overflow_x": null,
      "overflow_y": null,
      "padding": "0px",
      "right": null,
      "top": null,
      "visibility": null,
      "width": "25px"
     }
    },
    "e3b2cb3119524b7eaf2964a296ee5b57": {
     "model_module": "@jupyter-widgets/controls",
     "model_module_version": "1.5.0",
     "model_name": "ButtonStyleModel",
     "state": {
      "_model_module": "@jupyter-widgets/controls",
      "_model_module_version": "1.5.0",
      "_model_name": "ButtonStyleModel",
      "_view_count": null,
      "_view_module": "@jupyter-widgets/base",
      "_view_module_version": "1.2.0",
      "_view_name": "StyleView",
      "button_color": null,
      "font_weight": ""
     }
    },
    "e5efa6da8f5246f881d3e607a06da8cc": {
     "model_module": "@jupyter-widgets/controls",
     "model_module_version": "1.5.0",
     "model_name": "ToggleButtonModel",
     "state": {
      "_dom_classes": [],
      "_model_module": "@jupyter-widgets/controls",
      "_model_module_version": "1.5.0",
      "_model_name": "ToggleButtonModel",
      "_view_count": null,
      "_view_module": "@jupyter-widgets/controls",
      "_view_module_version": "1.5.0",
      "_view_name": "ToggleButtonView",
      "button_style": "",
      "description": "",
      "description_tooltip": null,
      "disabled": false,
      "icon": "server",
      "layout": "IPY_MODEL_5f88ba00dbf24897b8252560150b4de9",
      "style": "IPY_MODEL_9357f2b3501c45428577fdda373612da",
      "tooltip": "Layers",
      "value": true
     }
    },
    "e7b8212fd0e741f6934a8cc0e65cc33e": {
     "model_module": "@jupyter-widgets/base",
     "model_module_version": "1.2.0",
     "model_name": "LayoutModel",
     "state": {
      "_model_module": "@jupyter-widgets/base",
      "_model_module_version": "1.2.0",
      "_model_name": "LayoutModel",
      "_view_count": null,
      "_view_module": "@jupyter-widgets/base",
      "_view_module_version": "1.2.0",
      "_view_name": "LayoutView",
      "align_content": null,
      "align_items": null,
      "align_self": null,
      "border": null,
      "bottom": null,
      "display": null,
      "flex": null,
      "flex_flow": null,
      "grid_area": null,
      "grid_auto_columns": null,
      "grid_auto_flow": null,
      "grid_auto_rows": null,
      "grid_column": null,
      "grid_gap": null,
      "grid_row": null,
      "grid_template_areas": null,
      "grid_template_columns": null,
      "grid_template_rows": null,
      "height": "28px",
      "justify_content": null,
      "justify_items": null,
      "left": null,
      "margin": null,
      "max_height": null,
      "max_width": null,
      "min_height": null,
      "min_width": null,
      "object_fit": null,
      "object_position": null,
      "order": null,
      "overflow": null,
      "overflow_x": null,
      "overflow_y": null,
      "padding": "0px 0px 0px 4px",
      "right": null,
      "top": null,
      "visibility": null,
      "width": "28px"
     }
    },
    "eb5697d4beda4b87ba2fb7b5a21c0685": {
     "model_module": "@jupyter-widgets/base",
     "model_module_version": "1.2.0",
     "model_name": "LayoutModel",
     "state": {
      "_model_module": "@jupyter-widgets/base",
      "_model_module_version": "1.2.0",
      "_model_name": "LayoutModel",
      "_view_count": null,
      "_view_module": "@jupyter-widgets/base",
      "_view_module_version": "1.2.0",
      "_view_name": "LayoutView",
      "align_content": null,
      "align_items": null,
      "align_self": null,
      "border": null,
      "bottom": null,
      "display": "none",
      "flex": null,
      "flex_flow": null,
      "grid_area": null,
      "grid_auto_columns": null,
      "grid_auto_flow": null,
      "grid_auto_rows": null,
      "grid_column": null,
      "grid_gap": null,
      "grid_row": null,
      "grid_template_areas": null,
      "grid_template_columns": null,
      "grid_template_rows": null,
      "height": null,
      "justify_content": null,
      "justify_items": null,
      "left": null,
      "margin": null,
      "max_height": null,
      "max_width": null,
      "min_height": null,
      "min_width": null,
      "object_fit": null,
      "object_position": null,
      "order": null,
      "overflow": null,
      "overflow_x": null,
      "overflow_y": null,
      "padding": null,
      "right": null,
      "top": null,
      "visibility": null,
      "width": null
     }
    },
    "eb812fbd65d34a7cab6b950b5fcbb50b": {
     "model_module": "@jupyter-widgets/controls",
     "model_module_version": "1.5.0",
     "model_name": "VBoxModel",
     "state": {
      "_dom_classes": [
       "geemap-colab"
      ],
      "_model_module": "@jupyter-widgets/controls",
      "_model_module_version": "1.5.0",
      "_model_name": "VBoxModel",
      "_view_count": null,
      "_view_module": "@jupyter-widgets/controls",
      "_view_module_version": "1.5.0",
      "_view_name": "VBoxView",
      "box_style": "",
      "children": [
       "IPY_MODEL_ed63bec8597044afad110ff1e71579da",
       "IPY_MODEL_57098fe98c8d4d1ab5461d77b88c5a18"
      ],
      "layout": "IPY_MODEL_184dc2b386ab4dc7b8d4fe6db0cedfd4"
     }
    },
    "ed5520805a49470d85c5daf635332662": {
     "model_module": "@jupyter-widgets/controls",
     "model_module_version": "1.5.0",
     "model_name": "HBoxModel",
     "state": {
      "_dom_classes": [],
      "_model_module": "@jupyter-widgets/controls",
      "_model_module_version": "1.5.0",
      "_model_name": "HBoxModel",
      "_view_count": null,
      "_view_module": "@jupyter-widgets/controls",
      "_view_module_version": "1.5.0",
      "_view_name": "HBoxView",
      "box_style": "",
      "children": [
       "IPY_MODEL_e5efa6da8f5246f881d3e607a06da8cc",
       "IPY_MODEL_24684865d561430987c5a672d17c115d"
      ],
      "layout": "IPY_MODEL_5610f43a0de242f68334c69c30c59477"
     }
    },
    "ed63bec8597044afad110ff1e71579da": {
     "model_module": "@jupyter-widgets/controls",
     "model_module_version": "1.5.0",
     "model_name": "HBoxModel",
     "state": {
      "_dom_classes": [],
      "_model_module": "@jupyter-widgets/controls",
      "_model_module_version": "1.5.0",
      "_model_name": "HBoxModel",
      "_view_count": null,
      "_view_module": "@jupyter-widgets/controls",
      "_view_module_version": "1.5.0",
      "_view_name": "HBoxView",
      "box_style": "",
      "children": [
       "IPY_MODEL_45bdcd4489594c96bc58adb09639ef33",
       "IPY_MODEL_cdfc89ec10344ae59586741e8839dc95"
      ],
      "layout": "IPY_MODEL_eb5697d4beda4b87ba2fb7b5a21c0685"
     }
    },
    "ef7053fb685c4a2681b0fcdb328a1e13": {
     "model_module": "@jupyter-widgets/base",
     "model_module_version": "1.2.0",
     "model_name": "LayoutModel",
     "state": {
      "_model_module": "@jupyter-widgets/base",
      "_model_module_version": "1.2.0",
      "_model_name": "LayoutModel",
      "_view_count": null,
      "_view_module": "@jupyter-widgets/base",
      "_view_module_version": "1.2.0",
      "_view_name": "LayoutView",
      "align_content": null,
      "align_items": null,
      "align_self": null,
      "border": null,
      "bottom": null,
      "display": null,
      "flex": null,
      "flex_flow": null,
      "grid_area": null,
      "grid_auto_columns": null,
      "grid_auto_flow": null,
      "grid_auto_rows": null,
      "grid_column": null,
      "grid_gap": null,
      "grid_row": null,
      "grid_template_areas": null,
      "grid_template_columns": null,
      "grid_template_rows": null,
      "height": "28px",
      "justify_content": null,
      "justify_items": null,
      "left": null,
      "margin": null,
      "max_height": null,
      "max_width": null,
      "min_height": null,
      "min_width": null,
      "object_fit": null,
      "object_position": null,
      "order": null,
      "overflow": null,
      "overflow_x": null,
      "overflow_y": null,
      "padding": "0px 0px 0px 4px",
      "right": null,
      "top": null,
      "visibility": null,
      "width": "28px"
     }
    },
    "ef75622c60c349b3b2cbb19de7869dbb": {
     "model_module": "@jupyter-widgets/controls",
     "model_module_version": "1.5.0",
     "model_name": "DescriptionStyleModel",
     "state": {
      "_model_module": "@jupyter-widgets/controls",
      "_model_module_version": "1.5.0",
      "_model_name": "DescriptionStyleModel",
      "_view_count": null,
      "_view_module": "@jupyter-widgets/base",
      "_view_module_version": "1.2.0",
      "_view_name": "StyleView",
      "description_width": ""
     }
    },
    "f0410acbb3964aac8bb41c1543a942c5": {
     "model_module": "@jupyter-widgets/base",
     "model_module_version": "1.2.0",
     "model_name": "LayoutModel",
     "state": {
      "_model_module": "@jupyter-widgets/base",
      "_model_module_version": "1.2.0",
      "_model_name": "LayoutModel",
      "_view_count": null,
      "_view_module": "@jupyter-widgets/base",
      "_view_module_version": "1.2.0",
      "_view_name": "LayoutView",
      "align_content": null,
      "align_items": null,
      "align_self": null,
      "border": null,
      "bottom": null,
      "display": null,
      "flex": null,
      "flex_flow": null,
      "grid_area": null,
      "grid_auto_columns": null,
      "grid_auto_flow": null,
      "grid_auto_rows": null,
      "grid_column": null,
      "grid_gap": null,
      "grid_row": null,
      "grid_template_areas": null,
      "grid_template_columns": null,
      "grid_template_rows": null,
      "height": "25px",
      "justify_content": null,
      "justify_items": null,
      "left": null,
      "margin": null,
      "max_height": null,
      "max_width": null,
      "min_height": null,
      "min_width": null,
      "object_fit": null,
      "object_position": null,
      "order": null,
      "overflow": null,
      "overflow_x": null,
      "overflow_y": null,
      "padding": "0px",
      "right": null,
      "top": null,
      "visibility": null,
      "width": "25px"
     }
    },
    "f13ea45725294367a364b69c101eae2d": {
     "model_module": "@jupyter-widgets/controls",
     "model_module_version": "1.5.0",
     "model_name": "DescriptionStyleModel",
     "state": {
      "_model_module": "@jupyter-widgets/controls",
      "_model_module_version": "1.5.0",
      "_model_name": "DescriptionStyleModel",
      "_view_count": null,
      "_view_module": "@jupyter-widgets/base",
      "_view_module_version": "1.2.0",
      "_view_name": "StyleView",
      "description_width": ""
     }
    },
    "f3acf695411145448fff3de45fc50d6b": {
     "model_module": "@jupyter-widgets/controls",
     "model_module_version": "1.5.0",
     "model_name": "CheckboxModel",
     "state": {
      "_dom_classes": [],
      "_model_module": "@jupyter-widgets/controls",
      "_model_module_version": "1.5.0",
      "_model_name": "CheckboxModel",
      "_view_count": null,
      "_view_module": "@jupyter-widgets/controls",
      "_view_module_version": "1.5.0",
      "_view_name": "CheckboxView",
      "description": "Classified Image",
      "description_tooltip": null,
      "disabled": false,
      "indent": false,
      "layout": "IPY_MODEL_824f6aa915954a90842a8e6a430fcf64",
      "style": "IPY_MODEL_ef75622c60c349b3b2cbb19de7869dbb",
      "value": true
     }
    },
    "f9b0e6c202c7438891f34297aa1a8d60": {
     "model_module": "@jupyter-widgets/base",
     "model_module_version": "1.2.0",
     "model_name": "LayoutModel",
     "state": {
      "_model_module": "@jupyter-widgets/base",
      "_model_module_version": "1.2.0",
      "_model_name": "LayoutModel",
      "_view_count": null,
      "_view_module": "@jupyter-widgets/base",
      "_view_module_version": "1.2.0",
      "_view_name": "LayoutView",
      "align_content": null,
      "align_items": null,
      "align_self": null,
      "border": null,
      "bottom": null,
      "display": null,
      "flex": null,
      "flex_flow": null,
      "grid_area": null,
      "grid_auto_columns": null,
      "grid_auto_flow": null,
      "grid_auto_rows": null,
      "grid_column": null,
      "grid_gap": null,
      "grid_row": null,
      "grid_template_areas": null,
      "grid_template_columns": null,
      "grid_template_rows": null,
      "height": null,
      "justify_content": null,
      "justify_items": null,
      "left": null,
      "margin": null,
      "max_height": null,
      "max_width": null,
      "min_height": null,
      "min_width": null,
      "object_fit": null,
      "object_position": null,
      "order": null,
      "overflow": null,
      "overflow_x": null,
      "overflow_y": null,
      "padding": "0px 4px 0px 4px",
      "right": null,
      "top": null,
      "visibility": null,
      "width": null
     }
    },
    "fd63d556622a47c4adebc2834357373c": {
     "model_module": "jupyter-leaflet",
     "model_module_version": "^0.19",
     "model_name": "LeafletTileLayerModel",
     "state": {
      "_model_module": "jupyter-leaflet",
      "_model_module_version": "^0.19",
      "_model_name": "LeafletTileLayerModel",
      "_view_count": null,
      "_view_module": "jupyter-leaflet",
      "_view_module_version": "^0.19",
      "_view_name": "LeafletTileLayerView",
      "attribution": "&copy; <a href=\"https://www.openstreetmap.org/copyright\">OpenStreetMap</a> contributors",
      "base": true,
      "bottom": true,
      "bounds": null,
      "detect_retina": false,
      "loading": false,
      "max_native_zoom": null,
      "max_zoom": 19,
      "min_native_zoom": null,
      "min_zoom": 1,
      "name": "OpenStreetMap.Mapnik",
      "no_wrap": false,
      "opacity": 1,
      "options": [
       "attribution",
       "bounds",
       "detect_retina",
       "max_native_zoom",
       "max_zoom",
       "min_native_zoom",
       "min_zoom",
       "no_wrap",
       "tile_size",
       "tms",
       "zoom_offset"
      ],
      "pane": "",
      "popup": null,
      "popup_max_height": null,
      "popup_max_width": 300,
      "popup_min_width": 50,
      "show_loading": false,
      "subitems": [],
      "tile_size": 256,
      "tms": false,
      "url": "https://tile.openstreetmap.org/{z}/{x}/{y}.png",
      "visible": true,
      "zoom_offset": 0
     }
    }
   }
  }
 },
 "nbformat": 4,
 "nbformat_minor": 5
}
